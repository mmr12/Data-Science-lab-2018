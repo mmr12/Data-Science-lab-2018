{
 "cells": [
  {
   "cell_type": "code",
   "execution_count": 33,
   "metadata": {
    "collapsed": true
   },
   "outputs": [],
   "source": [
    "import pickle\n",
    "import numpy as np\n",
    "from joblib import load\n",
    "import random\n",
    "from sklearn.metrics.pairwise import cosine_similarity"
   ]
  },
  {
   "cell_type": "code",
   "execution_count": 23,
   "metadata": {
    "collapsed": true
   },
   "outputs": [],
   "source": [
    "# load model\n",
    "TFiDF = load('../code/embedding/models/TF-IFD-ans.joblib')\n",
    "\n",
    "# load data\n",
    "with open(\"../code/embedding/models/doc_data/all_docs_sep.pkl\", \"rb\") as fp:\n",
    "    all_docs_sep = pickle.load(fp)\n",
    "with open(\"../code/embedding/models/doc_data/id_dict_sep.pkl\", \"rb\") as fp:\n",
    "    id_dict_sep = pickle.load(fp)"
   ]
  },
  {
   "cell_type": "code",
   "execution_count": 48,
   "metadata": {},
   "outputs": [
    {
     "name": "stdout",
     "output_type": "stream",
     "text": [
      "['ans', 'ticket_ques', 'FAQ_ques']\n",
      "4250 4250 277 277\n"
     ]
    }
   ],
   "source": [
    "print(list(all_docs_sep))\n",
    "faq_ans =  all_docs_sep['ans'][:n_faq_ans]\n",
    "faq_ques = all_docs_sep['FAQ_ques']\n",
    "ticket_ans = all_docs_sep['ans'][n_faq_ans:]\n",
    "ticket_ques = all_docs_sep['ticket_ques']\n",
    "print(len(ticket_ques),len(ticket_ans), len(faq_ques), len(faq_ans))"
   ]
  },
  {
   "cell_type": "code",
   "execution_count": 32,
   "metadata": {
    "collapsed": true
   },
   "outputs": [],
   "source": [
    "n_faq_ans = len(id_dict_sep['faq_ans'])\n",
    "\n",
    "# make matrix\n",
    "matrix = TFiDF.transform(all_docs_sep['ans'])\n",
    "sim_matrix = cosine_similarity(matrix[:n_faq_ans,:], matrix[n_faq_ans:,:])\n",
    "\n",
    "# mapping\n",
    "FAQ_per_ticket = np.argmax(sim_matrix, axis=0)\n",
    "strength_FAQ_ticket = np.max(sim_matrix, axis=0)"
   ]
  },
  {
   "cell_type": "code",
   "execution_count": 123,
   "metadata": {},
   "outputs": [
    {
     "name": "stdout",
     "output_type": "stream",
     "text": [
      "0.14792782311774322 4134 , 255\n"
     ]
    }
   ],
   "source": [
    "# WORK IN PROGRESS - IGNORE\n",
    "SFT = np.copy(strength_FAQ_ticket)\n",
    "#old = 0.3\n",
    "#new = 0.2\n",
    "#SFT[SFT>old] = -1\n",
    "#indices = np.nonzero(SFT>new)\n",
    "a = random.sample(range(len(SFT)), 1)[0]\n",
    "#a = indices[0][sample][0]\n",
    "b = np.argmax(sim_matrix[:,a])\n",
    "print(SFT[a],a,',',b)"
   ]
  },
  {
   "cell_type": "code",
   "execution_count": 224,
   "metadata": {},
   "outputs": [
    {
     "name": "stdout",
     "output_type": "stream",
     "text": [
      "Similarity score:  0.7447512368007885\n",
      "\n",
      "Ticket: QUES:\t Dear Colleagues Attached is a fishing mail. Best regards DaniGreat thank you! Best regards Daniel Bucheli \n",
      "\n",
      "ANS:\t Dear Mr. Daniel Bucheli Thank you for forwarding the suspicious message. We will take the appropriate steps. Your ID team Rudolf Friederich\n",
      "\n",
      "\n",
      "FAQ: QUES:\t Got phishing email? \n",
      "\n",
      "ANS:\t  Thank you for forwarding the suspicious message. We will take the appropriate steps.\n",
      "\n",
      "\n",
      "FAQ: QUES:\t Activate Select Survey \n",
      "\n",
      "ANS:\t  Thank you for your inquiry. Before you can use Select Survey, we need to activate your account first. All information regarding activation can be found in this document on page 4 / 5https: //www.ethz.ch/content/dam/ethz/associates/services/Service/IT-Services/files/sla/sla-online-surveys.pdfYour Account is now unlocked.\n"
     ]
    },
    {
     "data": {
      "text/plain": [
       "277"
      ]
     },
     "execution_count": 224,
     "metadata": {},
     "output_type": "execute_result"
    }
   ],
   "source": [
    "a = 509\n",
    "b = 261\n",
    "# WORK IN PROGRESS - IGNORE\n",
    "print(\"Similarity score: \", strength_FAQ_ticket[a])\n",
    "print('\\nTicket: QUES:\\t', ticket_ques[a], '\\n\\nANS:\\t', ticket_ans[a])\n",
    "print('\\n\\nFAQ: QUES:\\t', faq_ques[b], '\\n\\nANS:\\t', faq_ans[b])\n",
    "c = 272\n",
    "print('\\n\\nFAQ: QUES:\\t', faq_ques[c], '\\n\\nANS:\\t', faq_ans[c])\n",
    "len(faq_ques)"
   ]
  },
  {
   "cell_type": "code",
   "execution_count": 221,
   "metadata": {
    "collapsed": true
   },
   "outputs": [],
   "source": [
    "# TODO: this might no longer be valid since latest push\n",
    "# GIVEN THIS REFERENCE\n",
    "# validated pairs\n",
    "List = np.zeros((1,2))\n",
    "l = [481, 136]\n",
    "List = np.concatenate((List, np.reshape(np.asarray(l),(1,2))), axis=0)\n",
    "l = [2793, 172]\n",
    "List = np.concatenate((List, np.reshape(np.asarray(l),(1,2))), axis=0)\n",
    "l = [509, 261]\n",
    "List = np.concatenate((List, np.reshape(np.asarray(l),(1,2))), axis=0)\n",
    "l = [557, 261]\n",
    "List = np.concatenate((List, np.reshape(np.asarray(l),(1,2))), axis=0)\n",
    "l = [156, 172]\n",
    "List = np.concatenate((List, np.reshape(np.asarray(l),(1,2))), axis=0)\n",
    "l = [3874, 171]\n",
    "List = np.concatenate((List, np.reshape(np.asarray(l),(1,2))), axis=0)\n",
    "l = [1676, 147]\n",
    "List = np.concatenate((List, np.reshape(np.asarray(l),(1,2))), axis=0)\n",
    "l = [1500, 36]\n",
    "List = np.concatenate((List, np.reshape(np.asarray(l),(1,2))), axis=0)\n",
    "l = [270, 4]\n",
    "List = np.concatenate((List, np.reshape(np.asarray(l),(1,2))), axis=0)\n",
    "l = [1149, -1]\n",
    "List = np.concatenate((List, np.reshape(np.asarray(l),(1,2))), axis=0)\n",
    "l = [4168, 8]\n",
    "List = np.concatenate((List, np.reshape(np.asarray(l),(1,2))), axis=0)\n",
    "l = [2396, -1]\n",
    "List = np.concatenate((List, np.reshape(np.asarray(l),(1,2))), axis=0)\n",
    "l = [3244, -1]\n",
    "List = np.concatenate((List, np.reshape(np.asarray(l),(1,2))), axis=0)\n",
    "l = [570, 26]\n",
    "List = np.concatenate((List, np.reshape(np.asarray(l),(1,2))), axis=0)\n",
    "l = [276, -1]\n",
    "List = np.concatenate((List, np.reshape(np.asarray(l),(1,2))), axis=0)\n",
    "l = [2949, -1]\n",
    "List = np.concatenate((List, np.reshape(np.asarray(l),(1,2))), axis=0)\n",
    "l = [2355 , 171]\n",
    "List = np.concatenate((List, np.reshape(np.asarray(l),(1,2))), axis=0)\n",
    "l = [1747 , -1]\n",
    "List = np.concatenate((List, np.reshape(np.asarray(l),(1,2))), axis=0)\n",
    "l = [3328 ,-1]\n",
    "List = np.concatenate((List, np.reshape(np.asarray(l),(1,2))), axis=0)\n",
    "l = [82 ,272]\n",
    "List = np.concatenate((List, np.reshape(np.asarray(l),(1,2))), axis=0)\n",
    "l = [4134 ,-1]\n",
    "List = np.concatenate((List, np.reshape(np.asarray(l),(1,2))), axis=0)\n",
    "l = [1154, 117]\n",
    "List = np.concatenate((List, np.reshape(np.asarray(l),(1,2))), axis=0)\n",
    "l = [4004 , 161]\n",
    "List = np.concatenate((List, np.reshape(np.asarray(l),(1,2))), axis=0)\n",
    "l = [1605 , 230]\n",
    "List = np.concatenate((List, np.reshape(np.asarray(l),(1,2))), axis=0)\n",
    "l = [2181 , 170]\n",
    "List = np.concatenate((List, np.reshape(np.asarray(l),(1,2))), axis=0)\n",
    "l = [2576 , -1]\n",
    "List = np.concatenate((List, np.reshape(np.asarray(l),(1,2))), axis=0)\n",
    "l= [1121 ,-1]\n",
    "List = np.concatenate((List, np.reshape(np.asarray(l),(1,2))), axis=0)\n",
    "l = [844, -1]\n",
    "List = np.concatenate((List, np.reshape(np.asarray(l),(1,2))), axis=0)\n",
    "l = [1533,-1]\n",
    "List = np.concatenate((List, np.reshape(np.asarray(l),(1,2))), axis=0)\n",
    "l = [1335,-1]\n",
    "List = np.concatenate((List, np.reshape(np.asarray(l),(1,2))), axis=0)\n",
    "l = [1008, -1]\n",
    "List = np.concatenate((List, np.reshape(np.asarray(l),(1,2))), axis=0)\n",
    "l = [55, -1]\n",
    "List = np.concatenate((List, np.reshape(np.asarray(l),(1,2))), axis=0)\n",
    "l = [2208 ,209]\n",
    "List = np.concatenate((List, np.reshape(np.asarray(l),(1,2))), axis=0)\n",
    "l = [2630 , 171]\n",
    "List = np.concatenate((List, np.reshape(np.asarray(l),(1,2))), axis=0)\n",
    "l = [824, -1]\n",
    "List = np.concatenate((List, np.reshape(np.asarray(l),(1,2))), axis=0)\n",
    "l = [1728, -1]\n",
    "List = np.concatenate((List, np.reshape(np.asarray(l),(1,2))), axis=0)\n",
    "l = [222, -1]\n",
    "List = np.concatenate((List, np.reshape(np.asarray(l),(1,2))), axis=0)\n",
    "l = [1842, -1]\n",
    "List = np.concatenate((List, np.reshape(np.asarray(l),(1,2))), axis=0)\n",
    "l = [1575, -1]\n",
    "List = np.concatenate((List, np.reshape(np.asarray(l),(1,2))), axis=0)\n",
    "l = [747 , -1]\n",
    "List = np.concatenate((List, np.reshape(np.asarray(l),(1,2))), axis=0)\n",
    "l = [2448, -1]\n",
    "List = np.concatenate((List, np.reshape(np.asarray(l),(1,2))), axis=0)\n",
    "l = [4216, -1]\n",
    "List = np.concatenate((List, np.reshape(np.asarray(l),(1,2))), axis=0)\n",
    "l = [3586, -1]\n",
    "List = np.concatenate((List, np.reshape(np.asarray(l),(1,2))), axis=0)\n",
    "l = [1754, -1]\n",
    "List = np.concatenate((List, np.reshape(np.asarray(l),(1,2))), axis=0)\n",
    "l = [941 , -1]\n"
   ]
  },
  {
   "cell_type": "code",
   "execution_count": 222,
   "metadata": {},
   "outputs": [
    {
     "name": "stdout",
     "output_type": "stream",
     "text": [
      "19 45 0.42\n"
     ]
    }
   ],
   "source": [
    "good = List[List[:,1]>0].shape[0]\n",
    "All = List.shape[0]\n",
    "print(good, All, round(good/All,2))"
   ]
  },
  {
   "cell_type": "code",
   "execution_count": 223,
   "metadata": {
    "collapsed": true
   },
   "outputs": [],
   "source": [
    "Tagged_tickets_dict = {\n",
    "    \"disclaimer\": \"This list assumes you have removed duplicates and FAQs/tickets with empty ans\",\n",
    "    \"structure\" :\"ticket, FAQ\",\n",
    "    \"data\": List\n",
    "}\n",
    "\n",
    "with open('../data/Tagged_tickets_dict.pkl', \"wb\") as fp:\n",
    "    pickle.dump(Tagged_tickets_dict, fp)\n",
    "\n",
    "    \n",
    "# TODO: now look at how likely where these guys + maybe use ratio as threshold?"
   ]
  },
  {
   "cell_type": "code",
   "execution_count": 219,
   "metadata": {},
   "outputs": [
    {
     "name": "stdout",
     "output_type": "stream",
     "text": [
      "0.19222888867943425 3986 , 59\n"
     ]
    }
   ],
   "source": [
    "b = random.sample(range(277), 1)[0]\n",
    "indy = np.nonzero(FAQ_per_ticket==b)[0]\n",
    "a = random.sample(list(indy), 1)[0]\n",
    "print(SFT[a],a,',',b)\n"
   ]
  },
  {
   "cell_type": "code",
   "execution_count": 220,
   "metadata": {},
   "outputs": [
    {
     "name": "stdout",
     "output_type": "stream",
     "text": [
      "Similarity score:  0.19222888867943425\n",
      "\n",
      "Ticket: QUES:\t Hello I just wanted to make a change on the website [1] www.brnc.ethz.ch and do not come to the administrator page. I used to be able to use Structure: [2] https://cms-author.ethz.ch/siteadmin#/content/specialinterest/mavt/mechanical-systems/brnc to reach this page. What should I do? Greetings Stefan Blunier [1] http://www.brnc.ethz.ch [2] https://cms-author.ethz.ch/siteadmin#/content/specialinterest/mavt/mechanical-systems/brncGrüezi Mr. Brunner Thank you for the quick reply. Now I have clicked on the link again and it works! Before, there was an indication of an outdated login &quot;Web Login Service - Stale Request&quot; I just noticed that sometimes it works (come to the login) and sometimes not. If it&#39;s not right, I can copy the address, then it works. Thank you Stefan Blunier \n",
      "\n",
      "ANS:\t Dear Mr Blunier, I have just checked your rights and with them everything is fine. What exactly happens when you enter the link below in the browser window? This looks correct for my terms. If you see a white page, then you just have to enter the link again after you have logged in. Best regards, Frank Brunner ETH Hochschulkommunikation 09/25/2018 13:00 - Blunier Stefan wrote: Hello I just wanted to make a change on the website [1] www.brnc.ethz.ch and do not come to the administrator page. I used to be able to use Structure: [2] https://cms-author.ethz.ch/siteadmin#/content/specialinterest/mavt/mechanical-systems/brnc to reach this page. What should I do? Greetings Stefan Blunier [1] http://www.brnc.ethz.ch [2] https://cms-author.ethz.ch/siteadmin#/content/specialinterest/mavt/mechanical-systems/brncGrüezi Mr. Blunier, I&#39;m glad to hear that. Yes, the login in AEM is sometimes a bit confusing. Once logged in, all links should lead to the backend. Best regards, Frank Brunner ETH Hochschulkommunikation 09/25/2018 15:00 - Blunier Stefan wrote: Grüezi Mr. Brunner Thank you for the quick reply. Now I have clicked on the link again and it works! Before, there was an indication of an outdated login &quot;Web Login Service - Stale Request&quot; I just noticed that sometimes it works (come to the login) and sometimes not. If it&#39;s not right, I can copy the address, then it works. Thank you Stefan Blunier\n",
      "\n",
      "\n",
      "FAQ: QUES:\t Would you like to add a wiki link to another wiki page in Sharepoint? \n",
      "\n",
      "ANS:\t Would you like to add a wiki link to another wiki page?  You can use wiki links to link pages together by simply using the page name surrounded by double square brackets. You create wiki links the same way whether you are linking to existing wiki pages or pages that do not exist yet.For example, if your team will be creating a link later for Training Issues, you can go ahead and insert the link to the page now by typing [[Training Issues]]. After you save the page, the link to your future page appears with a dotted line under it.To create the page later, someone can click the underlined placeholder link and then click \"Create\". If you are not already editing the wiki page, click : Click where you want to insert a wiki link.Type[[ and then begin typing the name of the page. The wiki will suggest page names that start with what you are typing.Do one of the following: To select one of the suggested pages, use the arrow keys and then press ENTER, or use the mouse.Type a new page name followed by ]]. If you type a new page name, you will create a link to a page which has not yet been created.  Your finished page name should be surrounded by double square brackets, like this: [[Page Name]] To quickly add a link from a wiki page back to the home page for your wiki, type [[Home]]. You can link to many objects in SharePoint, not just pages. Here are some examples of links:[[Dogs]] : A link to a page named Dogs in the same folder[[Animals/Dogs]] : A link to a page named Dogs in a subfolder called Animals.[[List:Announcements/Welcome]] : A link to the item called Welcome in the Announcements list on this site.To display double opening or closing brackets without making a link, type a backslash before the two brackets. For example, \\[[ or \\]]\n",
      "\n",
      "\n",
      "FAQ: QUES:\t Do you want to revoke the granted permissions in Sharepoint? \n",
      "\n",
      "ANS:\t Do you want to revoke the granted permissions? Go to Settings / Settings / Site Settings button Under Users And Permissions, click Access Requests And Invitations Under Guest Invitations, find the person whose invitation you want to undo, and click on the ellipsis (...) to open the menu. In the Properties window, click on &quot;Undo&quot; If the external user has already accepted the invitation and you want to prevent it from being accessed, you can remove it from the SharePoint permission group, the he was assigned. In addition, SharePoint Administrator can also remove the person from the list of users for your environment.\n"
     ]
    }
   ],
   "source": [
    "# WORK IN PROGRESS - IGNORE\n",
    "print(\"Similarity score: \", strength_FAQ_ticket[a])\n",
    "print('\\nTicket: QUES:\\t', ticket_ques[a], '\\n\\nANS:\\t', ticket_ans[a])\n",
    "print('\\n\\nFAQ: QUES:\\t', faq_ques[b], '\\n\\nANS:\\t', faq_ans[b])\n",
    "c = 209\n",
    "print('\\n\\nFAQ: QUES:\\t', faq_ques[c], '\\n\\nANS:\\t', faq_ans[c])\n"
   ]
  },
  {
   "cell_type": "code",
   "execution_count": 174,
   "metadata": {},
   "outputs": [
    {
     "name": "stdout",
     "output_type": "stream",
     "text": [
      "Dear Quentin,\n",
      "\n",
      "Where did you run the job (on a login node, or in a batch interactive job) ?\n",
      "\n",
      "Segfaults can happen if you run out of memory.\n",
      "\n",
      "Best regards\n",
      "\n",
      "Samuel\n",
      "Your Cluster Support Team\n",
      "\n",
      "Dear Quentin,\n",
      "\n",
      "Thank you for your feedback.\n",
      "\n",
      "Segmentation faults can not only happen due to a program running out of\n",
      "memory.\n",
      "\n",
      "Please check the wikipedia article on segmentation faults:\n",
      "\n",
      "[1]https://en.wikipedia.org/wiki/Segmentation_fault\n",
      "\n",
      "There are various reasons. I just mentioned that the job could have run out of\n",
      "memory as this is from my experience the most frequent cause for this error.\n",
      "\n",
      "If you would like to exclude a few reasons, then you could run your code with\n",
      "a debugger (like for instance gdb). With valgrind, you can search for\n",
      "potential memory leaks etc.\n",
      "\n",
      "Best regards\n",
      "\n",
      "Sam\n",
      "Your Cluster Support Team\n",
      "\n",
      "Dear Quentin,\n",
      "\n",
      "Why do you run ants in a batch interactive job ? It would be nice to have the\n",
      "full log in a text file.\n",
      "\n",
      "I found a github issue where a similar problem is discussed:\n",
      "\n",
      "[1]https://github.com/ANTsX/ANTs/issues/495\n",
      "\n",
      "I will check if I can install a newer version of ants.\n",
      "\n",
      "Best regards\n",
      "\n",
      "Sam\n",
      "Your Cluster Support Team\n",
      "\n",
      "Dear Quentin,\n",
      "\n",
      "Thank you for your reply.\n",
      "\n",
      "ANTs 2.3.1 is now available on Euler. In order to use it, you would have to\n",
      "load the following modules:\n",
      "\n",
      "module load new gcc/4.8.2 python/2.7.14 hdf5/1.8.12 fftw/3.3.3 ants/2.3.1\n",
      "\n",
      "Best regards\n",
      "\n",
      "Sam\n",
      "Your Cluster Support Team\n",
      "\n",
      "Dear Quentin,\n",
      "\n",
      "Did you run a module purge before loading the modules of the new ants version\n",
      "? Because it seems that you are still using the older 2.1.0 version (which is\n",
      "linked against ITK 4.7, whereas the new version is linked against ITK 5.0):\n",
      "  >/cluster/apps/ants/2.1.0/x86_64/bin/antsRegistration: error while loading\n",
      "shared\n",
      "or directory\n",
      " \n",
      "If you start from a fresh shell or run \"module purge\" then it should work:\n",
      "  [sfux@eu-login-02-ng ~]$ module load new gcc/4.8.2 python/2.7.14 hdf5/1.8.12\n",
      "fftw/3.3.3 ants/2.3.1\n",
      "Autoloading openblas/0.2.13_seq\n",
      "[sfux@eu-login-02-ng ~]$ which antsRegistration\n",
      "/cluster/apps/ants/2.3.1/x86_64/bin/antsRegistration\n",
      "[sfux@eu-login-02-ng ~]$ ldd\n",
      "/cluster/apps/ants/2.3.1/x86_64/bin/antsRegistration | grep libITKIOLSM-5.0.so\n",
      "        libITKIOLSM-5.0.so.1 =>\n",
      "/cluster/apps/ants/2.3.1/x86_64/lib/libITKIOLSM-5.0.so.1 (0x00002b03159a4000)\n",
      "[sfux@eu-login-02-ng ~]$ \n",
      " \n",
      "Best regards\n",
      "\n",
      "Sam\n",
      "Your Cluster Support Team\n",
      "\n",
      "\n"
     ]
    }
   ],
   "source": [
    "print(ticket_ans[a])"
   ]
  }
 ],
 "metadata": {
  "kernelspec": {
   "display_name": "Python 3",
   "language": "python",
   "name": "python3"
  },
  "language_info": {
   "codemirror_mode": {
    "name": "ipython",
    "version": 3
   },
   "file_extension": ".py",
   "mimetype": "text/x-python",
   "name": "python",
   "nbconvert_exporter": "python",
   "pygments_lexer": "ipython3",
   "version": "3.6.3"
  }
 },
 "nbformat": 4,
 "nbformat_minor": 2
}
