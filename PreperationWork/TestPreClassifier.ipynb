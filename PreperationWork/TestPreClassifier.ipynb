{
 "cells": [
  {
   "cell_type": "code",
   "execution_count": 88,
   "metadata": {},
   "outputs": [],
   "source": [
    "import pickle\n",
    "import joblib as jl\n",
    "from sklearn.metrics.pairwise import cosine_similarity\n",
    "import numpy as np\n",
    "import matplotlib.pyplot as plt\n",
    "import pandas as pd\n",
    "import operator"
   ]
  },
  {
   "cell_type": "code",
   "execution_count": 2,
   "metadata": {},
   "outputs": [],
   "source": [
    "    with open(\"../code/embedding/models/doc_data/all_docs.txt\", \"rb\") as fp:\n",
    "        all_docs = pickle.load(fp)\n",
    "    with open(\"../code/embedding/models/doc_data/id_dict.txt\", \"rb\") as fp:\n",
    "        id_dict = pickle.load(fp)\n",
    "    with open(\"../code/embedding/models/doc_data/all_docs_prepro.txt\", \"rb\") as fp:\n",
    "        all_docs_prepro = pickle.load(fp)\n",
    "    with open(\"../code/embedding/models/doc_data/all_docs_sep.pkl\", \"rb\") as fp:\n",
    "        all_docs_sep = pickle.load(fp)"
   ]
  },
  {
   "cell_type": "code",
   "execution_count": 3,
   "metadata": {},
   "outputs": [],
   "source": [
    "TFiDF = jl.load('../code/embedding/models/TF-IFD-ans.joblib')"
   ]
  },
  {
   "cell_type": "code",
   "execution_count": 4,
   "metadata": {},
   "outputs": [],
   "source": [
    "faq_ans = all_docs_sep['faq_ans']\n",
    "ticket_ans = all_docs_sep['ticket_ans']\n",
    "faq_ques = all_docs_sep['faq_ques']\n",
    "ticket_ques = all_docs_sep['ticket_ques']"
   ]
  },
  {
   "cell_type": "code",
   "execution_count": 5,
   "metadata": {},
   "outputs": [
    {
     "name": "stdout",
     "output_type": "stream",
     "text": [
      "Computing TF-IDF Similarities...\n",
      "Done\n"
     ]
    }
   ],
   "source": [
    "FAQ_matrix = TFiDF.transform(faq_ans)\n",
    "ticket_matrix = TFiDF.transform(ticket_ans)\n",
    "print('Computing TF-IDF Similarities...')\n",
    "sim_matrix = cosine_similarity(FAQ_matrix, ticket_matrix)\n",
    "print('Done')"
   ]
  },
  {
   "cell_type": "code",
   "execution_count": 172,
   "metadata": {},
   "outputs": [
    {
     "data": {
      "text/plain": [
       "'Password forgotten  Unfortunately we are not able to send your new password by email or by phone. You can pick up your new password at our desk at HG E 11 (main building) or we send it to your registred address. In case of sending the password by post please give us:your birthdateyour addressIf you want to pick up your passwort we have open from 9.30 to 11 am and from 1.30 to 4 pm. Take the student/ETH card with you.'"
      ]
     },
     "execution_count": 172,
     "metadata": {},
     "output_type": "execute_result"
    }
   ],
   "source": [
    "faq_ans[np.argmax(sim_matrix, 0)[13]]"
   ]
  },
  {
   "cell_type": "code",
   "execution_count": 171,
   "metadata": {},
   "outputs": [
    {
     "data": {
      "text/plain": [
       "\"Dear Mr. Dr. Marios Georgiadis\\n\\xa0\\nYour account is not locked and the password wasn't changed since the end of\\nApril.\\n\\nIhr ID-Team\\nJoel Greuter\\n\\nDear Mr. Dr. Marios Georgiadis \\n\\nUnfortunately we are not able to send your new password by email or by phone.\\nYou can pick up your new password at our desk at HG E 11 (main building) or we\\nsend it to your registred address. In case of sending the password by post\\nplease give us:\\n\\n - your birthdate \\n - your address \\n\\nIf you want to pick up your passwort we have open from 9.30 to 11 am and from\\n1.30 to 4 pm. Take the student/ETH card with you.\\n\\n Ihr ID-Team\\nJoel Greuter\\n\\nDear Mr. Dr. Marios Georgiadis\\n\\xa0\\nI will send it to the address in Zürich, c/o Mr.\\xa0Casanova.\\n\\nIhr ID-Team\\nJoel Greuter\\n\\nDear Mr. Marios Georgiadis\\n\\xa0\\nI can't extend your account. For that you have to ask the IT of your\\ndepartment.\\n\\nIhr ID-Team\\nJoel Greuter\\n\\nDear Mr. Dr. Marios Georgiadis\\n\\xa0\\nI reactivate your account for one week. Please use this instructions to backup\\nyour mails:\\n[1]https://www.ethz.ch/content/dam/ethz/associates/services/Service/IT-Services/files/catalogue/email-calendar/export_items_email_EN.PDF\\n\\nAnd note that I can not extend your account any further.\\n\\nIhr ID-Team\\nJoel Greuter\\n\\n\""
      ]
     },
     "execution_count": 171,
     "metadata": {},
     "output_type": "execute_result"
    }
   ],
   "source": [
    "ticket_ans[13]"
   ]
  },
  {
   "cell_type": "code",
   "execution_count": 177,
   "metadata": {},
   "outputs": [
    {
     "data": {
      "text/plain": [
       "array([[0.12615401]])"
      ]
     },
     "execution_count": 177,
     "metadata": {},
     "output_type": "execute_result"
    }
   ],
   "source": [
    "cosine_similarity(TFiDF.transform([ticket_ans[15]]), TFiDF.transform([faq_ans[np.argmax(sim_matrix, 0)[15]]]))"
   ]
  },
  {
   "cell_type": "code",
   "execution_count": 176,
   "metadata": {},
   "outputs": [
    {
     "data": {
      "text/plain": [
       "0.12615400535000829"
      ]
     },
     "execution_count": 176,
     "metadata": {},
     "output_type": "execute_result"
    }
   ],
   "source": [
    "sim_matrix[np.argmax(sim_matrix, 0)[15], 15]"
   ]
  },
  {
   "cell_type": "code",
   "execution_count": 139,
   "metadata": {},
   "outputs": [
    {
     "data": {
      "image/png": "[encoded data removed]",
      "text/plain": [
       "<matplotlib.figure.Figure at 0x1a12db6b00>"
      ]
     },
     "metadata": {},
     "output_type": "display_data"
    }
   ],
   "source": [
    "plt.hist(np.argmax(sim_matrix, 0))\n",
    "plt.show()"
   ]
  },
  {
   "cell_type": "code",
   "execution_count": 6,
   "metadata": {},
   "outputs": [
    {
     "data": {
      "text/plain": [
       "(277, 4213)"
      ]
     },
     "execution_count": 6,
     "metadata": {},
     "output_type": "execute_result"
    }
   ],
   "source": [
    "sim_matrix.shape"
   ]
  },
  {
   "cell_type": "code",
   "execution_count": 7,
   "metadata": {},
   "outputs": [
    {
     "data": {
      "image/png": "[encoded data removed]",
      "text/plain": [
       "<matplotlib.figure.Figure at 0x1a12d44908>"
      ]
     },
     "metadata": {},
     "output_type": "display_data"
    }
   ],
   "source": [
    "random_sample = np.random.choice(sim_matrix.flatten(), size=500000)\n",
    "plt.hist(random_sample, bins = 50)\n",
    "plt.show()"
   ]
  },
  {
   "cell_type": "code",
   "execution_count": 8,
   "metadata": {},
   "outputs": [],
   "source": [
    "# Get the n'th biggest similarity value\n",
    "depth = 1\n",
    "n_biggest = pd.DataFrame(sim_matrix).apply(lambda row: row.nlargest(depth).values[-1],axis=0)"
   ]
  },
  {
   "cell_type": "code",
   "execution_count": 9,
   "metadata": {},
   "outputs": [
    {
     "data": {
      "image/png": "[encoded data removed]",
      "text/plain": [
       "<matplotlib.figure.Figure at 0x1a12f6dbe0>"
      ]
     },
     "metadata": {},
     "output_type": "display_data"
    }
   ],
   "source": [
    "plt.hist(n_biggest, bins=30)\n",
    "plt.show()"
   ]
  },
  {
   "cell_type": "code",
   "execution_count": 283,
   "metadata": {},
   "outputs": [],
   "source": [
    "def word_importance(sentence):\n",
    "    analyzer = TFiDF.build_analyzer()\n",
    "    tokenized = analyzer(sentence)\n",
    "    indexs = [TFiDF.vocabulary_[x] for x in tokenized]\n",
    "    tfidf_vec = TFiDF.transform([sentence])[:, indexs].todense().tolist()[0]\n",
    "    dict_of_words = dict(zip(tfidf_vec, tokenized))\n",
    "    sorted_dict = sorted(dict_of_words.items(), key=operator.itemgetter(0), reverse=True)\n",
    "    print(sorted_dict)"
   ]
  },
  {
   "cell_type": "code",
   "execution_count": 279,
   "metadata": {},
   "outputs": [],
   "source": [
    "def ticket_faq_reason(ticket_id):\n",
    "    # Should get the closest FAQ to the sentence, calculate element-wise product between ticket and faq tf-ids's and\n",
    "    # then return the value per word to see which words were most important to the match.\n",
    "    \n",
    "    # ticket id is 0 - amount of tickers\n",
    "    best_faq_index = np.argmax(sim_matrix, 0)[ticket_id]\n",
    "    faq_ans_text = faq_ans[np.argmax(sim_matrix, 0)[ticket_id]]\n",
    "    ticket_ans_text = ticket_ans[ticket_id]\n",
    "    \n",
    "    print(ticket_ans_text)\n",
    "    print(\"-----\")\n",
    "    print(faq_ans_text)\n",
    "    \n",
    "    embeddings = TFiDF.transform([faq_ans_text, ticket_ans_text]).todense()\n",
    "    entry_wise_product = np.multiply(embeddings[0], embeddings[1])\n",
    "    \n",
    "    reverse_dict = inv_map = {v: k for k, v in TFiDF.vocabulary_.items()}\n",
    "    words = [reverse_dict[index] for index in np.argwhere(entry_wise_product)[:, 1]]\n",
    "    \n",
    "    dict_with_scores =  dict(zip(words, entry_wise_product[entry_wise_product>0].tolist()[0]))\n",
    "    \n",
    "    sorted_dict = sorted(dict_with_scores.items(), key=operator.itemgetter(1), reverse=True)\n",
    "    \n",
    "    return sorted_dict\n",
    "    "
   ]
  },
  {
   "cell_type": "code",
   "execution_count": 284,
   "metadata": {},
   "outputs": [
    {
     "name": "stdout",
     "output_type": "stream",
     "text": [
      "Where can I get ETH software?  ETH software can be ordered over the IDES system. The order can be placed onhttp://www.ides.ethz.ch/After ordering the software you will get an e-mail with further informations for the installation. Informations how to download the software can be found here:https://www1.ethz.ch/id/servicedesk/guide/ides/index\n",
      "----\n",
      "[(0.47012933732332657, 'ides'), (0.41126252045501177, 'software'), (0.2953859949788947, 'informations'), (0.21771059840246904, 'onhttp'), (0.19949729914534683, 'get'), (0.18032259119448793, 'can'), (0.1729590565375702, 'ordering'), (0.17095988497188266, 'placed'), (0.16258814843703545, 'be'), (0.16020051685619452, 'www1'), (0.15782002015732569, 'index'), (0.14489451432284675, 'the'), (0.13695022997411777, 'eth'), (0.13682035792760058, 'servicedesk'), (0.13318101440505523, 'ordered'), (0.12963512099696872, 'guide'), (0.12718793183906205, 'download'), (0.11442939215768634, 'installation'), (0.11038026134295727, 'over'), (0.10796393100395683, 'ethz'), (0.10749517554168302, 'further'), (0.10743383099413659, 'ch'), (0.10463762702111373, 'found'), (0.10019666716489256, 'order'), (0.0993085269758202, 'where'), (0.09594615353371969, 'how'), (0.09491894550967735, 'after'), (0.09126565003942577, 'system'), (0.08995688443610084, 'here'), (0.07279508499784208, 'https'), (0.07212503945069419, 'an'), (0.0718329155232892, 'www'), (0.06565705335638845, 'mail'), (0.059307801008882784, 'will'), (0.05280230934440399, 'with'), (0.042305260485436785, 'for'), (0.03922042843617218, 'to'), (0.03583985179282256, 'id'), (0.03360584414185577, 'you')]\n"
     ]
    }
   ],
   "source": [
    "test_id = 96\n",
    "tix = faq_ans[test_id]\n",
    "print(tix)\n",
    "print('----')\n",
    "word_importance(tix)"
   ]
  },
  {
   "cell_type": "code",
   "execution_count": 301,
   "metadata": {},
   "outputs": [
    {
     "name": "stdout",
     "output_type": "stream",
     "text": [
      "Dear Mr. Rico Camponovo Where do you try to log in? Your ID Team Joel GreuterDear Mr. Rico Camponovo Can you still log on to [1] www.passwort.ethz.ch? Your ID Team Joel GreuterDear Mr. Rico Camponovo Did you write the user name completely in small letters (ricoc)? Your ID Team Joel GreuterDear Mr. Rico Camponovo In this case you would need a new password. Unfortunately we are not allowed to give out the password by phone or e-mail. You can pick it up at our service desk (HG E 11) or we will send you the password home. In this case, please provide us with the following details: - Date of birth - Address If you would like to pick up the password from us, we are open from 9.30 am to 11 am and from 1.30 pm to 4 pm. Take your Legi resp. Your employee badge with. Your ID Team Joel GreuterDear Mr. Rico Camponovo As already written, we are in HG E 11. Your ID-Team Joel GreuterDear Mr. Rico Camponovo Your password is on the way. Please note that this password is only valid for the login on the website password.ethz.ch. On this page you have to set a new password. Your ID Team Joel GreuterDear Mr. Rico Camponovo The username will not change. Your ID Team Joel Greuter\n",
      "-----\n",
      "Forgot Password Unfortunately we are not allowed to give out the password by phone or e-mail. You can pick it up at our service desk (HG E 11) or we will send you the password home. In this case, please provide us with the following information: Date of birthAdress If you wish to pick up the password from us, we are open from 9.30 am to 11 am and from 1.30 pm to 4 pm. Take your Legi resp. Your employee badge with.\n"
     ]
    },
    {
     "data": {
      "text/plain": [
       "[('password', 0.06757712904350739),\n",
       " ('11', 0.023476430770427645),\n",
       " ('pm', 0.02125827654869174),\n",
       " ('pick', 0.019953582517584403),\n",
       " ('to', 0.01686202637872265),\n",
       " ('from', 0.015281436186691486),\n",
       " ('am', 0.014415914391352196),\n",
       " ('30', 0.013843038687249185),\n",
       " ('we', 0.012297529153521147),\n",
       " ('the', 0.011835686279061569),\n",
       " ('up', 0.010861782190804702),\n",
       " ('you', 0.010611283690856675),\n",
       " ('us', 0.008629077147676393),\n",
       " ('hg', 0.00848567716979207),\n",
       " ('are', 0.008076023092492184),\n",
       " ('your', 0.007955739807044107),\n",
       " ('badge', 0.00677423329114935),\n",
       " ('case', 0.0067573444311232155),\n",
       " ('legi', 0.0065059066018599565),\n",
       " ('resp', 0.0065059066018599565),\n",
       " ('or', 0.005888633150781091),\n",
       " ('allowed', 0.005709500491389159),\n",
       " ('employee', 0.005374968900994639),\n",
       " ('provide', 0.00492319763876187),\n",
       " ('home', 0.004726396547522378),\n",
       " ('with', 0.004366092089187435),\n",
       " ('date', 0.004253645855724177),\n",
       " ('in', 0.004040255358907468),\n",
       " ('this', 0.003977402085671905),\n",
       " ('out', 0.003827445994770648),\n",
       " ('open', 0.003778440797452467),\n",
       " ('phone', 0.0032894608418326476),\n",
       " ('desk', 0.0032609321970914935),\n",
       " ('give', 0.0032440895017621964),\n",
       " ('take', 0.0030663014840650463),\n",
       " ('following', 0.002841319879516135),\n",
       " ('will', 0.0027541063410903674),\n",
       " ('unfortunately', 0.0027305122681388354),\n",
       " ('send', 0.0025314224843165636),\n",
       " ('service', 0.0023946143292640385),\n",
       " ('please', 0.002381102535681877),\n",
       " ('our', 0.002138845074167578),\n",
       " ('by', 0.0020303649520204427),\n",
       " ('not', 0.002003356274743302),\n",
       " ('mail', 0.0016876789827367945),\n",
       " ('at', 0.0016202484255605288),\n",
       " ('can', 0.0015912461208839994),\n",
       " ('if', 0.0012755280527343184),\n",
       " ('of', 0.0010273416153209797),\n",
       " ('and', 0.0008566992584235556),\n",
       " ('it', 0.0008479857725462538)]"
      ]
     },
     "execution_count": 301,
     "metadata": {},
     "output_type": "execute_result"
    }
   ],
   "source": [
    "test_id = 2300\n",
    "ticket_faq_reason(test_id)"
   ]
  }
 ],
 "metadata": {
  "kernelspec": {
   "display_name": "Python 3",
   "language": "python",
   "name": "python3"
  },
  "language_info": {
   "codemirror_mode": {
    "name": "ipython",
    "version": 3
   },
   "file_extension": ".py",
   "mimetype": "text/x-python",
   "name": "python",
   "nbconvert_exporter": "python",
   "pygments_lexer": "ipython3",
   "version": "3.7.1"
  }
 },
 "nbformat": 4,
 "nbformat_minor": 2
}
