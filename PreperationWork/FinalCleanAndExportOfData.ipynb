{
 "cells": [
  {
   "cell_type": "code",
   "execution_count": 1,
   "metadata": {},
   "outputs": [],
   "source": [
    "import pandas as pd \n",
    "import numpy as np"
   ]
  },
  {
   "cell_type": "code",
   "execution_count": 184,
   "metadata": {},
   "outputs": [
    {
     "name": "stdout",
     "output_type": "stream",
     "text": [
      "Ticket Data: 18288 Rows\n",
      "FAQ Data: 389 Rows\n"
     ]
    }
   ],
   "source": [
    "ticket_dat = pd.read_csv('cleaned_translated.csv')\n",
    "FAQ_dat = pd.read_csv('FAQ_translation.csv')\n",
    "print('Ticket Data: {} Rows'.format(ticket_dat.shape[0]))\n",
    "print('FAQ Data: {} Rows'.format(FAQ_dat.shape[0]))"
   ]
  },
  {
   "cell_type": "code",
   "execution_count": 3,
   "metadata": {},
   "outputs": [
    {
     "data": {
      "text/plain": [
       "array(['tn', 'title', 'sensitiv', 'Queue', 'name', 'create_time', 'id',\n",
       "       'ticket_id', 'article_type_id', 'article_sender_type_id', 'a_from',\n",
       "       'a_reply_to', 'a_to', 'a_cc', 'a_subject', 'a_message_id',\n",
       "       'a_content_type', 'a_body', 'incoming_time', 'content_path',\n",
       "       'valid_id', 'create_time1', 'create_by', 'change_time',\n",
       "       'change_by', 'a_in_reply_to', 'a_references', 'a_message_id_md5',\n",
       "       'a_body_clean', 'lang', 'translation'], dtype=object)"
      ]
     },
     "execution_count": 3,
     "metadata": {},
     "output_type": "execute_result"
    }
   ],
   "source": [
    "# Print Columns in Ticket Data\n",
    "ticket_dat.columns.values"
   ]
  },
  {
   "cell_type": "code",
   "execution_count": 4,
   "metadata": {},
   "outputs": [
    {
     "data": {
      "text/plain": [
       "array(['ques_id', 'language', 'ques', 'ansTitle', 'ansContent',\n",
       "       'translation', 'translation_title', 'ques_translation'],\n",
       "      dtype=object)"
      ]
     },
     "execution_count": 4,
     "metadata": {},
     "output_type": "execute_result"
    }
   ],
   "source": [
    "# Print Columns in FAQ Data\n",
    "FAQ_dat.columns.values"
   ]
  },
  {
   "cell_type": "markdown",
   "metadata": {},
   "source": [
    "# Lets Settle for A Final Form of the Data\n",
    "## Tickets\n",
    "ticket_no, article_id (with prefix for ticket vs FAQ), content_original, content_clean, lang, content_translate\n",
    "\n",
    "## FAQs\n",
    "ques_id (prefix for FAQ question), ans_id (prefix for FAQ ans), ansTitle_cleaned, ansContent_cleaned, ansTitle_translate, ansContent_translate, quesContent_cleaned, quesContent_translate\n",
    "\n",
    "\n"
   ]
  },
  {
   "cell_type": "markdown",
   "metadata": {},
   "source": [
    "# Ticket Data"
   ]
  },
  {
   "cell_type": "markdown",
   "metadata": {},
   "source": [
    "# Removing Some Rows and Final Preprocessing"
   ]
  },
  {
   "cell_type": "markdown",
   "metadata": {},
   "source": [
    "First remove non english / originally german enteries from ticket data (minor loss of data). Remember though, some \"conversations\" lost as a result."
   ]
  },
  {
   "cell_type": "code",
   "execution_count": 5,
   "metadata": {},
   "outputs": [
    {
     "data": {
      "text/plain": [
       "lang\n",
       "ar           1\n",
       "co           3\n",
       "cs           1\n",
       "da           7\n",
       "de       14498\n",
       "el           1\n",
       "en        3738\n",
       "fi           2\n",
       "fr           7\n",
       "gd           3\n",
       "haw          1\n",
       "hi           1\n",
       "hmn          1\n",
       "id           1\n",
       "it           1\n",
       "ku           1\n",
       "lb           8\n",
       "no           3\n",
       "pl           3\n",
       "ro           1\n",
       "sk           1\n",
       "sl           1\n",
       "tr           1\n",
       "zh-CN        3\n",
       "Name: tn, dtype: int64"
      ]
     },
     "execution_count": 5,
     "metadata": {},
     "output_type": "execute_result"
    }
   ],
   "source": [
    "ticket_dat.groupby('lang').count().tn"
   ]
  },
  {
   "cell_type": "code",
   "execution_count": 6,
   "metadata": {},
   "outputs": [
    {
     "name": "stdout",
     "output_type": "stream",
     "text": [
      "18236 Rows Remain\n"
     ]
    }
   ],
   "source": [
    "ticket_dat = ticket_dat[ticket_dat.lang.isin(['en', 'de'])]\n",
    "print('{} Rows Remain'.format(ticket_dat.shape[0]))"
   ]
  },
  {
   "cell_type": "markdown",
   "metadata": {},
   "source": [
    "Remove data with NaN in the content\n"
   ]
  },
  {
   "cell_type": "code",
   "execution_count": 7,
   "metadata": {},
   "outputs": [
    {
     "name": "stdout",
     "output_type": "stream",
     "text": [
      "32 NaN enteries removed\n"
     ]
    }
   ],
   "source": [
    "print('{} NaN enteries removed'.format(pd.isnull(ticket_dat.a_body_clean).sum()))\n",
    "ticket_dat = ticket_dat[~pd.isnull(ticket_dat.a_body_clean)]"
   ]
  },
  {
   "cell_type": "markdown",
   "metadata": {},
   "source": [
    "## Concatenate All Ticket Questions / Answers within an Exchange"
   ]
  },
  {
   "cell_type": "markdown",
   "metadata": {},
   "source": [
    "To get tickets into a Question and Answer Format we are going to make the (probably not amazingly well justified) provisional assumption that we can concatnate all user messages in the ticket as a question and all it team parts of the ticket as a question. Language is just set to max over language strings which will return en over de (alphabetical)."
   ]
  },
  {
   "cell_type": "code",
   "execution_count": 118,
   "metadata": {},
   "outputs": [],
   "source": [
    "ticket_dat['article_sender_type_id'] = ticket_dat.article_sender_type_id.apply(lambda x: 'question' if x ==3 else 'answer')"
   ]
  },
  {
   "cell_type": "code",
   "execution_count": 154,
   "metadata": {},
   "outputs": [],
   "source": [
    "grouped_tickets = ticket_dat.groupby(['tn', 'article_sender_type_id']).agg(\n",
    "    {'translation':'sum', \n",
    "     'lang':'max'}).unstack()"
   ]
  },
  {
   "cell_type": "code",
   "execution_count": 155,
   "metadata": {},
   "outputs": [],
   "source": [
    "coltitle = list(grouped_tickets.columns.get_level_values(0))\n",
    "subcoltitle = list(grouped_tickets.columns.get_level_values(1))\n",
    "\n",
    "grouped_tickets.columns = [\"_\".join(x) for x in zip(subcoltitle, coltitle)]\n",
    "grouped_tickets = grouped_tickets.reset_index()"
   ]
  },
  {
   "cell_type": "code",
   "execution_count": 156,
   "metadata": {},
   "outputs": [
    {
     "data": {
      "text/html": [
       "<div>\n",
       "<style>\n",
       "    .dataframe thead tr:only-child th {\n",
       "        text-align: right;\n",
       "    }\n",
       "\n",
       "    .dataframe thead th {\n",
       "        text-align: left;\n",
       "    }\n",
       "\n",
       "    .dataframe tbody tr th {\n",
       "        vertical-align: top;\n",
       "    }\n",
       "</style>\n",
       "<table border=\"1\" class=\"dataframe\">\n",
       "  <thead>\n",
       "    <tr style=\"text-align: right;\">\n",
       "      <th></th>\n",
       "      <th>tn</th>\n",
       "      <th>answer_translation</th>\n",
       "      <th>question_translation</th>\n",
       "      <th>answer_lang</th>\n",
       "      <th>question_lang</th>\n",
       "    </tr>\n",
       "  </thead>\n",
       "  <tbody>\n",
       "    <tr>\n",
       "      <th>0</th>\n",
       "      <td>18014685</td>\n",
       "      <td>Dear Mr. Daniel Aeppli Fortunately, you have a...</td>\n",
       "      <td>Dear Ladies and Gentlemen, I still have about ...</td>\n",
       "      <td>de</td>\n",
       "      <td>de</td>\n",
       "    </tr>\n",
       "    <tr>\n",
       "      <th>1</th>\n",
       "      <td>18022254</td>\n",
       "      <td>VPN is blocked 07/02/2018 09:25 - Elmar Sales ...</td>\n",
       "      <td>Dear Pelyuan Zhang\\n\\nWe contact you because o...</td>\n",
       "      <td>en</td>\n",
       "      <td>en</td>\n",
       "    </tr>\n",
       "    <tr>\n",
       "      <th>2</th>\n",
       "      <td>18023005</td>\n",
       "      <td>Dear Yargo C Bonetti Basically NETHZ guest acc...</td>\n",
       "      <td>Dear Ladies and Gentlemen, we have users (eg s...</td>\n",
       "      <td>de</td>\n",
       "      <td>de</td>\n",
       "    </tr>\n",
       "    <tr>\n",
       "      <th>3</th>\n",
       "      <td>18023224</td>\n",
       "      <td>Dear Mrs. Zumsteg Thank you for your e-mail. P...</td>\n",
       "      <td>Dear Sir / Madam I wanted to download from the...</td>\n",
       "      <td>de</td>\n",
       "      <td>de</td>\n",
       "    </tr>\n",
       "    <tr>\n",
       "      <th>4</th>\n",
       "      <td>18024487</td>\n",
       "      <td>Dear Ms Barbara Loepfe We can enter an address...</td>\n",
       "      <td>Hello We received a new toner for our printer ...</td>\n",
       "      <td>de</td>\n",
       "      <td>de</td>\n",
       "    </tr>\n",
       "  </tbody>\n",
       "</table>\n",
       "</div>"
      ],
      "text/plain": [
       "         tn                                 answer_translation  \\\n",
       "0  18014685  Dear Mr. Daniel Aeppli Fortunately, you have a...   \n",
       "1  18022254  VPN is blocked 07/02/2018 09:25 - Elmar Sales ...   \n",
       "2  18023005  Dear Yargo C Bonetti Basically NETHZ guest acc...   \n",
       "3  18023224  Dear Mrs. Zumsteg Thank you for your e-mail. P...   \n",
       "4  18024487  Dear Ms Barbara Loepfe We can enter an address...   \n",
       "\n",
       "                                question_translation answer_lang question_lang  \n",
       "0  Dear Ladies and Gentlemen, I still have about ...          de            de  \n",
       "1  Dear Pelyuan Zhang\\n\\nWe contact you because o...          en            en  \n",
       "2  Dear Ladies and Gentlemen, we have users (eg s...          de            de  \n",
       "3  Dear Sir / Madam I wanted to download from the...          de            de  \n",
       "4  Hello We received a new toner for our printer ...          de            de  "
      ]
     },
     "execution_count": 156,
     "metadata": {},
     "output_type": "execute_result"
    }
   ],
   "source": [
    "grouped_tickets.head()"
   ]
  },
  {
   "cell_type": "markdown",
   "metadata": {},
   "source": [
    "Quickly check if Q and A were always in the same language. Answer: not always but they should've all been translated anyways"
   ]
  },
  {
   "cell_type": "code",
   "execution_count": 173,
   "metadata": {},
   "outputs": [
    {
     "data": {
      "text/plain": [
       "de_de    3084\n",
       "en_en     825\n",
       "de_en     216\n",
       "en_de     115\n",
       "dtype: int64"
      ]
     },
     "execution_count": 173,
     "metadata": {},
     "output_type": "execute_result"
    }
   ],
   "source": [
    "(grouped_tickets.answer_lang + \"_\"+grouped_tickets.question_lang).value_counts()"
   ]
  },
  {
   "cell_type": "markdown",
   "metadata": {},
   "source": [
    "Now we need to pivot the table so we have a question and answer column and a ticket number."
   ]
  },
  {
   "cell_type": "markdown",
   "metadata": {},
   "source": [
    "## Rename some Columns"
   ]
  },
  {
   "cell_type": "code",
   "execution_count": 157,
   "metadata": {},
   "outputs": [
    {
     "data": {
      "text/plain": [
       "array(['tn', 'answer_translation', 'question_translation', 'answer_lang',\n",
       "       'question_lang'], dtype=object)"
      ]
     },
     "execution_count": 157,
     "metadata": {},
     "output_type": "execute_result"
    }
   ],
   "source": [
    "grouped_tickets.columns.values"
   ]
  },
  {
   "cell_type": "code",
   "execution_count": 176,
   "metadata": {},
   "outputs": [],
   "source": [
    "ticket_column_rename={\"tn\": \"ticket_id\", \"answer_translation\": \"answer\", \"question_translation\": \"question\"}\n",
    "\n",
    "grouped_tickets.rename(index=str, columns = ticket_column_rename, inplace=True)"
   ]
  },
  {
   "cell_type": "markdown",
   "metadata": {},
   "source": [
    "## Drop Some Columns"
   ]
  },
  {
   "cell_type": "code",
   "execution_count": 177,
   "metadata": {},
   "outputs": [],
   "source": [
    "ticket_columns_to_drop = []\n",
    "\n",
    "grouped_tickets.drop(ticket_columns_to_drop, axis=1, inplace=True)"
   ]
  },
  {
   "cell_type": "code",
   "execution_count": 179,
   "metadata": {},
   "outputs": [
    {
     "data": {
      "text/html": [
       "<div>\n",
       "<style>\n",
       "    .dataframe thead tr:only-child th {\n",
       "        text-align: right;\n",
       "    }\n",
       "\n",
       "    .dataframe thead th {\n",
       "        text-align: left;\n",
       "    }\n",
       "\n",
       "    .dataframe tbody tr th {\n",
       "        vertical-align: top;\n",
       "    }\n",
       "</style>\n",
       "<table border=\"1\" class=\"dataframe\">\n",
       "  <thead>\n",
       "    <tr style=\"text-align: right;\">\n",
       "      <th></th>\n",
       "      <th>ticket_id</th>\n",
       "      <th>answer</th>\n",
       "      <th>question</th>\n",
       "      <th>answer_lang</th>\n",
       "      <th>question_lang</th>\n",
       "    </tr>\n",
       "  </thead>\n",
       "  <tbody>\n",
       "    <tr>\n",
       "      <th>0</th>\n",
       "      <td>18014685</td>\n",
       "      <td>Dear Mr. Daniel Aeppli Fortunately, you have a...</td>\n",
       "      <td>Dear Ladies and Gentlemen, I still have about ...</td>\n",
       "      <td>de</td>\n",
       "      <td>de</td>\n",
       "    </tr>\n",
       "    <tr>\n",
       "      <th>1</th>\n",
       "      <td>18022254</td>\n",
       "      <td>VPN is blocked 07/02/2018 09:25 - Elmar Sales ...</td>\n",
       "      <td>Dear Pelyuan Zhang\\n\\nWe contact you because o...</td>\n",
       "      <td>en</td>\n",
       "      <td>en</td>\n",
       "    </tr>\n",
       "    <tr>\n",
       "      <th>2</th>\n",
       "      <td>18023005</td>\n",
       "      <td>Dear Yargo C Bonetti Basically NETHZ guest acc...</td>\n",
       "      <td>Dear Ladies and Gentlemen, we have users (eg s...</td>\n",
       "      <td>de</td>\n",
       "      <td>de</td>\n",
       "    </tr>\n",
       "    <tr>\n",
       "      <th>3</th>\n",
       "      <td>18023224</td>\n",
       "      <td>Dear Mrs. Zumsteg Thank you for your e-mail. P...</td>\n",
       "      <td>Dear Sir / Madam I wanted to download from the...</td>\n",
       "      <td>de</td>\n",
       "      <td>de</td>\n",
       "    </tr>\n",
       "    <tr>\n",
       "      <th>4</th>\n",
       "      <td>18024487</td>\n",
       "      <td>Dear Ms Barbara Loepfe We can enter an address...</td>\n",
       "      <td>Hello We received a new toner for our printer ...</td>\n",
       "      <td>de</td>\n",
       "      <td>de</td>\n",
       "    </tr>\n",
       "  </tbody>\n",
       "</table>\n",
       "</div>"
      ],
      "text/plain": [
       "   ticket_id                                             answer  \\\n",
       "0   18014685  Dear Mr. Daniel Aeppli Fortunately, you have a...   \n",
       "1   18022254  VPN is blocked 07/02/2018 09:25 - Elmar Sales ...   \n",
       "2   18023005  Dear Yargo C Bonetti Basically NETHZ guest acc...   \n",
       "3   18023224  Dear Mrs. Zumsteg Thank you for your e-mail. P...   \n",
       "4   18024487  Dear Ms Barbara Loepfe We can enter an address...   \n",
       "\n",
       "                                            question answer_lang question_lang  \n",
       "0  Dear Ladies and Gentlemen, I still have about ...          de            de  \n",
       "1  Dear Pelyuan Zhang\\n\\nWe contact you because o...          en            en  \n",
       "2  Dear Ladies and Gentlemen, we have users (eg s...          de            de  \n",
       "3  Dear Sir / Madam I wanted to download from the...          de            de  \n",
       "4  Hello We received a new toner for our printer ...          de            de  "
      ]
     },
     "execution_count": 179,
     "metadata": {},
     "output_type": "execute_result"
    }
   ],
   "source": [
    "grouped_tickets.head()"
   ]
  },
  {
   "cell_type": "markdown",
   "metadata": {},
   "source": [
    "# FAQ Data"
   ]
  },
  {
   "cell_type": "code",
   "execution_count": 185,
   "metadata": {},
   "outputs": [
    {
     "data": {
      "text/html": [
       "<div>\n",
       "<style>\n",
       "    .dataframe thead tr:only-child th {\n",
       "        text-align: right;\n",
       "    }\n",
       "\n",
       "    .dataframe thead th {\n",
       "        text-align: left;\n",
       "    }\n",
       "\n",
       "    .dataframe tbody tr th {\n",
       "        vertical-align: top;\n",
       "    }\n",
       "</style>\n",
       "<table border=\"1\" class=\"dataframe\">\n",
       "  <thead>\n",
       "    <tr style=\"text-align: right;\">\n",
       "      <th></th>\n",
       "      <th>ques_id</th>\n",
       "      <th>language</th>\n",
       "      <th>ques</th>\n",
       "      <th>ansTitle</th>\n",
       "      <th>ansContent</th>\n",
       "      <th>translation</th>\n",
       "      <th>translation_title</th>\n",
       "      <th>ques_translation</th>\n",
       "    </tr>\n",
       "  </thead>\n",
       "  <tbody>\n",
       "    <tr>\n",
       "      <th>0</th>\n",
       "      <td>8502</td>\n",
       "      <td>EN</td>\n",
       "      <td>Received a phishing mail?</td>\n",
       "      <td>Phishing Mail warning</td>\n",
       "      <td>This is a phishing mail. You should delete it....</td>\n",
       "      <td>This is a phishing mail. You should delete it....</td>\n",
       "      <td>Phishing Mail warning</td>\n",
       "      <td>Received a phishing mail?</td>\n",
       "    </tr>\n",
       "    <tr>\n",
       "      <th>1</th>\n",
       "      <td>8503</td>\n",
       "      <td>EN</td>\n",
       "      <td>Lockout on Account</td>\n",
       "      <td>My account is locked</td>\n",
       "      <td>You had a lockout on your account because you ...</td>\n",
       "      <td>You had a lockout on your account because you ...</td>\n",
       "      <td>My account is locked</td>\n",
       "      <td>Lockout on Account</td>\n",
       "    </tr>\n",
       "    <tr>\n",
       "      <th>2</th>\n",
       "      <td>8506</td>\n",
       "      <td>EN</td>\n",
       "      <td>Blocking mailsender</td>\n",
       "      <td>Block a mailsender</td>\n",
       "      <td>You can add the sender on your personal blackl...</td>\n",
       "      <td>You can add the sender on your personal blackl...</td>\n",
       "      <td>Block a mailsender</td>\n",
       "      <td>Blocking mailsender</td>\n",
       "    </tr>\n",
       "    <tr>\n",
       "      <th>3</th>\n",
       "      <td>8509</td>\n",
       "      <td>EN</td>\n",
       "      <td>Credit overdrawn</td>\n",
       "      <td>I can't print anymore</td>\n",
       "      <td>Your credit is 6.90.- in minus. You have to lo...</td>\n",
       "      <td>Your credit is 6.90.- in minus. You have to lo...</td>\n",
       "      <td>I can't print anymore</td>\n",
       "      <td>Credit overdrawn</td>\n",
       "    </tr>\n",
       "    <tr>\n",
       "      <th>4</th>\n",
       "      <td>8509</td>\n",
       "      <td>EN</td>\n",
       "      <td>Credit overdrawn</td>\n",
       "      <td>Why is my account in minus</td>\n",
       "      <td>The reason why your account is minus is the fo...</td>\n",
       "      <td>The reason why your account is minus is the fo...</td>\n",
       "      <td>Why is my account in minus</td>\n",
       "      <td>Credit overdrawn</td>\n",
       "    </tr>\n",
       "  </tbody>\n",
       "</table>\n",
       "</div>"
      ],
      "text/plain": [
       "   ques_id language                       ques                     ansTitle  \\\n",
       "0     8502       EN  Received a phishing mail?       Phishing Mail warning    \n",
       "1     8503       EN        Lockout on Account         My account is locked    \n",
       "2     8506       EN        Blocking mailsender          Block a mailsender    \n",
       "3     8509       EN           Credit overdrawn       I can't print anymore    \n",
       "4     8509       EN           Credit overdrawn  Why is my account in minus    \n",
       "\n",
       "                                          ansContent  \\\n",
       "0  This is a phishing mail. You should delete it....   \n",
       "1  You had a lockout on your account because you ...   \n",
       "2  You can add the sender on your personal blackl...   \n",
       "3  Your credit is 6.90.- in minus. You have to lo...   \n",
       "4  The reason why your account is minus is the fo...   \n",
       "\n",
       "                                         translation  \\\n",
       "0  This is a phishing mail. You should delete it....   \n",
       "1  You had a lockout on your account because you ...   \n",
       "2  You can add the sender on your personal blackl...   \n",
       "3  Your credit is 6.90.- in minus. You have to lo...   \n",
       "4  The reason why your account is minus is the fo...   \n",
       "\n",
       "             translation_title           ques_translation  \n",
       "0       Phishing Mail warning   Received a phishing mail?  \n",
       "1        My account is locked         Lockout on Account   \n",
       "2          Block a mailsender         Blocking mailsender  \n",
       "3       I can't print anymore            Credit overdrawn  \n",
       "4  Why is my account in minus            Credit overdrawn  "
      ]
     },
     "execution_count": 185,
     "metadata": {},
     "output_type": "execute_result"
    }
   ],
   "source": [
    "FAQ_dat.head()"
   ]
  },
  {
   "cell_type": "code",
   "execution_count": 186,
   "metadata": {},
   "outputs": [],
   "source": [
    "# Rename Columns First\n",
    "faq_column_rename={\"ques_id\": \"faq_id\", \"language\": \"lang\", \"translation\": \"answer\", \n",
    "                      \"ques_translation\": \"question\", \"translation_title\": \"answer_title\"}\n",
    "\n",
    "FAQ_dat.rename(index=str, columns = faq_column_rename, inplace=True)"
   ]
  },
  {
   "cell_type": "code",
   "execution_count": 188,
   "metadata": {},
   "outputs": [],
   "source": [
    "# Drop non english columns (not used later at all. \n",
    "# If we want to inspect original language and translation should come back here)\n",
    "\n",
    "faq_columns_to_drop = ['ansTitle', 'ansContent', 'ques']\n",
    "\n",
    "FAQ_dat.drop(faq_columns_to_drop, axis=1, inplace=True)"
   ]
  },
  {
   "cell_type": "code",
   "execution_count": 189,
   "metadata": {},
   "outputs": [],
   "source": [
    "# Make the langauge lower case \n",
    "FAQ_dat['lang'] = FAQ_dat.lang.str.lower()"
   ]
  },
  {
   "cell_type": "code",
   "execution_count": 193,
   "metadata": {},
   "outputs": [
    {
     "data": {
      "text/html": [
       "<div>\n",
       "<style>\n",
       "    .dataframe thead tr:only-child th {\n",
       "        text-align: right;\n",
       "    }\n",
       "\n",
       "    .dataframe thead th {\n",
       "        text-align: left;\n",
       "    }\n",
       "\n",
       "    .dataframe tbody tr th {\n",
       "        vertical-align: top;\n",
       "    }\n",
       "</style>\n",
       "<table border=\"1\" class=\"dataframe\">\n",
       "  <thead>\n",
       "    <tr style=\"text-align: right;\">\n",
       "      <th></th>\n",
       "      <th>faq_id</th>\n",
       "      <th>lang</th>\n",
       "      <th>answer</th>\n",
       "      <th>answer_title</th>\n",
       "      <th>question</th>\n",
       "    </tr>\n",
       "  </thead>\n",
       "  <tbody>\n",
       "    <tr>\n",
       "      <th>0</th>\n",
       "      <td>8502</td>\n",
       "      <td>en</td>\n",
       "      <td>This is a phishing mail. You should delete it....</td>\n",
       "      <td>Phishing Mail warning</td>\n",
       "      <td>Received a phishing mail?</td>\n",
       "    </tr>\n",
       "    <tr>\n",
       "      <th>1</th>\n",
       "      <td>8503</td>\n",
       "      <td>en</td>\n",
       "      <td>You had a lockout on your account because you ...</td>\n",
       "      <td>My account is locked</td>\n",
       "      <td>Lockout on Account</td>\n",
       "    </tr>\n",
       "    <tr>\n",
       "      <th>2</th>\n",
       "      <td>8506</td>\n",
       "      <td>en</td>\n",
       "      <td>You can add the sender on your personal blackl...</td>\n",
       "      <td>Block a mailsender</td>\n",
       "      <td>Blocking mailsender</td>\n",
       "    </tr>\n",
       "    <tr>\n",
       "      <th>3</th>\n",
       "      <td>8509</td>\n",
       "      <td>en</td>\n",
       "      <td>Your credit is 6.90.- in minus. You have to lo...</td>\n",
       "      <td>I can't print anymore</td>\n",
       "      <td>Credit overdrawn</td>\n",
       "    </tr>\n",
       "    <tr>\n",
       "      <th>4</th>\n",
       "      <td>8509</td>\n",
       "      <td>en</td>\n",
       "      <td>The reason why your account is minus is the fo...</td>\n",
       "      <td>Why is my account in minus</td>\n",
       "      <td>Credit overdrawn</td>\n",
       "    </tr>\n",
       "  </tbody>\n",
       "</table>\n",
       "</div>"
      ],
      "text/plain": [
       "   faq_id lang                                             answer  \\\n",
       "0    8502   en  This is a phishing mail. You should delete it....   \n",
       "1    8503   en  You had a lockout on your account because you ...   \n",
       "2    8506   en  You can add the sender on your personal blackl...   \n",
       "3    8509   en  Your credit is 6.90.- in minus. You have to lo...   \n",
       "4    8509   en  The reason why your account is minus is the fo...   \n",
       "\n",
       "                  answer_title                   question  \n",
       "0       Phishing Mail warning   Received a phishing mail?  \n",
       "1        My account is locked         Lockout on Account   \n",
       "2          Block a mailsender         Blocking mailsender  \n",
       "3       I can't print anymore            Credit overdrawn  \n",
       "4  Why is my account in minus            Credit overdrawn  "
      ]
     },
     "execution_count": 193,
     "metadata": {},
     "output_type": "execute_result"
    }
   ],
   "source": [
    "FAQ_dat.head()"
   ]
  },
  {
   "cell_type": "markdown",
   "metadata": {},
   "source": [
    "# Final Two Datasets"
   ]
  },
  {
   "cell_type": "markdown",
   "metadata": {},
   "source": [
    "## Ticket"
   ]
  },
  {
   "cell_type": "code",
   "execution_count": 197,
   "metadata": {
    "scrolled": true
   },
   "outputs": [
    {
     "data": {
      "text/html": [
       "<div>\n",
       "<style>\n",
       "    .dataframe thead tr:only-child th {\n",
       "        text-align: right;\n",
       "    }\n",
       "\n",
       "    .dataframe thead th {\n",
       "        text-align: left;\n",
       "    }\n",
       "\n",
       "    .dataframe tbody tr th {\n",
       "        vertical-align: top;\n",
       "    }\n",
       "</style>\n",
       "<table border=\"1\" class=\"dataframe\">\n",
       "  <thead>\n",
       "    <tr style=\"text-align: right;\">\n",
       "      <th></th>\n",
       "      <th>ticket_id</th>\n",
       "      <th>answer</th>\n",
       "      <th>question</th>\n",
       "      <th>answer_lang</th>\n",
       "      <th>question_lang</th>\n",
       "    </tr>\n",
       "  </thead>\n",
       "  <tbody>\n",
       "    <tr>\n",
       "      <th>0</th>\n",
       "      <td>18014685</td>\n",
       "      <td>Dear Mr. Daniel Aeppli Fortunately, you have a...</td>\n",
       "      <td>Dear Ladies and Gentlemen, I still have about ...</td>\n",
       "      <td>de</td>\n",
       "      <td>de</td>\n",
       "    </tr>\n",
       "    <tr>\n",
       "      <th>1</th>\n",
       "      <td>18022254</td>\n",
       "      <td>VPN is blocked 07/02/2018 09:25 - Elmar Sales ...</td>\n",
       "      <td>Dear Pelyuan Zhang\\n\\nWe contact you because o...</td>\n",
       "      <td>en</td>\n",
       "      <td>en</td>\n",
       "    </tr>\n",
       "    <tr>\n",
       "      <th>2</th>\n",
       "      <td>18023005</td>\n",
       "      <td>Dear Yargo C Bonetti Basically NETHZ guest acc...</td>\n",
       "      <td>Dear Ladies and Gentlemen, we have users (eg s...</td>\n",
       "      <td>de</td>\n",
       "      <td>de</td>\n",
       "    </tr>\n",
       "    <tr>\n",
       "      <th>3</th>\n",
       "      <td>18023224</td>\n",
       "      <td>Dear Mrs. Zumsteg Thank you for your e-mail. P...</td>\n",
       "      <td>Dear Sir / Madam I wanted to download from the...</td>\n",
       "      <td>de</td>\n",
       "      <td>de</td>\n",
       "    </tr>\n",
       "    <tr>\n",
       "      <th>4</th>\n",
       "      <td>18024487</td>\n",
       "      <td>Dear Ms Barbara Loepfe We can enter an address...</td>\n",
       "      <td>Hello We received a new toner for our printer ...</td>\n",
       "      <td>de</td>\n",
       "      <td>de</td>\n",
       "    </tr>\n",
       "    <tr>\n",
       "      <th>5</th>\n",
       "      <td>18025134</td>\n",
       "      <td>Hi Aleks, I could find time. But first idtt.et...</td>\n",
       "      <td>Hello Peter, Do you have time to update to idt...</td>\n",
       "      <td>de</td>\n",
       "      <td>de</td>\n",
       "    </tr>\n",
       "    <tr>\n",
       "      <th>6</th>\n",
       "      <td>18028816</td>\n",
       "      <td>Sali Tommy The mailbox has been converted. You...</td>\n",
       "      <td>Description: Hello, Could you please convert t...</td>\n",
       "      <td>de</td>\n",
       "      <td>de</td>\n",
       "    </tr>\n",
       "    <tr>\n",
       "      <th>7</th>\n",
       "      <td>18030232</td>\n",
       "      <td>Dear Prof. Dr. Emilie Thomassot\\n \\nOf course ...</td>\n",
       "      <td>Hi,\\nMy name is Emilie Thomassot and I’m a gue...</td>\n",
       "      <td>en</td>\n",
       "      <td>en</td>\n",
       "    </tr>\n",
       "    <tr>\n",
       "      <th>8</th>\n",
       "      <td>18030825</td>\n",
       "      <td>Dear Dr. Sebastiano Rossi\\n \\nYour vpn service...</td>\n",
       "      <td>Dear ETH support\\n\\nLately my login for the et...</td>\n",
       "      <td>en</td>\n",
       "      <td>en</td>\n",
       "    </tr>\n",
       "    <tr>\n",
       "      <th>9</th>\n",
       "      <td>18031632</td>\n",
       "      <td>Dear Doctor. Matteo Facchini Your request has ...</td>\n",
       "      <td>Good evening, I was exmatriculated on 8.1.2018...</td>\n",
       "      <td>de</td>\n",
       "      <td>de</td>\n",
       "    </tr>\n",
       "  </tbody>\n",
       "</table>\n",
       "</div>"
      ],
      "text/plain": [
       "   ticket_id                                             answer  \\\n",
       "0   18014685  Dear Mr. Daniel Aeppli Fortunately, you have a...   \n",
       "1   18022254  VPN is blocked 07/02/2018 09:25 - Elmar Sales ...   \n",
       "2   18023005  Dear Yargo C Bonetti Basically NETHZ guest acc...   \n",
       "3   18023224  Dear Mrs. Zumsteg Thank you for your e-mail. P...   \n",
       "4   18024487  Dear Ms Barbara Loepfe We can enter an address...   \n",
       "5   18025134  Hi Aleks, I could find time. But first idtt.et...   \n",
       "6   18028816  Sali Tommy The mailbox has been converted. You...   \n",
       "7   18030232  Dear Prof. Dr. Emilie Thomassot\\n \\nOf course ...   \n",
       "8   18030825  Dear Dr. Sebastiano Rossi\\n \\nYour vpn service...   \n",
       "9   18031632  Dear Doctor. Matteo Facchini Your request has ...   \n",
       "\n",
       "                                            question answer_lang question_lang  \n",
       "0  Dear Ladies and Gentlemen, I still have about ...          de            de  \n",
       "1  Dear Pelyuan Zhang\\n\\nWe contact you because o...          en            en  \n",
       "2  Dear Ladies and Gentlemen, we have users (eg s...          de            de  \n",
       "3  Dear Sir / Madam I wanted to download from the...          de            de  \n",
       "4  Hello We received a new toner for our printer ...          de            de  \n",
       "5  Hello Peter, Do you have time to update to idt...          de            de  \n",
       "6  Description: Hello, Could you please convert t...          de            de  \n",
       "7  Hi,\\nMy name is Emilie Thomassot and I’m a gue...          en            en  \n",
       "8  Dear ETH support\\n\\nLately my login for the et...          en            en  \n",
       "9  Good evening, I was exmatriculated on 8.1.2018...          de            de  "
      ]
     },
     "execution_count": 197,
     "metadata": {},
     "output_type": "execute_result"
    }
   ],
   "source": [
    "grouped_tickets.head(10)"
   ]
  },
  {
   "cell_type": "markdown",
   "metadata": {},
   "source": [
    "## FAQ"
   ]
  },
  {
   "cell_type": "code",
   "execution_count": 195,
   "metadata": {
    "scrolled": true
   },
   "outputs": [
    {
     "data": {
      "text/html": [
       "<div>\n",
       "<style>\n",
       "    .dataframe thead tr:only-child th {\n",
       "        text-align: right;\n",
       "    }\n",
       "\n",
       "    .dataframe thead th {\n",
       "        text-align: left;\n",
       "    }\n",
       "\n",
       "    .dataframe tbody tr th {\n",
       "        vertical-align: top;\n",
       "    }\n",
       "</style>\n",
       "<table border=\"1\" class=\"dataframe\">\n",
       "  <thead>\n",
       "    <tr style=\"text-align: right;\">\n",
       "      <th></th>\n",
       "      <th>faq_id</th>\n",
       "      <th>lang</th>\n",
       "      <th>answer</th>\n",
       "      <th>answer_title</th>\n",
       "      <th>question</th>\n",
       "    </tr>\n",
       "  </thead>\n",
       "  <tbody>\n",
       "    <tr>\n",
       "      <th>0</th>\n",
       "      <td>8502</td>\n",
       "      <td>en</td>\n",
       "      <td>This is a phishing mail. You should delete it....</td>\n",
       "      <td>Phishing Mail warning</td>\n",
       "      <td>Received a phishing mail?</td>\n",
       "    </tr>\n",
       "    <tr>\n",
       "      <th>1</th>\n",
       "      <td>8503</td>\n",
       "      <td>en</td>\n",
       "      <td>You had a lockout on your account because you ...</td>\n",
       "      <td>My account is locked</td>\n",
       "      <td>Lockout on Account</td>\n",
       "    </tr>\n",
       "    <tr>\n",
       "      <th>2</th>\n",
       "      <td>8506</td>\n",
       "      <td>en</td>\n",
       "      <td>You can add the sender on your personal blackl...</td>\n",
       "      <td>Block a mailsender</td>\n",
       "      <td>Blocking mailsender</td>\n",
       "    </tr>\n",
       "    <tr>\n",
       "      <th>3</th>\n",
       "      <td>8509</td>\n",
       "      <td>en</td>\n",
       "      <td>Your credit is 6.90.- in minus. You have to lo...</td>\n",
       "      <td>I can't print anymore</td>\n",
       "      <td>Credit overdrawn</td>\n",
       "    </tr>\n",
       "    <tr>\n",
       "      <th>4</th>\n",
       "      <td>8509</td>\n",
       "      <td>en</td>\n",
       "      <td>The reason why your account is minus is the fo...</td>\n",
       "      <td>Why is my account in minus</td>\n",
       "      <td>Credit overdrawn</td>\n",
       "    </tr>\n",
       "    <tr>\n",
       "      <th>5</th>\n",
       "      <td>8528</td>\n",
       "      <td>en</td>\n",
       "      <td>I've reset your permissions. Can you please tr...</td>\n",
       "      <td>Reset NAS permissions</td>\n",
       "      <td>Reset NAS permissions</td>\n",
       "    </tr>\n",
       "    <tr>\n",
       "      <th>6</th>\n",
       "      <td>8511</td>\n",
       "      <td>en</td>\n",
       "      <td>The settings for the ETH VPN are as follows:Se...</td>\n",
       "      <td>VPN settings of the ETH</td>\n",
       "      <td>Settings for VPN</td>\n",
       "    </tr>\n",
       "    <tr>\n",
       "      <th>7</th>\n",
       "      <td>8507</td>\n",
       "      <td>en</td>\n",
       "      <td>You can add the sender on your personal whitel...</td>\n",
       "      <td>Mail blocked mistakenly</td>\n",
       "      <td>Mail blocked mistakenly</td>\n",
       "    </tr>\n",
       "    <tr>\n",
       "      <th>8</th>\n",
       "      <td>8511</td>\n",
       "      <td>en</td>\n",
       "      <td>You can find all the informations for the VPN ...</td>\n",
       "      <td>Installation VPN Client</td>\n",
       "      <td>Settings for VPN</td>\n",
       "    </tr>\n",
       "    <tr>\n",
       "      <th>9</th>\n",
       "      <td>8532</td>\n",
       "      <td>en</td>\n",
       "      <td>Please download first all software local  to y...</td>\n",
       "      <td>Software installation from IDES</td>\n",
       "      <td>How can I install software from IDES?</td>\n",
       "    </tr>\n",
       "  </tbody>\n",
       "</table>\n",
       "</div>"
      ],
      "text/plain": [
       "   faq_id lang                                             answer  \\\n",
       "0    8502   en  This is a phishing mail. You should delete it....   \n",
       "1    8503   en  You had a lockout on your account because you ...   \n",
       "2    8506   en  You can add the sender on your personal blackl...   \n",
       "3    8509   en  Your credit is 6.90.- in minus. You have to lo...   \n",
       "4    8509   en  The reason why your account is minus is the fo...   \n",
       "5    8528   en  I've reset your permissions. Can you please tr...   \n",
       "6    8511   en  The settings for the ETH VPN are as follows:Se...   \n",
       "7    8507   en  You can add the sender on your personal whitel...   \n",
       "8    8511   en  You can find all the informations for the VPN ...   \n",
       "9    8532   en  Please download first all software local  to y...   \n",
       "\n",
       "                       answer_title                               question  \n",
       "0            Phishing Mail warning               Received a phishing mail?  \n",
       "1             My account is locked                     Lockout on Account   \n",
       "2               Block a mailsender                     Blocking mailsender  \n",
       "3            I can't print anymore                        Credit overdrawn  \n",
       "4       Why is my account in minus                        Credit overdrawn  \n",
       "5            Reset NAS permissions                   Reset NAS permissions  \n",
       "6          VPN settings of the ETH                        Settings for VPN  \n",
       "7          Mail blocked mistakenly                 Mail blocked mistakenly  \n",
       "8          Installation VPN Client                        Settings for VPN  \n",
       "9  Software installation from IDES   How can I install software from IDES?  "
      ]
     },
     "execution_count": 195,
     "metadata": {},
     "output_type": "execute_result"
    }
   ],
   "source": [
    "FAQ_dat.head(10)"
   ]
  },
  {
   "cell_type": "markdown",
   "metadata": {},
   "source": [
    "# Export to file"
   ]
  },
  {
   "cell_type": "code",
   "execution_count": null,
   "metadata": {},
   "outputs": [],
   "source": [
    "grouped_tickets.to_csv('../data/ticket_dat.csv')\n",
    "FAQ_dat.to_csv('../data/faq_dat.csv')"
   ]
  }
 ],
 "metadata": {
  "kernelspec": {
   "display_name": "Python 3",
   "language": "python",
   "name": "python3"
  },
  "language_info": {
   "codemirror_mode": {
    "name": "ipython",
    "version": 3
   },
   "file_extension": ".py",
   "mimetype": "text/x-python",
   "name": "python",
   "nbconvert_exporter": "python",
   "pygments_lexer": "ipython3",
   "version": "3.6.3"
  }
 },
 "nbformat": 4,
 "nbformat_minor": 2
}
