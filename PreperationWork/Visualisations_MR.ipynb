{
 "cells": [
  {
   "cell_type": "markdown",
   "metadata": {},
   "source": [
    "# VISUALISATION NOTEBOOK\n",
    "Notebook created for 28.11 meeting figures and data"
   ]
  },
  {
   "cell_type": "code",
   "execution_count": 180,
   "metadata": {
    "collapsed": true
   },
   "outputs": [],
   "source": [
    "import pandas as pd\n",
    "import pickle\n",
    "import random\n",
    "import numpy as np\n",
    "# Let's look at making the FAQ list better\n",
    "from sklearn.feature_extraction.text import TfidfVectorizer\n",
    "from sklearn.metrics.pairwise import cosine_similarity\n",
    "from joblib import load, dump\n",
    "\n",
    "# visualisation\n",
    "import seaborn as sns\n",
    "import matplotlib.pyplot as plt"
   ]
  },
  {
   "cell_type": "code",
   "execution_count": 2,
   "metadata": {
    "collapsed": true
   },
   "outputs": [],
   "source": [
    "faq_path = '/Users/margheritarosnati/Documents/DS/2018-2/DSLab/DSL2018-Proj-ETH-IT/data/11-24-faq_dat_cleaned.csv'\n",
    "tix_path = '/Users/margheritarosnati/Documents/DS/2018-2/DSLab/DSL2018-Proj-ETH-IT/data/11-24-ticket_dat.csv'"
   ]
  },
  {
   "cell_type": "code",
   "execution_count": 3,
   "metadata": {
    "collapsed": true
   },
   "outputs": [],
   "source": [
    "ticket_dat = pd.read_csv(tix_path)\n",
    "faq_dat = pd.read_csv(faq_path)"
   ]
  },
  {
   "cell_type": "code",
   "execution_count": 12,
   "metadata": {},
   "outputs": [
    {
     "name": "stdout",
     "output_type": "stream",
     "text": [
      "(4250, 7) (277, 7)\n"
     ]
    }
   ],
   "source": [
    "print(ticket_dat.shape, faq_dat.shape )\n",
    "# we'll have to work on these two at some point (soon!)\n",
    "ticket_dat.fillna('', inplace=True)\n",
    "faq_dat.fillna('', inplace=True)"
   ]
  },
  {
   "cell_type": "code",
   "execution_count": 128,
   "metadata": {
    "collapsed": true
   },
   "outputs": [],
   "source": [
    "# Create data lists\n",
    "faq_ques = list(faq_dat.question)\n",
    "n_faq_ques = len(faq_ques)\n",
    "\n",
    "faq_ans = list(faq_dat.answer_title + \" \" + faq_dat.answer)\n",
    "n_faq_ans = len(faq_ans)\n",
    "\n",
    "ticket_ques = list(ticket_dat.question)\n",
    "n_ticket_ques = len(ticket_ques)\n",
    "\n",
    "ticket_ans = list(ticket_dat.answer)\n",
    "n_ticket_ans = len(ticket_ans)"
   ]
  },
  {
   "cell_type": "code",
   "execution_count": 15,
   "metadata": {},
   "outputs": [
    {
     "name": "stdout",
     "output_type": "stream",
     "text": [
      "277 4250\n"
     ]
    }
   ],
   "source": [
    "print( len(faq_ans), len(ticket_ans))"
   ]
  },
  {
   "cell_type": "code",
   "execution_count": 18,
   "metadata": {},
   "outputs": [
    {
     "name": "stdout",
     "output_type": "stream",
     "text": [
      "(277, 15926) (4250, 15926) 277 4250 4527\n"
     ]
    }
   ],
   "source": [
    "# initialise model\n",
    "TFiDF = TfidfVectorizer(strip_accents='unicode', lowercase=True,analyzer='word')\n",
    "# create matrix: rows = all ans; cols = TI-IDF weighted word vector\n",
    "all_ans = list(faq_ans) + list(ticket_ans)\n",
    "TFiDF.fit(all_ans)\n",
    "faq_mat = TFiDF.transform(faq_ans)\n",
    "tix_mat = TFiDF.transform(ticket_ans)\n",
    "# DEBUG:\n",
    "print(faq_mat.shape,tix_mat.shape, len(faq_ans), len(ticket_ans), len(all_ans))"
   ]
  },
  {
   "cell_type": "code",
   "execution_count": 20,
   "metadata": {},
   "outputs": [],
   "source": [
    "# Calculate similarities between faq ans and ticket ans\n",
    "SM = cosine_similarity(faq_mat, tix_mat)"
   ]
  },
  {
   "cell_type": "code",
   "execution_count": 22,
   "metadata": {},
   "outputs": [
    {
     "data": {
      "image/png": "[encoded data removed]",
      "text/plain": [
       "<matplotlib.figure.Figure at 0x1a11468b70>"
      ]
     },
     "metadata": {},
     "output_type": "display_data"
    }
   ],
   "source": [
    "# take highest scoring FAQ per ticket\n",
    "# plot similarity distribution\n",
    "strength_FAQ_ticket = np.max(SM, axis=0)\n",
    "bins =  np.linspace(0, max(strength_FAQ_ticket),50)\n",
    "plt.hist(strength_FAQ_ticket, bins,alpha=.5, range=(0,1))\n",
    "plt.show()"
   ]
  },
  {
   "cell_type": "code",
   "execution_count": 30,
   "metadata": {},
   "outputs": [
    {
     "name": "stdout",
     "output_type": "stream",
     "text": [
      "[0.09, 0.19, 0.4, 0.91]\n"
     ]
    }
   ],
   "source": [
    "# some stats:\n",
    "thres = np.asarray([0.5, 0.3, 0.2, 0.1])\n",
    "denom = len(strength_FAQ_ticket)\n",
    "print([round(np.sum(strength_FAQ_ticket>i)/denom,2) for i in thres])"
   ]
  },
  {
   "cell_type": "code",
   "execution_count": 31,
   "metadata": {
    "collapsed": true
   },
   "outputs": [],
   "source": [
    "# VISUALISATION\n",
    "FAQ_per_ticket = np.argmax(SM, axis=0)\n",
    "#unique, counts = np.unique(FAQ_per_ticket, return_counts=True)"
   ]
  },
  {
   "cell_type": "code",
   "execution_count": 95,
   "metadata": {},
   "outputs": [],
   "source": [
    "# creating some samples\n",
    "subspace =np.nonzero(strength_FAQ_ticket<0.2)\n",
    "a = random.sample(list(subspace[0]), 1)[0]\n",
    "b = FAQ_per_ticket[a] "
   ]
  },
  {
   "cell_type": "code",
   "execution_count": 177,
   "metadata": {},
   "outputs": [
    {
     "name": "stdout",
     "output_type": "stream",
     "text": [
      "Similarity score:  0.5705116806662902 \t\t[ 299 , 171 ],\n",
      "\n",
      "Ticket: ques:\t Good day For a few days my Oulook loses the connection to the server and I have to close and reopen Oulook. Could you please check why that might be? Thank you very much Sybille ZimmermannGood day The number is 10164. Many thanks and best regards Sybille ZimmermannHoi Stefan Yes the opening and closing does not take long but mails that are open and not sent can not be saved, so I had to cache a few times the text in a word L. Janu, I hope there is a solution soon. See you tomorrow morning anyway anyway with me. LG Sybille \n",
      "\n",
      "tick_ans:\t Dear Mrs. Sybille Zimmermann Etzweiler Could you tell us your number? It should be printed on a blue sign with the inscription &quot;Betriebinformatik&quot; or &quot;ETH Zurich ID Services Delivery&quot;. Your ID team Rudolf FriederichDear Sybille, A support ticket has been opened for your request. We will process your request as soon as possible. If you have any further questions, please answer directly to this e-mail.\n"
     ]
    }
   ],
   "source": [
    "# Looking at samples created\n",
    "print(\"Similarity score: \", strength_FAQ_ticket[a], '\\t\\t[',a,',',b,'],')\n",
    "print('\\nTicket: ques:\\t', ticket_ques[a], '\\n\\ntick_ans:\\t', ticket_ans[a])\n",
    "#print('\\n\\nFAQ: ques:\\t', faq_ques[b], '\\n\\nFAQ_ans:\\t', faq_ans[b])"
   ]
  },
  {
   "cell_type": "code",
   "execution_count": 176,
   "metadata": {},
   "outputs": [],
   "source": [
    "[a,b] = samples[50]"
   ]
  },
  {
   "cell_type": "code",
   "execution_count": 98,
   "metadata": {},
   "outputs": [],
   "source": [
    "# samples in 29.11 presentation\n",
    "samples = {\n",
    "    50:[299, 171],\n",
    "    30:[ 2613 , 12 ],\n",
    "    20: [ 61 , 172 ],\n",
    "    'vals': [57,31,13]\n",
    "}"
   ]
  },
  {
   "cell_type": "code",
   "execution_count": 103,
   "metadata": {},
   "outputs": [
    {
     "name": "stdout",
     "output_type": "stream",
     "text": [
      "0.037441657171690436 0.17883005550064696\n"
     ]
    }
   ],
   "source": [
    "# allocate <50% sim to -1\n",
    "med = np.median(strength_FAQ_ticket)\n",
    "# to give you a feel:\n",
    "print(np.median(SM), np.median(strength_FAQ_ticket))"
   ]
  },
  {
   "cell_type": "code",
   "execution_count": 110,
   "metadata": {},
   "outputs": [
    {
     "data": {
      "image/png": "[encoded data removed]",
      "text/plain": [
       "<matplotlib.figure.Figure at 0x1a168b6588>"
      ]
     },
     "metadata": {},
     "output_type": "display_data"
    }
   ],
   "source": [
    "# try I: med over all similarities\n",
    "# look at distribution\n",
    "sf2t = np.copy(strength_FAQ_ticket)\n",
    "sf2t[sft2<med] = -1\n",
    "f2t = np.copy(FAQ_per_ticket)\n",
    "f2t[sft2<med] = -1\n",
    "bins =  np.linspace(-1, max(strength_FAQ_ticket),50)\n",
    "plt.hist(sf2t, bins,alpha=.5)\n",
    "plt.show()"
   ]
  },
  {
   "cell_type": "code",
   "execution_count": 183,
   "metadata": {},
   "outputs": [
    {
     "data": {
      "text/plain": [
       "((4250,), (4250,))"
      ]
     },
     "execution_count": 183,
     "metadata": {},
     "output_type": "execute_result"
    }
   ],
   "source": [
    "# let's look at the distribution over FAQs\n",
    "# I saved the output of the RF here:\n",
    "RF_out = load('/Users/margheritarosnati/Desktop/temp.joblib')"
   ]
  },
  {
   "cell_type": "code",
   "execution_count": 184,
   "metadata": {},
   "outputs": [
    {
     "data": {
      "image/png": "[encoded data removed]",
      "text/plain": [
       "<matplotlib.figure.Figure at 0x1a1677e160>"
      ]
     },
     "metadata": {},
     "output_type": "display_data"
    },
    {
     "data": {
      "image/png": "[encoded data removed]",
      "text/plain": [
       "<matplotlib.figure.Figure at 0x1a2382e898>"
      ]
     },
     "metadata": {},
     "output_type": "display_data"
    },
    {
     "data": {
      "image/png": "[encoded data removed]",
      "text/plain": [
       "<matplotlib.figure.Figure at 0x1a23824128>"
      ]
     },
     "metadata": {},
     "output_type": "display_data"
    }
   ],
   "source": [
    "bins =  np.linspace(0, max(FAQ_per_ticket))\n",
    "plt.hist(FAQ_per_ticket, bins,alpha=.5)\n",
    "plt.show()\n",
    "plt.hist(f2t, bins,alpha=.5)\n",
    "plt.show()\n",
    "plt.hist(RF_out, bins,alpha=.5)\n",
    "plt.show()"
   ]
  },
  {
   "cell_type": "code",
   "execution_count": 111,
   "metadata": {},
   "outputs": [],
   "source": [
    "unique, counts = np.unique(FAQ_per_ticket, return_counts=True)\n",
    "u2, c2 = np.unique(f2t, return_counts=True)"
   ]
  },
  {
   "cell_type": "code",
   "execution_count": 116,
   "metadata": {},
   "outputs": [
    {
     "data": {
      "image/png": "[encoded data removed]",
      "text/plain": [
       "<matplotlib.figure.Figure at 0x1a16660e80>"
      ]
     },
     "metadata": {},
     "output_type": "display_data"
    },
    {
     "data": {
      "image/png": "[encoded data removed]",
      "text/plain": [
       "<matplotlib.figure.Figure at 0x1a1651f5f8>"
      ]
     },
     "metadata": {},
     "output_type": "display_data"
    }
   ],
   "source": [
    "bins =  np.linspace(0, 175,50)\n",
    "plt.hist(counts, bins,alpha=.5)\n",
    "plt.show()\n",
    "plt.hist(c2, bins,alpha=.5)\n",
    "plt.show()"
   ]
  },
  {
   "cell_type": "code",
   "execution_count": null,
   "metadata": {
    "collapsed": true
   },
   "outputs": [],
   "source": [
    "# next steps: check what the low ones are getting associated to: is it justified or not?"
   ]
  }
 ],
 "metadata": {
  "kernelspec": {
   "display_name": "Python 3",
   "language": "python",
   "name": "python3"
  },
  "language_info": {
   "codemirror_mode": {
    "name": "ipython",
    "version": 3
   },
   "file_extension": ".py",
   "mimetype": "text/x-python",
   "name": "python",
   "nbconvert_exporter": "python",
   "pygments_lexer": "ipython3",
   "version": "3.6.3"
  }
 },
 "nbformat": 4,
 "nbformat_minor": 2
}
