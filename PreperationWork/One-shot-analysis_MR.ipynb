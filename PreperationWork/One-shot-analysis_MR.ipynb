{
 "cells": [
  {
   "cell_type": "markdown",
   "metadata": {},
   "source": [
    "# Dealing with one-shot classes\n",
    "Notebook created for 28.11 meeting figures and data"
   ]
  },
  {
   "cell_type": "code",
   "execution_count": 383,
   "metadata": {},
   "outputs": [],
   "source": [
    "import pandas as pd\n",
    "import pickle\n",
    "import random\n",
    "import numpy as np\n",
    "# Let's look at making the FAQ list better\n",
    "from sklearn.feature_extraction.text import TfidfVectorizer\n",
    "from sklearn.metrics.pairwise import cosine_similarity\n",
    "from joblib import load, dump\n",
    "# Playing around with CV\n",
    "from sklearn.ensemble import RandomForestClassifier, RandomForestRegressor\n",
    "from sklearn.multioutput import MultiOutputRegressor\n",
    "from sklearn.model_selection import cross_val_score\n",
    "from sklearn.metrics import r2_score, make_scorer, log_loss\n",
    "from sklearn.linear_model import LogisticRegression, MultiTaskLassoCV\n",
    "from sklearn.multiclass import OneVsRestClassifier, \n",
    "\n",
    "\n",
    "# visualisation\n",
    "import seaborn as sns\n",
    "import matplotlib.pyplot as plt"
   ]
  },
  {
   "cell_type": "code",
   "execution_count": 2,
   "metadata": {
    "collapsed": true
   },
   "outputs": [],
   "source": [
    "faq_path = '/Users/margheritarosnati/Documents/DS/2018-2/DSLab/DSL2018-Proj-ETH-IT/data/12-04-faq_dat.csv'\n",
    "tix_path = '/Users/margheritarosnati/Documents/DS/2018-2/DSLab/DSL2018-Proj-ETH-IT/data/12-04-ticket_dat.csv'"
   ]
  },
  {
   "cell_type": "code",
   "execution_count": 3,
   "metadata": {
    "collapsed": true
   },
   "outputs": [],
   "source": [
    "ticket_dat = pd.read_csv(tix_path)\n",
    "faq_dat = pd.read_csv(faq_path)"
   ]
  },
  {
   "cell_type": "code",
   "execution_count": 4,
   "metadata": {},
   "outputs": [
    {
     "name": "stdout",
     "output_type": "stream",
     "text": [
      "(4206, 6) (199, 7)\n"
     ]
    }
   ],
   "source": [
    "print(ticket_dat.shape, faq_dat.shape )\n",
    "# we'll have to work on these two at some point (soon!)\n",
    "ticket_dat.fillna('', inplace=True)\n",
    "faq_dat.fillna('', inplace=True)"
   ]
  },
  {
   "cell_type": "code",
   "execution_count": 7,
   "metadata": {},
   "outputs": [],
   "source": [
    "#print(faq_dat.head())"
   ]
  },
  {
   "cell_type": "code",
   "execution_count": 8,
   "metadata": {
    "collapsed": true
   },
   "outputs": [],
   "source": [
    "# Create data lists\n",
    "faq_ques = list(faq_dat.question)\n",
    "n_faq_ques = len(faq_ques)\n",
    "\n",
    "faq_ans = list(faq_dat.answer_title + \" \" + faq_dat.answer)\n",
    "n_faq_ans = len(faq_ans)\n",
    "\n",
    "ticket_ques = list(ticket_dat.question)\n",
    "n_ticket_ques = len(ticket_ques)\n",
    "\n",
    "ticket_ans = list(ticket_dat.answer)\n",
    "n_ticket_ans = len(ticket_ans)"
   ]
  },
  {
   "cell_type": "code",
   "execution_count": 9,
   "metadata": {},
   "outputs": [
    {
     "name": "stdout",
     "output_type": "stream",
     "text": [
      "199 4206\n"
     ]
    }
   ],
   "source": [
    "print( len(faq_ans), len(ticket_ans))"
   ]
  },
  {
   "cell_type": "code",
   "execution_count": 10,
   "metadata": {},
   "outputs": [
    {
     "name": "stdout",
     "output_type": "stream",
     "text": [
      "(199, 15807) (4206, 15807) 199 4206 4405\n"
     ]
    }
   ],
   "source": [
    "# initialise model\n",
    "TFiDF = TfidfVectorizer(strip_accents='unicode', lowercase=True,analyzer='word')\n",
    "# create matrix: rows = all ans; cols = TI-IDF weighted word vector\n",
    "all_ans = list(faq_ans) + list(ticket_ans)\n",
    "TFiDF.fit(all_ans)\n",
    "faq_mat = TFiDF.transform(faq_ans)\n",
    "tix_mat = TFiDF.transform(ticket_ans)\n",
    "# DEBUG:\n",
    "print(faq_mat.shape,tix_mat.shape, len(faq_ans), len(ticket_ans), len(all_ans))"
   ]
  },
  {
   "cell_type": "code",
   "execution_count": 11,
   "metadata": {},
   "outputs": [
    {
     "name": "stdout",
     "output_type": "stream",
     "text": [
      "(199, 4206)\n"
     ]
    }
   ],
   "source": [
    "# Calculate similarities between faq ans and ticket ans\n",
    "SM = cosine_similarity(faq_mat, tix_mat)\n",
    "print(SM.shape)"
   ]
  },
  {
   "cell_type": "code",
   "execution_count": 12,
   "metadata": {},
   "outputs": [
    {
     "data": {
      "image/png": "[encoded data removed]",
      "text/plain": [
       "<matplotlib.figure.Figure at 0x1a16f7ef28>"
      ]
     },
     "metadata": {},
     "output_type": "display_data"
    }
   ],
   "source": [
    "# take highest scoring FAQ per ticket\n",
    "# plot similarity distribution\n",
    "strength_FAQ_ticket = np.max(SM, axis=0)\n",
    "bins =  np.linspace(0, max(strength_FAQ_ticket),50)\n",
    "plt.hist(strength_FAQ_ticket, bins,alpha=.5, range=(0,1))\n",
    "plt.show()"
   ]
  },
  {
   "cell_type": "code",
   "execution_count": 13,
   "metadata": {},
   "outputs": [
    {
     "name": "stdout",
     "output_type": "stream",
     "text": [
      "[0.05, 0.15, 0.36, 0.88]\n"
     ]
    }
   ],
   "source": [
    "# some stats:\n",
    "thres = np.asarray([0.5, 0.3, 0.2, 0.1])\n",
    "denom = len(strength_FAQ_ticket)\n",
    "print([round(np.sum(strength_FAQ_ticket>i)/denom,2) for i in thres])"
   ]
  },
  {
   "cell_type": "code",
   "execution_count": 14,
   "metadata": {
    "collapsed": true
   },
   "outputs": [],
   "source": [
    "# VISUALISATION\n",
    "FAQ_per_ticket = np.argmax(SM, axis=0)\n",
    "#unique, counts = np.unique(FAQ_per_ticket, return_counts=True)"
   ]
  },
  {
   "cell_type": "code",
   "execution_count": 15,
   "metadata": {
    "collapsed": true
   },
   "outputs": [],
   "source": [
    "# creating some samples\n",
    "subspace =np.nonzero(strength_FAQ_ticket<0.2)\n",
    "a = random.sample(list(subspace[0]), 1)[0]\n",
    "b = FAQ_per_ticket[a] "
   ]
  },
  {
   "cell_type": "code",
   "execution_count": 17,
   "metadata": {},
   "outputs": [
    {
     "name": "stdout",
     "output_type": "stream",
     "text": [
      "Similarity score:  0.07902606520396652 \t\t[ 161 , 24 ],\n",
      "\n",
      "Ticket: ques:\t Dear Mr. Greuter As mentioned on the phone, may I ask you and your colleagues to temporarily increase the daily mail dispatch of [1] online-pruefungen@let.ethz.ch? Unfortunately, the last time window was not enough (see ticket [ID # 18036551].) Again I, Carmen Ghisleni, will be the person who sends the mails. Please let me know if this change can not be made before noon today - then I have to reschedule. Thank you for your feedback. Sincerely, Carmen Ghisleni Team Online Testing Online Testing | Teaching Development and Technology (LET) | ETH Zurich | Haldenbachstrasse 44 | 8092 Zürich / Switzerland E-Mail: [2] online-pruefungen@let.ethz.ch [1] mailto: online-pruefungen@let.ethz.ch [2] mailto: online-pruefungen@let.ethz.ch \n",
      "\n",
      "tick_ans:\t Dear Ms Ghisleni The policy has been adjusted. Please restart Outlook before shipping. Your ID Team Joel Greuter\n",
      "\n",
      "\n",
      "FAQ: ques:\t I want to set an Out of Office Assistant \n",
      "\n",
      "FAQ_ans:\t How to use the Out of Office Assistant in Outlook  You can set up an office message in Outlook Web App. By logging on to the following website: www.mail.ethz.chPlease click on the top on the right side  on\"Options\" and click on \" automatic replies\". Enable the option \"Automatically send answers\" and enter the desired time period and your Out of Office message.  Best regards\n"
     ]
    }
   ],
   "source": [
    "# Looking at samples created\n",
    "print(\"Similarity score: \", strength_FAQ_ticket[a], '\\t\\t[',a,',',b,'],')\n",
    "print('\\nTicket: ques:\\t', ticket_ques[a], '\\n\\ntick_ans:\\t', ticket_ans[a])\n",
    "print('\\n\\nFAQ: ques:\\t', faq_ques[b], '\\n\\nFAQ_ans:\\t', faq_ans[b])"
   ]
  },
  {
   "cell_type": "code",
   "execution_count": 16,
   "metadata": {
    "collapsed": true
   },
   "outputs": [],
   "source": [
    "# samples in 29.11 presentation\n",
    "samples = {\n",
    "    50:[299, 171],\n",
    "    30:[ 2613 , 12 ],\n",
    "    20: [ 61 , 172 ],\n",
    "    'vals': [57,31,13]\n",
    "}"
   ]
  },
  {
   "cell_type": "code",
   "execution_count": 17,
   "metadata": {
    "collapsed": true
   },
   "outputs": [],
   "source": [
    "[a,b] = samples[50]"
   ]
  },
  {
   "cell_type": "code",
   "execution_count": 19,
   "metadata": {},
   "outputs": [
    {
     "name": "stdout",
     "output_type": "stream",
     "text": [
      "0.03819700994459483 0.16903521779028374\n"
     ]
    }
   ],
   "source": [
    "# allocate <50% sim to -1\n",
    "med = np.median(strength_FAQ_ticket)\n",
    "# to give you a feel:\n",
    "print(np.median(SM), np.median(strength_FAQ_ticket))"
   ]
  },
  {
   "cell_type": "code",
   "execution_count": 20,
   "metadata": {},
   "outputs": [
    {
     "data": {
      "image/png": "[encoded data removed]",
      "text/plain": [
       "<matplotlib.figure.Figure at 0x1a16f984e0>"
      ]
     },
     "metadata": {},
     "output_type": "display_data"
    }
   ],
   "source": [
    "# try I: med over all similarities\n",
    "# look at distribution\n",
    "sf2t = np.copy(strength_FAQ_ticket)\n",
    "sf2t[sf2t<med] = -1\n",
    "f2t = np.copy(FAQ_per_ticket)\n",
    "f2t[sf2t<med] = -1\n",
    "bins =  np.linspace(-1, max(strength_FAQ_ticket),50)\n",
    "plt.hist(sf2t, bins,alpha=.5)\n",
    "plt.show()"
   ]
  },
  {
   "cell_type": "code",
   "execution_count": 21,
   "metadata": {
    "collapsed": true
   },
   "outputs": [],
   "source": [
    "# let's look at the distribution over FAQs\n",
    "# I saved the output of the RF here:\n",
    "RF_out = load('/Users/margheritarosnati/Desktop/temp.joblib')"
   ]
  },
  {
   "cell_type": "code",
   "execution_count": 22,
   "metadata": {},
   "outputs": [
    {
     "data": {
      "image/png": "[encoded data removed]",
      "text/plain": [
       "<matplotlib.figure.Figure at 0x1a17f88940>"
      ]
     },
     "metadata": {},
     "output_type": "display_data"
    },
    {
     "data": {
      "image/png": "[encoded data removed]",
      "text/plain": [
       "<matplotlib.figure.Figure at 0x1a1b427da0>"
      ]
     },
     "metadata": {},
     "output_type": "display_data"
    },
    {
     "data": {
      "image/png": "[encoded data removed]",
      "text/plain": [
       "<matplotlib.figure.Figure at 0x1a16f9b9b0>"
      ]
     },
     "metadata": {},
     "output_type": "display_data"
    }
   ],
   "source": [
    "bins =  np.linspace(0, max(FAQ_per_ticket))\n",
    "plt.hist(FAQ_per_ticket, bins,alpha=.5)\n",
    "plt.show()\n",
    "plt.hist(f2t, bins,alpha=.5)\n",
    "plt.show()\n",
    "plt.hist(RF_out, bins,alpha=.5)\n",
    "plt.show()"
   ]
  },
  {
   "cell_type": "code",
   "execution_count": 23,
   "metadata": {
    "collapsed": true
   },
   "outputs": [],
   "source": [
    "unique, counts = np.unique(FAQ_per_ticket, return_counts=True)\n",
    "u2, c2 = np.unique(f2t, return_counts=True)"
   ]
  },
  {
   "cell_type": "code",
   "execution_count": 24,
   "metadata": {},
   "outputs": [
    {
     "data": {
      "image/png": "[encoded data removed]",
      "text/plain": [
       "<matplotlib.figure.Figure at 0x1a172a1208>"
      ]
     },
     "metadata": {},
     "output_type": "display_data"
    },
    {
     "data": {
      "image/png": "[encoded data removed]",
      "text/plain": [
       "<matplotlib.figure.Figure at 0x1a1b6b86a0>"
      ]
     },
     "metadata": {},
     "output_type": "display_data"
    }
   ],
   "source": [
    "bins =  np.linspace(0, 175,50)\n",
    "plt.hist(counts, bins,alpha=.5)\n",
    "plt.show()\n",
    "plt.hist(c2, bins,alpha=.5)\n",
    "plt.show()"
   ]
  },
  {
   "cell_type": "code",
   "execution_count": null,
   "metadata": {
    "collapsed": true
   },
   "outputs": [],
   "source": [
    "# next steps: check what the low ones are getting associated to: is it justified or not?"
   ]
  },
  {
   "cell_type": "markdown",
   "metadata": {},
   "source": [
    "# New as of 05Dec"
   ]
  },
  {
   "cell_type": "code",
   "execution_count": 37,
   "metadata": {},
   "outputs": [
    {
     "name": "stdout",
     "output_type": "stream",
     "text": [
      "15  unique classes, %: 0.08\n"
     ]
    }
   ],
   "source": [
    "# Idea: look at 1 FAQ classes: who is the ticket, what is the certainty there\n",
    "# use :      unique, counts = np.unique(FAQ_per_ticket, return_counts=True)\n",
    "# One FAQ classes:\n",
    "one_faq = unique[counts == 1]\n",
    "# How many?\n",
    "print(sum(counts ==1),\" unique classes, %:\", round(sum(counts==1)/len(faq_ans),2))"
   ]
  },
  {
   "cell_type": "code",
   "execution_count": 49,
   "metadata": {},
   "outputs": [
    {
     "data": {
      "image/png": "[encoded data removed]",
      "text/plain": [
       "<matplotlib.figure.Figure at 0x1a1b997940>"
      ]
     },
     "metadata": {},
     "output_type": "display_data"
    }
   ],
   "source": [
    "# according to our current sim measure, how good are these?\n",
    "list_a = []\n",
    "for j in range(len(one_faq)):\n",
    "    list_a += [np.nonzero(FAQ_per_ticket == one_faq[j])[0][0]]\n",
    "# we LOVE histograms\n",
    "plt.hist(strength_FAQ_ticket[list_a], bins= 15)\n",
    "plt.show()"
   ]
  },
  {
   "cell_type": "code",
   "execution_count": 38,
   "metadata": {},
   "outputs": [
    {
     "name": "stdout",
     "output_type": "stream",
     "text": [
      "Similarity score:  0.16831407027727743 \t\t[ 3534 , 5 ],\n",
      "\n",
      "Ticket: ques:\t Good day I&#39;m trying unsuccessfully to establish a VPN connection to the ETH Nethwerk with my computer. I have the Cicso AnyConnect Secure Mobility Client installed. However, I always fail with this dialog box (see figure in the appendix). What is the correct input here? Or what else can I try? Sincerely, Sabrina Strub \n",
      "\n",
      "tick_ans:\t Dear Ms Sabrina Strub You must enter the server path there as follows: sslvpn.ethz.ch Your ID Team Mirel Kisic\n",
      "\n",
      "\n",
      "FAQ: ques:\t Settings for VPN \n",
      "\n",
      "FAQ_ans:\t VPN settings of the ETH  The settings for the ETH VPN are as follows:Server: sslvpn.ethz.chDecryption-typ: ipsec-pskUsername: Your ETH-UsernamePassword: Your passwordGroupname: ETHZ-spezialGrouppassword: This information you can find on this page:https://www1.ethz.ch/id/servicedesk/guide/vpn/vpn_secret\n"
     ]
    }
   ],
   "source": [
    "# what does it corresponds to?\n",
    "i = 0\n",
    "b = one_faq[i]\n",
    "a = np.nonzero(FAQ_per_ticket == b)[0][0]\n",
    "# Check it out:\n",
    "# Looking at samples created\n",
    "print(\"Similarity score: \", strength_FAQ_ticket[a], '\\t\\t[',a,',',b,'],')\n",
    "print('\\nTicket: ques:\\t', ticket_ques[a], '\\n\\ntick_ans:\\t', ticket_ans[a])\n",
    "print('\\n\\nFAQ: ques:\\t', faq_ques[b], '\\n\\nFAQ_ans:\\t', faq_ans[b])"
   ]
  },
  {
   "cell_type": "code",
   "execution_count": 51,
   "metadata": {},
   "outputs": [
    {
     "name": "stdout",
     "output_type": "stream",
     "text": [
      "Similarity score:  0.30133104928428234 \t\t[ 3606 , 62 ],\n",
      "\n",
      "Ticket: ques:\t Good day For several days, the polybox app does not work anymore: it loads, but it does not respond to touch screen touches. Reinstallation and restart bring nothing. Device: Samsung Galaxy 4. Best regards Anian AltherrThank you, that solves the problem. \n",
      "\n",
      "tick_ans:\t Dear Mr. Altherr Thank you for your request. With the Polybox App, in conjunction with apps for adjusting the screen brightness such as &quot;LUX&quot; or &quot;Twillight&quot;, it may freeze the screen. If you have such an app installed, you would need to add polybox to the exclude list of this app. (See also [1] https://github.com/owncloud/android/issues/1799). Sincerely, Gianluca Caratsch Your ID Team Gianluca Caratsch\n",
      "\n",
      "\n",
      "FAQ: ques:\t Would you like to add an app from the list of available apps in a site in SharePoint? \n",
      "\n",
      "FAQ_ans:\t Would you like to add an app from the list of available apps in a site?  Verify that the user account that is performing this procedure is a member of the site Owners group. On the home page, under \"Get started with your site\", click \"Add lists, libraries, and other apps\".If the Get started with your site control does not appear on the home page, click the \"Settings\" icon, and click \"View Site Contents\", and then on the \"Site Contents\" page, click \"Add an App\".In the Your Apps list, click the app you want to add. Follow the instructions to Trust the app (if it is a custom component) or Name the app (if it is a SharePoint component). The app for SharePoint is added and appears in the \"Apps\" section of your Site Contents list.\n"
     ]
    }
   ],
   "source": [
    "# what does it corresponds to?\n",
    "i = 3\n",
    "b = one_faq[i]\n",
    "a = np.nonzero(FAQ_per_ticket == b)[0][0]\n",
    "# Check it out:\n",
    "# Looking at samples created\n",
    "print(\"Similarity score: \", strength_FAQ_ticket[a], '\\t\\t[',a,',',b,'],')\n",
    "print('\\nTicket: ques:\\t', ticket_ques[a], '\\n\\ntick_ans:\\t', ticket_ans[a])\n",
    "print('\\n\\nFAQ: ques:\\t', faq_ques[b], '\\n\\nFAQ_ans:\\t', faq_ans[b])"
   ]
  },
  {
   "cell_type": "markdown",
   "metadata": {},
   "source": [
    "# Approach \n",
    "One approach to deal with one-shot classes is to use the distribution over classes instead of hard classes\n",
    "Let's try this"
   ]
  },
  {
   "cell_type": "code",
   "execution_count": null,
   "metadata": {
    "collapsed": true
   },
   "outputs": [],
   "source": [
    "# Fist a little reminder on the previously used method + perfromance"
   ]
  },
  {
   "cell_type": "code",
   "execution_count": 52,
   "metadata": {
    "collapsed": true
   },
   "outputs": [],
   "source": [
    "# let's try with both the TFiDF model already trained and a new TFIDF model\n",
    "tix_q_mat = TFiDF.transform(ticket_ques)\n",
    "TFiDF2 = TfidfVectorizer(strip_accents='unicode', lowercase=True,analyzer='word')\n",
    "tix_q_mat2 = TFiDF2.fit_transform(ticket_ques)"
   ]
  },
  {
   "cell_type": "code",
   "execution_count": 134,
   "metadata": {},
   "outputs": [
    {
     "name": "stdout",
     "output_type": "stream",
     "text": [
      "(4206, 15807) (4206, 23143) (4206,) (199, 4206) (4206, 199)\n"
     ]
    }
   ],
   "source": [
    "# check\n",
    "y_train = np.transpose(SM)\n",
    "print(tix_q_mat.shape, tix_q_mat2.shape, FAQ_per_ticket.shape,SM.shape, y_train.shape )"
   ]
  },
  {
   "cell_type": "code",
   "execution_count": 73,
   "metadata": {},
   "outputs": [],
   "source": [
    "# y train has a few issues\n",
    "# the major one is that it doesnt take into account the -1 class tickets\n",
    "# This breaks the code, because some tickets have 0 similariy to all FAQ (tix 277, 1419, 1691)"
   ]
  },
  {
   "cell_type": "code",
   "execution_count": 126,
   "metadata": {},
   "outputs": [],
   "source": [
    "####\n",
    "# VISUALISATION\n",
    "####\n",
    "i = 277#1419\n",
    "print(strength_FAQ_ticket[i], FAQ_per_ticket[i])\n",
    "print('\\nTicket: ques:\\t', ticket_ques[i], '\\n\\ntick_ans:\\t', ticket_ans[i])"
   ]
  },
  {
   "cell_type": "code",
   "execution_count": 388,
   "metadata": {},
   "outputs": [
    {
     "name": "stdout",
     "output_type": "stream",
     "text": [
      "y_train -2103.0 (4206,)\n",
      "y_t2 -1.099120794378905e-14\n"
     ]
    },
    {
     "name": "stderr",
     "output_type": "stream",
     "text": [
      "/Users/margheritarosnati/anaconda3/lib/python3.6/site-packages/ipykernel_launcher.py:8: RuntimeWarning: invalid value encountered in true_divide\n",
      "  \n"
     ]
    }
   ],
   "source": [
    "# For now we build y_t2 such that it has the same distribution over labels are SM, \n",
    "# with an added class 200 (the -1 class)\n",
    "# all happily normalised\n",
    "#\n",
    "# y_train in a sk learn firendly format :)\n",
    "y_train = np.transpose(SM)\n",
    "# normalising y_train (this will trigger an error, ignore it as we solve it with the line below)\n",
    "y_train = y_train / np.sum(y_train,1)[:,None]\n",
    "# bringing to 0 all tickets allocated to class -1\n",
    "y_train[f2t==-1]=0\n",
    "print(\"y_train\",np.sum(np.sum(y_train,1)-1),np.sum(y_train,1).shape )\n",
    "# adding class -1 column\n",
    "y_t2 = np.append(y_train, np.zeros((y_train.shape[0],1)),axis=1)\n",
    "# updating added column\n",
    "y_t2[np.sum(y_t2,1)==0,-1]=1\n",
    "print(\"y_t2\",np.sum(np.sum(y_t2,1)-1))\n",
    "print(np.sum(np.sum(y_t2,1)!=1), \" inexact results. Overall error \", np.sum(np.sum(y_t2,1)-1))"
   ]
  },
  {
   "cell_type": "code",
   "execution_count": 174,
   "metadata": {},
   "outputs": [
    {
     "name": "stdout",
     "output_type": "stream",
     "text": [
      "(4206, 200)\n"
     ]
    },
    {
     "data": {
      "text/plain": [
       "0.0"
      ]
     },
     "execution_count": 174,
     "metadata": {},
     "output_type": "execute_result"
    }
   ],
   "source": [
    "# RandomForest is quite unhappy with y_t2 this atm so let's do something simpler to see if it works\n",
    "# yt3 is a matrix of 0's and 1's\n",
    "yt3 = np.zeros(y_t2.shape)\n",
    "print(yt3.shape)\n",
    "#f2tt = f2t\n",
    "#f2tt[f2tt==-1]=\n",
    "for i in range(len(f2t)):    \n",
    "    yt3[i,f2t[i]]=1\n",
    "# check\n",
    "np.sum(np.sum(yt3,1)-1)\n",
    "# RF runs on this!! wohooo"
   ]
  },
  {
   "cell_type": "code",
   "execution_count": 332,
   "metadata": {},
   "outputs": [
    {
     "name": "stdout",
     "output_type": "stream",
     "text": [
      "y_train -2103.0 (4206,)\n",
      "y_t2 -1.099120794378905e-14\n",
      "y_t4 -1.099120794378905e-14 \n",
      "\n",
      "\n",
      "(200,) 0.9999999999999997 (4206, 200)\n",
      "0.5568759545457491\n",
      "yt4 -5.191318199110865\n",
      "yt4 6.106226635438361e-15\n"
     ]
    },
    {
     "name": "stderr",
     "output_type": "stream",
     "text": [
      "/Users/margheritarosnati/anaconda3/lib/python3.6/site-packages/ipykernel_launcher.py:3: RuntimeWarning: invalid value encountered in true_divide\n",
      "  This is separate from the ipykernel package so we can avoid doing imports until\n"
     ]
    }
   ],
   "source": [
    "# Let's now keep the top 5 classes\n",
    "nclasses = 5\n",
    "yt4 = np.copy(y_t2)\n",
    "print(\"y_t4\",np.sum(np.sum(yt4,1)-1), \"\\n\\n\")\n",
    "\n",
    "# let's do this the long way for certainty\n",
    "indmax = yt4.shape[1]\n",
    "for i in range(10):#range(yt4.shape[0]):\n",
    "    ind = np.argsort(yt4[i,:])\n",
    "    #print(ind[ind>indmax-5], yt4[i,ind][-5:])\n",
    "    maxval = np.max(yt4[i,ind][:-nclasses])\n",
    "    yt4[i,yt4[i,:] <= maxval] = 0\n",
    "    #print( yt4[i,ind][:-5])\n",
    "print(\"yt4\",np.sum(np.sum(yt4,1)-1))\n",
    "yt4 = yt4 / np.sum(yt4,axis=1)[:,None]\n",
    "print(\"yt4\",np.sum(np.sum(yt4,1)-1))"
   ]
  },
  {
   "cell_type": "code",
   "execution_count": 370,
   "metadata": {},
   "outputs": [],
   "source": [
    "# playing with some scoring functions for CV that work for both regression and classification\n",
    "r2_scorer = make_scorer(r2_score)\n",
    "\n",
    "# note: cross entropy doesnt as per sklearn def, hence ignore it\n",
    "cross_entropy = make_scorer(log_loss)"
   ]
  },
  {
   "cell_type": "code",
   "execution_count": 389,
   "metadata": {},
   "outputs": [
    {
     "name": "stderr",
     "output_type": "stream",
     "text": [
      "/Users/margheritarosnati/anaconda3/lib/python3.6/site-packages/sklearn/model_selection/_split.py:605: Warning: The least populated class in y has only 1 members, which is too few. The minimum number of members in any class cannot be less than n_splits=5.\n",
      "  % (min_groups, self.n_splits)), Warning)\n"
     ]
    },
    {
     "name": "stdout",
     "output_type": "stream",
     "text": [
      "-1.0142611455996366\n"
     ]
    },
    {
     "name": "stderr",
     "output_type": "stream",
     "text": [
      "/Users/margheritarosnati/anaconda3/lib/python3.6/site-packages/sklearn/model_selection/_split.py:605: Warning: The least populated class in y has only 1 members, which is too few. The minimum number of members in any class cannot be less than n_splits=5.\n",
      "  % (min_groups, self.n_splits)), Warning)\n"
     ]
    },
    {
     "name": "stdout",
     "output_type": "stream",
     "text": [
      "-1.0686885297141981\n"
     ]
    },
    {
     "name": "stderr",
     "output_type": "stream",
     "text": [
      "/Users/margheritarosnati/anaconda3/lib/python3.6/site-packages/sklearn/model_selection/_split.py:605: Warning: The least populated class in y has only 1 members, which is too few. The minimum number of members in any class cannot be less than n_splits=5.\n",
      "  % (min_groups, self.n_splits)), Warning)\n"
     ]
    },
    {
     "name": "stdout",
     "output_type": "stream",
     "text": [
      "-0.5525095856537587\n"
     ]
    },
    {
     "name": "stderr",
     "output_type": "stream",
     "text": [
      "/Users/margheritarosnati/anaconda3/lib/python3.6/site-packages/sklearn/model_selection/_split.py:605: Warning: The least populated class in y has only 1 members, which is too few. The minimum number of members in any class cannot be less than n_splits=5.\n",
      "  % (min_groups, self.n_splits)), Warning)\n"
     ]
    },
    {
     "name": "stdout",
     "output_type": "stream",
     "text": [
      "-0.5653142059544247\n"
     ]
    }
   ],
   "source": [
    "# finally some results\n",
    "# y : array of shape = [n_samples] or [n_samples, n_outputs]\n",
    "\n",
    "\n",
    "# these first two are trained without thinking of similarity strength (ie without -1 class), for diff TFiDF embeddings\n",
    "# TFiDF: same as per ans\n",
    "RF = RandomForestClassifier()\n",
    "scores = cross_val_score(RF, tix_q_mat, FAQ_per_ticket, cv=5, scoring = r2_scorer)\n",
    "cv_score = scores.mean()\n",
    "print(cv_score)\n",
    "RF = RandomForestClassifier()\n",
    "# TFiDF: newly trained on Qs\n",
    "scores = cross_val_score(RF, tix_q_mat2, FAQ_per_ticket, cv=5, scoring = r2_scorer)\n",
    "cv_score = scores.mean()\n",
    "print(cv_score)\n",
    "\n",
    "# these first two are trained with a -1 class, for diff TFiDF embeddings\n",
    "# TFiDF: same as per ans\n",
    "RF = RandomForestClassifier()\n",
    "scores = cross_val_score(RF, tix_q_mat, f2t, cv=5,scoring = r2_scorer)\n",
    "cv_score = scores.mean()\n",
    "print(cv_score)\n",
    "# TFiDF: newly trained on Qs\n",
    "RF = RandomForestClassifier()\n",
    "scores = cross_val_score(RF, tix_q_mat2, f2t, cv=5,scoring = r2_scorer)\n",
    "cv_score = scores.mean()\n",
    "print(cv_score)"
   ]
  },
  {
   "cell_type": "code",
   "execution_count": 367,
   "metadata": {},
   "outputs": [
    {
     "name": "stdout",
     "output_type": "stream",
     "text": [
      "0.4681893853172242\n"
     ]
    }
   ],
   "source": [
    "# This should be equivalent to the last try above \n",
    "# sadly it looks like r2_scorer is a little temperamental\n",
    "RF = RandomForestClassifier()\n",
    "scores = cross_val_score(RF, tix_q_mat2, yt3, cv=5,scoring = r2_scorer)\n",
    "cv_score = scores.mean()\n",
    "print(cv_score)"
   ]
  },
  {
   "cell_type": "code",
   "execution_count": 368,
   "metadata": {},
   "outputs": [
    {
     "name": "stdout",
     "output_type": "stream",
     "text": [
      "0.20316374107581597\n",
      "-0.1391956785493355\n"
     ]
    }
   ],
   "source": [
    "# RF Classifier doesnt take probability distribution over classes\n",
    "# Hence we will treat this case as a regression case\n",
    "############# NOTICE #############\n",
    "# the model below takes AGES to train, don't do it lightly!!\n",
    "\n",
    "# Here we try the classifier over 0 - 1 classes\n",
    "RFR = RandomForestRegressor()\n",
    "#RFR.fit(tix_q_mat, yt4)\n",
    "scores = cross_val_score(RFR, tix_q_mat, yt3, cv=5, scoring = r2_scorer)\n",
    "scores.shape\n",
    "cv_score = scores.mean()\n",
    "print(cv_score)\n",
    "\n",
    "# Here we try the classifier over probability distributed classes (top 5)\n",
    "RFR = RandomForestRegressor()\n",
    "#RFR.fit(tix_q_mat, yt4)\n",
    "scores = cross_val_score(RFR, tix_q_mat, yt4, cv=5, scoring = r2_scorer)\n",
    "scores.shape\n",
    "cv_score = scores.mean()\n",
    "print(cv_score)\n",
    "\n"
   ]
  },
  {
   "cell_type": "code",
   "execution_count": 385,
   "metadata": {},
   "outputs": [
    {
     "name": "stderr",
     "output_type": "stream",
     "text": [
      "/Users/margheritarosnati/anaconda3/lib/python3.6/site-packages/sklearn/multiclass.py:76: UserWarning: Label not 5 is present in all training examples.\n",
      "  str(classes[c]))\n",
      "/Users/margheritarosnati/anaconda3/lib/python3.6/site-packages/sklearn/multiclass.py:76: UserWarning: Label not 16 is present in all training examples.\n",
      "  str(classes[c]))\n",
      "/Users/margheritarosnati/anaconda3/lib/python3.6/site-packages/sklearn/multiclass.py:76: UserWarning: Label not 17 is present in all training examples.\n",
      "  str(classes[c]))\n",
      "/Users/margheritarosnati/anaconda3/lib/python3.6/site-packages/sklearn/multiclass.py:76: UserWarning: Label not 20 is present in all training examples.\n",
      "  str(classes[c]))\n",
      "/Users/margheritarosnati/anaconda3/lib/python3.6/site-packages/sklearn/multiclass.py:76: UserWarning: Label not 25 is present in all training examples.\n",
      "  str(classes[c]))\n",
      "/Users/margheritarosnati/anaconda3/lib/python3.6/site-packages/sklearn/multiclass.py:76: UserWarning: Label not 26 is present in all training examples.\n",
      "  str(classes[c]))\n",
      "/Users/margheritarosnati/anaconda3/lib/python3.6/site-packages/sklearn/multiclass.py:76: UserWarning: Label not 39 is present in all training examples.\n",
      "  str(classes[c]))\n",
      "/Users/margheritarosnati/anaconda3/lib/python3.6/site-packages/sklearn/multiclass.py:76: UserWarning: Label not 43 is present in all training examples.\n",
      "  str(classes[c]))\n",
      "/Users/margheritarosnati/anaconda3/lib/python3.6/site-packages/sklearn/multiclass.py:76: UserWarning: Label not 44 is present in all training examples.\n",
      "  str(classes[c]))\n",
      "/Users/margheritarosnati/anaconda3/lib/python3.6/site-packages/sklearn/multiclass.py:76: UserWarning: Label not 45 is present in all training examples.\n",
      "  str(classes[c]))\n",
      "/Users/margheritarosnati/anaconda3/lib/python3.6/site-packages/sklearn/multiclass.py:76: UserWarning: Label not 46 is present in all training examples.\n",
      "  str(classes[c]))\n",
      "/Users/margheritarosnati/anaconda3/lib/python3.6/site-packages/sklearn/multiclass.py:76: UserWarning: Label not 47 is present in all training examples.\n",
      "  str(classes[c]))\n",
      "/Users/margheritarosnati/anaconda3/lib/python3.6/site-packages/sklearn/multiclass.py:76: UserWarning: Label not 48 is present in all training examples.\n",
      "  str(classes[c]))\n",
      "/Users/margheritarosnati/anaconda3/lib/python3.6/site-packages/sklearn/multiclass.py:76: UserWarning: Label not 55 is present in all training examples.\n",
      "  str(classes[c]))\n",
      "/Users/margheritarosnati/anaconda3/lib/python3.6/site-packages/sklearn/multiclass.py:76: UserWarning: Label not 58 is present in all training examples.\n",
      "  str(classes[c]))\n",
      "/Users/margheritarosnati/anaconda3/lib/python3.6/site-packages/sklearn/multiclass.py:76: UserWarning: Label not 59 is present in all training examples.\n",
      "  str(classes[c]))\n",
      "/Users/margheritarosnati/anaconda3/lib/python3.6/site-packages/sklearn/multiclass.py:76: UserWarning: Label not 60 is present in all training examples.\n",
      "  str(classes[c]))\n",
      "/Users/margheritarosnati/anaconda3/lib/python3.6/site-packages/sklearn/multiclass.py:76: UserWarning: Label not 65 is present in all training examples.\n",
      "  str(classes[c]))\n",
      "/Users/margheritarosnati/anaconda3/lib/python3.6/site-packages/sklearn/multiclass.py:76: UserWarning: Label not 69 is present in all training examples.\n",
      "  str(classes[c]))\n",
      "/Users/margheritarosnati/anaconda3/lib/python3.6/site-packages/sklearn/multiclass.py:76: UserWarning: Label not 74 is present in all training examples.\n",
      "  str(classes[c]))\n",
      "/Users/margheritarosnati/anaconda3/lib/python3.6/site-packages/sklearn/multiclass.py:76: UserWarning: Label not 75 is present in all training examples.\n",
      "  str(classes[c]))\n",
      "/Users/margheritarosnati/anaconda3/lib/python3.6/site-packages/sklearn/multiclass.py:76: UserWarning: Label not 77 is present in all training examples.\n",
      "  str(classes[c]))\n",
      "/Users/margheritarosnati/anaconda3/lib/python3.6/site-packages/sklearn/multiclass.py:76: UserWarning: Label not 81 is present in all training examples.\n",
      "  str(classes[c]))\n",
      "/Users/margheritarosnati/anaconda3/lib/python3.6/site-packages/sklearn/multiclass.py:76: UserWarning: Label not 82 is present in all training examples.\n",
      "  str(classes[c]))\n",
      "/Users/margheritarosnati/anaconda3/lib/python3.6/site-packages/sklearn/multiclass.py:76: UserWarning: Label not 83 is present in all training examples.\n",
      "  str(classes[c]))\n",
      "/Users/margheritarosnati/anaconda3/lib/python3.6/site-packages/sklearn/multiclass.py:76: UserWarning: Label not 92 is present in all training examples.\n",
      "  str(classes[c]))\n",
      "/Users/margheritarosnati/anaconda3/lib/python3.6/site-packages/sklearn/multiclass.py:76: UserWarning: Label not 97 is present in all training examples.\n",
      "  str(classes[c]))\n",
      "/Users/margheritarosnati/anaconda3/lib/python3.6/site-packages/sklearn/multiclass.py:76: UserWarning: Label not 104 is present in all training examples.\n",
      "  str(classes[c]))\n",
      "/Users/margheritarosnati/anaconda3/lib/python3.6/site-packages/sklearn/multiclass.py:76: UserWarning: Label not 112 is present in all training examples.\n",
      "  str(classes[c]))\n",
      "/Users/margheritarosnati/anaconda3/lib/python3.6/site-packages/sklearn/multiclass.py:76: UserWarning: Label not 113 is present in all training examples.\n",
      "  str(classes[c]))\n",
      "/Users/margheritarosnati/anaconda3/lib/python3.6/site-packages/sklearn/multiclass.py:76: UserWarning: Label not 115 is present in all training examples.\n",
      "  str(classes[c]))\n",
      "/Users/margheritarosnati/anaconda3/lib/python3.6/site-packages/sklearn/multiclass.py:76: UserWarning: Label not 116 is present in all training examples.\n",
      "  str(classes[c]))\n",
      "/Users/margheritarosnati/anaconda3/lib/python3.6/site-packages/sklearn/multiclass.py:76: UserWarning: Label not 118 is present in all training examples.\n",
      "  str(classes[c]))\n",
      "/Users/margheritarosnati/anaconda3/lib/python3.6/site-packages/sklearn/multiclass.py:76: UserWarning: Label not 119 is present in all training examples.\n",
      "  str(classes[c]))\n",
      "/Users/margheritarosnati/anaconda3/lib/python3.6/site-packages/sklearn/multiclass.py:76: UserWarning: Label not 120 is present in all training examples.\n",
      "  str(classes[c]))\n",
      "/Users/margheritarosnati/anaconda3/lib/python3.6/site-packages/sklearn/multiclass.py:76: UserWarning: Label not 125 is present in all training examples.\n",
      "  str(classes[c]))\n",
      "/Users/margheritarosnati/anaconda3/lib/python3.6/site-packages/sklearn/multiclass.py:76: UserWarning: Label not 149 is present in all training examples.\n",
      "  str(classes[c]))\n",
      "/Users/margheritarosnati/anaconda3/lib/python3.6/site-packages/sklearn/multiclass.py:76: UserWarning: Label not 150 is present in all training examples.\n",
      "  str(classes[c]))\n",
      "/Users/margheritarosnati/anaconda3/lib/python3.6/site-packages/sklearn/multiclass.py:76: UserWarning: Label not 152 is present in all training examples.\n",
      "  str(classes[c]))\n",
      "/Users/margheritarosnati/anaconda3/lib/python3.6/site-packages/sklearn/multiclass.py:76: UserWarning: Label not 166 is present in all training examples.\n",
      "  str(classes[c]))\n",
      "/Users/margheritarosnati/anaconda3/lib/python3.6/site-packages/sklearn/multiclass.py:76: UserWarning: Label not 169 is present in all training examples.\n",
      "  str(classes[c]))\n",
      "/Users/margheritarosnati/anaconda3/lib/python3.6/site-packages/sklearn/multiclass.py:76: UserWarning: Label not 170 is present in all training examples.\n",
      "  str(classes[c]))\n",
      "/Users/margheritarosnati/anaconda3/lib/python3.6/site-packages/sklearn/multiclass.py:76: UserWarning: Label not 182 is present in all training examples.\n",
      "  str(classes[c]))\n",
      "/Users/margheritarosnati/anaconda3/lib/python3.6/site-packages/sklearn/multiclass.py:76: UserWarning: Label not 187 is present in all training examples.\n",
      "  str(classes[c]))\n",
      "/Users/margheritarosnati/anaconda3/lib/python3.6/site-packages/sklearn/multiclass.py:76: UserWarning: Label not 194 is present in all training examples.\n",
      "  str(classes[c]))\n",
      "/Users/margheritarosnati/anaconda3/lib/python3.6/site-packages/sklearn/multiclass.py:76: UserWarning: Label not 1 is present in all training examples.\n",
      "  str(classes[c]))\n",
      "/Users/margheritarosnati/anaconda3/lib/python3.6/site-packages/sklearn/multiclass.py:76: UserWarning: Label not 5 is present in all training examples.\n",
      "  str(classes[c]))\n",
      "/Users/margheritarosnati/anaconda3/lib/python3.6/site-packages/sklearn/multiclass.py:76: UserWarning: Label not 17 is present in all training examples.\n",
      "  str(classes[c]))\n",
      "/Users/margheritarosnati/anaconda3/lib/python3.6/site-packages/sklearn/multiclass.py:76: UserWarning: Label not 20 is present in all training examples.\n",
      "  str(classes[c]))\n"
     ]
    },
    {
     "name": "stderr",
     "output_type": "stream",
     "text": [
      "/Users/margheritarosnati/anaconda3/lib/python3.6/site-packages/sklearn/multiclass.py:76: UserWarning: Label not 25 is present in all training examples.\n",
      "  str(classes[c]))\n",
      "/Users/margheritarosnati/anaconda3/lib/python3.6/site-packages/sklearn/multiclass.py:76: UserWarning: Label not 26 is present in all training examples.\n",
      "  str(classes[c]))\n",
      "/Users/margheritarosnati/anaconda3/lib/python3.6/site-packages/sklearn/multiclass.py:76: UserWarning: Label not 39 is present in all training examples.\n",
      "  str(classes[c]))\n",
      "/Users/margheritarosnati/anaconda3/lib/python3.6/site-packages/sklearn/multiclass.py:76: UserWarning: Label not 43 is present in all training examples.\n",
      "  str(classes[c]))\n",
      "/Users/margheritarosnati/anaconda3/lib/python3.6/site-packages/sklearn/multiclass.py:76: UserWarning: Label not 44 is present in all training examples.\n",
      "  str(classes[c]))\n",
      "/Users/margheritarosnati/anaconda3/lib/python3.6/site-packages/sklearn/multiclass.py:76: UserWarning: Label not 45 is present in all training examples.\n",
      "  str(classes[c]))\n",
      "/Users/margheritarosnati/anaconda3/lib/python3.6/site-packages/sklearn/multiclass.py:76: UserWarning: Label not 47 is present in all training examples.\n",
      "  str(classes[c]))\n",
      "/Users/margheritarosnati/anaconda3/lib/python3.6/site-packages/sklearn/multiclass.py:76: UserWarning: Label not 48 is present in all training examples.\n",
      "  str(classes[c]))\n",
      "/Users/margheritarosnati/anaconda3/lib/python3.6/site-packages/sklearn/multiclass.py:76: UserWarning: Label not 55 is present in all training examples.\n",
      "  str(classes[c]))\n",
      "/Users/margheritarosnati/anaconda3/lib/python3.6/site-packages/sklearn/multiclass.py:76: UserWarning: Label not 58 is present in all training examples.\n",
      "  str(classes[c]))\n",
      "/Users/margheritarosnati/anaconda3/lib/python3.6/site-packages/sklearn/multiclass.py:76: UserWarning: Label not 59 is present in all training examples.\n",
      "  str(classes[c]))\n",
      "/Users/margheritarosnati/anaconda3/lib/python3.6/site-packages/sklearn/multiclass.py:76: UserWarning: Label not 60 is present in all training examples.\n",
      "  str(classes[c]))\n",
      "/Users/margheritarosnati/anaconda3/lib/python3.6/site-packages/sklearn/multiclass.py:76: UserWarning: Label not 65 is present in all training examples.\n",
      "  str(classes[c]))\n",
      "/Users/margheritarosnati/anaconda3/lib/python3.6/site-packages/sklearn/multiclass.py:76: UserWarning: Label not 69 is present in all training examples.\n",
      "  str(classes[c]))\n",
      "/Users/margheritarosnati/anaconda3/lib/python3.6/site-packages/sklearn/multiclass.py:76: UserWarning: Label not 74 is present in all training examples.\n",
      "  str(classes[c]))\n",
      "/Users/margheritarosnati/anaconda3/lib/python3.6/site-packages/sklearn/multiclass.py:76: UserWarning: Label not 81 is present in all training examples.\n",
      "  str(classes[c]))\n",
      "/Users/margheritarosnati/anaconda3/lib/python3.6/site-packages/sklearn/multiclass.py:76: UserWarning: Label not 82 is present in all training examples.\n",
      "  str(classes[c]))\n",
      "/Users/margheritarosnati/anaconda3/lib/python3.6/site-packages/sklearn/multiclass.py:76: UserWarning: Label not 83 is present in all training examples.\n",
      "  str(classes[c]))\n",
      "/Users/margheritarosnati/anaconda3/lib/python3.6/site-packages/sklearn/multiclass.py:76: UserWarning: Label not 92 is present in all training examples.\n",
      "  str(classes[c]))\n",
      "/Users/margheritarosnati/anaconda3/lib/python3.6/site-packages/sklearn/multiclass.py:76: UserWarning: Label not 97 is present in all training examples.\n",
      "  str(classes[c]))\n",
      "/Users/margheritarosnati/anaconda3/lib/python3.6/site-packages/sklearn/multiclass.py:76: UserWarning: Label not 100 is present in all training examples.\n",
      "  str(classes[c]))\n",
      "/Users/margheritarosnati/anaconda3/lib/python3.6/site-packages/sklearn/multiclass.py:76: UserWarning: Label not 104 is present in all training examples.\n",
      "  str(classes[c]))\n",
      "/Users/margheritarosnati/anaconda3/lib/python3.6/site-packages/sklearn/multiclass.py:76: UserWarning: Label not 112 is present in all training examples.\n",
      "  str(classes[c]))\n",
      "/Users/margheritarosnati/anaconda3/lib/python3.6/site-packages/sklearn/multiclass.py:76: UserWarning: Label not 113 is present in all training examples.\n",
      "  str(classes[c]))\n",
      "/Users/margheritarosnati/anaconda3/lib/python3.6/site-packages/sklearn/multiclass.py:76: UserWarning: Label not 115 is present in all training examples.\n",
      "  str(classes[c]))\n",
      "/Users/margheritarosnati/anaconda3/lib/python3.6/site-packages/sklearn/multiclass.py:76: UserWarning: Label not 116 is present in all training examples.\n",
      "  str(classes[c]))\n",
      "/Users/margheritarosnati/anaconda3/lib/python3.6/site-packages/sklearn/multiclass.py:76: UserWarning: Label not 118 is present in all training examples.\n",
      "  str(classes[c]))\n",
      "/Users/margheritarosnati/anaconda3/lib/python3.6/site-packages/sklearn/multiclass.py:76: UserWarning: Label not 119 is present in all training examples.\n",
      "  str(classes[c]))\n",
      "/Users/margheritarosnati/anaconda3/lib/python3.6/site-packages/sklearn/multiclass.py:76: UserWarning: Label not 120 is present in all training examples.\n",
      "  str(classes[c]))\n",
      "/Users/margheritarosnati/anaconda3/lib/python3.6/site-packages/sklearn/multiclass.py:76: UserWarning: Label not 121 is present in all training examples.\n",
      "  str(classes[c]))\n",
      "/Users/margheritarosnati/anaconda3/lib/python3.6/site-packages/sklearn/multiclass.py:76: UserWarning: Label not 125 is present in all training examples.\n",
      "  str(classes[c]))\n",
      "/Users/margheritarosnati/anaconda3/lib/python3.6/site-packages/sklearn/multiclass.py:76: UserWarning: Label not 149 is present in all training examples.\n",
      "  str(classes[c]))\n",
      "/Users/margheritarosnati/anaconda3/lib/python3.6/site-packages/sklearn/multiclass.py:76: UserWarning: Label not 150 is present in all training examples.\n",
      "  str(classes[c]))\n",
      "/Users/margheritarosnati/anaconda3/lib/python3.6/site-packages/sklearn/multiclass.py:76: UserWarning: Label not 152 is present in all training examples.\n",
      "  str(classes[c]))\n",
      "/Users/margheritarosnati/anaconda3/lib/python3.6/site-packages/sklearn/multiclass.py:76: UserWarning: Label not 158 is present in all training examples.\n",
      "  str(classes[c]))\n",
      "/Users/margheritarosnati/anaconda3/lib/python3.6/site-packages/sklearn/multiclass.py:76: UserWarning: Label not 166 is present in all training examples.\n",
      "  str(classes[c]))\n",
      "/Users/margheritarosnati/anaconda3/lib/python3.6/site-packages/sklearn/multiclass.py:76: UserWarning: Label not 169 is present in all training examples.\n",
      "  str(classes[c]))\n",
      "/Users/margheritarosnati/anaconda3/lib/python3.6/site-packages/sklearn/multiclass.py:76: UserWarning: Label not 170 is present in all training examples.\n",
      "  str(classes[c]))\n",
      "/Users/margheritarosnati/anaconda3/lib/python3.6/site-packages/sklearn/multiclass.py:76: UserWarning: Label not 174 is present in all training examples.\n",
      "  str(classes[c]))\n",
      "/Users/margheritarosnati/anaconda3/lib/python3.6/site-packages/sklearn/multiclass.py:76: UserWarning: Label not 181 is present in all training examples.\n",
      "  str(classes[c]))\n",
      "/Users/margheritarosnati/anaconda3/lib/python3.6/site-packages/sklearn/multiclass.py:76: UserWarning: Label not 182 is present in all training examples.\n",
      "  str(classes[c]))\n",
      "/Users/margheritarosnati/anaconda3/lib/python3.6/site-packages/sklearn/multiclass.py:76: UserWarning: Label not 184 is present in all training examples.\n",
      "  str(classes[c]))\n",
      "/Users/margheritarosnati/anaconda3/lib/python3.6/site-packages/sklearn/multiclass.py:76: UserWarning: Label not 187 is present in all training examples.\n",
      "  str(classes[c]))\n",
      "/Users/margheritarosnati/anaconda3/lib/python3.6/site-packages/sklearn/multiclass.py:76: UserWarning: Label not 189 is present in all training examples.\n",
      "  str(classes[c]))\n",
      "/Users/margheritarosnati/anaconda3/lib/python3.6/site-packages/sklearn/multiclass.py:76: UserWarning: Label not 194 is present in all training examples.\n",
      "  str(classes[c]))\n",
      "/Users/margheritarosnati/anaconda3/lib/python3.6/site-packages/sklearn/multiclass.py:76: UserWarning: Label not 5 is present in all training examples.\n",
      "  str(classes[c]))\n",
      "/Users/margheritarosnati/anaconda3/lib/python3.6/site-packages/sklearn/multiclass.py:76: UserWarning: Label not 17 is present in all training examples.\n",
      "  str(classes[c]))\n",
      "/Users/margheritarosnati/anaconda3/lib/python3.6/site-packages/sklearn/multiclass.py:76: UserWarning: Label not 20 is present in all training examples.\n",
      "  str(classes[c]))\n"
     ]
    },
    {
     "name": "stderr",
     "output_type": "stream",
     "text": [
      "/Users/margheritarosnati/anaconda3/lib/python3.6/site-packages/sklearn/multiclass.py:76: UserWarning: Label not 25 is present in all training examples.\n",
      "  str(classes[c]))\n",
      "/Users/margheritarosnati/anaconda3/lib/python3.6/site-packages/sklearn/multiclass.py:76: UserWarning: Label not 26 is present in all training examples.\n",
      "  str(classes[c]))\n",
      "/Users/margheritarosnati/anaconda3/lib/python3.6/site-packages/sklearn/multiclass.py:76: UserWarning: Label not 39 is present in all training examples.\n",
      "  str(classes[c]))\n",
      "/Users/margheritarosnati/anaconda3/lib/python3.6/site-packages/sklearn/multiclass.py:76: UserWarning: Label not 43 is present in all training examples.\n",
      "  str(classes[c]))\n",
      "/Users/margheritarosnati/anaconda3/lib/python3.6/site-packages/sklearn/multiclass.py:76: UserWarning: Label not 44 is present in all training examples.\n",
      "  str(classes[c]))\n",
      "/Users/margheritarosnati/anaconda3/lib/python3.6/site-packages/sklearn/multiclass.py:76: UserWarning: Label not 45 is present in all training examples.\n",
      "  str(classes[c]))\n",
      "/Users/margheritarosnati/anaconda3/lib/python3.6/site-packages/sklearn/multiclass.py:76: UserWarning: Label not 47 is present in all training examples.\n",
      "  str(classes[c]))\n",
      "/Users/margheritarosnati/anaconda3/lib/python3.6/site-packages/sklearn/multiclass.py:76: UserWarning: Label not 48 is present in all training examples.\n",
      "  str(classes[c]))\n",
      "/Users/margheritarosnati/anaconda3/lib/python3.6/site-packages/sklearn/multiclass.py:76: UserWarning: Label not 55 is present in all training examples.\n",
      "  str(classes[c]))\n",
      "/Users/margheritarosnati/anaconda3/lib/python3.6/site-packages/sklearn/multiclass.py:76: UserWarning: Label not 58 is present in all training examples.\n",
      "  str(classes[c]))\n",
      "/Users/margheritarosnati/anaconda3/lib/python3.6/site-packages/sklearn/multiclass.py:76: UserWarning: Label not 59 is present in all training examples.\n",
      "  str(classes[c]))\n",
      "/Users/margheritarosnati/anaconda3/lib/python3.6/site-packages/sklearn/multiclass.py:76: UserWarning: Label not 60 is present in all training examples.\n",
      "  str(classes[c]))\n",
      "/Users/margheritarosnati/anaconda3/lib/python3.6/site-packages/sklearn/multiclass.py:76: UserWarning: Label not 65 is present in all training examples.\n",
      "  str(classes[c]))\n",
      "/Users/margheritarosnati/anaconda3/lib/python3.6/site-packages/sklearn/multiclass.py:76: UserWarning: Label not 69 is present in all training examples.\n",
      "  str(classes[c]))\n",
      "/Users/margheritarosnati/anaconda3/lib/python3.6/site-packages/sklearn/multiclass.py:76: UserWarning: Label not 72 is present in all training examples.\n",
      "  str(classes[c]))\n",
      "/Users/margheritarosnati/anaconda3/lib/python3.6/site-packages/sklearn/multiclass.py:76: UserWarning: Label not 74 is present in all training examples.\n",
      "  str(classes[c]))\n",
      "/Users/margheritarosnati/anaconda3/lib/python3.6/site-packages/sklearn/multiclass.py:76: UserWarning: Label not 81 is present in all training examples.\n",
      "  str(classes[c]))\n",
      "/Users/margheritarosnati/anaconda3/lib/python3.6/site-packages/sklearn/multiclass.py:76: UserWarning: Label not 82 is present in all training examples.\n",
      "  str(classes[c]))\n",
      "/Users/margheritarosnati/anaconda3/lib/python3.6/site-packages/sklearn/multiclass.py:76: UserWarning: Label not 83 is present in all training examples.\n",
      "  str(classes[c]))\n",
      "/Users/margheritarosnati/anaconda3/lib/python3.6/site-packages/sklearn/multiclass.py:76: UserWarning: Label not 92 is present in all training examples.\n",
      "  str(classes[c]))\n",
      "/Users/margheritarosnati/anaconda3/lib/python3.6/site-packages/sklearn/multiclass.py:76: UserWarning: Label not 94 is present in all training examples.\n",
      "  str(classes[c]))\n",
      "/Users/margheritarosnati/anaconda3/lib/python3.6/site-packages/sklearn/multiclass.py:76: UserWarning: Label not 97 is present in all training examples.\n",
      "  str(classes[c]))\n",
      "/Users/margheritarosnati/anaconda3/lib/python3.6/site-packages/sklearn/multiclass.py:76: UserWarning: Label not 104 is present in all training examples.\n",
      "  str(classes[c]))\n",
      "/Users/margheritarosnati/anaconda3/lib/python3.6/site-packages/sklearn/multiclass.py:76: UserWarning: Label not 112 is present in all training examples.\n",
      "  str(classes[c]))\n",
      "/Users/margheritarosnati/anaconda3/lib/python3.6/site-packages/sklearn/multiclass.py:76: UserWarning: Label not 113 is present in all training examples.\n",
      "  str(classes[c]))\n",
      "/Users/margheritarosnati/anaconda3/lib/python3.6/site-packages/sklearn/multiclass.py:76: UserWarning: Label not 115 is present in all training examples.\n",
      "  str(classes[c]))\n",
      "/Users/margheritarosnati/anaconda3/lib/python3.6/site-packages/sklearn/multiclass.py:76: UserWarning: Label not 116 is present in all training examples.\n",
      "  str(classes[c]))\n",
      "/Users/margheritarosnati/anaconda3/lib/python3.6/site-packages/sklearn/multiclass.py:76: UserWarning: Label not 118 is present in all training examples.\n",
      "  str(classes[c]))\n",
      "/Users/margheritarosnati/anaconda3/lib/python3.6/site-packages/sklearn/multiclass.py:76: UserWarning: Label not 119 is present in all training examples.\n",
      "  str(classes[c]))\n",
      "/Users/margheritarosnati/anaconda3/lib/python3.6/site-packages/sklearn/multiclass.py:76: UserWarning: Label not 120 is present in all training examples.\n",
      "  str(classes[c]))\n",
      "/Users/margheritarosnati/anaconda3/lib/python3.6/site-packages/sklearn/multiclass.py:76: UserWarning: Label not 125 is present in all training examples.\n",
      "  str(classes[c]))\n",
      "/Users/margheritarosnati/anaconda3/lib/python3.6/site-packages/sklearn/multiclass.py:76: UserWarning: Label not 132 is present in all training examples.\n",
      "  str(classes[c]))\n",
      "/Users/margheritarosnati/anaconda3/lib/python3.6/site-packages/sklearn/multiclass.py:76: UserWarning: Label not 149 is present in all training examples.\n",
      "  str(classes[c]))\n",
      "/Users/margheritarosnati/anaconda3/lib/python3.6/site-packages/sklearn/multiclass.py:76: UserWarning: Label not 150 is present in all training examples.\n",
      "  str(classes[c]))\n",
      "/Users/margheritarosnati/anaconda3/lib/python3.6/site-packages/sklearn/multiclass.py:76: UserWarning: Label not 152 is present in all training examples.\n",
      "  str(classes[c]))\n",
      "/Users/margheritarosnati/anaconda3/lib/python3.6/site-packages/sklearn/multiclass.py:76: UserWarning: Label not 161 is present in all training examples.\n",
      "  str(classes[c]))\n",
      "/Users/margheritarosnati/anaconda3/lib/python3.6/site-packages/sklearn/multiclass.py:76: UserWarning: Label not 166 is present in all training examples.\n",
      "  str(classes[c]))\n",
      "/Users/margheritarosnati/anaconda3/lib/python3.6/site-packages/sklearn/multiclass.py:76: UserWarning: Label not 169 is present in all training examples.\n",
      "  str(classes[c]))\n",
      "/Users/margheritarosnati/anaconda3/lib/python3.6/site-packages/sklearn/multiclass.py:76: UserWarning: Label not 170 is present in all training examples.\n",
      "  str(classes[c]))\n",
      "/Users/margheritarosnati/anaconda3/lib/python3.6/site-packages/sklearn/multiclass.py:76: UserWarning: Label not 179 is present in all training examples.\n",
      "  str(classes[c]))\n",
      "/Users/margheritarosnati/anaconda3/lib/python3.6/site-packages/sklearn/multiclass.py:76: UserWarning: Label not 182 is present in all training examples.\n",
      "  str(classes[c]))\n",
      "/Users/margheritarosnati/anaconda3/lib/python3.6/site-packages/sklearn/multiclass.py:76: UserWarning: Label not 187 is present in all training examples.\n",
      "  str(classes[c]))\n",
      "/Users/margheritarosnati/anaconda3/lib/python3.6/site-packages/sklearn/multiclass.py:76: UserWarning: Label not 194 is present in all training examples.\n",
      "  str(classes[c]))\n",
      "/Users/margheritarosnati/anaconda3/lib/python3.6/site-packages/sklearn/multiclass.py:76: UserWarning: Label not 5 is present in all training examples.\n",
      "  str(classes[c]))\n",
      "/Users/margheritarosnati/anaconda3/lib/python3.6/site-packages/sklearn/multiclass.py:76: UserWarning: Label not 17 is present in all training examples.\n",
      "  str(classes[c]))\n",
      "/Users/margheritarosnati/anaconda3/lib/python3.6/site-packages/sklearn/multiclass.py:76: UserWarning: Label not 20 is present in all training examples.\n",
      "  str(classes[c]))\n",
      "/Users/margheritarosnati/anaconda3/lib/python3.6/site-packages/sklearn/multiclass.py:76: UserWarning: Label not 25 is present in all training examples.\n",
      "  str(classes[c]))\n",
      "/Users/margheritarosnati/anaconda3/lib/python3.6/site-packages/sklearn/multiclass.py:76: UserWarning: Label not 26 is present in all training examples.\n",
      "  str(classes[c]))\n"
     ]
    },
    {
     "name": "stderr",
     "output_type": "stream",
     "text": [
      "/Users/margheritarosnati/anaconda3/lib/python3.6/site-packages/sklearn/multiclass.py:76: UserWarning: Label not 39 is present in all training examples.\n",
      "  str(classes[c]))\n",
      "/Users/margheritarosnati/anaconda3/lib/python3.6/site-packages/sklearn/multiclass.py:76: UserWarning: Label not 43 is present in all training examples.\n",
      "  str(classes[c]))\n",
      "/Users/margheritarosnati/anaconda3/lib/python3.6/site-packages/sklearn/multiclass.py:76: UserWarning: Label not 44 is present in all training examples.\n",
      "  str(classes[c]))\n",
      "/Users/margheritarosnati/anaconda3/lib/python3.6/site-packages/sklearn/multiclass.py:76: UserWarning: Label not 45 is present in all training examples.\n",
      "  str(classes[c]))\n",
      "/Users/margheritarosnati/anaconda3/lib/python3.6/site-packages/sklearn/multiclass.py:76: UserWarning: Label not 47 is present in all training examples.\n",
      "  str(classes[c]))\n",
      "/Users/margheritarosnati/anaconda3/lib/python3.6/site-packages/sklearn/multiclass.py:76: UserWarning: Label not 48 is present in all training examples.\n",
      "  str(classes[c]))\n",
      "/Users/margheritarosnati/anaconda3/lib/python3.6/site-packages/sklearn/multiclass.py:76: UserWarning: Label not 55 is present in all training examples.\n",
      "  str(classes[c]))\n",
      "/Users/margheritarosnati/anaconda3/lib/python3.6/site-packages/sklearn/multiclass.py:76: UserWarning: Label not 57 is present in all training examples.\n",
      "  str(classes[c]))\n",
      "/Users/margheritarosnati/anaconda3/lib/python3.6/site-packages/sklearn/multiclass.py:76: UserWarning: Label not 58 is present in all training examples.\n",
      "  str(classes[c]))\n",
      "/Users/margheritarosnati/anaconda3/lib/python3.6/site-packages/sklearn/multiclass.py:76: UserWarning: Label not 59 is present in all training examples.\n",
      "  str(classes[c]))\n",
      "/Users/margheritarosnati/anaconda3/lib/python3.6/site-packages/sklearn/multiclass.py:76: UserWarning: Label not 60 is present in all training examples.\n",
      "  str(classes[c]))\n",
      "/Users/margheritarosnati/anaconda3/lib/python3.6/site-packages/sklearn/multiclass.py:76: UserWarning: Label not 65 is present in all training examples.\n",
      "  str(classes[c]))\n",
      "/Users/margheritarosnati/anaconda3/lib/python3.6/site-packages/sklearn/multiclass.py:76: UserWarning: Label not 69 is present in all training examples.\n",
      "  str(classes[c]))\n",
      "/Users/margheritarosnati/anaconda3/lib/python3.6/site-packages/sklearn/multiclass.py:76: UserWarning: Label not 74 is present in all training examples.\n",
      "  str(classes[c]))\n",
      "/Users/margheritarosnati/anaconda3/lib/python3.6/site-packages/sklearn/multiclass.py:76: UserWarning: Label not 81 is present in all training examples.\n",
      "  str(classes[c]))\n",
      "/Users/margheritarosnati/anaconda3/lib/python3.6/site-packages/sklearn/multiclass.py:76: UserWarning: Label not 82 is present in all training examples.\n",
      "  str(classes[c]))\n",
      "/Users/margheritarosnati/anaconda3/lib/python3.6/site-packages/sklearn/multiclass.py:76: UserWarning: Label not 83 is present in all training examples.\n",
      "  str(classes[c]))\n",
      "/Users/margheritarosnati/anaconda3/lib/python3.6/site-packages/sklearn/multiclass.py:76: UserWarning: Label not 92 is present in all training examples.\n",
      "  str(classes[c]))\n",
      "/Users/margheritarosnati/anaconda3/lib/python3.6/site-packages/sklearn/multiclass.py:76: UserWarning: Label not 93 is present in all training examples.\n",
      "  str(classes[c]))\n",
      "/Users/margheritarosnati/anaconda3/lib/python3.6/site-packages/sklearn/multiclass.py:76: UserWarning: Label not 95 is present in all training examples.\n",
      "  str(classes[c]))\n",
      "/Users/margheritarosnati/anaconda3/lib/python3.6/site-packages/sklearn/multiclass.py:76: UserWarning: Label not 97 is present in all training examples.\n",
      "  str(classes[c]))\n",
      "/Users/margheritarosnati/anaconda3/lib/python3.6/site-packages/sklearn/multiclass.py:76: UserWarning: Label not 98 is present in all training examples.\n",
      "  str(classes[c]))\n",
      "/Users/margheritarosnati/anaconda3/lib/python3.6/site-packages/sklearn/multiclass.py:76: UserWarning: Label not 104 is present in all training examples.\n",
      "  str(classes[c]))\n",
      "/Users/margheritarosnati/anaconda3/lib/python3.6/site-packages/sklearn/multiclass.py:76: UserWarning: Label not 112 is present in all training examples.\n",
      "  str(classes[c]))\n",
      "/Users/margheritarosnati/anaconda3/lib/python3.6/site-packages/sklearn/multiclass.py:76: UserWarning: Label not 113 is present in all training examples.\n",
      "  str(classes[c]))\n",
      "/Users/margheritarosnati/anaconda3/lib/python3.6/site-packages/sklearn/multiclass.py:76: UserWarning: Label not 115 is present in all training examples.\n",
      "  str(classes[c]))\n",
      "/Users/margheritarosnati/anaconda3/lib/python3.6/site-packages/sklearn/multiclass.py:76: UserWarning: Label not 116 is present in all training examples.\n",
      "  str(classes[c]))\n",
      "/Users/margheritarosnati/anaconda3/lib/python3.6/site-packages/sklearn/multiclass.py:76: UserWarning: Label not 118 is present in all training examples.\n",
      "  str(classes[c]))\n",
      "/Users/margheritarosnati/anaconda3/lib/python3.6/site-packages/sklearn/multiclass.py:76: UserWarning: Label not 119 is present in all training examples.\n",
      "  str(classes[c]))\n",
      "/Users/margheritarosnati/anaconda3/lib/python3.6/site-packages/sklearn/multiclass.py:76: UserWarning: Label not 120 is present in all training examples.\n",
      "  str(classes[c]))\n",
      "/Users/margheritarosnati/anaconda3/lib/python3.6/site-packages/sklearn/multiclass.py:76: UserWarning: Label not 125 is present in all training examples.\n",
      "  str(classes[c]))\n",
      "/Users/margheritarosnati/anaconda3/lib/python3.6/site-packages/sklearn/multiclass.py:76: UserWarning: Label not 128 is present in all training examples.\n",
      "  str(classes[c]))\n",
      "/Users/margheritarosnati/anaconda3/lib/python3.6/site-packages/sklearn/multiclass.py:76: UserWarning: Label not 142 is present in all training examples.\n",
      "  str(classes[c]))\n",
      "/Users/margheritarosnati/anaconda3/lib/python3.6/site-packages/sklearn/multiclass.py:76: UserWarning: Label not 149 is present in all training examples.\n",
      "  str(classes[c]))\n",
      "/Users/margheritarosnati/anaconda3/lib/python3.6/site-packages/sklearn/multiclass.py:76: UserWarning: Label not 150 is present in all training examples.\n",
      "  str(classes[c]))\n",
      "/Users/margheritarosnati/anaconda3/lib/python3.6/site-packages/sklearn/multiclass.py:76: UserWarning: Label not 151 is present in all training examples.\n",
      "  str(classes[c]))\n",
      "/Users/margheritarosnati/anaconda3/lib/python3.6/site-packages/sklearn/multiclass.py:76: UserWarning: Label not 152 is present in all training examples.\n",
      "  str(classes[c]))\n",
      "/Users/margheritarosnati/anaconda3/lib/python3.6/site-packages/sklearn/multiclass.py:76: UserWarning: Label not 166 is present in all training examples.\n",
      "  str(classes[c]))\n",
      "/Users/margheritarosnati/anaconda3/lib/python3.6/site-packages/sklearn/multiclass.py:76: UserWarning: Label not 169 is present in all training examples.\n",
      "  str(classes[c]))\n",
      "/Users/margheritarosnati/anaconda3/lib/python3.6/site-packages/sklearn/multiclass.py:76: UserWarning: Label not 170 is present in all training examples.\n",
      "  str(classes[c]))\n",
      "/Users/margheritarosnati/anaconda3/lib/python3.6/site-packages/sklearn/multiclass.py:76: UserWarning: Label not 182 is present in all training examples.\n",
      "  str(classes[c]))\n",
      "/Users/margheritarosnati/anaconda3/lib/python3.6/site-packages/sklearn/multiclass.py:76: UserWarning: Label not 187 is present in all training examples.\n",
      "  str(classes[c]))\n",
      "/Users/margheritarosnati/anaconda3/lib/python3.6/site-packages/sklearn/multiclass.py:76: UserWarning: Label not 194 is present in all training examples.\n",
      "  str(classes[c]))\n",
      "/Users/margheritarosnati/anaconda3/lib/python3.6/site-packages/sklearn/multiclass.py:76: UserWarning: Label not 5 is present in all training examples.\n",
      "  str(classes[c]))\n",
      "/Users/margheritarosnati/anaconda3/lib/python3.6/site-packages/sklearn/multiclass.py:76: UserWarning: Label not 17 is present in all training examples.\n",
      "  str(classes[c]))\n",
      "/Users/margheritarosnati/anaconda3/lib/python3.6/site-packages/sklearn/multiclass.py:76: UserWarning: Label not 20 is present in all training examples.\n",
      "  str(classes[c]))\n",
      "/Users/margheritarosnati/anaconda3/lib/python3.6/site-packages/sklearn/multiclass.py:76: UserWarning: Label not 25 is present in all training examples.\n",
      "  str(classes[c]))\n",
      "/Users/margheritarosnati/anaconda3/lib/python3.6/site-packages/sklearn/multiclass.py:76: UserWarning: Label not 26 is present in all training examples.\n",
      "  str(classes[c]))\n"
     ]
    },
    {
     "name": "stderr",
     "output_type": "stream",
     "text": [
      "/Users/margheritarosnati/anaconda3/lib/python3.6/site-packages/sklearn/multiclass.py:76: UserWarning: Label not 39 is present in all training examples.\n",
      "  str(classes[c]))\n",
      "/Users/margheritarosnati/anaconda3/lib/python3.6/site-packages/sklearn/multiclass.py:76: UserWarning: Label not 43 is present in all training examples.\n",
      "  str(classes[c]))\n",
      "/Users/margheritarosnati/anaconda3/lib/python3.6/site-packages/sklearn/multiclass.py:76: UserWarning: Label not 44 is present in all training examples.\n",
      "  str(classes[c]))\n",
      "/Users/margheritarosnati/anaconda3/lib/python3.6/site-packages/sklearn/multiclass.py:76: UserWarning: Label not 45 is present in all training examples.\n",
      "  str(classes[c]))\n",
      "/Users/margheritarosnati/anaconda3/lib/python3.6/site-packages/sklearn/multiclass.py:76: UserWarning: Label not 47 is present in all training examples.\n",
      "  str(classes[c]))\n",
      "/Users/margheritarosnati/anaconda3/lib/python3.6/site-packages/sklearn/multiclass.py:76: UserWarning: Label not 48 is present in all training examples.\n",
      "  str(classes[c]))\n",
      "/Users/margheritarosnati/anaconda3/lib/python3.6/site-packages/sklearn/multiclass.py:76: UserWarning: Label not 55 is present in all training examples.\n",
      "  str(classes[c]))\n",
      "/Users/margheritarosnati/anaconda3/lib/python3.6/site-packages/sklearn/multiclass.py:76: UserWarning: Label not 58 is present in all training examples.\n",
      "  str(classes[c]))\n",
      "/Users/margheritarosnati/anaconda3/lib/python3.6/site-packages/sklearn/multiclass.py:76: UserWarning: Label not 59 is present in all training examples.\n",
      "  str(classes[c]))\n",
      "/Users/margheritarosnati/anaconda3/lib/python3.6/site-packages/sklearn/multiclass.py:76: UserWarning: Label not 60 is present in all training examples.\n",
      "  str(classes[c]))\n",
      "/Users/margheritarosnati/anaconda3/lib/python3.6/site-packages/sklearn/multiclass.py:76: UserWarning: Label not 62 is present in all training examples.\n",
      "  str(classes[c]))\n",
      "/Users/margheritarosnati/anaconda3/lib/python3.6/site-packages/sklearn/multiclass.py:76: UserWarning: Label not 65 is present in all training examples.\n",
      "  str(classes[c]))\n",
      "/Users/margheritarosnati/anaconda3/lib/python3.6/site-packages/sklearn/multiclass.py:76: UserWarning: Label not 66 is present in all training examples.\n",
      "  str(classes[c]))\n",
      "/Users/margheritarosnati/anaconda3/lib/python3.6/site-packages/sklearn/multiclass.py:76: UserWarning: Label not 69 is present in all training examples.\n",
      "  str(classes[c]))\n",
      "/Users/margheritarosnati/anaconda3/lib/python3.6/site-packages/sklearn/multiclass.py:76: UserWarning: Label not 74 is present in all training examples.\n",
      "  str(classes[c]))\n",
      "/Users/margheritarosnati/anaconda3/lib/python3.6/site-packages/sklearn/multiclass.py:76: UserWarning: Label not 81 is present in all training examples.\n",
      "  str(classes[c]))\n",
      "/Users/margheritarosnati/anaconda3/lib/python3.6/site-packages/sklearn/multiclass.py:76: UserWarning: Label not 82 is present in all training examples.\n",
      "  str(classes[c]))\n",
      "/Users/margheritarosnati/anaconda3/lib/python3.6/site-packages/sklearn/multiclass.py:76: UserWarning: Label not 83 is present in all training examples.\n",
      "  str(classes[c]))\n",
      "/Users/margheritarosnati/anaconda3/lib/python3.6/site-packages/sklearn/multiclass.py:76: UserWarning: Label not 92 is present in all training examples.\n",
      "  str(classes[c]))\n",
      "/Users/margheritarosnati/anaconda3/lib/python3.6/site-packages/sklearn/multiclass.py:76: UserWarning: Label not 97 is present in all training examples.\n",
      "  str(classes[c]))\n",
      "/Users/margheritarosnati/anaconda3/lib/python3.6/site-packages/sklearn/multiclass.py:76: UserWarning: Label not 104 is present in all training examples.\n",
      "  str(classes[c]))\n",
      "/Users/margheritarosnati/anaconda3/lib/python3.6/site-packages/sklearn/multiclass.py:76: UserWarning: Label not 109 is present in all training examples.\n",
      "  str(classes[c]))\n",
      "/Users/margheritarosnati/anaconda3/lib/python3.6/site-packages/sklearn/multiclass.py:76: UserWarning: Label not 112 is present in all training examples.\n",
      "  str(classes[c]))\n",
      "/Users/margheritarosnati/anaconda3/lib/python3.6/site-packages/sklearn/multiclass.py:76: UserWarning: Label not 113 is present in all training examples.\n",
      "  str(classes[c]))\n",
      "/Users/margheritarosnati/anaconda3/lib/python3.6/site-packages/sklearn/multiclass.py:76: UserWarning: Label not 115 is present in all training examples.\n",
      "  str(classes[c]))\n",
      "/Users/margheritarosnati/anaconda3/lib/python3.6/site-packages/sklearn/multiclass.py:76: UserWarning: Label not 116 is present in all training examples.\n",
      "  str(classes[c]))\n",
      "/Users/margheritarosnati/anaconda3/lib/python3.6/site-packages/sklearn/multiclass.py:76: UserWarning: Label not 118 is present in all training examples.\n",
      "  str(classes[c]))\n",
      "/Users/margheritarosnati/anaconda3/lib/python3.6/site-packages/sklearn/multiclass.py:76: UserWarning: Label not 119 is present in all training examples.\n",
      "  str(classes[c]))\n",
      "/Users/margheritarosnati/anaconda3/lib/python3.6/site-packages/sklearn/multiclass.py:76: UserWarning: Label not 120 is present in all training examples.\n",
      "  str(classes[c]))\n",
      "/Users/margheritarosnati/anaconda3/lib/python3.6/site-packages/sklearn/multiclass.py:76: UserWarning: Label not 125 is present in all training examples.\n",
      "  str(classes[c]))\n",
      "/Users/margheritarosnati/anaconda3/lib/python3.6/site-packages/sklearn/multiclass.py:76: UserWarning: Label not 149 is present in all training examples.\n",
      "  str(classes[c]))\n",
      "/Users/margheritarosnati/anaconda3/lib/python3.6/site-packages/sklearn/multiclass.py:76: UserWarning: Label not 150 is present in all training examples.\n",
      "  str(classes[c]))\n",
      "/Users/margheritarosnati/anaconda3/lib/python3.6/site-packages/sklearn/multiclass.py:76: UserWarning: Label not 152 is present in all training examples.\n",
      "  str(classes[c]))\n",
      "/Users/margheritarosnati/anaconda3/lib/python3.6/site-packages/sklearn/multiclass.py:76: UserWarning: Label not 166 is present in all training examples.\n",
      "  str(classes[c]))\n",
      "/Users/margheritarosnati/anaconda3/lib/python3.6/site-packages/sklearn/multiclass.py:76: UserWarning: Label not 169 is present in all training examples.\n",
      "  str(classes[c]))\n",
      "/Users/margheritarosnati/anaconda3/lib/python3.6/site-packages/sklearn/multiclass.py:76: UserWarning: Label not 170 is present in all training examples.\n",
      "  str(classes[c]))\n",
      "/Users/margheritarosnati/anaconda3/lib/python3.6/site-packages/sklearn/multiclass.py:76: UserWarning: Label not 182 is present in all training examples.\n",
      "  str(classes[c]))\n",
      "/Users/margheritarosnati/anaconda3/lib/python3.6/site-packages/sklearn/multiclass.py:76: UserWarning: Label not 187 is present in all training examples.\n",
      "  str(classes[c]))\n",
      "/Users/margheritarosnati/anaconda3/lib/python3.6/site-packages/sklearn/multiclass.py:76: UserWarning: Label not 194 is present in all training examples.\n",
      "  str(classes[c]))\n",
      "/Users/margheritarosnati/anaconda3/lib/python3.6/site-packages/sklearn/multiclass.py:76: UserWarning: Label not 198 is present in all training examples.\n",
      "  str(classes[c]))\n"
     ]
    }
   ],
   "source": [
    "# same as above, with logistic regression\n",
    "# note: again, this doesnt work for probability distributed labeling\n",
    "base_lr = LogisticRegression(solver='lbfgs')\n",
    "ovr = OneVsRestClassifier(base_lr)\n",
    "#ovr.fit(tix_q_mat, yt3)\n",
    "scores = cross_val_score(ovr, tix_q_mat, yt3, cv=5, scoring = r2_scorer)"
   ]
  },
  {
   "cell_type": "code",
   "execution_count": 386,
   "metadata": {},
   "outputs": [
    {
     "name": "stdout",
     "output_type": "stream",
     "text": [
      "0.46965255278605245\n"
     ]
    }
   ],
   "source": [
    "cv_score = scores.mean()\n",
    "print(cv_score)"
   ]
  },
  {
   "cell_type": "code",
   "execution_count": null,
   "metadata": {
    "collapsed": true
   },
   "outputs": [],
   "source": [
    "# Next step: try MultiOutputRegressor"
   ]
  }
 ],
 "metadata": {
  "kernelspec": {
   "display_name": "Python 3",
   "language": "python",
   "name": "python3"
  },
  "language_info": {
   "codemirror_mode": {
    "name": "ipython",
    "version": 3
   },
   "file_extension": ".py",
   "mimetype": "text/x-python",
   "name": "python",
   "nbconvert_exporter": "python",
   "pygments_lexer": "ipython3",
   "version": "3.6.3"
  }
 },
 "nbformat": 4,
 "nbformat_minor": 2
}
