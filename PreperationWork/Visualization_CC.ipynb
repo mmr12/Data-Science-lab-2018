{
 "cells": [
  {
   "cell_type": "code",
   "execution_count": 5,
   "metadata": {},
   "outputs": [],
   "source": [
    "import pandas as pd\n",
    "import pickle\n",
    "import random\n",
    "import numpy as np\n",
    "#Model\n",
    "from gensim.models import Word2Vec\n",
    "from scipy.spatial import distance\n",
    "from gensim.models.doc2vec import Doc2Vec\n",
    "# visualisation\n",
    "import seaborn as sns\n",
    "import matplotlib.pyplot as plt"
   ]
  },
  {
   "cell_type": "code",
   "execution_count": 6,
   "metadata": {},
   "outputs": [],
   "source": [
    "faq_path = '../data/12-04-faq_dat.csv'\n",
    "tix_path = '../data/12-04-ticket_dat.csv'"
   ]
  },
  {
   "cell_type": "code",
   "execution_count": 7,
   "metadata": {
    "scrolled": true
   },
   "outputs": [],
   "source": [
    "ticket_dat = pd.read_csv(tix_path)\n",
    "faq_dat = pd.read_csv(faq_path)"
   ]
  },
  {
   "cell_type": "code",
   "execution_count": 8,
   "metadata": {},
   "outputs": [
    {
     "name": "stdout",
     "output_type": "stream",
     "text": [
      "(4206, 6) (199, 7)\n"
     ]
    }
   ],
   "source": [
    "print(ticket_dat.shape, faq_dat.shape )\n",
    "ticket_dat.fillna('', inplace=True)\n",
    "faq_dat.fillna('', inplace=True)"
   ]
  },
  {
   "cell_type": "code",
   "execution_count": 9,
   "metadata": {},
   "outputs": [],
   "source": [
    "faq_ques = list(faq_dat.question)\n",
    "n_faq_ques = len(faq_ques)\n",
    "\n",
    "faq_ans = list(faq_dat.answer_title + \" \" + faq_dat.answer)\n",
    "n_faq_ans = len(faq_ans)\n",
    "\n",
    "ticket_ques = list(ticket_dat.question)\n",
    "n_ticket_ques = len(ticket_ques)\n",
    "\n",
    "ticket_ans = list(ticket_dat.answer)\n",
    "n_ticket_ans = len(ticket_ans)"
   ]
  },
  {
   "cell_type": "code",
   "execution_count": 10,
   "metadata": {},
   "outputs": [],
   "source": [
    "with open(\"../code/embedding/models/doc_data/id_dict.txt\", \"rb\") as fp:\n",
    "    id_dict = pickle.load(fp)\n",
    "\n",
    "with open(\"../code/embedding/models/doc_data/all_docs_prepro.txt\", \"rb\") as fp:\n",
    "    all_docs_prepro = pickle.load(fp)\n",
    "    \n",
    "#ticket_ans_ids = np.array(id_dict['ticket_ans'])\n",
    "#all_faq_ans = id_dict['faq_ans']\n",
    "\n",
    "model_path = '../code/embedding/models/word2vec.model'\n",
    "model = Word2Vec.load(model_path)"
   ]
  },
  {
   "cell_type": "code",
   "execution_count": 11,
   "metadata": {},
   "outputs": [
    {
     "data": {
      "text/plain": [
       "(['faq_ques', 'faq_ans', 'ticket_ques', 'ticket_ans'], 8810)"
      ]
     },
     "execution_count": 11,
     "metadata": {},
     "output_type": "execute_result"
    }
   ],
   "source": [
    "list(id_dict), len(all_docs_prepro)"
   ]
  },
  {
   "cell_type": "code",
   "execution_count": 97,
   "metadata": {},
   "outputs": [],
   "source": [
    "all_docs_prepro = filter(None, all_docs_prepro)\n",
    "all_docs_prepro=list(all_docs_prepro)"
   ]
  },
  {
   "cell_type": "code",
   "execution_count": 12,
   "metadata": {},
   "outputs": [],
   "source": [
    "def doc_emb(name):\n",
    "    mean_ans = np.empty((len(id_dict[name]), 128), dtype=float)\n",
    "    for j in id_dict[name]:\n",
    "        sentence = all_docs_prepro[j]\n",
    "        words = np.empty((len(sentence), 128), dtype=float)\n",
    "        for i in range(len(sentence)):\n",
    "            words[i] = model[sentence[i]]\n",
    "        mean_ans[j - id_dict[name][0]] = np.apply_along_axis(np.mean, 0, words)\n",
    "    return mean_ans"
   ]
  },
  {
   "cell_type": "code",
   "execution_count": 13,
   "metadata": {},
   "outputs": [
    {
     "name": "stderr",
     "output_type": "stream",
     "text": [
      "c:\\users\\costanza\\appdata\\local\\programs\\python\\python37-32\\lib\\site-packages\\ipykernel_launcher.py:7: DeprecationWarning: Call to deprecated `__getitem__` (Method will be removed in 4.0.0, use self.wv.__getitem__() instead).\n",
      "  import sys\n"
     ]
    }
   ],
   "source": [
    "#create doc vector for tickets answers i.e. average over each ticket ans the word2vec vector for each word\n",
    "mean_ticket_ans = doc_emb('ticket_ans')\n",
    "#create doc vector for faq ans i.e. average over each faq ans the word2vec vector for each word\n",
    "mean_faq_ans = doc_emb('faq_ans')"
   ]
  },
  {
   "cell_type": "code",
   "execution_count": 14,
   "metadata": {},
   "outputs": [],
   "source": [
    "#create matrix with cosine distances from all ticket ans to all faq ans\n",
    "ticket_faq_dists = np.empty((len(mean_ticket_ans), len(mean_faq_ans)), dtype=float)\n",
    "for i in range(len(mean_ticket_ans)):\n",
    "    for j in range(len(mean_faq_ans)):\n",
    "        ticket_faq_dists[i, j] = distance.cosine(mean_ticket_ans[i], mean_faq_ans[j])\n",
    "\n",
    "#most similar faq - ticket mapping\n",
    "ticket_faq_map = np.argmin(ticket_faq_dists, axis=1)\n",
    "\n",
    "#too big distances are set to a separate class\n",
    "#big_dist = [ticket_faq_dists.min(axis=1) > 0.7]\n",
    "#ticket_faq_map[big_dist] = -1  # Set all thresholded distances to have label -1"
   ]
  },
  {
   "cell_type": "code",
   "execution_count": 17,
   "metadata": {},
   "outputs": [],
   "source": [
    "#for debug\n",
    "for i in range(mean_faq_ans.shape[0]):\n",
    "    for j in range(mean_faq_ans.shape[1]):\n",
    "        if np.isnan(mean_faq_ans[i,j]) ==True: \n",
    "            print('row {0}, column {1}'.format(i,j))"
   ]
  },
  {
   "cell_type": "code",
   "execution_count": 16,
   "metadata": {
    "scrolled": true
   },
   "outputs": [],
   "source": [
    "#for debug\n",
    "for i in range(len(all_docs_prepro)):\n",
    "    if not all_docs_prepro[i]:\n",
    "        print(i)"
   ]
  },
  {
   "cell_type": "markdown",
   "metadata": {},
   "source": [
    "# Visualization word2vec"
   ]
  },
  {
   "cell_type": "code",
   "execution_count": 18,
   "metadata": {},
   "outputs": [],
   "source": [
    "temp = np.copy(ticket_faq_dists)\n",
    "temp[np.isnan(ticket_faq_dists)] = 1"
   ]
  },
  {
   "cell_type": "code",
   "execution_count": 19,
   "metadata": {},
   "outputs": [
    {
     "data": {
      "image/png": "[encoded data removed]",
      "text/plain": [
       "<Figure size 432x288 with 1 Axes>"
      ]
     },
     "metadata": {
      "needs_background": "light"
     },
     "output_type": "display_data"
    }
   ],
   "source": [
    "# take highest scoring FAQ per ticket\n",
    "# plot similarity distribution\n",
    "strength_FAQ_ticket = 1 - np.min(temp, axis=1)\n",
    "bins =  np.linspace(0, max(strength_FAQ_ticket),50)\n",
    "plt.hist(strength_FAQ_ticket, bins,alpha=.5, range=(0,1))\n",
    "plt.show()"
   ]
  },
  {
   "cell_type": "code",
   "execution_count": 147,
   "metadata": {},
   "outputs": [
    {
     "name": "stdout",
     "output_type": "stream",
     "text": [
      "[1.0, 1.0, 1.0, 1.0]\n"
     ]
    }
   ],
   "source": [
    "# some stats:\n",
    "thres = np.asarray([0.5, 0.3, 0.2, 0.1])\n",
    "denom = len(strength_FAQ_ticket)\n",
    "print([round(np.sum(strength_FAQ_ticket>i)/denom,2) for i in thres])"
   ]
  },
  {
   "cell_type": "code",
   "execution_count": 148,
   "metadata": {},
   "outputs": [],
   "source": [
    "# VISUALISATION\n",
    "FAQ_per_ticket = np.argmin(temp, axis=1)\n",
    "#unique, counts = np.unique(FAQ_per_ticket, return_counts=True)"
   ]
  },
  {
   "cell_type": "code",
   "execution_count": 149,
   "metadata": {},
   "outputs": [],
   "source": [
    "# creating some samples\n",
    "subspace =np.nonzero(strength_FAQ_ticket<0.2)\n",
    "a = random.sample(list(subspace[0]), 1)[0]\n",
    "b = FAQ_per_ticket[a]"
   ]
  },
  {
   "cell_type": "code",
   "execution_count": 150,
   "metadata": {},
   "outputs": [
    {
     "name": "stdout",
     "output_type": "stream",
     "text": [
      "Similarity score:  0.0 \t\t[ 1564 , 0 ],\n",
      "\n",
      "Ticket: ques:\t Hi, Can you please sign the attached scr for a CACert certificate. Greetings Markus \n",
      "\n",
      "tick_ans:\t And this:\n"
     ]
    }
   ],
   "source": [
    "# Looking at samples created\n",
    "print(\"Similarity score: \", strength_FAQ_ticket[a], '\\t\\t[',a,',',b,'],')\n",
    "print('\\nTicket: ques:\\t', ticket_ques[a], '\\n\\ntick_ans:\\t', ticket_ans[a])\n",
    "#print('\\n\\nFAQ: ques:\\t', faq_ques[b], '\\n\\nFAQ_ans:\\t', faq_ans[b])"
   ]
  },
  {
   "cell_type": "code",
   "execution_count": 152,
   "metadata": {},
   "outputs": [],
   "source": [
    "# samples in 29.11 presentation\n",
    "samples = {\n",
    "    50:[299, 171],\n",
    "    30:[ 2613 , 12 ],\n",
    "    20: [ 61 , 172 ],\n",
    "    'vals': [57,31,13]\n",
    "}"
   ]
  },
  {
   "cell_type": "code",
   "execution_count": 153,
   "metadata": {},
   "outputs": [],
   "source": [
    "[a,b] = samples[50]"
   ]
  },
  {
   "cell_type": "code",
   "execution_count": 154,
   "metadata": {},
   "outputs": [
    {
     "name": "stdout",
     "output_type": "stream",
     "text": [
      "0.27445455572741967 0.9315380892034727\n"
     ]
    }
   ],
   "source": [
    "# allocate <50% sim to -1\n",
    "med = np.median(strength_FAQ_ticket)\n",
    "# to give you a feel:\n",
    "print(np.median(temp), np.median(strength_FAQ_ticket))"
   ]
  },
  {
   "cell_type": "code",
   "execution_count": 162,
   "metadata": {},
   "outputs": [
    {
     "data": {
      "image/png": "[encoded data removed]",
      "text/plain": [
       "<Figure size 432x288 with 1 Axes>"
      ]
     },
     "metadata": {
      "needs_background": "light"
     },
     "output_type": "display_data"
    }
   ],
   "source": [
    "# try I: med over all similarities\n",
    "# look at distribution\n",
    "sf2t = np.copy(strength_FAQ_ticket)\n",
    "sf2t[sf2t < med] = -1\n",
    "f2t = np.copy(FAQ_per_ticket)\n",
    "f2t[sf2t < med] = -1\n",
    "bins =  np.linspace(-1, max(strength_FAQ_ticket),50)\n",
    "plt.hist(sf2t, bins,alpha=.5)\n",
    "plt.show()"
   ]
  },
  {
   "cell_type": "code",
   "execution_count": null,
   "metadata": {},
   "outputs": [],
   "source": []
  },
  {
   "cell_type": "markdown",
   "metadata": {},
   "source": [
    "# Visualization doc2vec"
   ]
  },
  {
   "cell_type": "code",
   "execution_count": 167,
   "metadata": {
    "scrolled": true
   },
   "outputs": [
    {
     "name": "stdout",
     "output_type": "stream",
     "text": [
      "Computing doc2vec Similarities...\n"
     ]
    }
   ],
   "source": [
    "ticket_ans_ids = np.array(id_dict['ticket_ans'])\n",
    "all_faq_ans = id_dict['faq_ans']\n",
    "\n",
    "model_path = '../code/embedding/models/doc2vec.model'\n",
    "model = Doc2Vec.load(model_path)\n",
    "\n",
    "# Presently compute distances to all and then filter to FAQs after, specifying other_docs = all_faq_ans doesn't seem\n",
    "# to work for some reason.\n",
    "def sim_to_faq(doc_id):\n",
    "    # Computes similarity to all faqs for a given doc_id\n",
    "    dists = model.docvecs.distances(doc_id, other_docs=())\n",
    "    return np.array(dists[all_faq_ans])\n",
    "\n",
    "sim_to_faq_vec = np.vectorize(sim_to_faq, otypes=[object])\n",
    "\n",
    "ticket_faq_dists = np.stack(sim_to_faq_vec(ticket_ans_ids)) #array w/ similarity btw each ticket_ans and each faq ans\n",
    "ticket_faq_map = np.argmin(ticket_faq_dists, axis=1)\n",
    "\n",
    "# We should threshold the distances so that if the minimum distance is not below a certain value then we assign it an\n",
    "# unknown class\n",
    "#big_dist = [ticket_faq_dists.min(axis=1) > 0.7]\n",
    "#ticket_faq_map[big_dist] = -1 # Set all thresholded distances to have label -1\n",
    "#to do: correct this assignment"
   ]
  },
  {
   "cell_type": "code",
   "execution_count": 168,
   "metadata": {},
   "outputs": [],
   "source": [
    "temp = np.copy(ticket_faq_dists)\n",
    "temp[np.isnan(ticket_faq_dists)] = 1"
   ]
  },
  {
   "cell_type": "code",
   "execution_count": 169,
   "metadata": {},
   "outputs": [
    {
     "data": {
      "image/png": "[encoded data removed]",
      "text/plain": [
       "<Figure size 432x288 with 1 Axes>"
      ]
     },
     "metadata": {
      "needs_background": "light"
     },
     "output_type": "display_data"
    }
   ],
   "source": [
    "# take highest scoring FAQ per ticket\n",
    "# plot similarity distribution\n",
    "strength_FAQ_ticket = 1 - np.min(temp, axis=1)\n",
    "bins =  np.linspace(0, max(strength_FAQ_ticket),50)\n",
    "plt.hist(strength_FAQ_ticket, bins,alpha=.5, range=(0,1))\n",
    "plt.show()"
   ]
  },
  {
   "cell_type": "code",
   "execution_count": 170,
   "metadata": {},
   "outputs": [
    {
     "name": "stdout",
     "output_type": "stream",
     "text": [
      "[0.99, 1.0, 1.0, 1.0]\n"
     ]
    }
   ],
   "source": [
    "# some stats:\n",
    "thres = np.asarray([0.5, 0.3, 0.2, 0.1])\n",
    "denom = len(strength_FAQ_ticket)\n",
    "print([round(np.sum(strength_FAQ_ticket>i)/denom,2) for i in thres])"
   ]
  },
  {
   "cell_type": "code",
   "execution_count": 171,
   "metadata": {},
   "outputs": [],
   "source": [
    "# VISUALISATION\n",
    "FAQ_per_ticket = np.argmin(temp, axis=1)\n",
    "#unique, counts = np.unique(FAQ_per_ticket, return_counts=True)"
   ]
  },
  {
   "cell_type": "code",
   "execution_count": 208,
   "metadata": {},
   "outputs": [
    {
     "name": "stdout",
     "output_type": "stream",
     "text": [
      "1564\n",
      "56\n"
     ]
    }
   ],
   "source": [
    "# creating some samples\n",
    "subspace =np.nonzero(strength_FAQ_ticket<0.2)\n",
    "a = random.sample(list(subspace[0]), 1)[0]\n",
    "print(a)\n",
    "b = FAQ_per_ticket[a]\n",
    "print(b)"
   ]
  },
  {
   "cell_type": "code",
   "execution_count": 205,
   "metadata": {},
   "outputs": [
    {
     "name": "stdout",
     "output_type": "stream",
     "text": [
      "Similarity score:  0.12461877 \t\t[ 1564 , 56 ],\n",
      "\n",
      "Ticket: ques:\t Hi, Can you please sign the attached scr for a CACert certificate. Greetings Markus \n",
      "\n",
      "tick_ans:\t And this:\n",
      "\n",
      "\n",
      "FAQ: ques:\t DNS problems \n",
      "\n",
      "FAQ_ans:\t DNS We have some problems with our DNS server at the moment. Some websites and services are not running because of this problem. Please try it again later. \n"
     ]
    }
   ],
   "source": [
    "# Looking at samples created\n",
    "print(\"Similarity score: \", strength_FAQ_ticket[a], '\\t\\t[',a,',',b,'],')\n",
    "print('\\nTicket: ques:\\t', ticket_ques[a], '\\n\\ntick_ans:\\t', ticket_ans[a])\n",
    "print('\\n\\nFAQ: ques:\\t', faq_ques[b], '\\n\\nFAQ_ans:\\t', faq_ans[b])"
   ]
  },
  {
   "cell_type": "code",
   "execution_count": 174,
   "metadata": {},
   "outputs": [],
   "source": [
    "# samples in 29.11 presentation\n",
    "samples = {\n",
    "    50:[299, 171],\n",
    "    30:[ 2613 , 12 ],\n",
    "    20: [ 61 , 172 ],\n",
    "    'vals': [57,31,13]\n",
    "}"
   ]
  },
  {
   "cell_type": "code",
   "execution_count": 175,
   "metadata": {},
   "outputs": [],
   "source": [
    "[a,b] = samples[50]"
   ]
  },
  {
   "cell_type": "code",
   "execution_count": 176,
   "metadata": {},
   "outputs": [
    {
     "name": "stdout",
     "output_type": "stream",
     "text": [
      "0.59367746 0.8638884\n"
     ]
    }
   ],
   "source": [
    "# allocate <50% sim to -1\n",
    "med = np.median(strength_FAQ_ticket)\n",
    "# to give you a feel:\n",
    "print(np.median(temp), np.median(strength_FAQ_ticket))"
   ]
  },
  {
   "cell_type": "code",
   "execution_count": 177,
   "metadata": {},
   "outputs": [
    {
     "data": {
      "image/png": "[encoded data removed]",
      "text/plain": [
       "<Figure size 432x288 with 1 Axes>"
      ]
     },
     "metadata": {
      "needs_background": "light"
     },
     "output_type": "display_data"
    }
   ],
   "source": [
    "# try I: med over all similarities\n",
    "# look at distribution\n",
    "sf2t = np.copy(strength_FAQ_ticket)\n",
    "sf2t[sf2t < med] = -1\n",
    "f2t = np.copy(FAQ_per_ticket)\n",
    "f2t[sf2t < med] = -1\n",
    "bins =  np.linspace(-1, max(strength_FAQ_ticket),50)\n",
    "plt.hist(sf2t, bins,alpha=.5)\n",
    "plt.show()"
   ]
  },
  {
   "cell_type": "code",
   "execution_count": null,
   "metadata": {},
   "outputs": [],
   "source": []
  }
 ],
 "metadata": {
  "kernelspec": {
   "display_name": "Python 3",
   "language": "python",
   "name": "python3"
  },
  "language_info": {
   "codemirror_mode": {
    "name": "ipython",
    "version": 3
   },
   "file_extension": ".py",
   "mimetype": "text/x-python",
   "name": "python",
   "nbconvert_exporter": "python",
   "pygments_lexer": "ipython3",
   "version": "3.7.1"
  }
 },
 "nbformat": 4,
 "nbformat_minor": 2
}
