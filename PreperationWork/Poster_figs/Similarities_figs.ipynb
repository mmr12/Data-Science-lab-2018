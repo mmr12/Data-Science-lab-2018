{
 "cells": [
  {
   "cell_type": "code",
   "execution_count": 1,
   "metadata": {
    "collapsed": true
   },
   "outputs": [],
   "source": [
    "import pickle\n",
    "import numpy as np\n",
    "from scipy.spatial import distance\n",
    "from joblib import load\n",
    "from sklearn.metrics.pairwise import cosine_similarity\n",
    "import pandas as pd\n",
    "from matplotlib import pyplot as plt\n",
    "from gensim.models.doc2vec import Doc2Vec\n",
    "from gensim.models import Word2Vec, TfidfModel\n",
    "from gensim.corpora import Dictionary"
   ]
  },
  {
   "cell_type": "markdown",
   "metadata": {},
   "source": [
    "# Load data"
   ]
  },
  {
   "cell_type": "code",
   "execution_count": 2,
   "metadata": {
    "collapsed": true
   },
   "outputs": [],
   "source": [
    "# validation set questions and corresponding FAQs\n",
    "data_prefix='../../data/12-08-'\n",
    "with open(data_prefix + 'val-test.pkl', \"rb\") as fp:\n",
    "    test_dic = pickle.load(fp) "
   ]
  },
  {
   "cell_type": "code",
   "execution_count": 3,
   "metadata": {
    "collapsed": true
   },
   "outputs": [],
   "source": [
    "# unlabelled data\n",
    "# load data:\n",
    "with open(\"../../code/embedding/models/doc_data/all_docs_sep.pkl\", \"rb\") as fp:\n",
    "    all_docs_sep = pickle.load(fp)\n",
    "\n",
    "faq_ques = all_docs_sep['faq_ques']    \n",
    "faq_ans = all_docs_sep['faq_ans']\n",
    "ticket_ques = all_docs_sep['ticket_ques']\n",
    "ticket_ans = all_docs_sep['ticket_ans']"
   ]
  },
  {
   "cell_type": "code",
   "execution_count": 4,
   "metadata": {
    "collapsed": true
   },
   "outputs": [],
   "source": [
    "# quick put together of validation set answers\n",
    "labelled_data = pd.read_csv('../../data/validate.csv')\n",
    "all_path = '../../data/12-04-ticket_dat.csv'\n",
    "x_all = pd.read_csv(all_path)\n",
    "x_val_ind = list(labelled_data.ticket_id)\n",
    "x_val_ans = np.asarray(x_all.loc[x_all['ticket_id'].isin(x_val_ind)].sort_values(\"ticket_id\")[\"answer\"])"
   ]
  },
  {
   "cell_type": "markdown",
   "metadata": {},
   "source": [
    "# TFiDF Question to FAQ similarity"
   ]
  },
  {
   "cell_type": "code",
   "execution_count": 5,
   "metadata": {
    "collapsed": true
   },
   "outputs": [],
   "source": [
    "TFiDF_ques = load('../../code/embedding/models/TF-IFD-ticket-ques.joblib')\n",
    "# make matrix\n",
    "FAQ_matrix_ques = TFiDF_ques.transform(faq_ans)\n",
    "ticket_matrix_ques = TFiDF_ques.transform(ticket_ques)\n",
    "# similarities\n",
    "sim_matrix_ques = cosine_similarity(FAQ_matrix_ques, ticket_matrix_ques)\n",
    "# Using Closest FAQ similarity as a measure \n",
    "strength_FAQ_ticket_ques = np.max(sim_matrix_ques, axis=0)"
   ]
  },
  {
   "cell_type": "code",
   "execution_count": 6,
   "metadata": {
    "collapsed": true
   },
   "outputs": [],
   "source": [
    "val_matrix_ques = TFiDF_ques.transform(test_dic[\"x_val\"])\n",
    "#\n",
    "test_dic[\"y_val\"][test_dic[\"y_val\"]==199]=-1\n",
    "val_pos_ques = val_matrix_ques[test_dic[\"y_val\"]!=-1,:]\n",
    "val_neg_ques = val_matrix_ques[test_dic[\"y_val\"]==-1,:]\n",
    "val_neg_ques.shape, val_pos_ques.shape\n",
    "#\n",
    "sFT_val_pos_ques = np.max(cosine_similarity(FAQ_matrix_ques, val_pos_ques), axis=0)\n",
    "sFT_val_neg_ques = np.max(cosine_similarity(FAQ_matrix_ques, val_neg_ques), axis=0)"
   ]
  },
  {
   "cell_type": "code",
   "execution_count": 22,
   "metadata": {},
   "outputs": [
    {
     "data": {
      "image/png": "[encoded data removed]",
      "text/plain": [
       "<matplotlib.figure.Figure at 0x1a2a311dd8>"
      ]
     },
     "metadata": {},
     "output_type": "display_data"
    }
   ],
   "source": [
    "fig, ax1 = plt.subplots()\n",
    "bins =  np.linspace(0, 1,25)\n",
    "ax1.hist(strength_FAQ_ticket_ques, bins,alpha=1, label=\"Unlabelled data\", color=\"#C6E2F9\")\n",
    "ax1.set_xlabel('TFiDF ticket question to best FAQ similarity')\n",
    "ax1.set_ylabel('no. tickets unlabelled data')\n",
    "thresh = np.quantile(strength_FAQ_ticket_ques,0.75)\n",
    "plt.ylim(top=1600) \n",
    "plt.axvline(x=thresh,color='k')\n",
    "ax2 = ax1.twinx()\n",
    "ax2.hist(sFT_val_pos_ques, bins,alpha=1, label=\"Validation set class FAQ\", color = \"green\", histtype =\"step\")\n",
    "ax2.hist(sFT_val_neg_ques, bins,alpha=1, label=\"Validation set class no FAQ\", color = \"red\", histtype =\"step\")\n",
    "ax2.set_ylabel('no. tickets validation')\n",
    "plt.ylim(top=30) \n",
    "\n",
    "fig.tight_layout()\n",
    "ax1.legend(loc=2)\n",
    "ax2.legend()\n",
    "plt.show()\n"
   ]
  },
  {
   "cell_type": "markdown",
   "metadata": {},
   "source": [
    "# TFiDF Answer to FAQ similarity"
   ]
  },
  {
   "cell_type": "code",
   "execution_count": 23,
   "metadata": {
    "collapsed": true
   },
   "outputs": [],
   "source": [
    "TFiDF_ans = load('../../code/embedding/models/TF-IFD-ans.joblib')\n",
    "FAQ_matrix_ans = TFiDF_ans.transform(faq_ans)\n",
    "ticket_matrix_ans = TFiDF_ans.transform(ticket_ans)\n",
    "sim_matrix_ans = cosine_similarity(FAQ_matrix_ans, ticket_matrix_ans)\n",
    "strength_FAQ_ticket_max_ans = np.max(sim_matrix_ans, axis=0)"
   ]
  },
  {
   "cell_type": "code",
   "execution_count": 24,
   "metadata": {
    "collapsed": true
   },
   "outputs": [],
   "source": [
    "val_matrix_ans = TFiDF_ans.transform(x_val_ans)\n",
    "val_pos_ans = val_matrix_ans[test_dic[\"y_val\"]!=-1,:]\n",
    "val_neg_ans = val_matrix_ans[test_dic[\"y_val\"]==-1,:]\n",
    "sFT_val_pos_ans = np.max(cosine_similarity(FAQ_matrix_ans, val_pos_ans), axis=0)\n",
    "sFT_val_neg_ans = np.max(cosine_similarity(FAQ_matrix_ans, val_neg_ans), axis=0)"
   ]
  },
  {
   "cell_type": "code",
   "execution_count": 25,
   "metadata": {},
   "outputs": [
    {
     "data": {
      "image/png": "[encoded data removed]",
      "text/plain": [
       "<matplotlib.figure.Figure at 0x1a26464898>"
      ]
     },
     "metadata": {},
     "output_type": "display_data"
    },
    {
     "name": "stdout",
     "output_type": "stream",
     "text": [
      "thresh= 0.23799952906832816\n"
     ]
    }
   ],
   "source": [
    "fig, ax1 = plt.subplots()\n",
    "bins =  np.linspace(0, 1,25)\n",
    "ax1.hist(strength_FAQ_ticket_max_ans, bins,alpha=1, label=\"Unlabelled data\",  color=\"#C6E2F9\")\n",
    "#ax1.set_xlabel('TF-iDF ticket answer to best FAQ similarity')\n",
    "ax1.set_xlabel('TF-iDF')\n",
    "#ax1.set_ylabel('no. tickets unlabelled data')\n",
    "plt.ylim(top=1200) \n",
    "thresh = np.quantile(strength_FAQ_ticket_max_ans,0.75)\n",
    "plt.axvline(x=thresh,color='k',ymax=1000)\n",
    "ax2 = ax1.twinx()\n",
    "ax2.hist(sFT_val_pos_ans, bins,alpha=1, label=\"Validation set class FAQ\", color = \"green\", histtype =\"step\")\n",
    "ax2.hist(sFT_val_neg_ans, bins,alpha=1, label=\"Validation set class no FAQ\", color = \"red\", histtype =\"step\")\n",
    "#ax2.set_ylabel('no. tickets validation')\n",
    "plt.ylim(top=25) \n",
    "fig.tight_layout()\n",
    "#ax1.legend(loc=2)\n",
    "#ax2.legend()\n",
    "plt.show()\n",
    "print(\"thresh=\",thresh)"
   ]
  },
  {
   "cell_type": "code",
   "execution_count": 49,
   "metadata": {},
   "outputs": [
    {
     "data": {
      "image/png": "[encoded data removed]",
      "text/plain": [
       "<matplotlib.figure.Figure at 0x1a2bf1f048>"
      ]
     },
     "metadata": {},
     "output_type": "display_data"
    },
    {
     "data": {
      "image/png": "[encoded data removed]",
      "text/plain": [
       "<matplotlib.figure.Figure at 0x1a2bd58128>"
      ]
     },
     "metadata": {},
     "output_type": "display_data"
    }
   ],
   "source": [
    "FAQ_per_ticket = np.argmax(sim_matrix_ans, axis=0)\n",
    "FAQ_per_ticket[strength_FAQ_ticket_max_ans<thresh]=200\n",
    "\n",
    "plt.hist(FAQ_per_ticket, bins=200,alpha=1, color=\"#C6E2F9\")\n",
    "plt.show()\n",
    "plt.hist(FAQ_per_ticket[FAQ_per_ticket<200], bins=199,alpha=1, color=\"#C6E2F9\")\n",
    "\n",
    "plt.show()"
   ]
  },
  {
   "cell_type": "code",
   "execution_count": 45,
   "metadata": {},
   "outputs": [
    {
     "name": "stdout",
     "output_type": "stream",
     "text": [
      "[  0   1   2   3   4   6   7   8   9  10  11  12  15  16  18  19  21  22\n",
      "  23  24  27  29  31  32  33  35  36  37  38  40  41  42  46  49  51  52\n",
      "  53  54  56  61  62  64  66  67  68  70  72  73  76  78  80  84  85  86\n",
      "  87  88  89  90  91  93  94  95  96  99 102 103 106 107 108 110 111 121\n",
      " 123 124 126 127 129 130 131 132 133 134 135 136 137 138 139 140 142 143\n",
      " 144 146 147 148 154 155 156 159 162 163 165 167 168 171 172 173 174 175\n",
      " 176 177 178 179 180 181 183 186 188 190 191 192 193 195 196 197 200] [  26    1    1    1   13    1    7    4   10    4  112   19    2    2\n",
      "    4    4    1    8    8    2    5    3    3    5   24    6   14    9\n",
      "    1    2    4    2    1   55    2    2    2    1    2    1    1    2\n",
      "    1    2    2    1    2    1    9    1    1    2    9    4    3    4\n",
      "    1    7    1    1    1    1    4    2    1    1    6    1   17   30\n",
      "    3    1    1    8    4   23    2   65    4    2    3    4    2    6\n",
      "   46   29   53    5    2   21    6    1    2    2   17    1   50    5\n",
      "    2    2    1    1    1    3    7   33    1   10    2    3    2    1\n",
      "    5    1    9   19    4    5    3   14    1    5    4    2 3004] 125\n"
     ]
    }
   ],
   "source": [
    "unique, counts = np.unique(FAQ_per_ticket, return_counts=True)\n",
    "print(unique,counts, len(unique))"
   ]
  },
  {
   "cell_type": "markdown",
   "metadata": {},
   "source": [
    "# doc2vec similarity"
   ]
  },
  {
   "cell_type": "code",
   "execution_count": 228,
   "metadata": {
    "collapsed": true
   },
   "outputs": [],
   "source": [
    "model_path = '../../code/embedding/models/doc2vec_ans.model'\n",
    "model = Doc2Vec.load(model_path)\n",
    "\n",
    "n_faq = len(faq_ans)\n",
    "n_ticket = len(ticket_ans)\n",
    "faq_em = np.array([model.docvecs[i] for i in range(n_faq)])\n",
    "ticket_em = np.array([model.docvecs[i] for i in range(n_faq, n_faq + n_ticket)])\n",
    "\n",
    "val_prepro = preprocess_docs_fn(x_val_ans)\n",
    "# embed data\n",
    "doc2vec_val = np.array([model.infer_vector(val_prepro[i]) for i in range(len(val_prepro))])"
   ]
  },
  {
   "cell_type": "code",
   "execution_count": 229,
   "metadata": {
    "collapsed": true
   },
   "outputs": [],
   "source": [
    "SFT, valyes, valno = do_stuff(faq_em, ticket_em, doc2vec_val)"
   ]
  },
  {
   "cell_type": "code",
   "execution_count": 230,
   "metadata": {},
   "outputs": [
    {
     "data": {
      "image/png": "[encoded data removed]",
      "text/plain": [
       "<matplotlib.figure.Figure at 0x1a2ec31978>"
      ]
     },
     "metadata": {},
     "output_type": "display_data"
    },
    {
     "name": "stdout",
     "output_type": "stream",
     "text": [
      "thresh= 0.9818815141916275\n"
     ]
    }
   ],
   "source": [
    "legend = 'Doc2Vec'\n",
    "plot_stuff(SFT, valyes, valno, a = 2200, b = 15, l = legend)"
   ]
  },
  {
   "cell_type": "markdown",
   "metadata": {},
   "source": [
    "# word2vec similarity"
   ]
  },
  {
   "cell_type": "code",
   "execution_count": 231,
   "metadata": {
    "collapsed": true
   },
   "outputs": [],
   "source": [
    "model_path = '../../code/embedding/models/word2vec_all.model'\n",
    "model = Word2Vec.load(model_path)\n",
    "# word2vec is trained on \n",
    "all_docs = faq_ques + faq_ans + ticket_ques + ticket_ans\n",
    "all_docs_prepro = preprocess_docs_fn(all_docs)\n",
    "#\n",
    "ind_tix_ans_start = 2*len(faq_ans) + len(ticket_ques)\n",
    "ind_tix_ans_end = 2*len(faq_ans) + 2*len(ticket_ques)"
   ]
  },
  {
   "cell_type": "code",
   "execution_count": 232,
   "metadata": {},
   "outputs": [
    {
     "name": "stderr",
     "output_type": "stream",
     "text": [
      "/Users/margheritarosnati/anaconda3/lib/python3.6/site-packages/ipykernel_launcher.py:20: DeprecationWarning: Call to deprecated `__getitem__` (Method will be removed in 4.0.0, use self.wv.__getitem__() instead).\n",
      "/Users/margheritarosnati/anaconda3/lib/python3.6/site-packages/ipykernel_launcher.py:39: DeprecationWarning: Call to deprecated `__getitem__` (Method will be removed in 4.0.0, use self.wv.__getitem__() instead).\n"
     ]
    }
   ],
   "source": [
    "mean_ticket_ans = doc_emb_one_MR(ind_start=ind_tix_ans_start,\n",
    "                                 ind_end=ind_tix_ans_end,\n",
    "                                 all_docs_prepro=all_docs_prepro,\n",
    "                                 model=model)\n",
    "ind_faq_ans_start = len(faq_ans)\n",
    "ind_faq_ans_end = 2*len(faq_ans)\n",
    "mean_faq_ans = doc_emb_one_MR(ind_start=ind_faq_ans_start,\n",
    "                                 ind_end=ind_faq_ans_end,\n",
    "                                 all_docs_prepro=all_docs_prepro,\n",
    "                                 model=model)\n",
    "\n",
    "#val_prepro = preprocess_docs_fn(x_val_ans) # this was already done above\n",
    "word2vec_val = doc_emb_new_one_MR(ind_start=0, \n",
    "                                  ind_end=len(x_val_ans),\n",
    "                                  all_docs_prepro=val_prepro,\n",
    "                                  model=model)"
   ]
  },
  {
   "cell_type": "code",
   "execution_count": 91,
   "metadata": {},
   "outputs": [
    {
     "data": {
      "text/plain": [
       "(0.48046875, 100)"
      ]
     },
     "execution_count": 91,
     "metadata": {},
     "output_type": "execute_result"
    }
   ],
   "source": [
    "# checking something happened :)\n",
    "np.sum(word2vec_val>0)/(100*128), len(val_prepro)"
   ]
  },
  {
   "cell_type": "code",
   "execution_count": 233,
   "metadata": {},
   "outputs": [
    {
     "data": {
      "image/png": "[encoded data removed]",
      "text/plain": [
       "<matplotlib.figure.Figure at 0x1a14512780>"
      ]
     },
     "metadata": {},
     "output_type": "display_data"
    },
    {
     "name": "stdout",
     "output_type": "stream",
     "text": [
      "thresh= 0.9594214713109103\n"
     ]
    }
   ],
   "source": [
    "SFT, valyes, valno = do_stuff(mean_faq_ans, mean_ticket_ans, word2vec_val)\n",
    "legend = 'mW2V'\n",
    "plot_stuff(SFT, valyes, valno, a = 2100, b = 45, l = legend)"
   ]
  },
  {
   "cell_type": "markdown",
   "metadata": {},
   "source": [
    "# word2vec + TFiDF"
   ]
  },
  {
   "cell_type": "code",
   "execution_count": 234,
   "metadata": {},
   "outputs": [
    {
     "name": "stdout",
     "output_type": "stream",
     "text": [
      "Loading Word2vec model\n",
      "Loading Tfidf model\n"
     ]
    }
   ],
   "source": [
    "# TODO: start back here, understand how to predict for new points xxx\n",
    "print('Loading Word2vec model')\n",
    "model_path = '../../code/embedding/models/word2vec_all.model'\n",
    "model_w2v = Word2Vec.load(model_path)\n",
    "\n",
    "print('Loading Tfidf model')\n",
    "model_path = '../../code/embedding/models/tfidf_all.model'\n",
    "model_tfidf = TfidfModel.load(model_path)\n",
    "\n",
    "dct = Dictionary(all_docs_prepro)\n",
    "dct_val = Dictionary(val_prepro)\n",
    "corpus = [dct.doc2bow(line) for line in all_docs_prepro]\n",
    "corpus_val = [dct_val.doc2bow(line) for line in val_prepro]"
   ]
  },
  {
   "cell_type": "code",
   "execution_count": 235,
   "metadata": {},
   "outputs": [
    {
     "name": "stderr",
     "output_type": "stream",
     "text": [
      "/Users/margheritarosnati/anaconda3/lib/python3.6/site-packages/ipykernel_launcher.py:18: DeprecationWarning: Call to deprecated `__getitem__` (Method will be removed in 4.0.0, use self.wv.__getitem__() instead).\n"
     ]
    }
   ],
   "source": [
    "ind_tix_ans_start = 2*len(faq_ans) + len(ticket_ques)\n",
    "ind_tix_ans_end = 2*len(faq_ans) + 2*len(ticket_ques)\n",
    "ind_faq_ans_start = len(faq_ans)\n",
    "ind_faq_ans_end = 2*len(faq_ans)\n",
    "\n",
    "mean_ticket_ans = all_avg(doc_prepro=all_docs_prepro,\n",
    "                          ind_start=ind_tix_ans_start,\n",
    "                          ind_end=ind_tix_ans_end,\n",
    "                          corpus=corpus,\n",
    "                          dct=dct,\n",
    "                       model_w2v=model_w2v,\n",
    "                       model_tfidf=model_tfidf)\n",
    "mean_faq_ans = all_avg(doc_prepro=all_docs_prepro,\n",
    "                          ind_start=ind_faq_ans_start,\n",
    "                          ind_end=ind_faq_ans_end,\n",
    "                          corpus=corpus,\n",
    "                          dct=dct,\n",
    "                       model_w2v=model_w2v,\n",
    "                       model_tfidf=model_tfidf)"
   ]
  },
  {
   "cell_type": "code",
   "execution_count": 178,
   "metadata": {},
   "outputs": [
    {
     "name": "stderr",
     "output_type": "stream",
     "text": [
      "/Users/margheritarosnati/anaconda3/lib/python3.6/site-packages/ipykernel_launcher.py:18: DeprecationWarning: Call to deprecated `__getitem__` (Method will be removed in 4.0.0, use self.wv.__getitem__() instead).\n"
     ]
    }
   ],
   "source": [
    "last_m_val = all_avg(doc_prepro=val_prepro,\n",
    "                     ind_start=0,\n",
    "                     ind_end=len(val_prepro),\n",
    "                     corpus=corpus_val,\n",
    "                     dct=dct_val,\n",
    "                     model_w2v=model_w2v,\n",
    "                     model_tfidf=model_tfidf)"
   ]
  },
  {
   "cell_type": "code",
   "execution_count": 127,
   "metadata": {},
   "outputs": [
    {
     "data": {
      "text/plain": [
       "(0.49984375, 100)"
      ]
     },
     "execution_count": 127,
     "metadata": {},
     "output_type": "execute_result"
    }
   ],
   "source": [
    "np.sum(last_m_val>0)/(100*128), len(val_prepro)"
   ]
  },
  {
   "cell_type": "code",
   "execution_count": 236,
   "metadata": {},
   "outputs": [
    {
     "data": {
      "image/png": "[encoded data removed]",
      "text/plain": [
       "<matplotlib.figure.Figure at 0x1a2b655400>"
      ]
     },
     "metadata": {},
     "output_type": "display_data"
    },
    {
     "name": "stdout",
     "output_type": "stream",
     "text": [
      "thresh= 0.9655454223000588\n"
     ]
    }
   ],
   "source": [
    "SFT, valyes, valno = do_stuff(mean_faq_ans, mean_ticket_ans, last_m_val)\n",
    "legend = 'wW2V'\n",
    "plot_stuff(SFT, valyes, valno, a = 1800, b = 40, l = legend)"
   ]
  },
  {
   "cell_type": "markdown",
   "metadata": {},
   "source": [
    "# AVG W2V on top 5 tfidf weighted words"
   ]
  },
  {
   "cell_type": "code",
   "execution_count": 180,
   "metadata": {},
   "outputs": [
    {
     "name": "stderr",
     "output_type": "stream",
     "text": [
      "/Users/margheritarosnati/anaconda3/lib/python3.6/site-packages/ipykernel_launcher.py:20: DeprecationWarning: Call to deprecated `__getitem__` (Method will be removed in 4.0.0, use self.wv.__getitem__() instead).\n"
     ]
    }
   ],
   "source": [
    "tix_5w = top5(doc_prepro=all_docs_prepro,\n",
    "              ind_start=ind_tix_ans_start,\n",
    "              ind_end=ind_tix_ans_end,\n",
    "              corpus=corpus,\n",
    "              dct=dct,\n",
    "              model_w2v=model_w2v,\n",
    "              model_tfidf=model_tfidf)\n",
    "faq_5w = top5(doc_prepro=all_docs_prepro,\n",
    "                          ind_start=ind_faq_ans_start,\n",
    "                          ind_end=ind_faq_ans_end,\n",
    "                          corpus=corpus,\n",
    "                          dct=dct,\n",
    "                       model_w2v=model_w2v,\n",
    "                       model_tfidf=model_tfidf)\n",
    "val_5w = top5(doc_prepro=val_prepro,\n",
    "                     ind_start=0,\n",
    "                     ind_end=len(val_prepro),\n",
    "                     corpus=corpus_val,\n",
    "                     dct=dct_val,\n",
    "                     model_w2v=model_w2v,\n",
    "                     model_tfidf=model_tfidf)"
   ]
  },
  {
   "cell_type": "code",
   "execution_count": 181,
   "metadata": {},
   "outputs": [
    {
     "data": {
      "image/png": "[encoded data removed]",
      "text/plain": [
       "<matplotlib.figure.Figure at 0x1a2ed2ca20>"
      ]
     },
     "metadata": {},
     "output_type": "display_data"
    },
    {
     "name": "stdout",
     "output_type": "stream",
     "text": [
      "thresh= 0.966302509720917\n"
     ]
    }
   ],
   "source": [
    "SFT, valyes, valno = do_stuff(faq_5w, tix_5w, val_5w)\n",
    "legend = 'Avg Word2Vec on 5 top TFIDF ticket answer to best FAQ similarity'\n",
    "plot_stuff(SFT, valyes, valno, a = 1600, b = 40, l = legend)"
   ]
  },
  {
   "cell_type": "markdown",
   "metadata": {},
   "source": [
    "# W2V + TFiDF weighted on TFiDF top 5"
   ]
  },
  {
   "cell_type": "code",
   "execution_count": 150,
   "metadata": {},
   "outputs": [
    {
     "name": "stderr",
     "output_type": "stream",
     "text": [
      "/Users/margheritarosnati/anaconda3/lib/python3.6/site-packages/ipykernel_launcher.py:20: DeprecationWarning: Call to deprecated `__getitem__` (Method will be removed in 4.0.0, use self.wv.__getitem__() instead).\n"
     ]
    }
   ],
   "source": [
    "tix_5ww = top5_average(doc_prepro=all_docs_prepro,\n",
    "              ind_start=ind_tix_ans_start,\n",
    "              ind_end=ind_tix_ans_end,\n",
    "              corpus=corpus,\n",
    "              dct=dct,\n",
    "              model_w2v=model_w2v,\n",
    "              model_tfidf=model_tfidf)\n",
    "faq_5ww = top5_average(doc_prepro=all_docs_prepro,\n",
    "                          ind_start=ind_faq_ans_start,\n",
    "                          ind_end=ind_faq_ans_end,\n",
    "                          corpus=corpus,\n",
    "                          dct=dct,\n",
    "                       model_w2v=model_w2v,\n",
    "                       model_tfidf=model_tfidf)\n",
    "val_5ww = top5_average(doc_prepro=val_prepro,\n",
    "                     ind_start=0,\n",
    "                     ind_end=len(val_prepro),\n",
    "                     corpus=corpus_val,\n",
    "                     dct=dct_val,\n",
    "                     model_w2v=model_w2v,\n",
    "                     model_tfidf=model_tfidf)"
   ]
  },
  {
   "cell_type": "code",
   "execution_count": 221,
   "metadata": {},
   "outputs": [
    {
     "data": {
      "image/png": "[encoded data removed]",
      "text/plain": [
       "<matplotlib.figure.Figure at 0x1a2ec2a588>"
      ]
     },
     "metadata": {},
     "output_type": "display_data"
    },
    {
     "name": "stdout",
     "output_type": "stream",
     "text": [
      "thresh= 0.966302509720917\n"
     ]
    }
   ],
   "source": [
    "SFT, valyes, valno = do_stuff(faq_5w, tix_5w, val_5w)\n",
    "legend = 'Weighted avg Word2Vec on 5 top TFIDF ticket answer to best FAQ similarity'\n",
    "plot_stuff(SFT, valyes, valno, a = 1600, b = 40, l = legend)"
   ]
  },
  {
   "cell_type": "markdown",
   "metadata": {},
   "source": [
    "# Utils"
   ]
  },
  {
   "cell_type": "code",
   "execution_count": 134,
   "metadata": {
    "collapsed": true
   },
   "outputs": [],
   "source": [
    "def itemgetter(*items):\n",
    "    if len(items) == 1:\n",
    "        item = items[0]\n",
    "        def g(obj):\n",
    "            return obj[item]\n",
    "    else:\n",
    "        def g(obj):\n",
    "            return tuple(obj[item] for item in items)\n",
    "    return g"
   ]
  },
  {
   "cell_type": "code",
   "execution_count": 220,
   "metadata": {
    "collapsed": true
   },
   "outputs": [],
   "source": [
    "def do_stuff(FAQ_matrix_ans,ticket_matrix_ans, val_matrix_ans):\n",
    "    sim_matrix_ans = cosine_similarity(FAQ_matrix_ans, ticket_matrix_ans)\n",
    "    strength_FAQ_ticket_max_ans = np.max(sim_matrix_ans, axis=0)\n",
    "    val_pos_ans = val_matrix_ans[test_dic[\"y_val\"]!=-1,:]\n",
    "    val_neg_ans = val_matrix_ans[test_dic[\"y_val\"]==-1,:]\n",
    "    sFT_val_pos_ans = np.max(cosine_similarity(FAQ_matrix_ans, val_pos_ans), axis=0)\n",
    "    sFT_val_neg_ans = np.max(cosine_similarity(FAQ_matrix_ans, val_neg_ans), axis=0)\n",
    "    return strength_FAQ_ticket_max_ans, sFT_val_pos_ans, sFT_val_neg_ans\n",
    "\n",
    "def plot_stuff(strength_FAQ_ticket_max_ans,sFT_val_pos_ans,sFT_val_neg_ans, a=1200, b=25, l= \"GIMME A NAME\"):\n",
    "    fig, ax1 = plt.subplots()\n",
    "    bins =  np.linspace(0, 1,25)\n",
    "    ax1.hist(strength_FAQ_ticket_max_ans, bins,alpha=1, label=\"Unlabelled data\", color=\"#C6E2F9\")\n",
    "    ax1.set_xlabel(l)\n",
    "    #ax1.set_ylabel('no. tickets unlabelled data')\n",
    "    thresh = np.quantile(strength_FAQ_ticket_max_ans,0.75)\n",
    "    plt.axvline(x=thresh,color='k',ymax=a-100)\n",
    "    plt.ylim(top=a) \n",
    "    ax2 = ax1.twinx()\n",
    "    ax2.hist(sFT_val_pos_ans, bins,alpha=1, label=\"Validation set class FAQ\", color = \"green\", histtype =\"step\")\n",
    "    ax2.hist(sFT_val_neg_ans, bins,alpha=1, label=\"Validation set class no FAQ\", color = \"red\", histtype =\"step\")\n",
    "    #ax2.set_ylabel('no. tickets validation')\n",
    "    plt.ylim(top=b) \n",
    "    fig.tight_layout()\n",
    "    #ax1.legend(loc=2)\n",
    "    #ax2.legend()\n",
    "    plt.show()\n",
    "    print(\"thresh=\",thresh)"
   ]
  },
  {
   "cell_type": "code",
   "execution_count": 27,
   "metadata": {
    "collapsed": true
   },
   "outputs": [],
   "source": [
    "from gensim.parsing.preprocessing import preprocess_string\n",
    "import re\n",
    "import string\n",
    "\n",
    "from gensim.parsing.preprocessing import remove_stopwords\n",
    "from gensim.parsing.preprocessing import strip_multiple_whitespaces\n",
    "from gensim.parsing.preprocessing import stem_text\n",
    "from gensim.parsing.preprocessing import strip_numeric\n",
    "\n",
    "\n",
    "def remove_ip(s):\n",
    "    # Replace all ip adresses with '<ip>' tag\n",
    "    ip_regexp = r\"\\b\\d{1,3}\\.\\d{1,3}\\.\\d{1,3}\\.\\d{1,3}\\b\"\n",
    "    return re.sub(ip_regexp, '<ip>', s)\n",
    "\n",
    "\n",
    "def remove_email(s):\n",
    "    # Replace all email adresses with '<email>' tag\n",
    "    email_regexp = r\"([a-zA-Z0-9_\\-\\.]+)@([a-zA-Z0-9_\\-\\.]+)\\.([a-zA-Z]{2,5})\"\n",
    "    return re.sub(email_regexp, '<email>', s)\n",
    "\n",
    "\n",
    "def remove_mailto(s):\n",
    "    # Replace all \"<mailto:<email>>\" with <email>. Email adresses should be replaced by remove_email first.\n",
    "    return s.replace(\"<mailto:<email>>\", \"<email>\")\n",
    "\n",
    "\n",
    "def remove_url(s):\n",
    "    # Replace all url's with '<url>' tag\n",
    "    url_regexp = r\"((http|ftp|https):\\/\\/)?[-a-zA-Z0-9@:%._\\+~#=]{2,256}\\.[a-z]{2,6}\\b([-a-zA-Z0-9@:%_\\+.~#?&//=]*)\"\n",
    "    s = re.sub(url_regexp, '<url>', s)\n",
    "    # Sometimes url's are inside <> so we need to replace <<url>> with <url>\n",
    "    return s.replace(\"<<url>>\", \"<url>\")\n",
    "\n",
    "\n",
    "def remove_punc(s, exceptions):\n",
    "    # Remove all punctuation from string with exceptions in list exceptions\n",
    "    remove = string.punctuation\n",
    "    for exception in exceptions:\n",
    "        remove = remove.replace(exception, \"\")\n",
    "    # Create the pattern\n",
    "    pattern = r\"[{}]\".format(remove)\n",
    "\n",
    "    return re.sub(pattern, \"\", s)\n",
    "\n",
    "\n",
    "def remove_custom_stopwords(s, stopwords):\n",
    "    for stopword in stopwords:\n",
    "        s = s.replace(stopword, \"\")\n",
    "    return s\n",
    "\n",
    "\n",
    "def lower_case(s):\n",
    "    return s.lower()\n",
    "\n",
    "\n",
    "def preprocess_sentence_fn(s):\n",
    "    # Preprocess a single sentence to a list of tokens\n",
    "    punc_exceptions = ['<', '>']\n",
    "    custom_stopwords = ['dear', 'sincerely', 'thanks', 'yours', 'regards']\n",
    "\n",
    "    filters = [lower_case,\n",
    "               remove_ip,\n",
    "               remove_email,\n",
    "               remove_mailto,\n",
    "               #remove_url,\n",
    "               lambda x: remove_punc(x, punc_exceptions),\n",
    "               remove_stopwords,\n",
    "               lambda x: remove_custom_stopwords(x, custom_stopwords),\n",
    "               strip_multiple_whitespaces,\n",
    "               stem_text,\n",
    "               strip_numeric]\n",
    "    out = preprocess_string(s, filters=filters)\n",
    "\n",
    "    return out\n",
    "\n",
    "\n",
    "def preprocess_docs_fn(docs):\n",
    "    # Apply preprocess_sentence_fn to a list of sentances (docs) to get a list of lists\n",
    "    return [preprocess_sentence_fn(s) for s in docs]\n"
   ]
  },
  {
   "cell_type": "code",
   "execution_count": 59,
   "metadata": {
    "collapsed": true
   },
   "outputs": [],
   "source": [
    "# compute sentence embedding for word2vec\n",
    "def doc_emb_one(name, id_dict, all_docs_prepro, model):\n",
    "    mean_ans = np.empty((len(id_dict[name]), 128), dtype=float)\n",
    "    for j in id_dict[name]:\n",
    "        sentence = all_docs_prepro[j]\n",
    "        words = np.empty((len(sentence), 128), dtype=float)\n",
    "        for i in range(len(sentence)):\n",
    "            words[i] = model[sentence[i]]\n",
    "        mean_ans[j - id_dict[name][0]] = np.apply_along_axis(np.mean, 0, words)\n",
    "    return mean_ans\n",
    "\n",
    "# compute sentence embedding for word2vec\n",
    "def doc_emb_one_MR(ind_start, ind_end, all_docs_prepro, model):\n",
    "    length = ind_end - ind_start\n",
    "    mean_ans = np.empty((length, 128), dtype=float)\n",
    "    for j in range(ind_start, ind_end):\n",
    "        sentence = all_docs_prepro[j]\n",
    "        words = np.empty((len(sentence), 128), dtype=float)\n",
    "        for i in range(len(sentence)):\n",
    "            words[i] = model[sentence[i]]\n",
    "        mean_ans[j - ind_start] = np.apply_along_axis(np.mean, 0, words)\n",
    "    return mean_ans\n",
    "\n",
    "# doc2vec equivalent \n",
    "# doc2vec_val = np.array([model.infer_vector(val_prepro[i]) for i in range(len(val_prepro))])\n",
    "def doc_emb_new_one_MR(ind_start, ind_end, all_docs_prepro, model):\n",
    "    length = ind_end - ind_start\n",
    "    mean_ans = np.empty((length, 128), dtype=float)\n",
    "    # extract vocabulary\n",
    "    word_vectors = model.wv\n",
    "    for j in range(ind_start, ind_end):\n",
    "        sentence = all_docs_prepro[j]\n",
    "        # let's go a little old school\n",
    "        words = np.empty(128, dtype=float)\n",
    "        #words = np.empty((len(sentence), 128), dtype=float)\n",
    "        counter = 0\n",
    "        for i in range(len(sentence)):\n",
    "            if sentence[i] in word_vectors.vocab:\n",
    "                words += model[sentence[i]]\n",
    "                counter +=1\n",
    "        mean_ans[j - ind_start] = words/counter\n",
    "    return mean_ans\n",
    "\n",
    "\n",
    "# compute sentence embedding for tfidf_w2v\n",
    "def all_average(dat, corpus, dct, model_w2v, model_tfidf, id_dict, all_docs_prepro):\n",
    "    if dat == 'faq_ans':\n",
    "        ind = id_dict['faq_ans'][0]\n",
    "        leng = len(id_dict['faq_ans'])\n",
    "        dat = all_docs_prepro[ind:leng]\n",
    "    elif dat == 'ticket_ans':\n",
    "        ind = id_dict['ticket_ans'][0]\n",
    "        leng = len(id_dict['ticket_ans'])\n",
    "        dat = all_docs_prepro[ind:leng]\n",
    "    else:\n",
    "        ind = id_dict['ticket_ques'][0]\n",
    "        leng = len(id_dict['ticket_ques'])\n",
    "        dat = all_docs_prepro[ind:leng]\n",
    "    mean_ans = np.empty((leng, 128), dtype=float)\n",
    "    for i in range(leng):\n",
    "        vector = np.asarray(model_tfidf[corpus[ind]], dtype=float)\n",
    "        words = np.empty((len(vector), 128), dtype=float)\n",
    "        for j in range(len(vector)):\n",
    "            words[j] = model_w2v[dct[int(vector[j,0])]]\n",
    "        mean_ans[i] = np.average(words, 0, weights=vector[:,1])\n",
    "        ind += 1\n",
    "    return mean_ans"
   ]
  },
  {
   "cell_type": "code",
   "execution_count": 119,
   "metadata": {
    "collapsed": true
   },
   "outputs": [],
   "source": [
    "def all_avg(doc_prepro=all_docs_prepro,\n",
    "            ind_start=ind_tix_ans_start,\n",
    "            ind_end=ind_tix_ans_end,\n",
    "            corpus=corpus,\n",
    "            dct=dct,\n",
    "            model_w2v=model_w2v,\n",
    "            model_tfidf=model_tfidf):\n",
    "    # extract vocabulary\n",
    "    word_vectors = model_w2v.wv\n",
    "    dat = doc_prepro[ind_start:ind_end]\n",
    "    length = ind_end - ind_start\n",
    "    mean_ans = np.empty((length, 128), dtype=float)\n",
    "    for i in range(length):\n",
    "        vector = np.asarray(model_tfidf[corpus[ind_start]], dtype=float)\n",
    "        words = np.empty((len(vector), 128), dtype=float)\n",
    "        for j in range(len(vector)):\n",
    "            if dct[int(vector[j,0])] in word_vectors.vocab:\n",
    "                words[j] = model_w2v[dct[int(vector[j,0])]]\n",
    "            else:\n",
    "                words[j] = 0\n",
    "        mean_ans[i] = np.average(words, 0, weights=vector[:,1])\n",
    "        ind_start += 1\n",
    "    return mean_ans"
   ]
  },
  {
   "cell_type": "code",
   "execution_count": 136,
   "metadata": {
    "collapsed": true
   },
   "outputs": [],
   "source": [
    "def top5(doc_prepro=all_docs_prepro,\n",
    "         ind_start=ind_tix_ans_start, \n",
    "         ind_end=ind_tix_ans_end, \n",
    "         corpus=corpus, \n",
    "         dct=dct, \n",
    "         model_w2v=model_w2v, \n",
    "         model_tfidf=model_tfidf):\n",
    "    word_vectors = model_w2v.wv\n",
    "    dat = doc_prepro[ind_start:ind_end]\n",
    "    length = ind_end - ind_start\n",
    "    mean_ans = np.empty((length, 128), dtype=float)\n",
    "    for i in range(length):\n",
    "        vector = model_tfidf[corpus[ind_start]]\n",
    "        vector_s = sorted(vector, key=itemgetter(1), reverse=True)\n",
    "        top5 = vector_s[:5]\n",
    "        top5 = np.asarray(top5, dtype=int)[:,0]\n",
    "        words = np.empty((len(top5), 128), dtype=float)\n",
    "        for j in range(len(top5)):\n",
    "            if dct[int(top5[j])] in word_vectors.vocab:\n",
    "                words[j] = model_w2v[dct[top5[j]]]\n",
    "            else:\n",
    "                words[j] = 0\n",
    "        mean_ans[i] = np.apply_along_axis(np.mean, 0, words)\n",
    "        ind_start += 1\n",
    "    return mean_ans"
   ]
  },
  {
   "cell_type": "code",
   "execution_count": 146,
   "metadata": {
    "collapsed": true
   },
   "outputs": [],
   "source": [
    "def top5_average(doc_prepro=all_docs_prepro,\n",
    "                 ind_start=ind_tix_ans_start, \n",
    "                 ind_end=ind_tix_ans_end, \n",
    "                 corpus=corpus, \n",
    "                 dct=dct, \n",
    "                 model_w2v=model_w2v, \n",
    "                 model_tfidf=model_tfidf):\n",
    "    word_vectors = model_w2v.wv\n",
    "    dat = doc_prepro[ind_start:ind_end]\n",
    "    length = ind_end - ind_start\n",
    "    mean_ans = np.empty((len(dat), 128), dtype=float)\n",
    "    for i in range(length):\n",
    "        vector = model_tfidf[corpus[ind_start]]\n",
    "        vector_s = sorted(vector, key=itemgetter(1), reverse=True)\n",
    "        top5 = vector_s[:5]\n",
    "        top5 = np.asarray(top5, dtype=float)\n",
    "        words = np.empty((len(top5), 128), dtype=float)\n",
    "        for j in range(len(top5)):\n",
    "            if dct[int(top5[j,0])] in word_vectors.vocab:\n",
    "                words[j] = model_w2v[dct[int(top5[j,0])]]\n",
    "            else:\n",
    "                words[j] = 0\n",
    "        mean_ans[i] = np.average(words, 0, weights=top5[:,1])\n",
    "        ind_start += 1\n",
    "    return mean_ans"
   ]
  }
 ],
 "metadata": {
  "kernelspec": {
   "display_name": "Python 3",
   "language": "python",
   "name": "python3"
  },
  "language_info": {
   "codemirror_mode": {
    "name": "ipython",
    "version": 3
   },
   "file_extension": ".py",
   "mimetype": "text/x-python",
   "name": "python",
   "nbconvert_exporter": "python",
   "pygments_lexer": "ipython3",
   "version": "3.6.3"
  }
 },
 "nbformat": 4,
 "nbformat_minor": 2
}
