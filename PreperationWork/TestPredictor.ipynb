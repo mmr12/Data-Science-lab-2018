{
 "cells": [
  {
   "cell_type": "code",
   "execution_count": 1,
   "metadata": {},
   "outputs": [],
   "source": [
    "from joblib import load, dump\n",
    "from gensim.models import Word2Vec\n",
    "from gensim.models.doc2vec import Doc2Vec\n",
    "import numpy as np\n",
    "\n",
    "\n",
    "def load_classifier(model='tfidf'):\n",
    "\n",
    "    # Load and return the classifier\n",
    "    if model == 'tfidf':\n",
    "        print('Loading TFiDF Classifier')\n",
    "        classifier = load('../code/classifier/models/RF_TFiDF.joblib')\n",
    "    elif model == 'word2vec':\n",
    "        print('Loading word2vec Classifier')\n",
    "        classifier = load('../code/classifier/models/RF_word2vec.joblib')\n",
    "    elif model == 'doc2vec':\n",
    "        print('Loading doc2vec Classifier')\n",
    "        classifier = load('../code/classifier/models/RF_doc2vec.joblib')\n",
    "    else:\n",
    "        print('No Model {}'.format(model))\n",
    "        classifier = None\n",
    "\n",
    "    return classifier\n",
    "\n",
    "\n",
    "def load_embedder(model='tfidf'):\n",
    "\n",
    "    # Load and return the classifier\n",
    "    if model == 'tfidf':\n",
    "        print('Loading TFiDF Embedder')\n",
    "        embedder = load('../code/embedding/models/TF-IFD-ticket-ques.joblib')\n",
    "    elif model == 'word2vec':\n",
    "        print('Loading word2vec Embedding')\n",
    "        embedder = Word2Vec.load('../code/embedding/models/word2vec_ticket_ques.model')\n",
    "    elif model == 'doc2vec':\n",
    "        print('Loading doc2vec Embedding')\n",
    "        embedder = Doc2Vec.load('../code/embedding/models/doc2vec_ticket_ques.model')\n",
    "    else:\n",
    "        print('No Model {}'.format(model))\n",
    "        embedder = None\n",
    "\n",
    "    return embedder\n",
    "\n",
    "def predict(text, embedder, classifier, model = 'tfidf'):\n",
    "\n",
    "    if model =='tfidf':\n",
    "\n",
    "        embedding = embedder.transform([text])\n",
    "        probs = classifier.predict_proba(embedding)\n",
    "\n",
    "        return probs\n",
    "\n",
    "    # TODO: other model types\n",
    "    else:\n",
    "        print('Model {} not found'.format(model))\n",
    "        return None\n",
    "\n",
    "\n",
    "\n"
   ]
  },
  {
   "cell_type": "code",
   "execution_count": 2,
   "metadata": {},
   "outputs": [
    {
     "name": "stdout",
     "output_type": "stream",
     "text": [
      "Loading TFiDF Embedder\n",
      "Loading TFiDF Classifier\n"
     ]
    }
   ],
   "source": [
    "embedder = load_embedder(model='tfidf')\n",
    "classifier = load_classifier(model='tfidf')"
   ]
  },
  {
   "cell_type": "code",
   "execution_count": 5,
   "metadata": {},
   "outputs": [
    {
     "data": {
      "text/plain": [
       "array([[0.8, 0. , 0. , 0. , 0. , 0. , 0. , 0. , 0. , 0. , 0. , 0. , 0. ,\n",
       "        0. , 0. , 0. , 0. , 0. , 0. , 0. , 0. , 0. , 0. , 0. , 0. , 0. ,\n",
       "        0. , 0. , 0. , 0. , 0. , 0. , 0. , 0. , 0. , 0. , 0. , 0. , 0. ,\n",
       "        0. , 0. , 0. , 0. , 0. , 0. , 0. , 0. , 0. , 0. , 0. , 0. , 0. ,\n",
       "        0. , 0. , 0. , 0. , 0. , 0. , 0. , 0. , 0. , 0. , 0. , 0. , 0. ,\n",
       "        0. , 0. , 0. , 0. , 0. , 0. , 0. , 0. , 0. , 0. , 0. , 0. , 0. ,\n",
       "        0. , 0. , 0. , 0. , 0. , 0. , 0. , 0. , 0. , 0. , 0. , 0. , 0. ,\n",
       "        0. , 0. , 0. , 0. , 0. , 0. , 0.1, 0. , 0.1, 0. , 0. , 0. , 0. ,\n",
       "        0. , 0. , 0. , 0. , 0. , 0. , 0. , 0. , 0. , 0. , 0. , 0. , 0. ,\n",
       "        0. , 0. , 0. , 0. , 0. , 0. , 0. , 0. , 0. , 0. , 0. , 0. , 0. ,\n",
       "        0. , 0. , 0. , 0. , 0. , 0. , 0. , 0. , 0. , 0. , 0. , 0. , 0. ,\n",
       "        0. ]])"
      ]
     },
     "execution_count": 5,
     "metadata": {},
     "output_type": "execute_result"
    }
   ],
   "source": [
    "text = \"\"\"\n",
    "\"Dear Dr. Sebastiano Rossi   Your vpn service is already expired.  sincerely, Rudolf Friederich  Dear Dr. Sebastiano Rossi   Your vpn-service is ready. Probably you have to change or set the network password at password.ethz.ch.  sincerely, Rudolf Friederich  \"\n",
    "\"\"\"\n",
    "predict(text, embedder, classifier, model='tfidf')\n",
    "\n",
    "\n"
   ]
  },
  {
   "cell_type": "code",
   "execution_count": 6,
   "metadata": {},
   "outputs": [
    {
     "data": {
      "text/plain": [
       "array([ -1,   0,   1,   2,   3,   4,   6,   7,   8,   9,  10,  11,  12,\n",
       "        13,  14,  15,  16,  18,  19,  21,  22,  23,  24,  27,  28,  29,\n",
       "        31,  32,  33,  35,  36,  37,  38,  40,  41,  42,  46,  49,  51,\n",
       "        52,  53,  54,  56,  57,  61,  62,  63,  64,  66,  67,  68,  70,\n",
       "        72,  73,  76,  78,  79,  80,  84,  85,  86,  87,  88,  89,  90,\n",
       "        91,  93,  94,  95,  96,  99, 100, 101, 102, 103, 105, 106, 107,\n",
       "       108, 110, 111, 114, 117, 121, 122, 123, 124, 126, 127, 129, 130,\n",
       "       131, 132, 133, 134, 135, 136, 137, 138, 139, 140, 141, 142, 143,\n",
       "       144, 146, 147, 148, 153, 154, 155, 156, 157, 159, 161, 162, 163,\n",
       "       164, 165, 167, 168, 171, 172, 173, 174, 175, 176, 177, 178, 179,\n",
       "       180, 181, 183, 185, 186, 188, 189, 190, 191, 192, 193, 195, 196,\n",
       "       197])"
      ]
     },
     "execution_count": 6,
     "metadata": {},
     "output_type": "execute_result"
    }
   ],
   "source": [
    "classifier.classes_"
   ]
  },
  {
   "cell_type": "code",
   "execution_count": 7,
   "metadata": {},
   "outputs": [
    {
     "data": {
      "text/plain": [
       "array([-1])"
      ]
     },
     "execution_count": 7,
     "metadata": {},
     "output_type": "execute_result"
    }
   ],
   "source": [
    "classifier.predict(embedder.transform([text]))"
   ]
  }
 ],
 "metadata": {
  "kernelspec": {
   "display_name": "Python 3",
   "language": "python",
   "name": "python3"
  },
  "language_info": {
   "codemirror_mode": {
    "name": "ipython",
    "version": 3
   },
   "file_extension": ".py",
   "mimetype": "text/x-python",
   "name": "python",
   "nbconvert_exporter": "python",
   "pygments_lexer": "ipython3",
   "version": "3.6.3"
  }
 },
 "nbformat": 4,
 "nbformat_minor": 2
}
