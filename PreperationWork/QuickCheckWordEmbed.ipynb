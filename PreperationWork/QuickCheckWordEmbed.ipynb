{
 "cells": [
  {
   "cell_type": "code",
   "execution_count": 6,
   "metadata": {},
   "outputs": [],
   "source": [
    "from gensim.models import Word2Vec\n",
    "import numpy as np"
   ]
  },
  {
   "cell_type": "code",
   "execution_count": 8,
   "metadata": {},
   "outputs": [
    {
     "name": "stdout",
     "output_type": "stream",
     "text": [
      "Loading Word2vec model\n"
     ]
    }
   ],
   "source": [
    "print('Loading Word2vec model')\n",
    "model_path = '../code/embedding/models/word2vec.model'\n",
    "model = Word2Vec.load(model_path)"
   ]
  },
  {
   "cell_type": "code",
   "execution_count": 132,
   "metadata": {},
   "outputs": [
    {
     "data": {
      "text/plain": [
       "[('claim', 0.9653565883636475),\n",
       " ('sooner', 0.9639524221420288),\n",
       " ('pretend', 0.9608837366104126),\n",
       " ('wonder', 0.960493803024292),\n",
       " ('remain', 0.9583765268325806),\n",
       " ('invoic', 0.9524294137954712),\n",
       " ('go', 0.9519929885864258),\n",
       " ('failedquot', 0.9503135085105896),\n",
       " ('nd', 0.9502962827682495),\n",
       " ('absenc', 0.9494763016700745)]"
      ]
     },
     "execution_count": 132,
     "metadata": {},
     "output_type": "execute_result"
    }
   ],
   "source": [
    "model.wv.most_similar(positive = ['payment', 'springman'])"
   ]
  },
  {
   "cell_type": "code",
   "execution_count": null,
   "metadata": {},
   "outputs": [],
   "source": []
  }
 ],
 "metadata": {
  "kernelspec": {
   "display_name": "Python 3",
   "language": "python",
   "name": "python3"
  },
  "language_info": {
   "codemirror_mode": {
    "name": "ipython",
    "version": 3
   },
   "file_extension": ".py",
   "mimetype": "text/x-python",
   "name": "python",
   "nbconvert_exporter": "python",
   "pygments_lexer": "ipython3",
   "version": "3.6.3"
  }
 },
 "nbformat": 4,
 "nbformat_minor": 2
}
