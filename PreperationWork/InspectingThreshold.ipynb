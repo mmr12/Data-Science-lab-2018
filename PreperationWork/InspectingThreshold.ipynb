{
 "cells": [
  {
   "cell_type": "code",
   "execution_count": 1,
   "metadata": {},
   "outputs": [],
   "source": [
    "import pickle\n",
    "import numpy as np\n",
    "from scipy.spatial import distance\n",
    "from joblib import load\n",
    "from sklearn.metrics.pairwise import cosine_similarity\n",
    "import pandas as pd\n",
    "from matplotlib import pyplot as plt"
   ]
  },
  {
   "cell_type": "code",
   "execution_count": 2,
   "metadata": {},
   "outputs": [],
   "source": [
    "def precision(real, pred, positive_class=1):\n",
    "    TP = ((real == positive_class) & (pred == positive_class)).sum()\n",
    "    classed_positive = (pred == positive_class).sum()\n",
    "    if classed_positive == 0:\n",
    "        precision = 1\n",
    "    else:\n",
    "        precision = TP/classed_positive\n",
    "    \n",
    "    return precision\n",
    "\n",
    "def recall(real, pred, positive_class=1):\n",
    "    TP = ((real == positive_class) & (pred == positive_class)).sum()\n",
    "    recall = TP/(real == positive_class).sum()\n",
    "    \n",
    "    return recall\n",
    "\n",
    "def f1(real, pred, positive_class=1):\n",
    "    prec = precision(real, pred, positive_class)\n",
    "    rec = recall(real, pred, positive_class)\n",
    "    f1 = 2*(prec*rec)/(prec+rec)\n",
    "    \n",
    "    return f1, prec, rec"
   ]
  },
  {
   "cell_type": "code",
   "execution_count": 3,
   "metadata": {},
   "outputs": [],
   "source": [
    " with open(\"../code/embedding/models/doc_data/id_dict.txt\", \"rb\") as fp:\n",
    "    id_dict = pickle.load(fp)\n",
    "# Unpickle the document data\n",
    "with open(\"../code/embedding/models/doc_data/all_docs.txt\", \"rb\") as fp:\n",
    "    all_docs = pickle.load(fp)\n",
    "with open(\"../code/embedding/models/doc_data/all_docs_sep.pkl\", \"rb\") as fp:\n",
    "    all_docs_sep = pickle.load(fp)\n",
    "with open(\"../code/embedding/models/doc_data/ticket_ids.txt\", \"rb\") as fp:\n",
    "    ticket_ids = pickle.load(fp)\n",
    "\n",
    "faq_ans = all_docs_sep['faq_ans']\n",
    "ticket_ques = all_docs_sep['ticket_ques']\n",
    "\n",
    "# Load the labelled data\n",
    "labelled_data = pd.read_csv('../data/labelled_dat/train.csv')\n",
    "labelled_data['is_faq'] = (labelled_data.faq_id != -1).astype(int)"
   ]
  },
  {
   "cell_type": "code",
   "execution_count": 18,
   "metadata": {},
   "outputs": [
    {
     "name": "stdout",
     "output_type": "stream",
     "text": [
      "Computing TF-IDF Similarities...\n",
      "Computed\n"
     ]
    }
   ],
   "source": [
    "TFiDF = load('../code/embedding/models/TF-IFD-ticket-ques.joblib')\n",
    "\n",
    "# make matrix\n",
    "FAQ_matrix = TFiDF.transform(faq_ans)\n",
    "ticket_matrix = TFiDF.transform(ticket_ques)\n",
    "print('Computing TF-IDF Similarities...')\n",
    "sim_matrix = cosine_similarity(FAQ_matrix, ticket_matrix)\n",
    "print('Computed')\n",
    "\n",
    "# mapping\n",
    "FAQ_per_ticket = np.argmax(sim_matrix, axis=0)\n",
    "\n",
    "# Using Closest FAQ similarity as a measure \n",
    "strength_FAQ_ticket_max = np.max(sim_matrix, axis=0)\n",
    "\n",
    "# Checking if the mean is a better measure of whether something is an FAQ or not\n",
    "# get mean of closest 5 similarities\n",
    "strength_FAQ_ticket_mean5 = np.flip(np.sort(sim_matrix, axis=0), axis=0)[0:5,:].mean(axis=0)\n",
    "# Result: no real improvement\n",
    "\n",
    "strength_FAQ_ticket_std5 = np.flip(np.sort(sim_matrix, axis=0), axis=0)[0:5,:].std(axis=0)\n"
   ]
  },
  {
   "cell_type": "code",
   "execution_count": 22,
   "metadata": {},
   "outputs": [],
   "source": [
    "feature_value = strength_FAQ_ticket_max"
   ]
  },
  {
   "cell_type": "code",
   "execution_count": 23,
   "metadata": {},
   "outputs": [
    {
     "data": {
      "image/png": "[encoded data removed]",
      "text/plain": [
       "<matplotlib.figure.Figure at 0x10c5c3630>"
      ]
     },
     "metadata": {},
     "output_type": "display_data"
    }
   ],
   "source": [
    "# Figuring out if the stregth measure is any good\n",
    "feature_values = pd.DataFrame({'ticket_id': ticket_ids, 'value': feature_value})\n",
    "feature_values.set_index('ticket_id', drop=False, inplace=True)\n",
    "full_feature_dat = labelled_data.join(feature_values, on='ticket_id', lsuffix='l_')\n",
    "full_feature_dat.groupby('is_faq').value.hist(alpha=0.5)\n",
    "plt.show()"
   ]
  },
  {
   "cell_type": "code",
   "execution_count": 7,
   "metadata": {},
   "outputs": [
    {
     "data": {
      "image/png": "[encoded data removed]",
      "text/plain": [
       "<matplotlib.figure.Figure at 0x10d0b2b00>"
      ]
     },
     "metadata": {},
     "output_type": "display_data"
    }
   ],
   "source": [
    "threshes = np.linspace(0,0.6, 50)\n",
    "precs, recs, f1s = [], [], []\n",
    "positive_class = 0\n",
    "\n",
    "for thresh in threshes:\n",
    "    # assign weak mappings to -1\n",
    "    FAQ_per_ticket_threshold = FAQ_per_ticket.copy()\n",
    "    FAQ_per_ticket_threshold[feature_value < thresh] = -1\n",
    "    \n",
    "    predictions = pd.DataFrame({'ticket_id': ticket_ids, 'faq_id_pred': FAQ_per_ticket_threshold})\n",
    "    predictions['is_faq_pred'] = (predictions.faq_id_pred != -1).astype(int)\n",
    "    predictions.set_index('ticket_id', drop=False, inplace=True)\n",
    "    full_dat = labelled_data.join(predictions, on='ticket_id', lsuffix='l_')\n",
    "    \n",
    "    f1_, prec, rec = f1(full_dat.is_faq, full_dat.is_faq_pred, positive_class=positive_class)\n",
    "    precs.append(prec)\n",
    "    recs.append(rec)\n",
    "    f1s.append(f1_)\n",
    "    \n",
    "plt.plot(threshes, recs, color = 'blue', label=\"Recall\")\n",
    "plt.plot(threshes, precs, color = 'red', label=\"Precision\")\n",
    "plt.plot(threshes, f1s, color='green', label=\"F1\")\n",
    "plt.legend()\n",
    "plt.show()"
   ]
  }
 ],
 "metadata": {
  "kernelspec": {
   "display_name": "Python 3",
   "language": "python",
   "name": "python3"
  },
  "language_info": {
   "codemirror_mode": {
    "name": "ipython",
    "version": 3
   },
   "file_extension": ".py",
   "mimetype": "text/x-python",
   "name": "python",
   "nbconvert_exporter": "python",
   "pygments_lexer": "ipython3",
   "version": "3.6.3"
  }
 },
 "nbformat": 4,
 "nbformat_minor": 2
}
