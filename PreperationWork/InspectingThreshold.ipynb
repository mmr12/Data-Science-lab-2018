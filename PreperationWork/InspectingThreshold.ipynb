{
 "cells": [
  {
   "cell_type": "code",
   "execution_count": 2,
   "metadata": {},
   "outputs": [],
   "source": [
    "import pickle\n",
    "import numpy as np\n",
    "from scipy.spatial import distance\n",
    "from joblib import load\n",
    "from sklearn.metrics.pairwise import cosine_similarity\n",
    "import pandas as pd"
   ]
  },
  {
   "cell_type": "code",
   "execution_count": 6,
   "metadata": {},
   "outputs": [],
   "source": [
    " with open(\"../code/embedding/models/doc_data/id_dict.txt\", \"rb\") as fp:\n",
    "    id_dict = pickle.load(fp)\n",
    "# Unpickle the document data\n",
    "with open(\"../code/embedding/models/doc_data/all_docs.txt\", \"rb\") as fp:\n",
    "    all_docs = pickle.load(fp)\n",
    "with open(\"../code/embedding/models/doc_data/all_docs_prepro.txt\", \"rb\") as fp:\n",
    "    all_docs_prepro = pickle.load(fp)\n",
    "with open(\"../code/embedding/models/doc_data/all_docs_sep.pkl\", \"rb\") as fp:\n",
    "    all_docs_sep = pickle.load(fp)\n",
    "\n",
    "ticket_ans_ids = np.array(id_dict['ticket_ans'])\n",
    "all_faq_ans = id_dict['faq_ans']\n",
    "\n",
    "faq_ans = all_docs_sep['faq_ans']\n",
    "ticket_ans = all_docs_sep['ticket_ans']"
   ]
  },
  {
   "cell_type": "code",
   "execution_count": 8,
   "metadata": {},
   "outputs": [
    {
     "name": "stdout",
     "output_type": "stream",
     "text": [
      "Computing TF-IDF Similarities...\n"
     ]
    }
   ],
   "source": [
    "TFiDF = load('../code/embedding/models/TF-IFD-ans.joblib')\n",
    "\n",
    "# make matrix\n",
    "FAQ_matrix = TFiDF.transform(faq_ans)\n",
    "ticket_matrix = TFiDF.transform(ticket_ans)\n",
    "print('Computing TF-IDF Similarities...')\n",
    "sim_matrix = cosine_similarity(FAQ_matrix, ticket_matrix)\n",
    "\n",
    "# mapping\n",
    "FAQ_per_ticket = np.argmax(sim_matrix, axis=0)\n",
    "strength_FAQ_ticket = np.max(sim_matrix, axis=0)\n",
    "\n"
   ]
  },
  {
   "cell_type": "code",
   "execution_count": 20,
   "metadata": {},
   "outputs": [
    {
     "name": "stdout",
     "output_type": "stream",
     "text": [
      "0.0\n",
      "0.1\n",
      "0.2\n",
      "0.30000000000000004\n",
      "0.4\n",
      "0.5\n",
      "0.6000000000000001\n",
      "0.7000000000000001\n",
      "0.8\n",
      "0.9\n",
      "1.0\n"
     ]
    }
   ],
   "source": [
    "for thresh in np.linspace(0,1, 11):\n",
    "    print(thresh)"
   ]
  },
  {
   "cell_type": "code",
   "execution_count": 13,
   "metadata": {},
   "outputs": [
    {
     "data": {
      "text/plain": [
       "0.5960123427486351"
      ]
     },
     "execution_count": 13,
     "metadata": {},
     "output_type": "execute_result"
    }
   ],
   "source": [
    "sum(FAQ_per_ticket_threshold == -1)/len(FAQ_per_ticket_threshold)"
   ]
  }
 ],
 "metadata": {
  "kernelspec": {
   "display_name": "Python 3",
   "language": "python",
   "name": "python3"
  },
  "language_info": {
   "codemirror_mode": {
    "name": "ipython",
    "version": 3
   },
   "file_extension": ".py",
   "mimetype": "text/x-python",
   "name": "python",
   "nbconvert_exporter": "python",
   "pygments_lexer": "ipython3",
   "version": "3.6.3"
  }
 },
 "nbformat": 4,
 "nbformat_minor": 2
}
