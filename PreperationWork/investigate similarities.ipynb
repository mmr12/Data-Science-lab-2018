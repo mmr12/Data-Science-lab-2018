{
 "cells": [
  {
   "cell_type": "code",
   "execution_count": 1,
   "metadata": {},
   "outputs": [
    {
     "name": "stderr",
     "output_type": "stream",
     "text": [
      "c:\\users\\costanza\\appdata\\local\\programs\\python\\python37-32\\lib\\site-packages\\gensim\\utils.py:1212: UserWarning: detected Windows; aliasing chunkize to chunkize_serial\n",
      "  warnings.warn(\"detected Windows; aliasing chunkize to chunkize_serial\")\n"
     ]
    }
   ],
   "source": [
    "import pandas as pd\n",
    "from gensim.test.utils import get_tmpfile\n",
    "from gensim.models.doc2vec import Doc2Vec\n",
    "import pickle\n",
    "import numpy as np\n",
    "import matplotlib.pyplot as plt"
   ]
  },
  {
   "cell_type": "code",
   "execution_count": 38,
   "metadata": {},
   "outputs": [],
   "source": [
    "from gensim.parsing.preprocessing import preprocess_string\n",
    "import re\n",
    "import string\n",
    "from gensim.parsing.preprocessing import remove_stopwords\n",
    "from gensim.parsing.preprocessing import strip_multiple_whitespaces\n",
    "from gensim.parsing.preprocessing import stem_text\n",
    "from gensim.parsing.preprocessing import strip_numeric\n",
    "def remove_ip(s):\n",
    "    # Replace all ip adresses with '<ip>' tag\n",
    "    ip_regexp = r\"\\b\\d{1,3}\\.\\d{1,3}\\.\\d{1,3}\\.\\d{1,3}\\b\"\n",
    "    return re.sub(ip_regexp, '<ip>', s)\n",
    "def remove_email(s):\n",
    "    # Replace all email adresses with '<email>' tag\n",
    "    email_regexp = r\"([a-zA-Z0-9_\\-\\.]+)@([a-zA-Z0-9_\\-\\.]+)\\.([a-zA-Z]{2,5})\"\n",
    "    return re.sub(email_regexp, '<email>', s)\n",
    "def remove_mailto(s):\n",
    "    # Replace all \"<mailto:<email>>\" with <email>. Email adresses should be replaced by remove_email first.\n",
    "    return s.replace(\"<mailto:<email>>\", \"<email>\")\n",
    "def remove_url(s):\n",
    "    # Replace all url's with '<url>' tag\n",
    "    url_regexp = r\"((http|ftp|https):\\/\\/)?[-a-zA-Z0-9@:%._\\+~#=]{2,256}\\.[a-z]{2,6}\\b([-a-zA-Z0-9@:%_\\+.~#?&//=]*)\"\n",
    "    s = re.sub(url_regexp, '<url>', s)\n",
    "    # Sometimes url's are inside <> so we need to replace <<url>> with <url>\n",
    "    return s.replace(\"<<url>>\", \"<url>\")\n",
    "def remove_punc(s, exceptions):\n",
    "    # Remove all punctuation from string with exceptions in list exceptions\n",
    "    remove = string.punctuation\n",
    "    for exception in exceptions:\n",
    "        remove = remove.replace(exception, \"\")\n",
    "    # Create the pattern\n",
    "    pattern = r\"[{}]\".format(remove)\n",
    "\n",
    "    return re.sub(pattern, \"\", s)\n",
    "def remove_custom_stopwords(s, stopwords):\n",
    "    for stopword in stopwords:\n",
    "        s = s.replace(stopword, \"\")\n",
    "    return s\n",
    "def lower_case(s):\n",
    "    return s.lower()\n",
    "def preprocess_sentence_fn(s):\n",
    "    # Preprocess a single sentence to a list of tokens\n",
    "    punc_exceptions = ['<', '>']\n",
    "    custom_stopwords = ['dear', 'sincerely', 'thanks', 'yours', 'regards']\n",
    "    filters = [lower_case,\n",
    "               remove_ip,\n",
    "               remove_email,\n",
    "               remove_mailto,\n",
    "               remove_url,\n",
    "               lambda x: remove_punc(x, punc_exceptions),\n",
    "               remove_stopwords,\n",
    "               lambda x: remove_custom_stopwords(x, custom_stopwords),\n",
    "               strip_multiple_whitespaces,\n",
    "               stem_text,\n",
    "               strip_numeric]\n",
    "    out = preprocess_string(s, filters=filters)\n",
    "    return out\n",
    "def preprocess_docs_fn(docs):\n",
    "    # Apply preprocess_sentence_fn to a list of sentances (docs) to get a list of lists\n",
    "    return [preprocess_sentence_fn(s) for s in docs]"
   ]
  },
  {
   "cell_type": "code",
   "execution_count": 39,
   "metadata": {},
   "outputs": [],
   "source": [
    "# Read in the data\n",
    "ticket_dat = pd.read_csv('../../data/ticket_dat.csv')\n",
    "faq_dat = pd.read_csv('../../data/faq_dat.csv')\n",
    "# Replace the NaNs\n",
    "ticket_dat.fillna('', inplace=True)\n",
    "faq_dat.fillna('', inplace=True)\n",
    "# Make sentences into\n",
    "faq_ques = list(faq_dat.question)\n",
    "n_faq_ques = len(faq_ques)\n",
    "# FAQ answer is the answer and its title concatenated\n",
    "faq_ans = list(faq_dat.answer_title + \" \" + faq_dat.answer)\n",
    "n_faq_ans = len(faq_ans)\n",
    "ticket_ques = list(ticket_dat.question)\n",
    "n_ticket_ques = len(ticket_ques)\n",
    "ticket_ans = list(ticket_dat.answer)\n",
    "n_ticket_ans = len(ticket_ans)\n",
    "# Model assumption: same embedding for all\n",
    "all_docs = faq_ques + faq_ans + ticket_ques + ticket_ans\n",
    "# create a dictionary storing the cut points for the four datasets so we can re-split them after.    \n",
    "# use like all_docs[id_dict['faq_ques']] to get all faq questions.\n",
    "id_dict = {\n",
    "    'faq_ques': range(0, n_faq_ques),\n",
    "    'faq_ans': range(n_faq_ques, n_faq_ques + n_faq_ans),\n",
    "    'ticket_ques': range(n_faq_ques + n_faq_ans, n_faq_ques + n_faq_ans + n_ticket_ques),\n",
    "    'ticket_ans': range(n_faq_ques + n_faq_ans + n_ticket_ques, n_faq_ques + n_faq_ans + n_ticket_ques + n_ticket_ans)\n",
    "}\n",
    "# Need to save this list and id dictionary as a pickle so we can decode IDs when we test things\n",
    "with open(\"../embedding/models/doc_data/all_docs.txt\", \"wb\") as fp:\n",
    "    pickle.dump(all_docs, fp)\n",
    "with open(\"../embedding/models/doc_data/id_dict.txt\", \"wb\") as fp:\n",
    "    pickle.dump(id_dict, fp)\n",
    "all_docs_prepro = preprocess_docs_fn(all_docs)\n",
    "model_path = '../embedding/models/doc2vec.model'\n",
    "model = Doc2Vec.load(model_path)\n",
    "#model dimensions [10785, 128]\n",
    "print('Loading Document Data...')\n",
    "# Unpickle the document data\n",
    "with open(\"../embedding/models/doc_data/all_docs.txt\", \"rb\") as fp:\n",
    "    all_docs = pickle.load(fp)\n",
    "with open(\"../embedding/models/doc_data/id_dict.txt\", \"rb\") as fp:\n",
    "    id_dict = pickle.load(fp)\n",
    "ticket_ans_ids = np.array(id_dict['ticket_ans'])\n",
    "all_faq_ans = id_dict['faq_ans']\n",
    "print('The FAQ answers can be found in the following {}'.format(all_faq_ans))\n",
    "print('The tickets have the following ids {}'.format(ticket_ans_ids))"
   ]
  },
  {
   "cell_type": "code",
   "execution_count": 177,
   "metadata": {},
   "outputs": [],
   "source": [
    "def sim_to_faq(doc_id):\n",
    "    # Computes similarity to all faqs for a given doc_id\n",
    "    dists = model.docvecs.distances(doc_id, other_docs=())\n",
    "    return np.array(dists[all_faq_ans])"
   ]
  },
  {
   "cell_type": "code",
   "execution_count": 280,
   "metadata": {},
   "outputs": [
    {
     "name": "stdout",
     "output_type": "stream",
     "text": [
      "Computing Similarities...\n"
     ]
    }
   ],
   "source": [
    "sim_to_faq_vec = np.vectorize(sim_to_faq, otypes=[object])\n",
    "print('Computing Similarities...')\n",
    "ticket_faq_dists = np.stack(sim_to_faq_vec(ticket_ans_ids)) #array w/ similarity btw each ticket_ans and each faq ans\n",
    "ticket_faq_map = np.argmin(ticket_faq_dists, axis=1)"
   ]
  },
  {
   "cell_type": "code",
   "execution_count": 294,
   "metadata": {},
   "outputs": [
    {
     "name": "stdout",
     "output_type": "stream",
     "text": [
      "0\n",
      "388\n",
      "195.03776978417267\n",
      "126.07803708479139\n",
      "5\n"
     ]
    }
   ],
   "source": [
    "print(np.amin(ticket_faq_map))\n",
    "print(np.amax(ticket_faq_map))\n",
    "print(np.mean(ticket_faq_map))\n",
    "print(np.std(ticket_faq_map))"
   ]
  },
  {
   "cell_type": "code",
   "execution_count": 281,
   "metadata": {
    "scrolled": true
   },
   "outputs": [
    {
     "name": "stdout",
     "output_type": "stream",
     "text": [
      "Counter({367: 175, 54: 149, 323: 117, 349: 103, 39: 82, 33: 72, 321: 70, 9: 69, 81: 66, 336: 66, 181: 65, 196: 58, 195: 56, 12: 53, 303: 51, 353: 50, 258: 49, 6: 49, 45: 45, 296: 44, 158: 43, 256: 43, 119: 42, 82: 42, 22: 41, 163: 41, 371: 40, 377: 38, 260: 37, 16: 36, 387: 35, 7: 35, 36: 33, 265: 32, 261: 30, 102: 30, 335: 29, 360: 29, 21: 29, 310: 29, 42: 28, 165: 28, 193: 28, 362: 28, 107: 28, 31: 27, 94: 27, 19: 26, 313: 26, 356: 25, 172: 25, 20: 23, 364: 23, 250: 23, 11: 23, 51: 23, 388: 22, 66: 22, 209: 21, 106: 21, 213: 21, 307: 21, 167: 20, 103: 20, 67: 20, 280: 20, 151: 20, 354: 20, 4: 20, 212: 19, 322: 19, 259: 19, 124: 19, 24: 19, 383: 19, 194: 19, 197: 18, 270: 18, 5: 18, 83: 18, 376: 18, 168: 18, 29: 18, 231: 18, 60: 17, 219: 17, 338: 17, 324: 17, 171: 16, 326: 16, 214: 16, 50: 16, 169: 16, 276: 16, 273: 15, 104: 15, 188: 15, 13: 15, 184: 15, 55: 15, 98: 15, 386: 15, 284: 14, 43: 14, 58: 14, 208: 14, 319: 14, 75: 14, 131: 14, 223: 14, 277: 14, 346: 14, 350: 14, 281: 13, 28: 13, 114: 13, 337: 13, 267: 13, 14: 13, 38: 13, 204: 13, 170: 12, 44: 12, 329: 12, 269: 12, 177: 12, 255: 12, 1: 12, 327: 12, 162: 12, 157: 12, 48: 12, 251: 12, 215: 12, 380: 12, 201: 12, 173: 12, 238: 12, 129: 11, 290: 11, 379: 11, 308: 11, 274: 11, 150: 11, 288: 11, 325: 11, 361: 11, 46: 11, 99: 11, 312: 11, 370: 11, 316: 11, 126: 11, 292: 11, 175: 10, 381: 10, 130: 10, 26: 10, 69: 10, 23: 10, 328: 10, 264: 10, 10: 10, 375: 10, 134: 10, 35: 10, 73: 9, 154: 9, 161: 9, 8: 9, 217: 9, 311: 9, 320: 9, 166: 9, 2: 9, 278: 9, 156: 9, 132: 9, 373: 8, 183: 8, 351: 8, 374: 8, 205: 8, 339: 8, 315: 8, 218: 8, 317: 8, 101: 8, 182: 8, 192: 8, 271: 7, 164: 7, 384: 7, 228: 7, 179: 7, 286: 7, 358: 7, 233: 7, 30: 7, 185: 7, 352: 7, 34: 7, 189: 7, 272: 7, 49: 7, 309: 7, 40: 7, 344: 7, 382: 6, 363: 6, 348: 6, 47: 6, 372: 6, 15: 6, 141: 6, 125: 6, 152: 6, 285: 6, 357: 6, 41: 6, 180: 6, 305: 6, 216: 6, 206: 6, 149: 5, 340: 5, 289: 5, 331: 5, 57: 5, 365: 5, 0: 5, 127: 5, 248: 5, 318: 5, 140: 5, 291: 5, 191: 5, 302: 5, 314: 5, 199: 5, 207: 5, 295: 5, 95: 5, 369: 5, 133: 5, 225: 5, 147: 5, 25: 5, 334: 5, 115: 5, 110: 5, 159: 4, 153: 4, 282: 4, 275: 4, 160: 4, 3: 4, 355: 4, 279: 4, 230: 4, 234: 4, 53: 4, 27: 4, 122: 4, 84: 4, 249: 4, 123: 4, 97: 4, 202: 4, 200: 4, 96: 4, 72: 4, 187: 4, 32: 4, 61: 3, 235: 3, 17: 3, 100: 3, 293: 3, 128: 3, 306: 3, 224: 3, 71: 3, 92: 3, 116: 3, 237: 3, 86: 3, 210: 3, 262: 3, 37: 3, 232: 3, 222: 3, 178: 3, 74: 3, 263: 2, 244: 2, 109: 2, 186: 2, 368: 2, 254: 2, 198: 2, 64: 2, 226: 2, 385: 2, 297: 2, 211: 2, 203: 2, 139: 2, 88: 2, 148: 2, 120: 2, 143: 2, 378: 2, 243: 2, 252: 2, 298: 2, 366: 2, 79: 2, 333: 2, 220: 2, 239: 2, 283: 2, 62: 2, 342: 1, 301: 1, 87: 1, 287: 1, 330: 1, 118: 1, 253: 1, 347: 1, 246: 1, 174: 1, 142: 1, 111: 1, 247: 1, 300: 1, 105: 1, 56: 1, 227: 1, 91: 1, 77: 1, 68: 1, 63: 1, 221: 1, 117: 1, 108: 1, 343: 1, 137: 1, 65: 1, 155: 1, 241: 1, 59: 1, 266: 1, 85: 1})\n",
      "\n",
      "[(367, 175), (54, 149), (323, 117), (349, 103), (39, 82), (33, 72), (321, 70), (9, 69), (81, 66), (336, 66), (181, 65), (196, 58), (195, 56), (12, 53), (303, 51), (353, 50), (258, 49), (6, 49), (45, 45), (296, 44), (158, 43), (256, 43), (119, 42), (82, 42), (22, 41), (163, 41), (371, 40), (377, 38), (260, 37), (16, 36), (387, 35), (7, 35), (36, 33), (265, 32), (261, 30), (102, 30), (335, 29), (360, 29), (21, 29), (310, 29), (42, 28), (165, 28), (193, 28), (362, 28), (107, 28), (31, 27), (94, 27), (19, 26), (313, 26), (356, 25), (172, 25), (20, 23), (364, 23), (250, 23), (11, 23), (51, 23), (388, 22), (66, 22), (209, 21), (106, 21), (213, 21), (307, 21), (167, 20), (103, 20), (67, 20), (280, 20), (151, 20), (354, 20), (4, 20), (212, 19), (322, 19), (259, 19), (124, 19), (24, 19), (383, 19), (194, 19), (197, 18), (270, 18), (5, 18), (83, 18), (376, 18), (168, 18), (29, 18), (231, 18), (60, 17), (219, 17), (338, 17), (324, 17), (171, 16), (326, 16), (214, 16), (50, 16), (169, 16), (276, 16), (273, 15), (104, 15), (188, 15), (13, 15), (184, 15), (55, 15), (98, 15), (386, 15), (284, 14), (43, 14), (58, 14), (208, 14), (319, 14), (75, 14), (131, 14), (223, 14), (277, 14), (346, 14), (350, 14), (281, 13), (28, 13), (114, 13), (337, 13), (267, 13), (14, 13), (38, 13), (204, 13), (170, 12), (44, 12), (329, 12), (269, 12), (177, 12), (255, 12), (1, 12), (327, 12), (162, 12), (157, 12), (48, 12), (251, 12), (215, 12), (380, 12), (201, 12), (173, 12), (238, 12), (129, 11), (290, 11), (379, 11), (308, 11), (274, 11), (150, 11), (288, 11), (325, 11), (361, 11), (46, 11), (99, 11), (312, 11), (370, 11), (316, 11), (126, 11), (292, 11), (175, 10), (381, 10), (130, 10), (26, 10), (69, 10), (23, 10), (328, 10), (264, 10), (10, 10), (375, 10), (134, 10), (35, 10), (73, 9), (154, 9), (161, 9), (8, 9), (217, 9), (311, 9), (320, 9), (166, 9), (2, 9), (278, 9), (156, 9), (132, 9), (373, 8), (183, 8), (351, 8), (374, 8), (205, 8), (339, 8), (315, 8), (218, 8), (317, 8), (101, 8), (182, 8), (192, 8), (271, 7), (164, 7), (384, 7), (228, 7), (179, 7), (286, 7), (358, 7), (233, 7), (30, 7), (185, 7), (352, 7), (34, 7), (189, 7), (272, 7), (49, 7), (309, 7), (40, 7), (344, 7), (382, 6), (363, 6), (348, 6), (47, 6), (372, 6), (15, 6), (141, 6), (125, 6), (152, 6), (285, 6), (357, 6), (41, 6), (180, 6), (305, 6), (216, 6), (206, 6), (149, 5), (340, 5), (289, 5), (331, 5), (57, 5), (365, 5), (0, 5), (127, 5), (248, 5), (318, 5), (140, 5), (291, 5), (191, 5), (302, 5), (314, 5), (199, 5), (207, 5), (295, 5), (95, 5), (369, 5), (133, 5), (225, 5), (147, 5), (25, 5), (334, 5), (115, 5), (110, 5), (159, 4), (153, 4), (282, 4), (275, 4), (160, 4), (3, 4), (355, 4), (279, 4), (230, 4), (234, 4), (53, 4), (27, 4), (122, 4), (84, 4), (249, 4), (123, 4), (97, 4), (202, 4), (200, 4), (96, 4), (72, 4), (187, 4), (32, 4), (61, 3), (235, 3), (17, 3), (100, 3), (293, 3), (128, 3), (306, 3), (224, 3), (71, 3), (92, 3), (116, 3), (237, 3), (86, 3), (210, 3), (262, 3), (37, 3), (232, 3), (222, 3), (178, 3), (74, 3), (263, 2), (244, 2), (109, 2), (186, 2), (368, 2), (254, 2), (198, 2), (64, 2), (226, 2), (385, 2), (297, 2), (211, 2), (203, 2), (139, 2), (88, 2), (148, 2), (120, 2), (143, 2), (378, 2), (243, 2), (252, 2), (298, 2), (366, 2), (79, 2), (333, 2), (220, 2), (239, 2), (283, 2), (62, 2), (342, 1), (301, 1), (87, 1), (287, 1), (330, 1), (118, 1), (253, 1), (347, 1), (246, 1), (174, 1), (142, 1), (111, 1), (247, 1), (300, 1), (105, 1), (56, 1), (227, 1), (91, 1), (77, 1), (68, 1), (63, 1), (221, 1), (117, 1), (108, 1), (343, 1), (137, 1), (65, 1), (155, 1), (241, 1), (59, 1), (266, 1), (85, 1)]\n"
     ]
    },
    {
     "data": {
      "image/png": "[encoded data removed]",
      "text/plain": [
       "<Figure size 432x288 with 1 Axes>"
      ]
     },
     "metadata": {
      "needs_background": "light"
     },
     "output_type": "display_data"
    }
   ],
   "source": [
    "all_l = Counter(ticket_faq_map)\n",
    "all_k=all_l.most_common()\n",
    "print(all_k)\n",
    "\n",
    "all_y = [0]*len(all_k)\n",
    "for i in range(0,len(all_k)):\n",
    "    all_y[i] = all_k[i][1]\n",
    "    \n",
    "#all_b = [1, 51, 101, 151, 201, 251, 301]\n",
    "#names = np.array(x)[b]\n",
    "plt.bar(range(0,len(all_y)), all_y, color='blue')\n",
    "#plt.xticks([0, 50, 100, 150, 200, 250, 300, 350], names)\n",
    "plt.show()"
   ]
  },
  {
   "cell_type": "code",
   "execution_count": 293,
   "metadata": {},
   "outputs": [
    {
     "data": {
      "text/plain": [
       "(5004, 389)"
      ]
     },
     "execution_count": 293,
     "metadata": {},
     "output_type": "execute_result"
    }
   ],
   "source": [
    "ticket_faq_dists.shape"
   ]
  },
  {
   "cell_type": "code",
   "execution_count": 179,
   "metadata": {},
   "outputs": [
    {
     "name": "stdout",
     "output_type": "stream",
     "text": [
      "5004\n",
      "389\n"
     ]
    }
   ],
   "source": [
    "print(len(ticket_faq_dists)) #number of rows\n",
    "print(len(ticket_faq_dists[0])) #number of columns"
   ]
  },
  {
   "cell_type": "code",
   "execution_count": 278,
   "metadata": {},
   "outputs": [
    {
     "name": "stderr",
     "output_type": "stream",
     "text": [
      "c:\\users\\costanza\\appdata\\local\\programs\\python\\python37-32\\lib\\site-packages\\ipykernel_launcher.py:2: FutureWarning: Using a non-tuple sequence for multidimensional indexing is deprecated; use `arr[tuple(seq)]` instead of `arr[seq]`. In the future this will be interpreted as an array index, `arr[np.array(seq)]`, which will result either in an error or a different result.\n",
      "  \n"
     ]
    }
   ],
   "source": [
    "big_dist = [ticket_faq_dists.min(axis=1) > 0.8]\n",
    "ticket_faq_map[big_dist] = -1 # Set all thresholded distances to have label -1"
   ]
  },
  {
   "cell_type": "code",
   "execution_count": 279,
   "metadata": {},
   "outputs": [
    {
     "name": "stdout",
     "output_type": "stream",
     "text": [
      "[array([False, False, False, ..., False, False, False])]\n",
      "[284   9 171 ...   6 196  67]\n",
      "number of tickets without an FAQ:38\n",
      "5004\n"
     ]
    }
   ],
   "source": [
    "print(big_dist)\n",
    "print(ticket_faq_map)\n",
    "print('number of tickets without an FAQ:{}' .format(list(ticket_faq_map).count(-1)))\n",
    "print(len(list(ticket_faq_map)))"
   ]
  },
  {
   "cell_type": "code",
   "execution_count": 143,
   "metadata": {},
   "outputs": [],
   "source": [
    "dic = np.empty((390,2), dtype=int)\n",
    "for i in range(0,390):\n",
    "    dic[i,0] = i\n",
    "    dic[i,1] = 0\n",
    "for i in range(0,len(list(ticket_faq_map))):\n",
    "    dic[list(ticket_faq_map)[i],1] += 1\n",
    "dic[389,1] = list(ticket_faq_map).count(-1)"
   ]
  },
  {
   "cell_type": "code",
   "execution_count": 136,
   "metadata": {},
   "outputs": [
    {
     "name": "stdout",
     "output_type": "stream",
     "text": [
      "284\n",
      "8\n",
      "8\n"
     ]
    }
   ],
   "source": [
    "print(dic[list(ticket_faq_map)[0],0])\n",
    "print(dic[list(ticket_faq_map)[0],1])\n",
    "print(list(ticket_faq_map).count(284))"
   ]
  },
  {
   "cell_type": "code",
   "execution_count": 213,
   "metadata": {
    "scrolled": true
   },
   "outputs": [
    {
     "name": "stdout",
     "output_type": "stream",
     "text": [
      "Counter({-1: 794, 367: 168, 54: 149, 323: 115, 349: 102, 39: 82, 33: 72, 9: 69, 81: 66, 336: 66, 181: 65, 196: 56, 195: 54, 12: 53, 303: 51, 258: 49, 6: 49, 321: 47, 353: 45, 296: 44, 256: 43, 119: 42, 22: 41, 158: 40, 163: 40, 82: 40, 45: 38, 7: 35, 371: 35, 387: 34, 265: 32, 36: 30, 16: 30, 102: 30, 335: 29, 261: 29, 21: 29, 260: 28, 165: 28, 107: 28, 42: 27, 94: 27, 19: 26, 313: 26, 310: 26, 356: 25, 172: 25, 20: 23, 250: 23, 11: 23, 31: 22, 66: 22, 209: 21, 106: 21, 360: 21, 67: 20, 151: 20, 354: 20, 4: 20, 259: 19, 24: 19, 197: 18, 83: 18, 124: 18, 29: 18, 231: 18, 270: 17, 377: 17, 338: 17, 383: 17, 103: 16, 364: 16, 194: 16, 326: 15, 214: 15, 388: 15, 376: 15, 104: 15, 168: 15, 55: 15, 171: 14, 362: 14, 277: 14, 386: 14, 51: 14, 213: 14, 5: 13, 319: 13, 28: 13, 114: 13, 184: 13, 337: 13, 188: 12, 75: 12, 255: 12, 169: 12, 131: 12, 162: 12, 223: 12, 14: 12, 48: 12, 251: 12, 215: 12, 173: 12, 98: 12, 274: 11, 325: 11, 1: 11, 281: 11, 267: 11, 201: 11, 126: 11, 292: 11, 43: 10, 290: 10, 69: 10, 370: 10, 264: 10, 35: 10, 238: 10, 73: 9, 212: 9, 273: 9, 329: 9, 167: 9, 23: 9, 269: 9, 307: 9, 2: 9, 278: 9, 312: 9, 276: 9, 134: 9, 284: 8, 44: 8, 379: 8, 183: 8, 46: 8, 26: 8, 339: 8, 166: 8, 177: 8, 315: 8, 218: 8, 101: 8, 129: 7, 58: 7, 161: 7, 150: 7, 8: 7, 384: 7, 130: 7, 327: 7, 286: 7, 358: 7, 351: 7, 217: 7, 320: 7, 34: 7, 346: 7, 189: 7, 193: 7, 10: 7, 49: 7, 154: 6, 373: 6, 170: 6, 164: 6, 50: 6, 233: 6, 311: 6, 15: 6, 205: 6, 30: 6, 141: 6, 125: 6, 219: 6, 308: 6, 344: 6, 132: 6, 149: 5, 271: 5, 57: 5, 372: 5, 322: 5, 374: 5, 140: 5, 302: 5, 317: 5, 40: 5, 95: 5, 369: 5, 133: 5, 60: 5, 225: 5, 147: 5, 305: 5, 334: 5, 309: 5, 110: 5, 175: 4, 0: 4, 127: 4, 153: 4, 331: 4, 230: 4, 380: 4, 375: 4, 295: 4, 288: 4, 53: 4, 122: 4, 382: 4, 249: 4, 123: 4, 328: 4, 152: 4, 202: 4, 206: 4, 96: 4, 72: 4, 187: 4, 61: 3, 235: 3, 289: 3, 208: 3, 17: 3, 282: 3, 100: 3, 318: 3, 293: 3, 160: 3, 128: 3, 179: 3, 191: 3, 185: 3, 3: 3, 99: 3, 272: 3, 234: 3, 156: 3, 71: 3, 92: 3, 116: 3, 237: 3, 363: 3, 86: 3, 182: 3, 285: 3, 216: 3, 248: 3, 192: 3, 262: 3, 365: 3, 97: 3, 222: 3, 115: 3, 32: 3, 228: 3, 199: 3, 340: 2, 263: 2, 381: 2, 47: 2, 244: 2, 109: 2, 306: 2, 224: 2, 254: 2, 198: 2, 64: 2, 226: 2, 297: 2, 211: 2, 355: 2, 203: 2, 139: 2, 210: 2, 25: 2, 88: 2, 148: 2, 37: 2, 143: 2, 378: 2, 200: 2, 243: 2, 252: 2, 204: 2, 180: 2, 298: 2, 159: 2, 84: 2, 291: 2, 157: 2, 357: 2, 232: 2, 283: 2, 314: 2, 13: 1, 342: 1, 301: 1, 186: 1, 87: 1, 287: 1, 330: 1, 118: 1, 253: 1, 246: 1, 174: 1, 142: 1, 111: 1, 368: 1, 74: 1, 41: 1, 120: 1, 27: 1, 316: 1, 300: 1, 56: 1, 227: 1, 79: 1, 91: 1, 77: 1, 333: 1, 63: 1, 239: 1, 221: 1, 117: 1, 275: 1, 108: 1, 324: 1, 343: 1, 352: 1, 137: 1, 65: 1, 155: 1, 241: 1, 59: 1, 178: 1, 85: 1, 62: 1, 350: 1})\n",
      "\n",
      "[(-1, 794), (367, 168), (54, 149), (323, 115), (349, 102), (39, 82), (33, 72), (9, 69), (81, 66), (336, 66), (181, 65), (196, 56), (195, 54), (12, 53), (303, 51), (258, 49), (6, 49), (321, 47), (353, 45), (296, 44), (256, 43), (119, 42), (22, 41), (158, 40), (163, 40), (82, 40), (45, 38), (7, 35), (371, 35), (387, 34), (265, 32), (36, 30), (16, 30), (102, 30), (335, 29), (261, 29), (21, 29), (260, 28), (165, 28), (107, 28), (42, 27), (94, 27), (19, 26), (313, 26), (310, 26), (356, 25), (172, 25), (20, 23), (250, 23), (11, 23), (31, 22), (66, 22), (209, 21), (106, 21), (360, 21), (67, 20), (151, 20), (354, 20), (4, 20), (259, 19), (24, 19), (197, 18), (83, 18), (124, 18), (29, 18), (231, 18), (270, 17), (377, 17), (338, 17), (383, 17), (103, 16), (364, 16), (194, 16), (326, 15), (214, 15), (388, 15), (376, 15), (104, 15), (168, 15), (55, 15), (171, 14), (362, 14), (277, 14), (386, 14), (51, 14), (213, 14), (5, 13), (319, 13), (28, 13), (114, 13), (184, 13), (337, 13), (188, 12), (75, 12), (255, 12), (169, 12), (131, 12), (162, 12), (223, 12), (14, 12), (48, 12), (251, 12), (215, 12), (173, 12), (98, 12), (274, 11), (325, 11), (1, 11), (281, 11), (267, 11), (201, 11), (126, 11), (292, 11), (43, 10), (290, 10), (69, 10), (370, 10), (264, 10), (35, 10), (238, 10), (73, 9), (212, 9), (273, 9), (329, 9), (167, 9), (23, 9), (269, 9), (307, 9), (2, 9), (278, 9), (312, 9), (276, 9), (134, 9), (284, 8), (44, 8), (379, 8), (183, 8), (46, 8), (26, 8), (339, 8), (166, 8), (177, 8), (315, 8), (218, 8), (101, 8), (129, 7), (58, 7), (161, 7), (150, 7), (8, 7), (384, 7), (130, 7), (327, 7), (286, 7), (358, 7), (351, 7), (217, 7), (320, 7), (34, 7), (346, 7), (189, 7), (193, 7), (10, 7), (49, 7), (154, 6), (373, 6), (170, 6), (164, 6), (50, 6), (233, 6), (311, 6), (15, 6), (205, 6), (30, 6), (141, 6), (125, 6), (219, 6), (308, 6), (344, 6), (132, 6), (149, 5), (271, 5), (57, 5), (372, 5), (322, 5), (374, 5), (140, 5), (302, 5), (317, 5), (40, 5), (95, 5), (369, 5), (133, 5), (60, 5), (225, 5), (147, 5), (305, 5), (334, 5), (309, 5), (110, 5), (175, 4), (0, 4), (127, 4), (153, 4), (331, 4), (230, 4), (380, 4), (375, 4), (295, 4), (288, 4), (53, 4), (122, 4), (382, 4), (249, 4), (123, 4), (328, 4), (152, 4), (202, 4), (206, 4), (96, 4), (72, 4), (187, 4), (61, 3), (235, 3), (289, 3), (208, 3), (17, 3), (282, 3), (100, 3), (318, 3), (293, 3), (160, 3), (128, 3), (179, 3), (191, 3), (185, 3), (3, 3), (99, 3), (272, 3), (234, 3), (156, 3), (71, 3), (92, 3), (116, 3), (237, 3), (363, 3), (86, 3), (182, 3), (285, 3), (216, 3), (248, 3), (192, 3), (262, 3), (365, 3), (97, 3), (222, 3), (115, 3), (32, 3), (228, 3), (199, 3), (340, 2), (263, 2), (381, 2), (47, 2), (244, 2), (109, 2), (306, 2), (224, 2), (254, 2), (198, 2), (64, 2), (226, 2), (297, 2), (211, 2), (355, 2), (203, 2), (139, 2), (210, 2), (25, 2), (88, 2), (148, 2), (37, 2), (143, 2), (378, 2), (200, 2), (243, 2), (252, 2), (204, 2), (180, 2), (298, 2), (159, 2), (84, 2), (291, 2), (157, 2), (357, 2), (232, 2), (283, 2), (314, 2), (13, 1), (342, 1), (301, 1), (186, 1), (87, 1), (287, 1), (330, 1), (118, 1), (253, 1), (246, 1), (174, 1), (142, 1), (111, 1), (368, 1), (74, 1), (41, 1), (120, 1), (27, 1), (316, 1), (300, 1), (56, 1), (227, 1), (79, 1), (91, 1), (77, 1), (333, 1), (63, 1), (239, 1), (221, 1), (117, 1), (275, 1), (108, 1), (324, 1), (343, 1), (352, 1), (137, 1), (65, 1), (155, 1), (241, 1), (59, 1), (178, 1), (85, 1), (62, 1), (350, 1)]\n"
     ]
    }
   ],
   "source": [
    "from collections import Counter\n",
    "l = Counter(ticket_faq_map)\n",
    "print(l)\n",
    "print()\n",
    "k=l.most_common()\n",
    "print(k)"
   ]
  },
  {
   "cell_type": "code",
   "execution_count": 240,
   "metadata": {},
   "outputs": [],
   "source": [
    "x = [0]*len(k)\n",
    "y = [0]*len(k)\n",
    "for i in range(0,len(k)):\n",
    "    x[i] = k[i][0]\n",
    "    y[i] = k[i][1]"
   ]
  },
  {
   "cell_type": "code",
   "execution_count": 210,
   "metadata": {
    "scrolled": true
   },
   "outputs": [
    {
     "data": {
      "text/html": [
       "<div>\n",
       "<style scoped>\n",
       "    .dataframe tbody tr th:only-of-type {\n",
       "        vertical-align: middle;\n",
       "    }\n",
       "\n",
       "    .dataframe tbody tr th {\n",
       "        vertical-align: top;\n",
       "    }\n",
       "\n",
       "    .dataframe thead th {\n",
       "        text-align: right;\n",
       "    }\n",
       "</style>\n",
       "<table border=\"1\" class=\"dataframe\">\n",
       "  <thead>\n",
       "    <tr style=\"text-align: right;\">\n",
       "      <th></th>\n",
       "      <th>Unnamed: 0</th>\n",
       "      <th>faq_id</th>\n",
       "      <th>lang</th>\n",
       "      <th>answer</th>\n",
       "      <th>answer_title</th>\n",
       "      <th>question</th>\n",
       "    </tr>\n",
       "  </thead>\n",
       "  <tbody>\n",
       "    <tr>\n",
       "      <th>367</th>\n",
       "      <td>367</td>\n",
       "      <td>8501</td>\n",
       "      <td>de</td>\n",
       "      <td>Thank you for forwarding the suspicious messag...</td>\n",
       "      <td></td>\n",
       "      <td>Got phishing email?</td>\n",
       "    </tr>\n",
       "    <tr>\n",
       "      <th>54</th>\n",
       "      <td>54</td>\n",
       "      <td>9026</td>\n",
       "      <td>en</td>\n",
       "      <td>This post will be very short and is mainly to ...</td>\n",
       "      <td>What is Breadcrumbs?</td>\n",
       "      <td>What is Breadcrumbs in SharePoint?</td>\n",
       "    </tr>\n",
       "    <tr>\n",
       "      <th>323</th>\n",
       "      <td>323</td>\n",
       "      <td>9231</td>\n",
       "      <td>de</td>\n",
       "      <td>The maximum file size which can be uploaded or...</td>\n",
       "      <td>Maximum file size polybox</td>\n",
       "      <td>Is there a maximum file size in the polybox, w...</td>\n",
       "    </tr>\n",
       "    <tr>\n",
       "      <th>349</th>\n",
       "      <td>349</td>\n",
       "      <td>9305</td>\n",
       "      <td>de</td>\n",
       "      <td>Dear ISG Mr. Meng Li (mli) has a contaminated ...</td>\n",
       "      <td></td>\n",
       "      <td>Verseuchter Rechner / Mail an ISG</td>\n",
       "    </tr>\n",
       "    <tr>\n",
       "      <th>39</th>\n",
       "      <td>39</td>\n",
       "      <td>9006</td>\n",
       "      <td>en</td>\n",
       "      <td>On this website you will find the contact pers...</td>\n",
       "      <td>Website Contacts Departments</td>\n",
       "      <td>How do I find my IT manager in the department?</td>\n",
       "    </tr>\n",
       "    <tr>\n",
       "      <th>33</th>\n",
       "      <td>33</td>\n",
       "      <td>8968</td>\n",
       "      <td>en</td>\n",
       "      <td>Please download first all software local  to y...</td>\n",
       "      <td></td>\n",
       "      <td>How can I install software from IDES?</td>\n",
       "    </tr>\n",
       "    <tr>\n",
       "      <th>9</th>\n",
       "      <td>9</td>\n",
       "      <td>8532</td>\n",
       "      <td>en</td>\n",
       "      <td>Please download first all software local  to y...</td>\n",
       "      <td>Software installation from IDES</td>\n",
       "      <td>How can I install software from IDES?</td>\n",
       "    </tr>\n",
       "    <tr>\n",
       "      <th>81</th>\n",
       "      <td>81</td>\n",
       "      <td>9066</td>\n",
       "      <td>en</td>\n",
       "      <td>When you break permissions inheritance between...</td>\n",
       "      <td>Would you like to delete unique permissions an...</td>\n",
       "      <td>Would you like to delete unique permissions an...</td>\n",
       "    </tr>\n",
       "    <tr>\n",
       "      <th>336</th>\n",
       "      <td>336</td>\n",
       "      <td>9279</td>\n",
       "      <td>de</td>\n",
       "      <td>1. Click on the top link on Site Action 2. Cli...</td>\n",
       "      <td></td>\n",
       "      <td>Change the logo on the SharePoint page</td>\n",
       "    </tr>\n",
       "    <tr>\n",
       "      <th>181</th>\n",
       "      <td>181</td>\n",
       "      <td>8521</td>\n",
       "      <td>de</td>\n",
       "      <td>Please find attached the information to the ma...</td>\n",
       "      <td>Answer mass mail</td>\n",
       "      <td>Bulk mail</td>\n",
       "    </tr>\n",
       "    <tr>\n",
       "      <th>196</th>\n",
       "      <td>196</td>\n",
       "      <td>8538</td>\n",
       "      <td>de</td>\n",
       "      <td>Could you tell us your computer number? It sho...</td>\n",
       "      <td>ZO computer number</td>\n",
       "      <td>What is your ZO number?</td>\n",
       "    </tr>\n",
       "    <tr>\n",
       "      <th>195</th>\n",
       "      <td>195</td>\n",
       "      <td>8536</td>\n",
       "      <td>de</td>\n",
       "      <td>The transaction was only reserved at Saferpay....</td>\n",
       "      <td>Credit not loaded</td>\n",
       "      <td>Prepaid not loaded</td>\n",
       "    </tr>\n",
       "    <tr>\n",
       "      <th>12</th>\n",
       "      <td>12</td>\n",
       "      <td>8561</td>\n",
       "      <td>en</td>\n",
       "      <td>Unfortunately we are not able to send your new...</td>\n",
       "      <td>Password forgotten</td>\n",
       "      <td>Password forgotten</td>\n",
       "    </tr>\n",
       "    <tr>\n",
       "      <th>303</th>\n",
       "      <td>303</td>\n",
       "      <td>9058</td>\n",
       "      <td>de</td>\n",
       "      <td>In SharePoint, navigate to the document librar...</td>\n",
       "      <td>Would you like to disable minor versions in th...</td>\n",
       "      <td>Would you like to disable minor versions in th...</td>\n",
       "    </tr>\n",
       "    <tr>\n",
       "      <th>258</th>\n",
       "      <td>258</td>\n",
       "      <td>8873</td>\n",
       "      <td>de</td>\n",
       "      <td>On the List tab, in the Manage Views group, us...</td>\n",
       "      <td>Do you want to edit a view?</td>\n",
       "      <td>Do you want to edit a view in SharePoint?</td>\n",
       "    </tr>\n",
       "    <tr>\n",
       "      <th>6</th>\n",
       "      <td>6</td>\n",
       "      <td>8511</td>\n",
       "      <td>en</td>\n",
       "      <td>The settings for the ETH VPN are as follows:Se...</td>\n",
       "      <td>VPN settings of the ETH</td>\n",
       "      <td>Settings for VPN</td>\n",
       "    </tr>\n",
       "    <tr>\n",
       "      <th>321</th>\n",
       "      <td>321</td>\n",
       "      <td>9229</td>\n",
       "      <td>de</td>\n",
       "      <td>The polybox memory is limited to 50 GB per user.</td>\n",
       "      <td>Storage polybox</td>\n",
       "      <td>How much memory does my polybox have?</td>\n",
       "    </tr>\n",
       "    <tr>\n",
       "      <th>353</th>\n",
       "      <td>353</td>\n",
       "      <td>9326</td>\n",
       "      <td>de</td>\n",
       "      <td>Dear user Fortunately, you have defined a secr...</td>\n",
       "      <td></td>\n",
       "      <td>Forgot password with secret question</td>\n",
       "    </tr>\n",
       "    <tr>\n",
       "      <th>296</th>\n",
       "      <td>296</td>\n",
       "      <td>9027</td>\n",
       "      <td>de</td>\n",
       "      <td>This post will be very short and is above all ...</td>\n",
       "      <td>What is breadcrumbs?</td>\n",
       "      <td>Was ist Breadcrumbs in Sharepoint?</td>\n",
       "    </tr>\n",
       "    <tr>\n",
       "      <th>256</th>\n",
       "      <td>256</td>\n",
       "      <td>8870</td>\n",
       "      <td>de</td>\n",
       "      <td>To change the location for navigation on your ...</td>\n",
       "      <td>Where is the SharePoint Navigation adapted?</td>\n",
       "      <td>Where is the SharePoint Navigation adapted?</td>\n",
       "    </tr>\n",
       "  </tbody>\n",
       "</table>\n",
       "</div>"
      ],
      "text/plain": [
       "     Unnamed: 0  faq_id lang  \\\n",
       "367         367    8501   de   \n",
       "54           54    9026   en   \n",
       "323         323    9231   de   \n",
       "349         349    9305   de   \n",
       "39           39    9006   en   \n",
       "33           33    8968   en   \n",
       "9             9    8532   en   \n",
       "81           81    9066   en   \n",
       "336         336    9279   de   \n",
       "181         181    8521   de   \n",
       "196         196    8538   de   \n",
       "195         195    8536   de   \n",
       "12           12    8561   en   \n",
       "303         303    9058   de   \n",
       "258         258    8873   de   \n",
       "6             6    8511   en   \n",
       "321         321    9229   de   \n",
       "353         353    9326   de   \n",
       "296         296    9027   de   \n",
       "256         256    8870   de   \n",
       "\n",
       "                                                answer  \\\n",
       "367  Thank you for forwarding the suspicious messag...   \n",
       "54   This post will be very short and is mainly to ...   \n",
       "323  The maximum file size which can be uploaded or...   \n",
       "349  Dear ISG Mr. Meng Li (mli) has a contaminated ...   \n",
       "39   On this website you will find the contact pers...   \n",
       "33   Please download first all software local  to y...   \n",
       "9    Please download first all software local  to y...   \n",
       "81   When you break permissions inheritance between...   \n",
       "336  1. Click on the top link on Site Action 2. Cli...   \n",
       "181  Please find attached the information to the ma...   \n",
       "196  Could you tell us your computer number? It sho...   \n",
       "195  The transaction was only reserved at Saferpay....   \n",
       "12   Unfortunately we are not able to send your new...   \n",
       "303  In SharePoint, navigate to the document librar...   \n",
       "258  On the List tab, in the Manage Views group, us...   \n",
       "6    The settings for the ETH VPN are as follows:Se...   \n",
       "321   The polybox memory is limited to 50 GB per user.   \n",
       "353  Dear user Fortunately, you have defined a secr...   \n",
       "296  This post will be very short and is above all ...   \n",
       "256  To change the location for navigation on your ...   \n",
       "\n",
       "                                          answer_title  \\\n",
       "367                                                      \n",
       "54                               What is Breadcrumbs?    \n",
       "323                          Maximum file size polybox   \n",
       "349                                                      \n",
       "39                       Website Contacts Departments    \n",
       "33                                                       \n",
       "9                     Software installation from IDES    \n",
       "81   Would you like to delete unique permissions an...   \n",
       "336                                                      \n",
       "181                                   Answer mass mail   \n",
       "196                                 ZO computer number   \n",
       "195                                  Credit not loaded   \n",
       "12                                 Password forgotten    \n",
       "303  Would you like to disable minor versions in th...   \n",
       "258                        Do you want to edit a view?   \n",
       "6                             VPN settings of the ETH    \n",
       "321                                    Storage polybox   \n",
       "353                                                      \n",
       "296                               What is breadcrumbs?   \n",
       "256        Where is the SharePoint Navigation adapted?   \n",
       "\n",
       "                                              question  \n",
       "367                                Got phishing email?  \n",
       "54                  What is Breadcrumbs in SharePoint?  \n",
       "323  Is there a maximum file size in the polybox, w...  \n",
       "349                  Verseuchter Rechner / Mail an ISG  \n",
       "39      How do I find my IT manager in the department?  \n",
       "33               How can I install software from IDES?  \n",
       "9                How can I install software from IDES?  \n",
       "81   Would you like to delete unique permissions an...  \n",
       "336             Change the logo on the SharePoint page  \n",
       "181                                          Bulk mail  \n",
       "196                            What is your ZO number?  \n",
       "195                                 Prepaid not loaded  \n",
       "12                                 Password forgotten   \n",
       "303  Would you like to disable minor versions in th...  \n",
       "258          Do you want to edit a view in SharePoint?  \n",
       "6                                     Settings for VPN  \n",
       "321              How much memory does my polybox have?  \n",
       "353               Forgot password with secret question  \n",
       "296                 Was ist Breadcrumbs in Sharepoint?  \n",
       "256        Where is the SharePoint Navigation adapted?  "
      ]
     },
     "execution_count": 210,
     "metadata": {},
     "output_type": "execute_result"
    }
   ],
   "source": [
    "faq_dat.loc[x[1:21]]"
   ]
  },
  {
   "cell_type": "code",
   "execution_count": 266,
   "metadata": {
    "scrolled": true
   },
   "outputs": [
    {
     "data": {
      "image/png": "[encoded data removed]",
      "text/plain": [
       "<Figure size 432x288 with 1 Axes>"
      ]
     },
     "metadata": {
      "needs_background": "light"
     },
     "output_type": "display_data"
    }
   ],
   "source": [
    "b = [1, 51, 101, 151, 201, 251, 301]\n",
    "names = np.array(x)[b]\n",
    "plt.bar(range(1,len(y)), y[1:len(y)], color='blue')\n",
    "plt.xticks([0, 50, 100, 150, 200, 250, 300, 350], names)\n",
    "plt.show()"
   ]
  },
  {
   "cell_type": "code",
   "execution_count": 224,
   "metadata": {},
   "outputs": [
    {
     "name": "stdout",
     "output_type": "stream",
     "text": [
      "14.631578947368421\n",
      "46.31318440308018\n",
      "1\n",
      "794\n"
     ]
    }
   ],
   "source": [
    "print(np.mean(y))\n",
    "print(np.std(y))\n",
    "print(np.amin(y))\n",
    "print(np.amax(y))"
   ]
  },
  {
   "cell_type": "code",
   "execution_count": null,
   "metadata": {},
   "outputs": [],
   "source": []
  }
 ],
 "metadata": {
  "kernelspec": {
   "display_name": "Python 3",
   "language": "python",
   "name": "python3"
  },
  "language_info": {
   "codemirror_mode": {
    "name": "ipython",
    "version": 3
   },
   "file_extension": ".py",
   "mimetype": "text/x-python",
   "name": "python",
   "nbconvert_exporter": "python",
   "pygments_lexer": "ipython3",
   "version": "3.7.1"
  }
 },
 "nbformat": 4,
 "nbformat_minor": 1
}
