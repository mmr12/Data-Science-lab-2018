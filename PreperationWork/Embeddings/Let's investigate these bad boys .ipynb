{
 "cells": [
  {
   "cell_type": "code",
   "execution_count": 1,
   "metadata": {},
   "outputs": [
    {
     "name": "stderr",
     "output_type": "stream",
     "text": [
      "c:\\users\\costanza\\appdata\\local\\programs\\python\\python37-32\\lib\\site-packages\\gensim\\utils.py:1212: UserWarning: detected Windows; aliasing chunkize to chunkize_serial\n",
      "  warnings.warn(\"detected Windows; aliasing chunkize to chunkize_serial\")\n"
     ]
    }
   ],
   "source": [
    "from gensim.models import Word2Vec\n",
    "import sys\n",
    "import pandas as pd\n",
    "from gensim.parsing.preprocessing import remove_stopwords"
   ]
  },
  {
   "cell_type": "code",
   "execution_count": 5,
   "metadata": {},
   "outputs": [],
   "source": [
    "\"\"\"PREPROCESSING FUNCTIONS\"\"\"\n",
    "\n",
    "from gensim.parsing.preprocessing import preprocess_string\n",
    "import re\n",
    "import string\n",
    "\n",
    "from gensim.parsing.preprocessing import remove_stopwords\n",
    "from gensim.parsing.preprocessing import strip_multiple_whitespaces\n",
    "from gensim.parsing.preprocessing import stem_text\n",
    "from gensim.parsing.preprocessing import strip_numeric\n",
    "\n",
    "\n",
    "def remove_ip(s):\n",
    "    # Replace all ip adresses with '<ip>' tag\n",
    "    ip_regexp = r\"\\b\\d{1,3}\\.\\d{1,3}\\.\\d{1,3}\\.\\d{1,3}\\b\"\n",
    "    return re.sub(ip_regexp, '<ip>', s)\n",
    "\n",
    "\n",
    "def remove_email(s):\n",
    "    # Replace all email adresses with '<email>' tag\n",
    "    email_regexp = r\"([a-zA-Z0-9_\\-\\.]+)@([a-zA-Z0-9_\\-\\.]+)\\.([a-zA-Z]{2,5})\"\n",
    "    return re.sub(email_regexp, '<email>', s)\n",
    "\n",
    "\n",
    "def remove_mailto(s):\n",
    "    # Replace all \"<mailto:<email>>\" with <email>. Email adresses should be replaced by remove_email first.\n",
    "    return s.replace(\"<mailto:<email>>\", \"<email>\")\n",
    "\n",
    "\n",
    "def remove_url(s):\n",
    "    # Replace all url's with '<url>' tag\n",
    "    url_regexp = r\"((http|ftp|https):\\/\\/)?[-a-zA-Z0-9@:%._\\+~#=]{2,256}\\.[a-z]{2,6}\\b([-a-zA-Z0-9@:%_\\+.~#?&//=]*)\"\n",
    "    s = re.sub(url_regexp, '<url>', s)\n",
    "    # Sometimes url's are inside <> so we need to replace <<url>> with <url>\n",
    "    return s.replace(\"<<url>>\", \"<url>\")\n",
    "\n",
    "\n",
    "def remove_punc(s, exceptions):\n",
    "    # Remove all punctuation from string with exceptions in list exceptions\n",
    "    remove = string.punctuation\n",
    "    for exception in exceptions:\n",
    "        remove = remove.replace(exception, \"\")\n",
    "    # Create the pattern\n",
    "    pattern = r\"[{}]\".format(remove)\n",
    "\n",
    "    return re.sub(pattern, \"\", s)\n",
    "\n",
    "\n",
    "def remove_custom_stopwords(s, stopwords):\n",
    "    for stopword in stopwords:\n",
    "        s = s.replace(stopword, \"\")\n",
    "    return s\n",
    "\n",
    "\n",
    "def lower_case(s):\n",
    "    return s.lower()\n",
    "\n",
    "\n",
    "def preprocess_sentence_fn(s):\n",
    "    # Preprocess a single sentence to a list of tokens\n",
    "    punc_exceptions = ['<', '>']\n",
    "    custom_stopwords = ['dear', 'sincerely', 'thanks', 'yours', 'regards']\n",
    "\n",
    "    filters = [lower_case,\n",
    "               remove_ip,\n",
    "               remove_email,\n",
    "               remove_mailto,\n",
    "               remove_url,\n",
    "               lambda x: remove_punc(x, punc_exceptions),\n",
    "               remove_stopwords,\n",
    "               lambda x: remove_custom_stopwords(x, custom_stopwords),\n",
    "               strip_multiple_whitespaces,\n",
    "               stem_text,\n",
    "               strip_numeric]\n",
    "    out = preprocess_string(s, filters=filters)\n",
    "\n",
    "    return out\n",
    "\n",
    "\n",
    "def preprocess_docs_fn(docs):\n",
    "    # Apply preprocess_sentence_fn to a list of sentances (docs) to get a list of lists\n",
    "    return [preprocess_sentence_fn(s) for s in docs]\n"
   ]
  },
  {
   "cell_type": "code",
   "execution_count": 6,
   "metadata": {},
   "outputs": [],
   "source": [
    "\"\"\"VISUALIZATION UTILS FUNCTIONS\"\"\"\n",
    "\n",
    "from sklearn.manifold import TSNE\n",
    "from matplotlib import pyplot\n",
    "from sklearn.decomposition import PCA\n",
    "from mpl_toolkits.mplot3d import Axes3D\n",
    "\n",
    "\n",
    "#function to keep track from where the word is coming from\n",
    "def belongs_to(word, faq_ques_docs, faq_ans_docs, ticket_content_docs):\n",
    "    faq_ques = False\n",
    "    faq_ans = False\n",
    "    tic = False\n",
    "    faq_ques = any(word in x  for x in faq_ques_docs)\n",
    "    faq_ans = any(word in x  for x in faq_ans_docs)\n",
    "    tic = any(word in x  for x in ticket_content_docs)\n",
    "    tot = (faq_ques or faq_ans) and tic\n",
    "    if tot:\n",
    "        out = 'g'\n",
    "    else:\n",
    "        if tic:\n",
    "            out = 'y'\n",
    "        else: out = 'b'\n",
    "    return(out)\n",
    "\n",
    "#function to compute and plot PCA\n",
    "def pca_plot(tokens, col, fname, n_comp):\n",
    "    pca = PCA(n_components=n_comp)\n",
    "    pca_tokens = pca.fit_transform(tokens)\n",
    "    if n_comp == 2:\n",
    "        pyplot.figure(figsize=(16, 16))\n",
    "        pyplot.scatter(pca_tokens[:, 0], pca_tokens[:, 1], c=col, alpha=.1)\n",
    "        name = 'plots/' + str(fname) + '.pca.png'\n",
    "        pyplot.savefig(name)\n",
    "        # plt.show()\n",
    "    else:\n",
    "        fig = pyplot.figure(figsize=(16, 16))\n",
    "        ax = Axes3D(fig)\n",
    "        ax.scatter(pca_tokens[:, 0], pca_tokens[:, 1], pca_tokens[:, 2], c=col, alpha=.2)\n",
    "        name = 'plots/' + str(fname) + '.pca.png'\n",
    "        pyplot.savefig(name)\n",
    "        # pyplot.show()\n",
    "\n",
    "#function to compute and plot TSNE\n",
    "def tsne_plot(tokens, col, fname, perp, n_iter, n_comp):\n",
    "    print('Computing TSNE model. This will take a while... have a cup of tea in the meanwhile')\n",
    "    pca = PCA(n_components=50)\n",
    "    pca_tokens = pca.fit_transform(tokens)\n",
    "    tsne_model = TSNE(perplexity=perp, n_components=n_comp, init='pca', n_iter=n_iter)\n",
    "    new_values = tsne_model.fit_transform(pca_tokens)\n",
    "\n",
    "    if n_comp == 2:\n",
    "        pyplot.figure(figsize=(16, 16))\n",
    "        pyplot.scatter(new_values[:, 0], new_values[:, 1], c=col, alpha=.2)\n",
    "        name = 'plots/' + str(fname) + '.perp' + str(perp) + '.iter' + str(n_iter) + '.png'\n",
    "        pyplot.savefig(name)\n",
    "        # plt.show()\n",
    "    else:\n",
    "        fig = pyplot.figure(figsize=(16, 16))\n",
    "        ax = Axes3D(fig)\n",
    "        ax.scatter(new_values[:, 0], new_values[:, 1], new_values[:, 2], c=col, alpha=.2)\n",
    "        name = 'plots/' + str(fname) + '.perp' + str(perp) + '.iter' + str(n_iter) + '.png'\n",
    "        pyplot.savefig(name)\n",
    "        # pyplot.show()"
   ]
  },
  {
   "cell_type": "code",
   "execution_count": 7,
   "metadata": {},
   "outputs": [],
   "source": [
    "# Function for visualizing embedding model\n",
    "# run python visualization.py [model name].model\n",
    "\n",
    "#save from input\n",
    "#fname = sys.argv[1]  #embedding model\n",
    "fname = 'word2vec.model'\n",
    "\n",
    "#PARAMETERS for TSNE\n",
    "perp = [15, 20] #tsne perplexity\n",
    "#[5, 10, 15, 20, 25, 30, 35, 40, 45, 50]\n",
    "n_iter = 250 #tsne iterations\n",
    "n_comp = 2 #do you want a 2D or 3D visualization?"
   ]
  },
  {
   "cell_type": "code",
   "execution_count": 8,
   "metadata": {},
   "outputs": [],
   "source": [
    "#load the embedding model\n",
    "model = Word2Vec.load('../../code/embedding/models/word2vec.model')\n",
    "\n",
    "# Read in the data\n",
    "ticket_dat = pd.read_csv('../../data/ticket_dat.csv')\n",
    "faq_dat = pd.read_csv('../../data/faq_dat.csv')\n",
    "\n",
    "# Replace the NaNs\n",
    "ticket_dat.fillna('', inplace=True)\n",
    "faq_dat.fillna('', inplace=True)\n",
    "\n",
    "# Make sentences into\n",
    "faq_ques = list(faq_dat.ques_content_translation)\n",
    "faq_ques_docs = preprocess_docs_fn(faq_ques)\n",
    "\n",
    "faq_ans = list(faq_dat.ans_content_translated)\n",
    "faq_ans_docs = preprocess_docs_fn(faq_ans)\n",
    "\n",
    "ticket_content = list(ticket_dat.content_translated)\n",
    "ticket_content_docs = preprocess_docs_fn(ticket_content)\n",
    "\n",
    "all_docs = faq_ques_docs + faq_ans_docs + ticket_content_docs"
   ]
  },
  {
   "cell_type": "code",
   "execution_count": 9,
   "metadata": {},
   "outputs": [
    {
     "name": "stdout",
     "output_type": "stream",
     "text": [
      "Storing from which dataset words come from...\n"
     ]
    },
    {
     "name": "stderr",
     "output_type": "stream",
     "text": [
      "c:\\users\\costanza\\appdata\\local\\programs\\python\\python37-32\\lib\\site-packages\\ipykernel_launcher.py:9: DeprecationWarning: Call to deprecated `__getitem__` (Method will be removed in 4.0.0, use self.wv.__getitem__() instead).\n",
      "  if __name__ == '__main__':\n"
     ]
    }
   ],
   "source": [
    "#unwrapping the embedding model\n",
    "labels = []\n",
    "tokens = []\n",
    "col = [0]*len(model.wv.vocab)\n",
    "print('Storing from which dataset words come from...')\n",
    "i = 0\n",
    "for word in model.wv.vocab:\n",
    "    #print(i)\n",
    "    tokens.append(model[word])\n",
    "    labels.append(word)\n",
    "    col[i] = belongs_to(word, faq_ques_docs, faq_ans_docs, ticket_content_docs)\n",
    "    i += 1"
   ]
  },
  {
   "cell_type": "code",
   "execution_count": 19,
   "metadata": {},
   "outputs": [
    {
     "name": "stdout",
     "output_type": "stream",
     "text": [
      "1341\n",
      "['receiv', 'phish', 'mail', 'lockout', 'account', 'block', 'mailsend', 'credit', 'reset', 'na', 'permiss', 'set', 'vpn', 'mistakenli', 'instal', 'softwar', 'id', 'come', 'servicedesk', 'prepaid', 'load', 'password', 'forgotten', 'wai', 'login', 'network', 'drive', 'work', 'feedback', 'matlab', 'setup', 'cancel', 'access', 'edoz', 'chang', 'phone', 'number', 'replac', 'certif', 'encrypt', 'transfer', 'imag', 'door', 'camera', 'zue', 'cell', 'manual', 'enter', 'matricul', 'print', 'file', 'folder', 'delet', 'readi', 'want', 'offic', 'assist', 'foreign', 'countri', 'like', 'custom', 'navig', 'link', 'sharepoint', 'backup', 'client', 'inform', 'nsg', 'wifi', 'interfer', 'new', 'employe', 'telephon', 'manag', 'depart', 'cq', 'public', 'websit', 'mass', 'email', 'im', 'abl', 'extend', 'mailbox', 'quota', 'grant', 'activ', 'forward', 'isg', 'csr', 'sent', 'wrong', 'edit', 'person', 'homepag', 'know', 'save', 'document', 'pdf', 'directli', 'signin', 'firefox', 'us', 'differ', 'view', 'zo', 'subscrib', 'rss', 'feed', 'dn', 'problem', 'team', 'site', 'exchang', 'add', 'wiki', 'page', 'creat', 'placehold', 'displai', 'text', 'hyperlink', 'extern', 'featur', 'subsit', 'app', 'list', 'avail', 'catalog', 'store', 'address', 'turn', 'requir', 'librari', 'minor', 'version', 'properti', 'break', 'inherit', 'remov', 'user', 'group', 'uniqu', 'restor', 'upload', 'larg', 'locat', 'advanc', 'option', 'templat', 'updat', 'task', 'column', 'hide', 'sort', 'individu', 'eduroam', 'guest', 'wlan', 'eth', 'build', 'configur', 'mailclient', 'cours', 'emb', 'newsfe', 'alert', 'item', 'logo', 'titl', 'descript', 'enterpris', 'check', 'pictur', 'download', 'drag', 'drop', 'window', 'powershel', 'licens', 'kei', 'reclaim', 'remain', 'vpp', 'touch', 'printer', 'nethzpassword', 'der', 'kund', 'hat', 'zu', 'seinem', 'nebi', 'question', 'post', 'repli', 'enabl', 'anonym', 'seit', 'sync', 'onedr', 'busi', 'stop', 'web', 'applic', 'button', 'disabl', 'central', 'administr', 'region', 'recycl', 'bin', 'polybox', 'data', 'share', 'amount', 'big', 'solv', 'iphon', 'pia', 'card', 'defect', 'recov', 'voicemail', 'pin', 'office', 'fault', 'report', 'faq', 'got', 'enlarg', 'connect', 'submit', 'incorrectli', 'forgot', 'bulk', 'log', 'anymor', 'sender', 'header', 'visit', 'servic', 'desk', 'initi', 'confer', 'transmiss', 'trigger', 'job', 'nethz', 'dissolv', 'rd', 'mobil', 'thank', 'issu', 'call', 'abroad', 'possess', 'collect', 'feder', 'notif', 'absenc', 'messag', 'video', 'html', 'format', 'resolv', 'correctli', 'error', 'viewer', 'quotpag', 'survei', 'wonder', 'storag', 'local', 'machin', 'size', 'longer', 'open', 'exist', 'content', 'outlook', 'larger', 'multipl', 'adapt', 'approv', 'deni', 'request', 'revok', 'resend', 'expir', 'invit', 'watch', 'test', 'sherlock', 'wildcard', 'youtub', 'publish', 'notebook', 'write', 'teammat', 'notifi', 'ist', 'checkout', 'defin', 'obtain', 'search', 'sdl', 'offer', 'withdraw', 'balanc', 'advis', 'migrat', 'memori', 'maximum', 'instant', 'lync', 'provid', 'answer', 'corpor', 'allow', 'quotnew', 'trash', 'final', 'icon', 'rechner', 'mac', 'osx', 'respons', 'secret', 'insert', 'addit', 'renew', 'valid', 'normal', 'altern', 'known', 'space', 'hard', 'sav', 'mtec', 'scan', 'shop', 'pw', 'charg', 'server', 'sw', 'imprint', 'margreth', 'great', 'select', 'solidwork', 'standard', 'includ', 'ethi', 'respond', 'project', 'psp', 'context', 'budget', 'click', 'fill', 'credenti', 'absolut', 'necessari', '<url>', 'here<url>', 'tip', 'mayb', 'networkdr', 'blacklist', 'follow', 'step', 'mein', 'field', 'minu', '>', 'hönggerberg', 'hil', 'c', 'zentrum', 'hg', 'd', 'reason', 'free', 'deduct', 'finish', 'prevent', 'pai', 'that', 'possibl', 'creditcard', 'monei', 'iv', 'try', 'whitelist', 'map', 'start', 'accept', 'webpag', 'passwort', 'ändern', 'e', 'payment', 'stuck', 'reserv', 'stage', 'close', 'transact', 'complet', 'rememb', 'wait', 'summari', 'fulli', 'unfortun', 'send', 'pick', 'main', 'registr', 'case', 'pm', 'studenteth', 'note', 'good', 'immedi', 'seek', 'instead', 'choos', 'type', 'usernam', '<username>', 'code', 'nethzadmin', 'tool', 'copi', 'a', 'begin', 'strictli', 'guid', 'attach', 'professor', 'rector', 'telephoni', 'support', 'modifi', 'organ', 'kindli', 'ask', 'contact', 'netcent', 'member', 'staff', 'ring', 'bell', 'floor', 'special', 'rung', 'minut', 'regist', 'built', 'alten', 'entfernen', 'al', 'admin', 'http', 'ch', 'state', 'zuerich', 'unit', 'common', 'folgend', 'emailadress', 'mit', 'bitt', 'ein', 'zertifikat', '<email>', 'fortun', 'short', 'home', 'numer', 'i’v', 'xxx', 'act', 'instruct', 'later', 'tomorrow', 'alfr', 'sohm', 'marku', 'kreuzer', 'kind', 'neg', 'clear', 'cash', 'center', 'filesfold', 'right', 'area', 'previou', 'appropri', 'date', 'time', 'seven', 'dai', 'automat', 'desir', 'period', 'best', 'neighbor', 'switzerland', 'usa', 'canada', 'england', 'dial', 'switchboard', 'easiest', 'quick', 'launch', 'depend', 'f', 'anim', 'oper', 'describ', 'mr', 'pc', 'infect', 'malwar', 'clean', 'need', 'help', 'chase', 'secur', 'fix', 'abus', 'deleg', 'editor', 'maillist', 'address<email>', 'interrupt', 'perform', 'subject', 'exampl', 'todai', 'bcc', 'avoid', 'mailaddress', 'mailboxquota', 'recommend', 'small', 'deal', 'older', 'mailarchiv', 'old', 'gb', 'student', 'mb', 'studentclub', 'except', 'doubl', 'internet', 'get', 'topic', 'command', 'promt', 'cd', 'c\\\\programm', 'files\\\\microsoft', 'office\\\\office', 'path', 'remhst', 'product', 'restart', 'bit', 'hidden', 'preview', 'read', 'entir', 'alt', 'height', 'mainli', 'rais', 'probabl', 'notic', 'function', 'import', 'brows', 'insid', 'tire', 'abil', 'easili', 'your', 'domain', 'bar', 'aboutconfig', 'agre', 'proce', 'config', 'filter', 'box', 'row', 'url', 'comma', 'separ', 'name', 'present', 'freshli', 'deploi', 'farm', 'prerequisit', 'order', 'procedur', 'simpli', 'appear', 'ribbon', 'tab', 'respect', 'style', 'section', 'voila', 'refresh', 'equal', 'simpl', 'peopl', 'mm', 'vc', 'helpdesk', 'tell', 'written', 'blue', 'stick', 'betriebsinformatik', '„eth', 'zürich', 'delivery“', 'particular', 'occur', 'browser', 'vari', 'calendar', 'it’', 'point', 'rest', 'menu', 'method', 'reader', 'program', 'subscript', 'doesnt', 'past', 'moment', 'run', 'quickli', 'easier', 'reflect', 'profession', 'brand', 'design', 'tile', 'look', 'feel', 'head', 'don’t', 'choic', 'worri', 'color', 'exactli', 'creativ', 'background', 'thumbnail', 'latest', 'microsoft', 'explor', 'scheme', 'arrow', 'layout', 'control', 'posit', 'font', 'instantli', 'revert', 'exit', 'you’r', 'appli', 'visibl', 'ye', 'squar', 'bracket', 'train', 'ahead', 'futur', 'dot', 'line', 'underlin', 'suggest', 'press', 'object', 'dog', 'subfold', 'welcom', 'announc', 'make', '\\\\', 'smaller', 'piec', 'see', 'outsid', 'idea', 'chapter', 'book', 'purpos', '<', 'current', 'exact', 'vertic', 'charact', 'shift', 'that’', 'dialog', 'asset', 'progress', 'let', 'wheel', 'upper', 'corner', '“new', 'owner', 'sourc', 'default', 'purchas', 'verifi', 'trust', 'compon', 'ad', 'hope', 'soon', 'detail', 'bui', 'employ', 'histori', 'tabl', 'mark', 'contain', 'parent', 'plan', 'limit', 'level', 'sensit', 'place', 'sub', 'singl', 'organiz', 'structur', 'maintain', 'restrict', 'statu', 'indic', 'give', 'disconnect', 'thing', 'assign', 'explicitli', '“thi', 'revers', 'resum', 'lose', 'action', 'specifi', 'ok', 'lost', 'total', 'timeout', 'fewer', 'onpremis', 'deploy', 'increas', 'accommod', 'sai', 'x', 'correspond', 'left', 'sure', 'figur', 'usual', 'take', 'experiment', 'rang', 'basic', 'show', 'commun', 'track', 'element', 'underneath', 'incom', 'ownership', 'similar', 'suit', 'spreadsheet', 'compat', 'understand', 'collabor', 'affect', 'hierarchi', 'visitor', 'directori', 'authent', 'abbrevi', 'sampl', 'tag', 'orient', 'return', 'go', 'estim', 'halfwai', 'draw', 'overlai', 'accur', 'earlier', 'delai', 'portion', 'hover', 'mous', 'cursor', 'descend', 'releas', 'adjust', 'univers', 'chose', 'devic', 'meet', 'form', 'event', 'react', 'hour', 'gener', 'intranet', 'embed', 'technolog', 'deliveri', 'sm', 'grai', 'outgo', 'specif', 'recent', 'frequent', 'daili', 'weekli', 'confirm', 'reus', 'fee', 'equival', 'doesn’t', 'result', 'comput', 'assum', 'repeat', 'overwrit', 'true', 'skip', 'articl', 'prefer', 'think', 'solut', 'learn', 'infrastructur', 'ensur', 'reopen', 'screen', 'ass', 'relat', 'categori', 'part', 'selfservic', 'creation', 'mode', 'littl', 'stack', 'copy”', 'categor', 'dropdown', 'calcul', 'you’ll', 'timelin', 'chart', 'visual', 'drawn', '–', 'certain', 'fall', 'phase', 'repres', 'begun', 'prioriti', 'better', 'met', 'role', 'sql', 'databas', 'on', 'shell', 'prompt', 'variabl', 'identifi', 'y', 'string', 'ident', 'previous', 'annex', 'filenam', 'privileg', 'leav', 'repeatedli', 'mistyp', 'smartphon', 'inquiri', 'xxxx', 'safeti', 'nethzadmintool', 'ethbibliothek', 'rämistrass', 'info', 'h', 'zurich', 'convers', 'blog', 'mention', '“locked”', 'onlin', 'havent', 'continu', 'protect', 'potenti', 'script', 'attack', 'offlin', 'wizard', 'system', 'favorit', 'rightclick', '•', 'taskbar', 'goe', 'relationship', 'have', 'repair', 'reconnect', 'paus', 'temporarili', 'resourc', 'retain', 'ou', 'resolut', '«', '»', 'zone', 'detect', 'advanced', 'relaunch', 'languag', 'english', 'disappear', 'technet', 'empti', 'move', 'perman', 'user’', 'origin', 'long', 'exceed', 'recreat', 'accident', 'facil', 'deactiv', 'reactiv', 'und', 'extens', '\\\\\\\\<url>', 'checkbox', 'driver', 'newli', 'softwareon', 'integr', 'bc', 'interfac', 'behav', 'nativ', 'throttl', 'practic', 'technic', 'idteam', 'suspici', 'care', 'webmail', 'envelop', 'voic', 'recharg', 'wich', 'kb', 'happi', 'facebook', 'googl', 'yahoo', 'entitl', 'fb', 'model', 'm', 'chf', 'year', 'upgrad', 'author', 'en', 'fr', 'emploi', 'paid', 'trick', 'wifivpn', 'dont', 'concern', 'imper', 'struggl', 'archiv', 'servi', 'associ', 'printout', 'gt', 'counter', 'happen', 'ticket', 'queri', 'accord', 'guidelin', 'contract', 'burden', 'unnecessarili', 'tonight', 'addresse', 'doubleclick', 'quotin', 'permit', 'hk', 'cisco', 'misus', 'parti', 'switch', 'quotcdquot', 'cscript', 'momanten', 'join', 'optipoint', 'attend', 'saferpai', 'deposit', 'reload', 'sign', 'inscript', 'quotbetriebinformatikquot', 'quoteth', 'deliveryquot', 'wish', 'legi', 'resp', 'badg', 'establish', 'quotconnect', 'quotsettingsquot', 'quotchang', 'passwordquot', 'appendix', 'sake', 'greet', 'verif', 'comparison', 'supernethz', 'carolin', 'stucki', 'excel', 'mutat', 'quotpeopl', 'searchquot', 'blank', 'versions', 'relev', 'ago', 'red', 'xx', 'franc', 'shortli', 'quotquot', 'blockquot', 'white', 'psi', 'quotokquot', 'leader', 'quotlistquot', 'stand', 'listquot', 'quotsend', 'linux', 'amp', 'june', 'develop', 'reach', 'attribut', 'valu', 'consequ', 'rel', 'fresh', 'wellknown', 'yellow', 'death', 'second', 'quotinsert', 'greater', 'lead', 'z', 'quot', 'quottoquot', 'quotif', 'shortcut', 'quotemail', 'addressquot', 'listsquot', 'quotyesquot', 'synchron', 'higher', 'uninstal', 'addon', 'tri', 'success', 'packag', 'startup', 'quotmicrosoft', 'plu', 'quotnow', 'pop', 'quotand', 'quotthi', 'process', 'quotth', 'quotshow', 'optionsquot', 'hint', 'permissionsquot', 'quotdelet', 'quotgrant', 'quotedit', 'reenabl', 'settingsquot', 'quotlist', 'administrationquot', 'clarif', 'room', 'ip', 'dhcp', 'ssid', 'eduoram', 'persist', 'sporad', 'tutori', 'input', 'ipconfig', 'quotphys', 'record', 'telkom', 'mid', 'informationquot', 'quoteditquot', 'textquot', 'enclos', 'wild', 'quotcreatequot', 'linksquot', 'quotclick', 'serv', '\\u200b\\u200bthe', 'quotdrag', 'intend', 'dispos', 'youv', 'truncat', 'shorten', 'b', 'quotstart', 'datequot', 'arrang', 'quotnot', 'mean', 'convei', 'flow', 'theme', 'complex', 'experi', 'achiev', 'effect', 'quotaccess', 'quotallow', 'pend', 'it', 'decis', 'reject', 'undo', 'environ', 'groupquot', 'given', 'membership', 'primari', 'secondari', 'scroll', 'quotto', 'department', 'quotpasswordquot', 'webshop', 'enrol', 'human', 'hr', 'quotdeletequot', 'informat', 'mailto', 'lower', 'quotprint', 'pdfquot', 'settingsgt', 'onenot', 'colleagu', 'disturb', 'what', 'overview', 'quottext', 'quotmi', 'entri', 'outbound', 'awar', 'quotwhen', 'okquot', 'quotcreat', 'quotus', 'pagequot', 'nowquot', 'simultan', 'quotnoquot', 'colleg', 'guestquot', 'quotpublicquot', 'land', 'gain', 'regular', 'quotdefin', 'servicesquot', 'quotmailboxquot', 'quotforwardquot', 'da', 'reimburs', 'intern', 'lectur', 'emer', 'desktop', 'exclus', 'do', 'quotrun', 'administratorquot', 'successfulli', 'volum', 'km', 'namequot', 'quot<url>', 'amail', 'mind', 'quotlockedquot', 'determin', 'comprehens', 'demand', 'crook', 'suspend', 'bind', 'applicationquot', 'quotloc', 'quotadvancedquot', 's', 'decalcifi', 'symbol', 'miss', 'meng', 'li', 'contamin', 'doctor', 'flag', 'rebuild', '\\\\\\\\', 'quotconnectquot', 'dhest', 'institut', 'ik', 'privat', 'quotfollow', 'mequot', 'printerquot', 'quotupd', 'settings', 'encount', 'termin', 'letter', 'emailaddress', 'distribut', 'remot', 'independ', 'index', 'net', 'safe', 'viru', 'signatur', 'skype', 'acrobat', 'flash', 'deutsch', 'müller', 'krummenach', 'gruss', 'andr', 'reorder', 'industri', 'youll', 'quotrecov', 'itemsquot', 'quotphonequot', 'ms', 'aspx', 'stefan', 'sharedmailbox', 'next', 'agreement', 'broggi', 'oblig', 'regul', 'unlock', 'match', 'gladli', 'refer', 'cost', 'www', '\\u200b\\u200brespons', 'annual', 'favor']\n",
      "1341\n"
     ]
    }
   ],
   "source": [
    "both = [labels[i] for i in range(len(col)) if col[i] == 'g']\n",
    "print(both)\n",
    "print(len(both))\n",
    "print(col.count('g'))"
   ]
  },
  {
   "cell_type": "code",
   "execution_count": 20,
   "metadata": {
    "scrolled": true
   },
   "outputs": [
    {
     "name": "stdout",
     "output_type": "stream",
     "text": [
      "['overdrawn', 'officeaddress', 'embedd', 'mailhead', 'breadcrumb', 'seamless', 'telephoneconfer', 'checkincheckout', 'rssfeed', 'fragen', 'secondstag', 'printingcredit', 'weiterleitung', 'quotowaquot', 'conditionquot', 'bla', 'checkin', 'disabledquot', 'lit', 'verseucht', 'tuerkamera', 'onaccess', 'userhost', 'page<url>', 'spamfilternow', 'creditcard<url>>', 'creditor', 'printjob', 'over<url>>', 'followsserv', 'ipsecpskusernam', 'ethusernamepassword', 'passwordgroupnam', 'ethzspezialgrouppassword', 'thislogin', 'webpage<url>', 'instructionsvpnmap', 'idesif', 'ides<url>', 'voreinstellungen', 'openingstim', 'usyour', 'birthdateyour', 'addressif', 'printfurth', 'findher', 'idesfold', 'harddisk', 'instalallaton', 'decentr', 'yournew', 'yearszertifikat', 'erneuern', 'anmlden', 'eben', 'dort', 'provinc', 'mec', 'senden', 'youyour', 'dobyour', 'addressyour', 'comparemani', '“peopl', 'search”<url>', 'whereev', 'downloadinform', 'onopt', 'possipl', 'contentsclick', 'navigationrefresh', 'againclick', 'malewar', 'instructionsvpn<url>', 'are', 'personsin', 'ofdepart', 'didmailto<email>', 'manual<url>', 'membersth', 'performanceproblem', 'on<url>', 'windowin', 'toolbar', 'detailsmark', 'sendedwhen', 'sendedwhat', 'mailwhat', 'senderaddress', 'requiredrun', 'adminstratorus', 'variatenow', 'commandscscript', 'activationservercscript', 'activationaft', 'pleae', 'serverdr', 'src<url>', 'width>', 'flagyou', 'slick', 'stepsopen', 'firefoxin', 'firefoxx', 'cautionaft', 'networkautomaticmodifi', 'networkautomaticntlmauthtrusteduri', 'nicer', 'accordionw', 'moreth', 'styledropdown', 'biggest', 'what’', '>site', 'change<url>', '>start', 'ov', 'fullsiz', 'surround', 'linksdog', 'folderanimalsdog', 'animalslistannouncementswelcom', 'backslash', 'beneath', 'linkclick', 'linkin', 'createadd', 'contextu', 'brainstorm', 'doublesquar', 'pagetext', 'typechchapt', 'editclick', 'followingto', 'link>from', '>insert', '>from', '“drag', 'here”', 'link<url>', 'subist', '“site', 'contents”', 'subsite”', 'alreadyfrom', 'catalogfrom', 'appsif', 'appin', 'appclick', '>get', 'itfollow', 'permissionsif', 'permissionsconsid', 'stepsnavig', 'permissionsaft', 'permissions”in', '“delet', 'permissions”', '“grant', '“edit', '“remov', 'permissions”y', 'settingson', 'listin', 'withon', 'othersin', 'share>list', 'optionsy', '>list', 'permissionsclick', 'parent”', 'filesor', 'sizeto', 'includeupload', 'beincreas', 'hereif', 'usingund', 'advancedsort', 'navigationchoos', 'contacts>calendar', 'createy', 'datasheet', 'activex', 'newsubsit', 'workspacesin', 'adventureworksmarketingconvent', 'noyour', 'createif', 'groueither', 'groupwhich', 'editth', 'edittyp', 'enhanc', 'informationif', 'pageclick', 'ok<', 'edit<', 'andupd', 'pertain', 'task’', 'tune', 'daytodai', 'project’', 'percentag', 'gantt', 'tasktask', 'statuschoos', 'descriptor', 'columnto', 'columnpag', 'deleteto', 'tohid', 'ascend', 'columny', 'fourwai', 'you’d', 'nongantt', 'mebmber', '<url>if', 'stepslogin', '>tagesgastdefin', 'useraft', 'shoud', 'landinpag', 'gruppenaccount', 'ethwith', 'thingsset', 'cardfor', 'zutrittspincod', 'ändern<url>', 'buildingto', 'servicesand', 'mailboxher', 'boxin', 'meon', 'byus', 'they’r', 'meaning', 'opento', 'you’v', 'appon', 'libraryyou’l', 'pagesclick', 'fullscal', 'publishingrel', 'heck', 'discard', 'addressin', 'tooltip', 'sharepointin', 'parton', 'pane', '“download', 'copy”end', 'theirloc', 'columnin', 'viewclick', 'okaft', 'currenc', 'viewtyp', 'beginent', 'completedchoos', 'viewchoos', 'membershipssecurityadmin', 'instancedbown', 'updatedadministr', 'addspshelladmin<', 'cmdlet', 'shellfor', 'ron', 'shellif', 'screenrightclick', 'shellat', 'displayedat', 'installspapp', 'spappinstal', 'subweb', 'spapp', 'herehttpwww<url>', '<email>o', '“microblog”', 'typing', 'inject', 'library', 'librarygo', 'folderdo', 'files', 'file’', 'share…', 'libraries', 'folder…', 'iconthi', 'administrationresolut', 'clck', 'issuescriptsiteurl', 'httpsiteurl', 'getspsit', 'siteurl', 'writehost', 'siteopenweb', 'webregionalsettingstime', 'caution', 'dropboxsimilar', 'oncampu', 'lineofbusi', 'lob', 'erp', 'odata', 'replacementlink', 'guideshelp', 'passwordpassword', 'officedocx', 'etheth', 'zürichstandard', 'designif', 'ethzchpleas', 'spamfilterther', 'quotinternet', 'ipsecunam', 'ethunamepasswort', 'passwordgroup', 'ethzspezialgruppenpasswort', 'vpnsecret', 'activationnow', 'optiset', 'birthadress', 'vpptouch', 'drivequot', 'www<url>', 'htp', 'idesmanu', 'dna', 'birthyour', 'quotswitchquot', 'quotact', 'journalquot', 'quotset', 'quotoptionsquot', 'repliesquot', 'answersquot', 'accesshttp', 'quotxsl', 'okchang', 'wss', 'moss', 'inetpub', 'wwwroot', 'virtualdirectori', 'portnumb', 'quotmodequot', 'customerror', 'quotoffquot', 'unoffens', 'nam', 'quotcustom', 'quotnamequot', 'quotnavigationquot', 'createquot', 'wastebasket', 'quotfixquot', 'quotrepairquot', 'featuressearch', 'ofquot', 'clickquot', 'thenquot', 'columnquot', 'quotonquot', 'parentquot', 'invitationquot', 'quotremov', 'timeimport', 'quotlibrari', 'quotpermiss', 'quotse', 'alsoquot', 'quotorient', 'quotaltern', 'hyphen', 'pagenam', 'quottrain', 'issuesquot', 'quotxquot', 'quotsavequot', 'todo', 'herequot', 'workspac', 'quottitl', 'descriptionquot', 'quotwebsit', 'collection', 'badventureworksgtmarketinggtconvent', 'sitequot', 'wikirel', 'quotdu', 'subtask', 'startedquot', 'quotcompletedquot', 'appearancequot', 'quottestquot', 'quoty', 'keepquot', 'quotsit', 'quotpermissionsquot', 'requestsquot', 'ellipsi', 'quotundoquot', 'quotind', 'quotrequirequot', 'subheadlineblablablaanleitung', 'blah', 'drivedr', 'webshopid', 'webshopchang', 'quotpreferencesquotgt', 'mmsvc', 'removecr', 'hypertext', 'graph', 'administrationgt', 'filegt', 'newgt', 'notebookent', 'notebookclick', 'quotnotifyquot', 'quotdeliveri', 'methodquot', 'smsquot', 'dim', 'changesquot', 'notificationsquot', 'quotsubscrib', 'feedquot', 'sectionfollow', 'librarygt', 'servicesquotgt', 'quotdai', 'quotgruppenaccountquot', 'setto', 'pinquot', 'buildingsto', 'quotdetail', 'asdasdsadsaasdasd', 'asd', 'webberatung', 'quotdropboxlik', 'memoryquot', 'browserwebdavdesktop', 'clientmobil', 'slmgr', 'skm', 'ato', 'quotproduct', 'successfullyquot', 'dlv', 'quotregist', 'quotmicroblogquot', 'iconquot', 'quotlook', 'feelquot', 'quotlogo', 'foldersynchron', 'overlaid', 'intranetquot', 'quottoolsquot', 'ie', 'quotsecurityquot', 'quotsitesquot', 'quotautomat', 'quotaddquot', 'quotclosequot', 'deletegt', 'deletedgt', 'iphone', 'mli', 'printersquot', 'quotspecif', 'linkfor', 'again', 'done', 'asydsadad', 'sadadsa', 'sadsa', 'emailcli', 'enclosur', 'quicktim', 'swissinfo', 'franã§ai', 'italiano', 'español', 'portuguãss', '日本語', 'عربي', '中文', 'pусский', 'quotvoicemailquot', 'vivienn', 'langen', 'zoller', 'guidelinesw', 'officepdf', 'designeth', 'quotdescriptionquot', 'yespleas', '\\u200b\\u200bresponsibilitynopleas', 'numberspecif', '\\u200b\\u200bresponsibilitycontractreserv', 'yearli', 'multiannu']\n",
      "508\n",
      "508\n"
     ]
    }
   ],
   "source": [
    "faq_only = [labels[i] for i in range(len(col)) if col[i] == 'b']\n",
    "print(faq_only)\n",
    "print(len(faq_only))\n",
    "print(col.count('b'))"
   ]
  },
  {
   "cell_type": "code",
   "execution_count": null,
   "metadata": {},
   "outputs": [],
   "source": [
    "w2cSorted=dict(sorted(w2c.items(), key=lambda x: x[1],reverse=True))"
   ]
  },
  {
   "cell_type": "code",
   "execution_count": null,
   "metadata": {},
   "outputs": [],
   "source": []
  }
 ],
 "metadata": {
  "kernelspec": {
   "display_name": "Python 3",
   "language": "python",
   "name": "python3"
  },
  "language_info": {
   "codemirror_mode": {
    "name": "ipython",
    "version": 3
   },
   "file_extension": ".py",
   "mimetype": "text/x-python",
   "name": "python",
   "nbconvert_exporter": "python",
   "pygments_lexer": "ipython3",
   "version": "3.7.1"
  }
 },
 "nbformat": 4,
 "nbformat_minor": 2
}
