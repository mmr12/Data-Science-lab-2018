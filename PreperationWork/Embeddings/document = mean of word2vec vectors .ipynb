{
 "cells": [
  {
   "cell_type": "code",
   "execution_count": 1,
   "metadata": {},
   "outputs": [
    {
     "name": "stderr",
     "output_type": "stream",
     "text": [
      "c:\\users\\costanza\\appdata\\local\\programs\\python\\python37-32\\lib\\site-packages\\gensim\\utils.py:1212: UserWarning: detected Windows; aliasing chunkize to chunkize_serial\n",
      "  warnings.warn(\"detected Windows; aliasing chunkize to chunkize_serial\")\n"
     ]
    }
   ],
   "source": [
    "from gensim.models.doc2vec import Doc2Vec\n",
    "from gensim.models import Word2Vec\n",
    "import pickle\n",
    "import numpy as np"
   ]
  },
  {
   "cell_type": "code",
   "execution_count": 2,
   "metadata": {},
   "outputs": [],
   "source": [
    "from gensim.parsing.preprocessing import preprocess_string\n",
    "import re\n",
    "import string\n",
    "from gensim.parsing.preprocessing import remove_stopwords\n",
    "from gensim.parsing.preprocessing import strip_multiple_whitespaces\n",
    "from gensim.parsing.preprocessing import stem_text\n",
    "from gensim.parsing.preprocessing import strip_numeric\n",
    "def remove_ip(s):\n",
    "    # Replace all ip adresses with '<ip>' tag\n",
    "    ip_regexp = r\"\\b\\d{1,3}\\.\\d{1,3}\\.\\d{1,3}\\.\\d{1,3}\\b\"\n",
    "    return re.sub(ip_regexp, '<ip>', s)\n",
    "def remove_email(s):\n",
    "    # Replace all email adresses with '<email>' tag\n",
    "    email_regexp = r\"([a-zA-Z0-9_\\-\\.]+)@([a-zA-Z0-9_\\-\\.]+)\\.([a-zA-Z]{2,5})\"\n",
    "    return re.sub(email_regexp, '<email>', s)\n",
    "def remove_mailto(s):\n",
    "    # Replace all \"<mailto:<email>>\" with <email>. Email adresses should be replaced by remove_email first.\n",
    "    return s.replace(\"<mailto:<email>>\", \"<email>\")\n",
    "def remove_url(s):\n",
    "    # Replace all url's with '<url>' tag\n",
    "    url_regexp = r\"((http|ftp|https):\\/\\/)?[-a-zA-Z0-9@:%._\\+~#=]{2,256}\\.[a-z]{2,6}\\b([-a-zA-Z0-9@:%_\\+.~#?&//=]*)\"\n",
    "    s = re.sub(url_regexp, '<url>', s)\n",
    "    # Sometimes url's are inside <> so we need to replace <<url>> with <url>\n",
    "    return s.replace(\"<<url>>\", \"<url>\")\n",
    "def remove_punc(s, exceptions):\n",
    "    # Remove all punctuation from string with exceptions in list exceptions\n",
    "    remove = string.punctuation\n",
    "    for exception in exceptions:\n",
    "        remove = remove.replace(exception, \"\")\n",
    "    # Create the pattern\n",
    "    pattern = r\"[{}]\".format(remove)\n",
    "\n",
    "    return re.sub(pattern, \"\", s)\n",
    "def remove_custom_stopwords(s, stopwords):\n",
    "    for stopword in stopwords:\n",
    "        s = s.replace(stopword, \"\")\n",
    "    return s\n",
    "def lower_case(s):\n",
    "    return s.lower()\n",
    "def preprocess_sentence_fn(s):\n",
    "    # Preprocess a single sentence to a list of tokens\n",
    "    punc_exceptions = ['<', '>']\n",
    "    custom_stopwords = ['dear', 'sincerely', 'thanks', 'yours', 'regards']\n",
    "    filters = [lower_case,\n",
    "               remove_ip,\n",
    "               remove_email,\n",
    "               remove_mailto,\n",
    "               remove_url,\n",
    "               lambda x: remove_punc(x, punc_exceptions),\n",
    "               remove_stopwords,\n",
    "               lambda x: remove_custom_stopwords(x, custom_stopwords),\n",
    "               strip_multiple_whitespaces,\n",
    "               stem_text,\n",
    "               strip_numeric]\n",
    "    out = preprocess_string(s, filters=filters)\n",
    "    return out\n",
    "def preprocess_docs_fn(docs):\n",
    "    # Apply preprocess_sentence_fn to a list of sentances (docs) to get a list of lists\n",
    "    return [preprocess_sentence_fn(s) for s in docs]"
   ]
  },
  {
   "cell_type": "code",
   "execution_count": 3,
   "metadata": {},
   "outputs": [
    {
     "name": "stdout",
     "output_type": "stream",
     "text": [
      "Loading Document Data...\n",
      "Loading Model...\n"
     ]
    }
   ],
   "source": [
    "with open(\"../../code/embedding/models/doc_data/id_dict.txt\", \"rb\") as fp:\n",
    "    id_dict = pickle.load(fp)\n",
    "    \n",
    "ticket_ans_ids = np.array(id_dict['ticket_ans'])\n",
    "all_faq_ans = id_dict['faq_ans']\n",
    "\n",
    "print('Loading Document Data...')\n",
    "# Unpickle the document data\n",
    "with open(\"../../code/embedding/models/doc_data/all_docs.txt\", \"rb\") as fp:\n",
    "    all_docs = pickle.load(fp)\n",
    "\n",
    "print('Loading Model...')\n",
    "model_path = '../../code/embedding/models/word2vec.model'\n",
    "model = Word2Vec.load(model_path)\n",
    "\n",
    "all_docs_prepro = preprocess_docs_fn(all_docs)"
   ]
  },
  {
   "cell_type": "code",
   "execution_count": 4,
   "metadata": {
    "scrolled": true
   },
   "outputs": [
    {
     "name": "stdout",
     "output_type": "stream",
     "text": [
      "9054\n",
      "{'faq_ques': range(0, 277), 'faq_ans': range(277, 554), 'ticket_ques': range(554, 4804), 'ticket_ans': range(4804, 9054)}\n"
     ]
    }
   ],
   "source": [
    "print(len(all_docs_prepro))\n",
    "print(id_dict)"
   ]
  },
  {
   "cell_type": "code",
   "execution_count": 22,
   "metadata": {},
   "outputs": [
    {
     "name": "stdout",
     "output_type": "stream",
     "text": [
      "4804\n"
     ]
    }
   ],
   "source": [
    "print(id_dict['ticket_ans'][0])"
   ]
  },
  {
   "cell_type": "code",
   "execution_count": 23,
   "metadata": {},
   "outputs": [
    {
     "name": "stderr",
     "output_type": "stream",
     "text": [
      "c:\\users\\costanza\\appdata\\local\\programs\\python\\python37-32\\lib\\site-packages\\ipykernel_launcher.py:6: DeprecationWarning: Call to deprecated `__getitem__` (Method will be removed in 4.0.0, use self.wv.__getitem__() instead).\n",
      "  \n",
      "c:\\users\\costanza\\appdata\\local\\programs\\python\\python37-32\\lib\\site-packages\\numpy\\core\\fromnumeric.py:2920: RuntimeWarning: Mean of empty slice.\n",
      "  out=out, **kwargs)\n",
      "c:\\users\\costanza\\appdata\\local\\programs\\python\\python37-32\\lib\\site-packages\\numpy\\core\\_methods.py:85: RuntimeWarning: invalid value encountered in double_scalars\n",
      "  ret = ret.dtype.type(ret / rcount)\n"
     ]
    }
   ],
   "source": [
    "mean_ticket_ans = np.empty((len(id_dict['ticket_ans']), 128),dtype = float)\n",
    "for j in id_dict['ticket_ans']:\n",
    "    sentence = all_docs_prepro[j]\n",
    "    words = np.empty((len(sentence), 128), dtype = float)\n",
    "    for i in range(len(sentence)):\n",
    "        words[i] = model[sentence[i]]\n",
    "    mean_ticket_ans[j-id_dict['ticket_ans'][0]] = np.apply_along_axis(np.mean, 0, words)"
   ]
  },
  {
   "cell_type": "code",
   "execution_count": 24,
   "metadata": {},
   "outputs": [
    {
     "name": "stderr",
     "output_type": "stream",
     "text": [
      "c:\\users\\costanza\\appdata\\local\\programs\\python\\python37-32\\lib\\site-packages\\ipykernel_launcher.py:6: DeprecationWarning: Call to deprecated `__getitem__` (Method will be removed in 4.0.0, use self.wv.__getitem__() instead).\n",
      "  \n"
     ]
    }
   ],
   "source": [
    "mean_faq_ans = np.empty((len(id_dict['faq_ans']), 128),dtype = float)\n",
    "for j in id_dict['faq_ans']:\n",
    "    sentence = all_docs_prepro[j]\n",
    "    words = np.empty((len(sentence), 128), dtype = float)\n",
    "    for i in range(len(sentence)):\n",
    "        words[i] = model[sentence[i]]\n",
    "    mean_faq_ans[j-id_dict['faq_ans'][0]] = np.apply_along_axis(np.mean, 0, words)"
   ]
  },
  {
   "cell_type": "code",
   "execution_count": 33,
   "metadata": {},
   "outputs": [],
   "source": [
    "def doc_emb(name):\n",
    "    mean_ans = np.empty((len(id_dict[name]), 128),dtype = float)\n",
    "    for j in id_dict[name]:\n",
    "        sentence = all_docs_prepro[j]\n",
    "        words = np.empty((len(sentence), 128), dtype = float)\n",
    "        for i in range(len(sentence)):\n",
    "            words[i] = model[sentence[i]]\n",
    "        mean_ans[j-id_dict[name][0]] = np.apply_along_axis(np.mean, 0, words)\n",
    "    return mean_ans"
   ]
  },
  {
   "cell_type": "code",
   "execution_count": 34,
   "metadata": {},
   "outputs": [
    {
     "name": "stderr",
     "output_type": "stream",
     "text": [
      "c:\\users\\costanza\\appdata\\local\\programs\\python\\python37-32\\lib\\site-packages\\ipykernel_launcher.py:7: DeprecationWarning: Call to deprecated `__getitem__` (Method will be removed in 4.0.0, use self.wv.__getitem__() instead).\n",
      "  import sys\n"
     ]
    },
    {
     "data": {
      "text/plain": [
       "array([[ 0.58662936,  0.63210138, -0.03319168, ..., -0.51580547,\n",
       "        -0.26830086,  0.75055616],\n",
       "       [ 0.29912805,  0.46380159, -0.28621869, ..., -0.8283119 ,\n",
       "        -0.53647751,  0.9114836 ],\n",
       "       [ 0.42702867,  0.71347047, -0.16933884, ..., -0.21429505,\n",
       "        -0.19091241,  0.76486944],\n",
       "       ...,\n",
       "       [ 0.38859673,  0.57834958, -0.32152405, ..., -0.68374868,\n",
       "        -0.62558026,  0.93899817],\n",
       "       [ 0.23171848,  0.35882801, -0.27480772, ..., -0.54559615,\n",
       "        -0.17777857,  0.63770821],\n",
       "       [ 0.28393199,  0.48404811, -0.35095383, ..., -0.26550584,\n",
       "        -0.05493604,  0.67021711]])"
      ]
     },
     "execution_count": 34,
     "metadata": {},
     "output_type": "execute_result"
    }
   ],
   "source": [
    "mean_faq_ans = doc_emb('faq_ans')\n",
    "mean_faq_ans"
   ]
  },
  {
   "cell_type": "code",
   "execution_count": 25,
   "metadata": {},
   "outputs": [],
   "source": [
    "from scipy.spatial import distance"
   ]
  },
  {
   "cell_type": "code",
   "execution_count": 26,
   "metadata": {
    "scrolled": true
   },
   "outputs": [],
   "source": [
    "ticket_faq_dists = np.empty((len(mean_ticket_ans),len(mean_faq_ans)), dtype = float)\n",
    "for i in range(len(mean_ticket_ans)):\n",
    "    for j in range(len(mean_faq_ans)):\n",
    "        ticket_faq_dists[i,j] = distance.cosine(mean_ticket_ans[i], mean_faq_ans[j])"
   ]
  },
  {
   "cell_type": "code",
   "execution_count": 27,
   "metadata": {},
   "outputs": [],
   "source": [
    "ticket_faq_map = np.argmin(ticket_faq_dists, axis=1)"
   ]
  },
  {
   "cell_type": "code",
   "execution_count": 28,
   "metadata": {},
   "outputs": [
    {
     "data": {
      "text/plain": [
       "array([34, 34, 34, ..., 34, 34, 34], dtype=int32)"
      ]
     },
     "execution_count": 28,
     "metadata": {},
     "output_type": "execute_result"
    }
   ],
   "source": [
    "ticket_faq_map"
   ]
  },
  {
   "cell_type": "code",
   "execution_count": null,
   "metadata": {},
   "outputs": [],
   "source": []
  },
  {
   "cell_type": "code",
   "execution_count": null,
   "metadata": {},
   "outputs": [],
   "source": [
    "big_dist = [ticket_faq_dists.min(axis=1) > 0.7]\n",
    "ticket_faq_map[big_dist] = -1 # Set all thresholded distances to have label -1\n",
    "\n",
    "with open(\"similarity/mappings/ticket_faq_map_word2vec_cosine.txt\", \"wb\") as fp:\n",
    "    pickle.dump(ticket_faq_map, fp)"
   ]
  },
  {
   "cell_type": "code",
   "execution_count": 36,
   "metadata": {},
   "outputs": [],
   "source": [
    "from sklearn.metrics.pairwise import cosine_similarity"
   ]
  },
  {
   "cell_type": "code",
   "execution_count": 37,
   "metadata": {
    "scrolled": true
   },
   "outputs": [
    {
     "ename": "ValueError",
     "evalue": "Input contains NaN, infinity or a value too large for dtype('float64').",
     "output_type": "error",
     "traceback": [
      "\u001b[1;31m---------------------------------------------------------------------------\u001b[0m",
      "\u001b[1;31mValueError\u001b[0m                                Traceback (most recent call last)",
      "\u001b[1;32m<ipython-input-37-0b40a62e58ef>\u001b[0m in \u001b[0;36m<module>\u001b[1;34m\u001b[0m\n\u001b[0;32m      1\u001b[0m \u001b[1;33m\u001b[0m\u001b[0m\n\u001b[1;32m----> 2\u001b[1;33m \u001b[0msim_matrix\u001b[0m \u001b[1;33m=\u001b[0m \u001b[0mcosine_similarity\u001b[0m\u001b[1;33m(\u001b[0m\u001b[0mmean_ticket_ans\u001b[0m\u001b[1;33m,\u001b[0m \u001b[0mmean_faq_ans\u001b[0m\u001b[1;33m)\u001b[0m\u001b[1;33m\u001b[0m\u001b[1;33m\u001b[0m\u001b[0m\n\u001b[0m",
      "\u001b[1;32mc:\\users\\costanza\\appdata\\local\\programs\\python\\python37-32\\lib\\site-packages\\sklearn\\metrics\\pairwise.py\u001b[0m in \u001b[0;36mcosine_similarity\u001b[1;34m(X, Y, dense_output)\u001b[0m\n\u001b[0;32m    896\u001b[0m     \u001b[1;31m# to avoid recursive import\u001b[0m\u001b[1;33m\u001b[0m\u001b[1;33m\u001b[0m\u001b[1;33m\u001b[0m\u001b[0m\n\u001b[0;32m    897\u001b[0m \u001b[1;33m\u001b[0m\u001b[0m\n\u001b[1;32m--> 898\u001b[1;33m     \u001b[0mX\u001b[0m\u001b[1;33m,\u001b[0m \u001b[0mY\u001b[0m \u001b[1;33m=\u001b[0m \u001b[0mcheck_pairwise_arrays\u001b[0m\u001b[1;33m(\u001b[0m\u001b[0mX\u001b[0m\u001b[1;33m,\u001b[0m \u001b[0mY\u001b[0m\u001b[1;33m)\u001b[0m\u001b[1;33m\u001b[0m\u001b[1;33m\u001b[0m\u001b[0m\n\u001b[0m\u001b[0;32m    899\u001b[0m \u001b[1;33m\u001b[0m\u001b[0m\n\u001b[0;32m    900\u001b[0m     \u001b[0mX_normalized\u001b[0m \u001b[1;33m=\u001b[0m \u001b[0mnormalize\u001b[0m\u001b[1;33m(\u001b[0m\u001b[0mX\u001b[0m\u001b[1;33m,\u001b[0m \u001b[0mcopy\u001b[0m\u001b[1;33m=\u001b[0m\u001b[1;32mTrue\u001b[0m\u001b[1;33m)\u001b[0m\u001b[1;33m\u001b[0m\u001b[1;33m\u001b[0m\u001b[0m\n",
      "\u001b[1;32mc:\\users\\costanza\\appdata\\local\\programs\\python\\python37-32\\lib\\site-packages\\sklearn\\metrics\\pairwise.py\u001b[0m in \u001b[0;36mcheck_pairwise_arrays\u001b[1;34m(X, Y, precomputed, dtype)\u001b[0m\n\u001b[0;32m    109\u001b[0m     \u001b[1;32melse\u001b[0m\u001b[1;33m:\u001b[0m\u001b[1;33m\u001b[0m\u001b[1;33m\u001b[0m\u001b[0m\n\u001b[0;32m    110\u001b[0m         X = check_array(X, accept_sparse='csr', dtype=dtype,\n\u001b[1;32m--> 111\u001b[1;33m                         warn_on_dtype=warn_on_dtype, estimator=estimator)\n\u001b[0m\u001b[0;32m    112\u001b[0m         Y = check_array(Y, accept_sparse='csr', dtype=dtype,\n\u001b[0;32m    113\u001b[0m                         warn_on_dtype=warn_on_dtype, estimator=estimator)\n",
      "\u001b[1;32mc:\\users\\costanza\\appdata\\local\\programs\\python\\python37-32\\lib\\site-packages\\sklearn\\utils\\validation.py\u001b[0m in \u001b[0;36mcheck_array\u001b[1;34m(array, accept_sparse, accept_large_sparse, dtype, order, copy, force_all_finite, ensure_2d, allow_nd, ensure_min_samples, ensure_min_features, warn_on_dtype, estimator)\u001b[0m\n\u001b[0;32m    566\u001b[0m         \u001b[1;32mif\u001b[0m \u001b[0mforce_all_finite\u001b[0m\u001b[1;33m:\u001b[0m\u001b[1;33m\u001b[0m\u001b[1;33m\u001b[0m\u001b[0m\n\u001b[0;32m    567\u001b[0m             _assert_all_finite(array,\n\u001b[1;32m--> 568\u001b[1;33m                                allow_nan=force_all_finite == 'allow-nan')\n\u001b[0m\u001b[0;32m    569\u001b[0m \u001b[1;33m\u001b[0m\u001b[0m\n\u001b[0;32m    570\u001b[0m     \u001b[0mshape_repr\u001b[0m \u001b[1;33m=\u001b[0m \u001b[0m_shape_repr\u001b[0m\u001b[1;33m(\u001b[0m\u001b[0marray\u001b[0m\u001b[1;33m.\u001b[0m\u001b[0mshape\u001b[0m\u001b[1;33m)\u001b[0m\u001b[1;33m\u001b[0m\u001b[1;33m\u001b[0m\u001b[0m\n",
      "\u001b[1;32mc:\\users\\costanza\\appdata\\local\\programs\\python\\python37-32\\lib\\site-packages\\sklearn\\utils\\validation.py\u001b[0m in \u001b[0;36m_assert_all_finite\u001b[1;34m(X, allow_nan)\u001b[0m\n\u001b[0;32m     54\u001b[0m                 not allow_nan and not np.isfinite(X).all()):\n\u001b[0;32m     55\u001b[0m             \u001b[0mtype_err\u001b[0m \u001b[1;33m=\u001b[0m \u001b[1;34m'infinity'\u001b[0m \u001b[1;32mif\u001b[0m \u001b[0mallow_nan\u001b[0m \u001b[1;32melse\u001b[0m \u001b[1;34m'NaN, infinity'\u001b[0m\u001b[1;33m\u001b[0m\u001b[1;33m\u001b[0m\u001b[0m\n\u001b[1;32m---> 56\u001b[1;33m             \u001b[1;32mraise\u001b[0m \u001b[0mValueError\u001b[0m\u001b[1;33m(\u001b[0m\u001b[0mmsg_err\u001b[0m\u001b[1;33m.\u001b[0m\u001b[0mformat\u001b[0m\u001b[1;33m(\u001b[0m\u001b[0mtype_err\u001b[0m\u001b[1;33m,\u001b[0m \u001b[0mX\u001b[0m\u001b[1;33m.\u001b[0m\u001b[0mdtype\u001b[0m\u001b[1;33m)\u001b[0m\u001b[1;33m)\u001b[0m\u001b[1;33m\u001b[0m\u001b[1;33m\u001b[0m\u001b[0m\n\u001b[0m\u001b[0;32m     57\u001b[0m \u001b[1;33m\u001b[0m\u001b[0m\n\u001b[0;32m     58\u001b[0m \u001b[1;33m\u001b[0m\u001b[0m\n",
      "\u001b[1;31mValueError\u001b[0m: Input contains NaN, infinity or a value too large for dtype('float64')."
     ]
    }
   ],
   "source": [
    "sim_matrix = cosine_similarity(mean_ticket_ans, mean_faq_ans)"
   ]
  },
  {
   "cell_type": "code",
   "execution_count": 50,
   "metadata": {},
   "outputs": [
    {
     "name": "stdout",
     "output_type": "stream",
     "text": [
      "(array([1291, 1291, 1291, 1291, 1291, 1291, 1291, 1291, 1291, 1291, 1291,\n",
      "       1291, 1291, 1291, 1291, 1291, 1291, 1291, 1291, 1291, 1291, 1291,\n",
      "       1291, 1291, 1291, 1291, 1291, 1291, 1291, 1291, 1291, 1291, 1291,\n",
      "       1291, 1291, 1291, 1291, 1291, 1291, 1291, 1291, 1291, 1291, 1291,\n",
      "       1291, 1291, 1291, 1291, 1291, 1291, 1291, 1291, 1291, 1291, 1291,\n",
      "       1291, 1291, 1291, 1291, 1291, 1291, 1291, 1291, 1291, 1291, 1291,\n",
      "       1291, 1291, 1291, 1291, 1291, 1291, 1291, 1291, 1291, 1291, 1291,\n",
      "       1291, 1291, 1291, 1291, 1291, 1291, 1291, 1291, 1291, 1291, 1291,\n",
      "       1291, 1291, 1291, 1291, 1291, 1291, 1291, 1291, 1291, 1291, 1291,\n",
      "       1291, 1291, 1291, 1291, 1291, 1291, 1291, 1291, 1291, 1291, 1291,\n",
      "       1291, 1291, 1291, 1291, 1291, 1291, 1291, 1291, 1291, 1291, 1291,\n",
      "       1291, 1291, 1291, 1291, 1291, 1291, 1291, 1564, 1564, 1564, 1564,\n",
      "       1564, 1564, 1564, 1564, 1564, 1564, 1564, 1564, 1564, 1564, 1564,\n",
      "       1564, 1564, 1564, 1564, 1564, 1564, 1564, 1564, 1564, 1564, 1564,\n",
      "       1564, 1564, 1564, 1564, 1564, 1564, 1564, 1564, 1564, 1564, 1564,\n",
      "       1564, 1564, 1564, 1564, 1564, 1564, 1564, 1564, 1564, 1564, 1564,\n",
      "       1564, 1564, 1564, 1564, 1564, 1564, 1564, 1564, 1564, 1564, 1564,\n",
      "       1564, 1564, 1564, 1564, 1564, 1564, 1564, 1564, 1564, 1564, 1564,\n",
      "       1564, 1564, 1564, 1564, 1564, 1564, 1564, 1564, 1564, 1564, 1564,\n",
      "       1564, 1564, 1564, 1564, 1564, 1564, 1564, 1564, 1564, 1564, 1564,\n",
      "       1564, 1564, 1564, 1564, 1564, 1564, 1564, 1564, 1564, 1564, 1564,\n",
      "       1564, 1564, 1564, 1564, 1564, 1564, 1564, 1564, 1564, 1564, 1564,\n",
      "       1564, 1564, 1564, 1564, 1564, 1564, 1564, 1564, 1564, 1564, 1564,\n",
      "       1564, 1564, 1564, 2496, 2496, 2496, 2496, 2496, 2496, 2496, 2496,\n",
      "       2496, 2496, 2496, 2496, 2496, 2496, 2496, 2496, 2496, 2496, 2496,\n",
      "       2496, 2496, 2496, 2496, 2496, 2496, 2496, 2496, 2496, 2496, 2496,\n",
      "       2496, 2496, 2496, 2496, 2496, 2496, 2496, 2496, 2496, 2496, 2496,\n",
      "       2496, 2496, 2496, 2496, 2496, 2496, 2496, 2496, 2496, 2496, 2496,\n",
      "       2496, 2496, 2496, 2496, 2496, 2496, 2496, 2496, 2496, 2496, 2496,\n",
      "       2496, 2496, 2496, 2496, 2496, 2496, 2496, 2496, 2496, 2496, 2496,\n",
      "       2496, 2496, 2496, 2496, 2496, 2496, 2496, 2496, 2496, 2496, 2496,\n",
      "       2496, 2496, 2496, 2496, 2496, 2496, 2496, 2496, 2496, 2496, 2496,\n",
      "       2496, 2496, 2496, 2496, 2496, 2496, 2496, 2496, 2496, 2496, 2496,\n",
      "       2496, 2496, 2496, 2496, 2496, 2496, 2496, 2496, 2496, 2496, 2496,\n",
      "       2496, 2496, 2496, 2496, 2496, 2496, 2496, 2496, 2496, 2496, 2827,\n",
      "       2827, 2827, 2827, 2827, 2827, 2827, 2827, 2827, 2827, 2827, 2827,\n",
      "       2827, 2827, 2827, 2827, 2827, 2827, 2827, 2827, 2827, 2827, 2827,\n",
      "       2827, 2827, 2827, 2827, 2827, 2827, 2827, 2827, 2827, 2827, 2827,\n",
      "       2827, 2827, 2827, 2827, 2827, 2827, 2827, 2827, 2827, 2827, 2827,\n",
      "       2827, 2827, 2827, 2827, 2827, 2827, 2827, 2827, 2827, 2827, 2827,\n",
      "       2827, 2827, 2827, 2827, 2827, 2827, 2827, 2827, 2827, 2827, 2827,\n",
      "       2827, 2827, 2827, 2827, 2827, 2827, 2827, 2827, 2827, 2827, 2827,\n",
      "       2827, 2827, 2827, 2827, 2827, 2827, 2827, 2827, 2827, 2827, 2827,\n",
      "       2827, 2827, 2827, 2827, 2827, 2827, 2827, 2827, 2827, 2827, 2827,\n",
      "       2827, 2827, 2827, 2827, 2827, 2827, 2827, 2827, 2827, 2827, 2827,\n",
      "       2827, 2827, 2827, 2827, 2827, 2827, 2827, 2827, 2827, 2827, 2827,\n",
      "       2827, 2827, 2827, 2827, 2827, 2827, 3519, 3519, 3519, 3519, 3519,\n",
      "       3519, 3519, 3519, 3519, 3519, 3519, 3519, 3519, 3519, 3519, 3519,\n",
      "       3519, 3519, 3519, 3519, 3519, 3519, 3519, 3519, 3519, 3519, 3519,\n",
      "       3519, 3519, 3519, 3519, 3519, 3519, 3519, 3519, 3519, 3519, 3519,\n",
      "       3519, 3519, 3519, 3519, 3519, 3519, 3519, 3519, 3519, 3519, 3519,\n",
      "       3519, 3519, 3519, 3519, 3519, 3519, 3519, 3519, 3519, 3519, 3519,\n",
      "       3519, 3519, 3519, 3519, 3519, 3519, 3519, 3519, 3519, 3519, 3519,\n",
      "       3519, 3519, 3519, 3519, 3519, 3519, 3519, 3519, 3519, 3519, 3519,\n",
      "       3519, 3519, 3519, 3519, 3519, 3519, 3519, 3519, 3519, 3519, 3519,\n",
      "       3519, 3519, 3519, 3519, 3519, 3519, 3519, 3519, 3519, 3519, 3519,\n",
      "       3519, 3519, 3519, 3519, 3519, 3519, 3519, 3519, 3519, 3519, 3519,\n",
      "       3519, 3519, 3519, 3519, 3519, 3519, 3519, 3519, 3519, 3519, 3519,\n",
      "       3519, 3519], dtype=int32), array([  0,   1,   2,   3,   4,   5,   6,   7,   8,   9,  10,  11,  12,\n",
      "        13,  14,  15,  16,  17,  18,  19,  20,  21,  22,  23,  24,  25,\n",
      "        26,  27,  28,  29,  30,  31,  32,  33,  34,  35,  36,  37,  38,\n",
      "        39,  40,  41,  42,  43,  44,  45,  46,  47,  48,  49,  50,  51,\n",
      "        52,  53,  54,  55,  56,  57,  58,  59,  60,  61,  62,  63,  64,\n",
      "        65,  66,  67,  68,  69,  70,  71,  72,  73,  74,  75,  76,  77,\n",
      "        78,  79,  80,  81,  82,  83,  84,  85,  86,  87,  88,  89,  90,\n",
      "        91,  92,  93,  94,  95,  96,  97,  98,  99, 100, 101, 102, 103,\n",
      "       104, 105, 106, 107, 108, 109, 110, 111, 112, 113, 114, 115, 116,\n",
      "       117, 118, 119, 120, 121, 122, 123, 124, 125, 126, 127,   0,   1,\n",
      "         2,   3,   4,   5,   6,   7,   8,   9,  10,  11,  12,  13,  14,\n",
      "        15,  16,  17,  18,  19,  20,  21,  22,  23,  24,  25,  26,  27,\n",
      "        28,  29,  30,  31,  32,  33,  34,  35,  36,  37,  38,  39,  40,\n",
      "        41,  42,  43,  44,  45,  46,  47,  48,  49,  50,  51,  52,  53,\n",
      "        54,  55,  56,  57,  58,  59,  60,  61,  62,  63,  64,  65,  66,\n",
      "        67,  68,  69,  70,  71,  72,  73,  74,  75,  76,  77,  78,  79,\n",
      "        80,  81,  82,  83,  84,  85,  86,  87,  88,  89,  90,  91,  92,\n",
      "        93,  94,  95,  96,  97,  98,  99, 100, 101, 102, 103, 104, 105,\n",
      "       106, 107, 108, 109, 110, 111, 112, 113, 114, 115, 116, 117, 118,\n",
      "       119, 120, 121, 122, 123, 124, 125, 126, 127,   0,   1,   2,   3,\n",
      "         4,   5,   6,   7,   8,   9,  10,  11,  12,  13,  14,  15,  16,\n",
      "        17,  18,  19,  20,  21,  22,  23,  24,  25,  26,  27,  28,  29,\n",
      "        30,  31,  32,  33,  34,  35,  36,  37,  38,  39,  40,  41,  42,\n",
      "        43,  44,  45,  46,  47,  48,  49,  50,  51,  52,  53,  54,  55,\n",
      "        56,  57,  58,  59,  60,  61,  62,  63,  64,  65,  66,  67,  68,\n",
      "        69,  70,  71,  72,  73,  74,  75,  76,  77,  78,  79,  80,  81,\n",
      "        82,  83,  84,  85,  86,  87,  88,  89,  90,  91,  92,  93,  94,\n",
      "        95,  96,  97,  98,  99, 100, 101, 102, 103, 104, 105, 106, 107,\n",
      "       108, 109, 110, 111, 112, 113, 114, 115, 116, 117, 118, 119, 120,\n",
      "       121, 122, 123, 124, 125, 126, 127,   0,   1,   2,   3,   4,   5,\n",
      "         6,   7,   8,   9,  10,  11,  12,  13,  14,  15,  16,  17,  18,\n",
      "        19,  20,  21,  22,  23,  24,  25,  26,  27,  28,  29,  30,  31,\n",
      "        32,  33,  34,  35,  36,  37,  38,  39,  40,  41,  42,  43,  44,\n",
      "        45,  46,  47,  48,  49,  50,  51,  52,  53,  54,  55,  56,  57,\n",
      "        58,  59,  60,  61,  62,  63,  64,  65,  66,  67,  68,  69,  70,\n",
      "        71,  72,  73,  74,  75,  76,  77,  78,  79,  80,  81,  82,  83,\n",
      "        84,  85,  86,  87,  88,  89,  90,  91,  92,  93,  94,  95,  96,\n",
      "        97,  98,  99, 100, 101, 102, 103, 104, 105, 106, 107, 108, 109,\n",
      "       110, 111, 112, 113, 114, 115, 116, 117, 118, 119, 120, 121, 122,\n",
      "       123, 124, 125, 126, 127,   0,   1,   2,   3,   4,   5,   6,   7,\n",
      "         8,   9,  10,  11,  12,  13,  14,  15,  16,  17,  18,  19,  20,\n",
      "        21,  22,  23,  24,  25,  26,  27,  28,  29,  30,  31,  32,  33,\n",
      "        34,  35,  36,  37,  38,  39,  40,  41,  42,  43,  44,  45,  46,\n",
      "        47,  48,  49,  50,  51,  52,  53,  54,  55,  56,  57,  58,  59,\n",
      "        60,  61,  62,  63,  64,  65,  66,  67,  68,  69,  70,  71,  72,\n",
      "        73,  74,  75,  76,  77,  78,  79,  80,  81,  82,  83,  84,  85,\n",
      "        86,  87,  88,  89,  90,  91,  92,  93,  94,  95,  96,  97,  98,\n",
      "        99, 100, 101, 102, 103, 104, 105, 106, 107, 108, 109, 110, 111,\n",
      "       112, 113, 114, 115, 116, 117, 118, 119, 120, 121, 122, 123, 124,\n",
      "       125, 126, 127], dtype=int32))\n",
      "128\n"
     ]
    }
   ],
   "source": [
    "print(np.nonzero(np.isnan(mean_ticket_ans)))\n",
    "print(np.count_nonzero(np.isnan(mean_faq_ans)))"
   ]
  },
  {
   "cell_type": "code",
   "execution_count": 48,
   "metadata": {},
   "outputs": [],
   "source": [
    "for i in range(len(mean_ticket_ans)):\n",
    "    zero = np.count_nonzero(mean_ticket_ans[i])\n",
    "    if zero != 128: \n",
    "        print(i)"
   ]
  },
  {
   "cell_type": "code",
   "execution_count": 49,
   "metadata": {},
   "outputs": [],
   "source": [
    "for i in range(len(mean_faq_ans)):\n",
    "    zero = np.count_nonzero(mean_ticket_ans[i])\n",
    "    if zero != 128: \n",
    "        print(i)"
   ]
  },
  {
   "cell_type": "code",
   "execution_count": null,
   "metadata": {},
   "outputs": [],
   "source": []
  }
 ],
 "metadata": {
  "kernelspec": {
   "display_name": "Python 3",
   "language": "python",
   "name": "python3"
  },
  "language_info": {
   "codemirror_mode": {
    "name": "ipython",
    "version": 3
   },
   "file_extension": ".py",
   "mimetype": "text/x-python",
   "name": "python",
   "nbconvert_exporter": "python",
   "pygments_lexer": "ipython3",
   "version": "3.7.1"
  }
 },
 "nbformat": 4,
 "nbformat_minor": 2
}
