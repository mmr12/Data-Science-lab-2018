{
 "cells": [
  {
   "cell_type": "code",
   "execution_count": 11,
   "metadata": {},
   "outputs": [],
   "source": [
    "# The Usual Suspects\n",
    "import pandas as pd\n",
    "import numpy as np\n",
    "\n",
    "from gensim import corpora\n",
    "from gensim.parsing.preprocessing import preprocess_documents\n",
    "from gensim.test.utils import common_texts, get_tmpfile\n",
    "from gensim.models import Word2Vec"
   ]
  },
  {
   "cell_type": "markdown",
   "metadata": {},
   "source": [
    "## Import Data"
   ]
  },
  {
   "cell_type": "code",
   "execution_count": 2,
   "metadata": {},
   "outputs": [],
   "source": [
    "ticket_dat = pd.read_csv('../data/ticket_dat.csv')\n",
    "faq_dat = pd.read_csv('../data/faq_dat.csv')"
   ]
  },
  {
   "cell_type": "code",
   "execution_count": 3,
   "metadata": {},
   "outputs": [],
   "source": [
    "# Replace the NaNs\n",
    "ticket_dat.fillna('', inplace=True)\n",
    "faq_dat.fillna('', inplace=True)"
   ]
  },
  {
   "cell_type": "code",
   "execution_count": 4,
   "metadata": {},
   "outputs": [
    {
     "data": {
      "text/html": [
       "<div>\n",
       "<style>\n",
       "    .dataframe thead tr:only-child th {\n",
       "        text-align: right;\n",
       "    }\n",
       "\n",
       "    .dataframe thead th {\n",
       "        text-align: left;\n",
       "    }\n",
       "\n",
       "    .dataframe tbody tr th {\n",
       "        vertical-align: top;\n",
       "    }\n",
       "</style>\n",
       "<table border=\"1\" class=\"dataframe\">\n",
       "  <thead>\n",
       "    <tr style=\"text-align: right;\">\n",
       "      <th></th>\n",
       "      <th>ticket_id</th>\n",
       "      <th>article_id</th>\n",
       "      <th>ticket_id.1</th>\n",
       "      <th>subject</th>\n",
       "      <th>content_original</th>\n",
       "      <th>content_cleaned</th>\n",
       "      <th>lang</th>\n",
       "      <th>content_translated</th>\n",
       "    </tr>\n",
       "  </thead>\n",
       "  <tbody>\n",
       "    <tr>\n",
       "      <th>0</th>\n",
       "      <td>18014685</td>\n",
       "      <td>2177823</td>\n",
       "      <td>424446</td>\n",
       "      <td>Registrierung als Hörer</td>\n",
       "      <td>Sehr geehrte Damen und Herren\\n\\n \\n\\nIch habe...</td>\n",
       "      <td>Sehr geehrte Damen und Herren\\n\\n \\n\\nIch habe...</td>\n",
       "      <td>de</td>\n",
       "      <td>Dear Ladies and Gentlemen, I still have about ...</td>\n",
       "    </tr>\n",
       "    <tr>\n",
       "      <th>1</th>\n",
       "      <td>18014685</td>\n",
       "      <td>2177987</td>\n",
       "      <td>424446</td>\n",
       "      <td>Re: [ID#18014685] Registrierung als Hörer</td>\n",
       "      <td>Sehr geehrter Herr Daniel Aeppli \\n\\nGlücklich...</td>\n",
       "      <td>Sehr geehrter Herr Daniel Aeppli \\n\\nGlücklich...</td>\n",
       "      <td>de</td>\n",
       "      <td>Dear Mr. Daniel Aeppli Fortunately, you have a...</td>\n",
       "    </tr>\n",
       "    <tr>\n",
       "      <th>2</th>\n",
       "      <td>18014685</td>\n",
       "      <td>2178318</td>\n",
       "      <td>424446</td>\n",
       "      <td>Re: [ID#18014685] Registrierung als Hörer</td>\n",
       "      <td>Guten Tag Herr Greutee\\n\\nBesten Dank.\\n\\nDie ...</td>\n",
       "      <td>Guten Tag Herr Greutee\\n\\nBesten Dank.\\n\\nDie ...</td>\n",
       "      <td>de</td>\n",
       "      <td>Hello Mr. Greutee Thank you. The details: 25.0...</td>\n",
       "    </tr>\n",
       "    <tr>\n",
       "      <th>3</th>\n",
       "      <td>18014685</td>\n",
       "      <td>2178343</td>\n",
       "      <td>424446</td>\n",
       "      <td>Re: [ID#18014685] Registrierung als Hörer</td>\n",
       "      <td>Sehr geehrter Herr Daniel Aeppli\\n \\nIch habe ...</td>\n",
       "      <td>Sehr geehrter Herr Daniel Aeppli\\n \\nIch habe ...</td>\n",
       "      <td>de</td>\n",
       "      <td>Dear Mr. Daniel Aeppli I have sent you a passw...</td>\n",
       "    </tr>\n",
       "    <tr>\n",
       "      <th>4</th>\n",
       "      <td>18014685</td>\n",
       "      <td>2326946</td>\n",
       "      <td>424446</td>\n",
       "      <td>Re: [ID#18014685] Registrierung als Hörer</td>\n",
       "      <td>Guten Tag Herr Greuter\\n\\nMit dem abgeänderten...</td>\n",
       "      <td>Guten Tag Herr Greuter\\n\\nMit dem abgeänderten...</td>\n",
       "      <td>de</td>\n",
       "      <td>Hello Mr. Greuter With the changed password I ...</td>\n",
       "    </tr>\n",
       "  </tbody>\n",
       "</table>\n",
       "</div>"
      ],
      "text/plain": [
       "   ticket_id  article_id  ticket_id.1  \\\n",
       "0   18014685     2177823       424446   \n",
       "1   18014685     2177987       424446   \n",
       "2   18014685     2178318       424446   \n",
       "3   18014685     2178343       424446   \n",
       "4   18014685     2326946       424446   \n",
       "\n",
       "                                     subject  \\\n",
       "0                    Registrierung als Hörer   \n",
       "1  Re: [ID#18014685] Registrierung als Hörer   \n",
       "2  Re: [ID#18014685] Registrierung als Hörer   \n",
       "3  Re: [ID#18014685] Registrierung als Hörer   \n",
       "4  Re: [ID#18014685] Registrierung als Hörer   \n",
       "\n",
       "                                    content_original  \\\n",
       "0  Sehr geehrte Damen und Herren\\n\\n \\n\\nIch habe...   \n",
       "1  Sehr geehrter Herr Daniel Aeppli \\n\\nGlücklich...   \n",
       "2  Guten Tag Herr Greutee\\n\\nBesten Dank.\\n\\nDie ...   \n",
       "3  Sehr geehrter Herr Daniel Aeppli\\n \\nIch habe ...   \n",
       "4  Guten Tag Herr Greuter\\n\\nMit dem abgeänderten...   \n",
       "\n",
       "                                     content_cleaned lang  \\\n",
       "0  Sehr geehrte Damen und Herren\\n\\n \\n\\nIch habe...   de   \n",
       "1  Sehr geehrter Herr Daniel Aeppli \\n\\nGlücklich...   de   \n",
       "2  Guten Tag Herr Greutee\\n\\nBesten Dank.\\n\\nDie ...   de   \n",
       "3  Sehr geehrter Herr Daniel Aeppli\\n \\nIch habe ...   de   \n",
       "4  Guten Tag Herr Greuter\\n\\nMit dem abgeänderten...   de   \n",
       "\n",
       "                                  content_translated  \n",
       "0  Dear Ladies and Gentlemen, I still have about ...  \n",
       "1  Dear Mr. Daniel Aeppli Fortunately, you have a...  \n",
       "2  Hello Mr. Greutee Thank you. The details: 25.0...  \n",
       "3  Dear Mr. Daniel Aeppli I have sent you a passw...  \n",
       "4  Hello Mr. Greuter With the changed password I ...  "
      ]
     },
     "execution_count": 4,
     "metadata": {},
     "output_type": "execute_result"
    }
   ],
   "source": [
    "ticket_dat.head()"
   ]
  },
  {
   "cell_type": "code",
   "execution_count": 5,
   "metadata": {},
   "outputs": [
    {
     "data": {
      "text/html": [
       "<div>\n",
       "<style>\n",
       "    .dataframe thead tr:only-child th {\n",
       "        text-align: right;\n",
       "    }\n",
       "\n",
       "    .dataframe thead th {\n",
       "        text-align: left;\n",
       "    }\n",
       "\n",
       "    .dataframe tbody tr th {\n",
       "        vertical-align: top;\n",
       "    }\n",
       "</style>\n",
       "<table border=\"1\" class=\"dataframe\">\n",
       "  <thead>\n",
       "    <tr style=\"text-align: right;\">\n",
       "      <th></th>\n",
       "      <th>faq_id</th>\n",
       "      <th>lang</th>\n",
       "      <th>ques</th>\n",
       "      <th>ans_title</th>\n",
       "      <th>ans_content</th>\n",
       "      <th>ans_content_translated</th>\n",
       "      <th>ans_title_translation</th>\n",
       "      <th>ques_content_translation</th>\n",
       "    </tr>\n",
       "  </thead>\n",
       "  <tbody>\n",
       "    <tr>\n",
       "      <th>0</th>\n",
       "      <td>8502</td>\n",
       "      <td>en</td>\n",
       "      <td>Received a phishing mail?</td>\n",
       "      <td>Phishing Mail warning</td>\n",
       "      <td>This is a phishing mail. You should delete it....</td>\n",
       "      <td>This is a phishing mail. You should delete it....</td>\n",
       "      <td>Phishing Mail warning</td>\n",
       "      <td>Received a phishing mail?</td>\n",
       "    </tr>\n",
       "    <tr>\n",
       "      <th>1</th>\n",
       "      <td>8503</td>\n",
       "      <td>en</td>\n",
       "      <td>Lockout on Account</td>\n",
       "      <td>My account is locked</td>\n",
       "      <td>You had a lockout on your account because you ...</td>\n",
       "      <td>You had a lockout on your account because you ...</td>\n",
       "      <td>My account is locked</td>\n",
       "      <td>Lockout on Account</td>\n",
       "    </tr>\n",
       "    <tr>\n",
       "      <th>2</th>\n",
       "      <td>8506</td>\n",
       "      <td>en</td>\n",
       "      <td>Blocking mailsender</td>\n",
       "      <td>Block a mailsender</td>\n",
       "      <td>You can add the sender on your personal blackl...</td>\n",
       "      <td>You can add the sender on your personal blackl...</td>\n",
       "      <td>Block a mailsender</td>\n",
       "      <td>Blocking mailsender</td>\n",
       "    </tr>\n",
       "    <tr>\n",
       "      <th>3</th>\n",
       "      <td>8509</td>\n",
       "      <td>en</td>\n",
       "      <td>Credit overdrawn</td>\n",
       "      <td>I can't print anymore</td>\n",
       "      <td>Your credit is 6.90.- in minus. You have to lo...</td>\n",
       "      <td>Your credit is 6.90.- in minus. You have to lo...</td>\n",
       "      <td>I can't print anymore</td>\n",
       "      <td>Credit overdrawn</td>\n",
       "    </tr>\n",
       "    <tr>\n",
       "      <th>4</th>\n",
       "      <td>8509</td>\n",
       "      <td>en</td>\n",
       "      <td>Credit overdrawn</td>\n",
       "      <td>Why is my account in minus</td>\n",
       "      <td>The reason why your account is minus is the fo...</td>\n",
       "      <td>The reason why your account is minus is the fo...</td>\n",
       "      <td>Why is my account in minus</td>\n",
       "      <td>Credit overdrawn</td>\n",
       "    </tr>\n",
       "  </tbody>\n",
       "</table>\n",
       "</div>"
      ],
      "text/plain": [
       "   faq_id lang                       ques                    ans_title  \\\n",
       "0    8502   en  Received a phishing mail?       Phishing Mail warning    \n",
       "1    8503   en        Lockout on Account         My account is locked    \n",
       "2    8506   en        Blocking mailsender          Block a mailsender    \n",
       "3    8509   en           Credit overdrawn       I can't print anymore    \n",
       "4    8509   en           Credit overdrawn  Why is my account in minus    \n",
       "\n",
       "                                         ans_content  \\\n",
       "0  This is a phishing mail. You should delete it....   \n",
       "1  You had a lockout on your account because you ...   \n",
       "2  You can add the sender on your personal blackl...   \n",
       "3  Your credit is 6.90.- in minus. You have to lo...   \n",
       "4  The reason why your account is minus is the fo...   \n",
       "\n",
       "                              ans_content_translated  \\\n",
       "0  This is a phishing mail. You should delete it....   \n",
       "1  You had a lockout on your account because you ...   \n",
       "2  You can add the sender on your personal blackl...   \n",
       "3  Your credit is 6.90.- in minus. You have to lo...   \n",
       "4  The reason why your account is minus is the fo...   \n",
       "\n",
       "         ans_title_translation   ques_content_translation  \n",
       "0       Phishing Mail warning   Received a phishing mail?  \n",
       "1        My account is locked         Lockout on Account   \n",
       "2          Block a mailsender         Blocking mailsender  \n",
       "3       I can't print anymore            Credit overdrawn  \n",
       "4  Why is my account in minus            Credit overdrawn  "
      ]
     },
     "execution_count": 5,
     "metadata": {},
     "output_type": "execute_result"
    }
   ],
   "source": [
    "faq_dat.head()"
   ]
  },
  {
   "cell_type": "markdown",
   "metadata": {},
   "source": [
    "## Embedding Based on All Data"
   ]
  },
  {
   "cell_type": "markdown",
   "metadata": {},
   "source": [
    "### Preprocessing"
   ]
  },
  {
   "cell_type": "code",
   "execution_count": 55,
   "metadata": {},
   "outputs": [],
   "source": [
    "from gensim.parsing.preprocessing import preprocess_string\n",
    "from gensim.parsing.preprocessing import DEFAULT_FILTERS"
   ]
  },
  {
   "cell_type": "markdown",
   "metadata": {},
   "source": [
    "Function's that are applied are the defaults plus some customs. \n",
    "\n",
    "(more details at https://radimrehurek.com/gensim/parsing/preprocessing.html#gensim.parsing.preprocessing.preprocess_string) \n",
    "\n",
    "Defaults are:\n"
   ]
  },
  {
   "cell_type": "code",
   "execution_count": 82,
   "metadata": {},
   "outputs": [
    {
     "data": {
      "text/plain": [
       "[<function gensim.parsing.preprocessing.<lambda>>,\n",
       " <function gensim.parsing.preprocessing.strip_tags>,\n",
       " <function gensim.parsing.preprocessing.strip_punctuation>,\n",
       " <function gensim.parsing.preprocessing.strip_multiple_whitespaces>,\n",
       " <function gensim.parsing.preprocessing.strip_numeric>,\n",
       " <function gensim.parsing.preprocessing.remove_stopwords>,\n",
       " <function gensim.parsing.preprocessing.strip_short>,\n",
       " <function gensim.parsing.preprocessing.stem_text>]"
      ]
     },
     "execution_count": 82,
     "metadata": {},
     "output_type": "execute_result"
    }
   ],
   "source": [
    "DEFAULT_FILTERS"
   ]
  },
  {
   "cell_type": "code",
   "execution_count": 199,
   "metadata": {},
   "outputs": [],
   "source": [
    "import re\n",
    "import string"
   ]
  },
  {
   "cell_type": "code",
   "execution_count": 354,
   "metadata": {},
   "outputs": [],
   "source": [
    "from gensim.parsing.preprocessing import remove_stopwords\n",
    "from gensim.parsing.preprocessing import strip_multiple_whitespaces\n",
    "from gensim.parsing.preprocessing import stem_text\n",
    "from gensim.parsing.preprocessing import strip_numeric\n",
    "\n",
    "\n",
    "def remove_ip(s):\n",
    "    # Replace all ip adresses with '<ip>' tag\n",
    "    ip_regexp = r\"\\b\\d{1,3}\\.\\d{1,3}\\.\\d{1,3}\\.\\d{1,3}\\b\"\n",
    "    return re.sub(ip_regexp, '<ip>', s)\n",
    "\n",
    "\n",
    "def remove_email(s):\n",
    "    # Replace all email adresses with '<email>' tag\n",
    "    email_regexp = r\"([a-zA-Z0-9_\\-\\.]+)@([a-zA-Z0-9_\\-\\.]+)\\.([a-zA-Z]{2,5})\"\n",
    "    return re.sub(email_regexp, '<email>', s)\n",
    "\n",
    "def remove_mailto(s):\n",
    "    # Replace all \"<mailto:<email>>\" with <email>. Email adresses should be replaced by remove_email first.\n",
    "    return s.replace(\"<mailto:<email>>\", \"<email>\")\n",
    "\n",
    "def remove_url(s):\n",
    "    # Replace all url's with '<url>' tag\n",
    "    url_regexp=r\"((http|ftp|https):\\/\\/)?[-a-zA-Z0-9@:%._\\+~#=]{2,256}\\.[a-z]{2,6}\\b([-a-zA-Z0-9@:%_\\+.~#?&//=]*)\"\n",
    "    s = re.sub(url_regexp, '<url>', s)\n",
    "    # Sometimes url's are inside <> so we need to replace <<url>> with <url>\n",
    "    return s.replace(\"<<url>>\", \"<url>\")\n",
    "\n",
    "def remove_punc(s, exceptions):\n",
    "    # Remove all punctuation from string with exceptions in list exceptions\n",
    "    remove = string.punctuation\n",
    "    for exception in exceptions:\n",
    "        remove = remove.replace(exception, \"\") \n",
    "    # Create the pattern\n",
    "    pattern = r\"[{}]\".format(remove) \n",
    "\n",
    "    return re.sub(pattern, \"\", s) \n",
    "\n",
    "def lower_case(s):\n",
    "    return s.lower()\n",
    "    \n",
    "\n",
    "def preprocess_sentence_fn(s):\n",
    "    punc_exceptions = ['<', '>']\n",
    "    filters = [remove_ip, \n",
    "               remove_email,\n",
    "               remove_mailto,\n",
    "               remove_url,\n",
    "               lambda x: remove_punc(x, punc_exceptions),\n",
    "               remove_stopwords,\n",
    "               strip_multiple_whitespaces, \n",
    "               lower_case,\n",
    "               stem_text,\n",
    "               strip_numeric]\n",
    "    out = preprocess_string(s, filters = filters)\n",
    "    \n",
    "    return out\n",
    "\n",
    "def preprocess_docs_fn(docs):\n",
    "    \n",
    "    return [preprocess_sentence_fn(s) for s in docs]\n",
    "    "
   ]
  },
  {
   "cell_type": "markdown",
   "metadata": {},
   "source": [
    "Example of a few sentences"
   ]
  },
  {
   "cell_type": "code",
   "execution_count": 355,
   "metadata": {},
   "outputs": [
    {
     "data": {
      "text/plain": [
       "[['hei', 'delilah', 'try', '<url>', '<url>'],\n",
       " ['hei', '<email>', 'friend', '<email>'],\n",
       " ['hei', 'ip', 'adress', '<ip>']]"
      ]
     },
     "execution_count": 355,
     "metadata": {},
     "output_type": "execute_result"
    }
   ],
   "source": [
    "preprocess_docs_fn(['hey there DElilah! 99 try <https://regex101.com/> or facebook.com', \n",
    "                    'hey brianregan@gmail.eth.com, how is my friends <mailto:person@email.com>',\n",
    "                    'hey my IP adresses is 129.01.001.01'])"
   ]
  },
  {
   "cell_type": "code",
   "execution_count": 356,
   "metadata": {},
   "outputs": [],
   "source": [
    "faq_ques = list(faq_dat.ques_content_translation)\n",
    "faq_ques_docs = preprocess_docs_fn(faq_ques)\n",
    "\n",
    "faq_ans = list(faq_dat.ans_content_translated)\n",
    "faq_ans_docs = preprocess_docs_fn(faq_ans)\n",
    "\n",
    "ticket_content = list(ticket_dat.content_translated)\n",
    "ticket_content_docs = preprocess_docs_fn(ticket_content)\n",
    "\n",
    "all_docs = faq_ques_docs + faq_ans_docs + ticket_content_docs"
   ]
  },
  {
   "cell_type": "markdown",
   "metadata": {},
   "source": [
    "### Word Embedding"
   ]
  },
  {
   "cell_type": "code",
   "execution_count": 357,
   "metadata": {},
   "outputs": [],
   "source": [
    "path = get_tmpfile(\"word2vec.model\")\n",
    "\n",
    "model = Word2Vec(all_docs, size=128, window=5, min_count=1, workers=4)\n",
    "model.save(\"word2vec.model\")"
   ]
  },
  {
   "cell_type": "code",
   "execution_count": 377,
   "metadata": {},
   "outputs": [
    {
     "name": "stdout",
     "output_type": "stream",
     "text": [
      "Results for \"inbox\", processed to ['inbox']\n"
     ]
    },
    {
     "data": {
      "text/plain": [
       "[('rule', 0.9297240376472473),\n",
       " ('archiv', 0.9043952226638794),\n",
       " ('delet', 0.8946067094802856),\n",
       " ('filter', 0.8925820589065552),\n",
       " ('spell', 0.8921395540237427),\n",
       " ('spam', 0.8892513513565063),\n",
       " ('text', 0.8873597383499146),\n",
       " ('owa', 0.8873069286346436),\n",
       " ('larger', 0.8817001581192017),\n",
       " ('specifi', 0.8793443441390991)]"
      ]
     },
     "execution_count": 377,
     "metadata": {},
     "output_type": "execute_result"
    }
   ],
   "source": [
    "query_words = \"inbox\"\n",
    "prepro_query = preprocess_sentence_fn(query_words)\n",
    "print('Results for \"{0}\", processed to {1}'.format(query_words, prepro_query))\n",
    "model.wv.most_similar(positive = prepro_query)"
   ]
  },
  {
   "cell_type": "markdown",
   "metadata": {},
   "source": [
    "### Doc Embedding"
   ]
  },
  {
   "cell_type": "code",
   "execution_count": 561,
   "metadata": {},
   "outputs": [],
   "source": [
    "from gensim.models.doc2vec import Doc2Vec, TaggedDocument\n",
    "\n",
    "tagged_documents = [TaggedDocument(doc, [i]) for i, doc in enumerate(all_docs)]\n",
    "doc_model = Doc2Vec(tagged_documents, vector_size=128, window=2, min_count=1, workers=4, epochs=100)"
   ]
  },
  {
   "cell_type": "code",
   "execution_count": 655,
   "metadata": {},
   "outputs": [
    {
     "name": "stdout",
     "output_type": "stream",
     "text": [
      "Dear Dr. Sebastiano Rossi\n",
      " \n",
      "Your vpn service is already expired.\n",
      "\n",
      "sincerely,\n",
      "Rudolf Friederich\n",
      "\n",
      "\n"
     ]
    }
   ],
   "source": [
    "query_doc = ticket_dat.content_translated[74]\n",
    "print(query_doc)"
   ]
  },
  {
   "cell_type": "code",
   "execution_count": 656,
   "metadata": {},
   "outputs": [
    {
     "name": "stdout",
     "output_type": "stream",
     "text": [
      "dear dr sebastiano rossi your vpn servic expir sincer rudolf friederich\n",
      " ==============\n",
      "[0.89225] dear dr sebastiano rossi your vpn servic expir sincer rudolf friederich\n",
      "\n",
      "[0.67479] dear dr jochen müller we extend vpn servic month octob sincer rudolf friederich\n",
      "\n",
      "[0.64669] dear mr david john gebhardt the vpn servic extend delet we reenabl vpn servic month octob other servic end decemb sincer rudolf friederich\n",
      "\n",
      "[0.63549] dear mr neil docherti we servic extend year sincer rudolf friederich\n",
      "\n"
     ]
    }
   ],
   "source": [
    "prepro_query_doc = preprocess_sentence_fn(query_doc)\n",
    "print(' '.join(prepro_query_doc) + \"\\n ==============\")\n",
    "\n",
    "query_doc_vec = doc_model.infer_vector(prepro_query_doc, steps=10000)\n",
    "most_similar_docs = doc_model.docvecs.most_similar([query_doc_vec])\n",
    "for similar_doc in most_similar_docs[0:4]:\n",
    "    print('[{}] '.format(round(similar_doc[1], 5))+' '.join(tagged_documents[similar_doc[0]].words) + \"\\n\")"
   ]
  },
  {
   "cell_type": "code",
   "execution_count": 410,
   "metadata": {},
   "outputs": [
    {
     "name": "stdout",
     "output_type": "stream",
     "text": [
      "[(2160, 0.5896463394165039), (16122, 0.5832903981208801), (1127, 0.5809382200241089), (2156, 0.5793976783752441), (6953, 0.5733083486557007), (9548, 0.5608631372451782), (6463, 0.5576547384262085), (10449, 0.5530002117156982), (17964, 0.5506421327590942), (9037, 0.5496723651885986)]\n"
     ]
    }
   ],
   "source": [
    "print(most_similar_docs)"
   ]
  }
 ],
 "metadata": {
  "kernelspec": {
   "display_name": "Python 3",
   "language": "python",
   "name": "python3"
  },
  "language_info": {
   "codemirror_mode": {
    "name": "ipython",
    "version": 3
   },
   "file_extension": ".py",
   "mimetype": "text/x-python",
   "name": "python",
   "nbconvert_exporter": "python",
   "pygments_lexer": "ipython3",
   "version": "3.6.3"
  }
 },
 "nbformat": 4,
 "nbformat_minor": 2
}
